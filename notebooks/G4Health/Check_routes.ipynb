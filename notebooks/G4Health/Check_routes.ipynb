{
 "cells": [
  {
   "metadata": {},
   "cell_type": "markdown",
   "source": [
    "# Check the validity of the french routes\n",
    "\n",
    "We have calculated the distance and duration between all the special arrondisments and other commune in france. As we appended the new routes to the exsiting routes which are partitioned. We want to check the validity of the new dataset."
   ],
   "id": "23a49491e76f4ee4"
  },
  {
   "metadata": {
    "ExecuteTime": {
     "end_time": "2025-08-01T12:54:20.819231Z",
     "start_time": "2025-08-01T12:54:20.264034Z"
    }
   },
   "cell_type": "code",
   "source": [
    "from sedona.spark import *\n",
    "from pyspark.sql import SparkSession, DataFrame\n",
    "from pathlib import Path\n",
    "from pyspark.sql.functions import trim, split, expr, col"
   ],
   "id": "8bc63db447d76462",
   "outputs": [],
   "execution_count": 1
  },
  {
   "metadata": {
    "ExecuteTime": {
     "end_time": "2025-08-01T12:54:20.833506Z",
     "start_time": "2025-08-01T12:54:20.830252Z"
    }
   },
   "cell_type": "code",
   "source": [
    "# build a sedona session offline\n",
    "project_root_dir = Path.cwd().parent.parent"
   ],
   "id": "b25efa22d601087c",
   "outputs": [],
   "execution_count": 2
  },
  {
   "metadata": {
    "ExecuteTime": {
     "end_time": "2025-08-01T12:54:56.573879Z",
     "start_time": "2025-08-01T12:54:20.842487Z"
    }
   },
   "cell_type": "code",
   "source": [
    "jar_folder = Path(f\"{project_root_dir}/jars/sedona-35-212-172\")\n",
    "jar_list = [str(jar) for jar in jar_folder.iterdir() if jar.is_file()]\n",
    "jar_path = \",\".join(jar_list)\n",
    "\n",
    "# build a sedona session (sedona = 1.7.2) offline\n",
    "spark = SparkSession.builder \\\n",
    "    .appName(\"check_extra_routes\") \\\n",
    "    .master(\"local[*]\") \\\n",
    "    .config(\"spark.jars\", jar_path) \\\n",
    "    .getOrCreate()"
   ],
   "id": "6ae9ea535cf44a70",
   "outputs": [],
   "execution_count": 3
  },
  {
   "metadata": {
    "ExecuteTime": {
     "end_time": "2025-08-01T12:55:04.898528Z",
     "start_time": "2025-08-01T12:54:57.361059Z"
    }
   },
   "cell_type": "code",
   "source": [
    "# create a sedona context\n",
    "sedona = SedonaContext.create(spark)"
   ],
   "id": "3a308cb10501f300",
   "outputs": [],
   "execution_count": 4
  },
  {
   "metadata": {
    "ExecuteTime": {
     "end_time": "2025-08-01T12:55:04.914663Z",
     "start_time": "2025-08-01T12:55:04.907716Z"
    }
   },
   "cell_type": "code",
   "source": [
    "# get the spark context\n",
    "sc = sedona.sparkContext\n",
    "\n",
    "# use utf as default encoding\n",
    "sc.setSystemProperty(\"sedona.global.charset\", \"utf8\")"
   ],
   "id": "a620065b1d7c4836",
   "outputs": [],
   "execution_count": 5
  },
  {
   "metadata": {
    "ExecuteTime": {
     "end_time": "2025-08-01T12:55:04.942538Z",
     "start_time": "2025-08-01T12:55:04.938818Z"
    }
   },
   "cell_type": "code",
   "source": "data_path = \"C:/Users/PLIU/Downloads/duration_with_arrondisment_prod_final\"",
   "id": "215b998fd2088699",
   "outputs": [],
   "execution_count": 6
  },
  {
   "metadata": {},
   "cell_type": "markdown",
   "source": [
    "### Paris\n",
    "\n",
    "| Arrondissement\t | Code INSEE | Code Postal |\n",
    "|-----------------|------------|-------------|\n",
    "| Paris 1er\t      | 75101      | 75001       |\n",
    "| Paris 2e\t       | 75102      | 75002       |\n",
    "| Paris 3e\t       | 75103      | 75003       |\n",
    "| Paris 4e\t       | 75104      | 75004       |\n",
    "| Paris 5e\t       | 75105      | 75005       |\n",
    "| Paris 6e\t       | 75106      | 75006       |\n",
    "| Paris 7e\t       | 75107      | 75007       |\n",
    "| Paris 8e\t       | 75108      | 75008       |\n",
    "| Paris 9e\t       | 75109      | 75009       |\n",
    "| Paris 10e\t      | 75110      | 75010       |\n",
    "| Paris 11e\t      | 75111      | 75011       |\n",
    "| Paris 12e\t      | 75112      | 75012       |\n",
    "| Paris 13e\t      | 75113      | 75013       |\n",
    "| Paris 14e\t      | 75114      | 75014       |\n",
    "| Paris 15e\t      | 75115      | 75015       |\n",
    "| Paris 16e\t      | 75116      | 75016       |\n",
    "| Paris 17e\t      | 75117      | 75017       |\n",
    "| Paris 18e\t      | 75118      | 75018       |\n",
    "| Paris 19e\t      | 75119      | 75019       |\n",
    "| Paris 20e\t      | 75120      | 75020       |\n",
    "| Paris ALL       | 75056      | None        |\n",
    "\n",
    "### Lyon\n",
    "\n",
    "| Arrondissement\t | Code INSEE | Code Postal |\n",
    "|-----------------|------------|-------------|\n",
    "| Lyon 1er\t       | 69381      | 69001       |\n",
    "| Lyon 2e\t        | 69382      | 69002       |\n",
    "| Lyon 3e\t        | 69383      | 69003       |\n",
    "| Lyon 4e\t        | 69384      | 69004       |\n",
    "| Lyon 5e\t        | 69385      | 69005       |\n",
    "| Lyon 6e\t        | 69386      | 69006       |\n",
    "| Lyon 7e\t        | 69387      | 69007       |\n",
    "| Lyon 8e\t        | 69388      | 69008       |\n",
    "| Lyon 9e\t        | 69389      | 69009       |\n",
    "| Lyon ALL\t       | 69123      | None        |\n",
    "\n",
    "### Marseille\n",
    "\n",
    "| Arrondissement\t | Code INSEE | Code Postal |\n",
    "|-----------------|------------|-------------|\n",
    "| Marseille 1er\t  | 13201      | 75001       |\n",
    "| Marseille 2e\t   | 13202      | 75002       |\n",
    "| Marseille 3e\t   | 13203      | 75003       |\n",
    "| Marseille 4e\t   | 13204      | 75004       |\n",
    "| Marseille 5e\t   | 13205      | 75005       |\n",
    "| Marseille 6e\t   | 13206      | 75006       |\n",
    "| Marseille 7e\t   | 13207      | 75007       |\n",
    "| Marseille 8e\t   | 13208      | 75008       |\n",
    "| Marseille 9e\t   | 13209      | 75009       |\n",
    "| Marseille 10e\t  | 13210      | 75010       |\n",
    "| Marseille 11e\t  | 13211      | 75011       |\n",
    "| Marseille 12e\t  | 13212      | 75012       |\n",
    "| Marseille 13e\t  | 13213      | 75013       |\n",
    "| Marseille 14e\t  | 13214      | 75014       |\n",
    "| Marseille 15e\t  | 13215      | 75015       |\n",
    "| Marseille 16e\t  | 13216      | 75016       |\n",
    "| Marseille ALL   | 13055      | None        |"
   ],
   "id": "214079d3cbed9687"
  },
  {
   "metadata": {
    "ExecuteTime": {
     "end_time": "2025-08-01T13:17:01.280281Z",
     "start_time": "2025-08-01T13:17:01.261555Z"
    }
   },
   "cell_type": "code",
   "source": [
    "paris_insee_code = [75101,75102,75103,75104,75105,75106,75107,75108,75109,75110,75111,75112,75113,75114,75115,75116,75117,75118,75119,75120,]\n",
    "lyon_insee_code=[69381,69382,69383,69384,69385,69386,69387,69388,69389,]\n",
    "mars_insee_code = [13201,13202,13203,13204,13205,13206,13207,13208,13209,13210,13211,13212,13213,13214,13215,13216,]\n",
    "\n",
    "paris_code_list = [\"75101\",\"75102\",\"75103\",\"75104\",\"75105\",\"75106\",\"75107\",\"75108\",\"75109\",\"75110\",\"75111\",\"75112\",\"75113\",\"75114\",\"75115\",\"75116\",\"75117\",\"75118\",\"75119\",\"75120\"]\n",
    "marseil_code_list = [\"13201\",\"13202\",\"13203\",\"13204\",\"13205\",\"13206\",\"13207\",\"13208\",\"13209\",\"13210\",\"13211\",\"13212\",\"13213\",\"13214\",\"13215\",\"13216\"]\n",
    "lyon_code_list = [\"69381\",\"69382\",\"69383\",\"69384\",\"69385\",\"69386\",\"69387\",\"69388\",\"69389\"]\n",
    "\n",
    "# the target commune is montrouge\n",
    "target_commune_code = \"92049\""
   ],
   "id": "ef9b970037bde85f",
   "outputs": [],
   "execution_count": 10
  },
  {
   "metadata": {
    "ExecuteTime": {
     "end_time": "2025-08-01T13:15:40.580885Z",
     "start_time": "2025-08-01T13:14:55.359221Z"
    }
   },
   "cell_type": "code",
   "source": "all_routes_df = spark.read.parquet(data_path)",
   "id": "8d13f34eeb29fd7d",
   "outputs": [],
   "execution_count": 8
  },
  {
   "metadata": {
    "ExecuteTime": {
     "end_time": "2025-08-01T13:19:24.589511Z",
     "start_time": "2025-08-01T13:19:22.751900Z"
    }
   },
   "cell_type": "code",
   "source": "all_routes_df.show(5)",
   "id": "a3fee058c9ab1364",
   "outputs": [
    {
     "name": "stdout",
     "output_type": "stream",
     "text": [
      "+----------+------------+----------+---------------+-----------------+------------+\n",
      "|source_nom|    dest_nom|dest_insee|distance(meter)|duration(minutes)|source_insee|\n",
      "+----------+------------+----------+---------------+-----------------+------------+\n",
      "|   LYON 08|Pie-d'Orezza|     2B222|       725246.8|           628.83|       69388|\n",
      "|   LYON 08|        Lano|     2B137|       712468.5|           613.96|       69388|\n",
      "|   LYON 08|      Cambia|     2B051|       717864.4|           621.05|       69388|\n",
      "|   LYON 08|       Érone|     2B106|       712936.2|           614.56|       69388|\n",
      "|   LYON 08|      Oletta|     2B185|       704262.2|            612.8|       69388|\n",
      "+----------+------------+----------+---------------+-----------------+------------+\n",
      "only showing top 5 rows\n",
      "\n"
     ]
    }
   ],
   "execution_count": 13
  },
  {
   "metadata": {
    "ExecuteTime": {
     "end_time": "2025-08-01T13:25:16.026794Z",
     "start_time": "2025-08-01T13:25:16.017397Z"
    }
   },
   "cell_type": "code",
   "source": [
    "from typing import List\n",
    "\n",
    "\n",
    "def get_special_routes(src_code_list:List[str], target_code:str):\n",
    "    result_df = None\n",
    "\n",
    "    for src_code in src_code_list:\n",
    "        filtered = all_routes_df.filter(\n",
    "            (col(\"source_insee\") == src_code) &\n",
    "            (col(\"dest_insee\") == target_code)\n",
    "        )\n",
    "\n",
    "        if result_df is None:\n",
    "            result_df = filtered\n",
    "        else:\n",
    "            result_df = result_df.unionByName(filtered)\n",
    "\n",
    "    if result_df is not None:\n",
    "        result_df.show()\n",
    "    else:\n",
    "        print(\"No matching rows found.\")"
   ],
   "id": "dd7fda004694aadc",
   "outputs": [],
   "execution_count": 18
  },
  {
   "metadata": {
    "ExecuteTime": {
     "end_time": "2025-08-01T13:25:19.257802Z",
     "start_time": "2025-08-01T13:25:17.911814Z"
    }
   },
   "cell_type": "code",
   "source": [
    "# check routes for paris arrondisment\n",
    "get_special_routes(paris_code_list, target_commune_code)"
   ],
   "id": "4cfb92b22f1a69b2",
   "outputs": [
    {
     "name": "stdout",
     "output_type": "stream",
     "text": [
      "+----------+---------+----------+---------------+-----------------+------------+\n",
      "|source_nom| dest_nom|dest_insee|distance(meter)|duration(minutes)|source_insee|\n",
      "+----------+---------+----------+---------------+-----------------+------------+\n",
      "|  PARIS 01|Montrouge|     92049|         7195.6|            17.61|       75101|\n",
      "|  PARIS 02|Montrouge|     92049|         7611.2|            18.75|       75102|\n",
      "|  PARIS 03|Montrouge|     92049|        11844.6|            20.77|       75103|\n",
      "|  PARIS 04|Montrouge|     92049|        10271.8|            16.76|       75104|\n",
      "|  PARIS 05|Montrouge|     92049|         5592.4|            13.72|       75105|\n",
      "|  PARIS 06|Montrouge|     92049|         5248.4|            12.13|       75106|\n",
      "|  PARIS 07|Montrouge|     92049|         5513.5|            12.34|       75107|\n",
      "|  PARIS 08|Montrouge|     92049|        13592.3|            19.09|       75108|\n",
      "|  PARIS 09|Montrouge|     92049|         9490.8|            23.07|       75109|\n",
      "|  PARIS 10|Montrouge|     92049|         8955.6|            22.96|       75110|\n",
      "|  PARIS 11|Montrouge|     92049|        11561.9|            20.59|       75111|\n",
      "|  PARIS 12|Montrouge|     92049|         8947.0|            13.79|       75112|\n",
      "|  PARIS 13|Montrouge|     92049|         6441.5|            12.52|       75113|\n",
      "|  PARIS 14|Montrouge|     92049|         2508.2|             5.22|       75114|\n",
      "|  PARIS 15|Montrouge|     92049|         5067.9|             10.1|       75115|\n",
      "|  PARIS 16|Montrouge|     92049|         9244.4|             11.6|       75116|\n",
      "|  PARIS 17|Montrouge|     92049|        14217.1|             17.1|       75117|\n",
      "|  PARIS 18|Montrouge|     92049|        18132.9|            23.12|       75118|\n",
      "|  PARIS 19|Montrouge|     92049|        15293.6|            19.94|       75119|\n",
      "|  PARIS 20|Montrouge|     92049|        13055.6|            22.93|       75120|\n",
      "+----------+---------+----------+---------------+-----------------+------------+\n",
      "\n"
     ]
    }
   ],
   "execution_count": 19
  },
  {
   "metadata": {
    "ExecuteTime": {
     "end_time": "2025-08-01T13:25:23.276984Z",
     "start_time": "2025-08-01T13:25:22.386644Z"
    }
   },
   "cell_type": "code",
   "source": [
    "# check routes for lyon arrondisment\n",
    "get_special_routes(lyon_code_list, target_commune_code)"
   ],
   "id": "b79080bda6ea41c9",
   "outputs": [
    {
     "name": "stdout",
     "output_type": "stream",
     "text": [
      "+----------+---------+----------+---------------+-----------------+------------+\n",
      "|source_nom| dest_nom|dest_insee|distance(meter)|duration(minutes)|source_insee|\n",
      "+----------+---------+----------+---------------+-----------------+------------+\n",
      "|   LYON 01|Montrouge|     92049|       459253.0|           287.89|       69381|\n",
      "|   LYON 02|Montrouge|     92049|       459387.4|           283.37|       69382|\n",
      "|   LYON 03|Montrouge|     92049|       462307.5|           287.73|       69383|\n",
      "|   LYON 04|Montrouge|     92049|       458502.0|           286.82|       69384|\n",
      "|   LYON 05|Montrouge|     92049|       457219.8|           282.62|       69385|\n",
      "|   LYON 06|Montrouge|     92049|       463604.5|           287.93|       69386|\n",
      "|   LYON 07|Montrouge|     92049|       460814.4|           286.45|       69387|\n",
      "|   LYON 08|Montrouge|     92049|       463493.6|           291.04|       69388|\n",
      "|   LYON 09|Montrouge|     92049|       457084.5|           280.85|       69389|\n",
      "+----------+---------+----------+---------------+-----------------+------------+\n",
      "\n"
     ]
    }
   ],
   "execution_count": 20
  },
  {
   "metadata": {
    "ExecuteTime": {
     "end_time": "2025-08-01T13:26:34.448829Z",
     "start_time": "2025-08-01T13:26:33.028244Z"
    }
   },
   "cell_type": "code",
   "source": [
    "# check routes for marseil arrondisment\n",
    "get_special_routes(marseil_code_list, target_commune_code)"
   ],
   "id": "78c30eac316dca02",
   "outputs": [
    {
     "name": "stdout",
     "output_type": "stream",
     "text": [
      "+------------+---------+----------+---------------+-----------------+------------+\n",
      "|  source_nom| dest_nom|dest_insee|distance(meter)|duration(minutes)|source_insee|\n",
      "+------------+---------+----------+---------------+-----------------+------------+\n",
      "|MARSEILLE 01|Montrouge|     92049|       769561.0|           477.01|       13201|\n",
      "|MARSEILLE 02|Montrouge|     92049|       766000.5|           475.66|       13202|\n",
      "|MARSEILLE 03|Montrouge|     92049|       768121.2|           476.77|       13203|\n",
      "|MARSEILLE 04|Montrouge|     92049|       771405.1|           479.77|       13204|\n",
      "|MARSEILLE 05|Montrouge|     92049|       771085.7|           480.01|       13205|\n",
      "|MARSEILLE 06|Montrouge|     92049|       770770.0|           479.65|       13206|\n",
      "|MARSEILLE 07|Montrouge|     92049|       772369.3|           482.27|       13207|\n",
      "|MARSEILLE 08|Montrouge|     92049|       782207.3|           500.19|       13208|\n",
      "|MARSEILLE 09|Montrouge|     92049|       783103.8|           492.72|       13209|\n",
      "|MARSEILLE 10|Montrouge|     92049|       776728.1|           483.97|       13210|\n",
      "|MARSEILLE 11|Montrouge|     92049|       778318.9|           486.24|       13211|\n",
      "|MARSEILLE 12|Montrouge|     92049|       773656.4|            481.3|       13212|\n",
      "|MARSEILLE 13|Montrouge|     92049|       773447.6|           481.64|       13213|\n",
      "|MARSEILLE 14|Montrouge|     92049|       767773.4|           476.31|       13214|\n",
      "|MARSEILLE 15|Montrouge|     92049|       764072.3|            470.1|       13215|\n",
      "|MARSEILLE 16|Montrouge|     92049|       763248.7|           471.89|       13216|\n",
      "+------------+---------+----------+---------------+-----------------+------------+\n",
      "\n"
     ]
    }
   ],
   "execution_count": 21
  },
  {
   "metadata": {},
   "cell_type": "markdown",
   "source": "## now I need to calculate the reverse route",
   "id": "d8fca14f1011ed27"
  },
  {
   "metadata": {
    "ExecuteTime": {
     "end_time": "2025-08-01T13:30:09.482481Z",
     "start_time": "2025-08-01T13:30:08.654307Z"
    }
   },
   "cell_type": "code",
   "source": [
    "malakoff = \"92046\"\n",
    "montrouge = \"92049\"\n",
    "bagneux = \"92007\"\n",
    "\n",
    "# to paris 1st\n",
    "get_special_routes([malakoff, montrouge, bagneux], \"75101\")"
   ],
   "id": "8d5eea63422f0037",
   "outputs": [
    {
     "name": "stdout",
     "output_type": "stream",
     "text": [
      "+----------+--------+----------+---------------+-----------------+------------+\n",
      "|source_nom|dest_nom|dest_insee|distance(meter)|duration(minutes)|source_insee|\n",
      "+----------+--------+----------+---------------+-----------------+------------+\n",
      "|  Malakoff|PARIS 01|     75101|         8299.4|            19.35|       92046|\n",
      "| Montrouge|PARIS 01|     75101|         6811.3|            16.13|       92049|\n",
      "|   Bagneux|PARIS 01|     75101|         8986.0|            19.08|       92007|\n",
      "+----------+--------+----------+---------------+-----------------+------------+\n",
      "\n"
     ]
    }
   ],
   "execution_count": 22
  },
  {
   "metadata": {
    "ExecuteTime": {
     "end_time": "2025-08-01T13:31:42.236093Z",
     "start_time": "2025-08-01T13:31:41.892806Z"
    }
   },
   "cell_type": "code",
   "source": [
    "# to lyon 1st\n",
    "get_special_routes([malakoff, montrouge, bagneux], \"69381\")"
   ],
   "id": "bb64a5ccad81f78a",
   "outputs": [
    {
     "name": "stdout",
     "output_type": "stream",
     "text": [
      "+----------+--------+----------+---------------+-----------------+------------+\n",
      "|source_nom|dest_nom|dest_insee|distance(meter)|duration(minutes)|source_insee|\n",
      "+----------+--------+----------+---------------+-----------------+------------+\n",
      "|  Malakoff| LYON 01|     69381|       460418.9|           289.81|       92046|\n",
      "| Montrouge| LYON 01|     69381|       458868.8|           287.46|       92049|\n",
      "|   Bagneux| LYON 01|     69381|       456806.4|           289.22|       92007|\n",
      "+----------+--------+----------+---------------+-----------------+------------+\n",
      "\n"
     ]
    }
   ],
   "execution_count": 23
  },
  {
   "metadata": {
    "ExecuteTime": {
     "end_time": "2025-08-01T13:32:33.237832Z",
     "start_time": "2025-08-01T13:32:32.921885Z"
    }
   },
   "cell_type": "code",
   "source": [
    "# to marseil 1st\n",
    "get_special_routes([malakoff, montrouge, bagneux], \"13201\")"
   ],
   "id": "50e76c4efc49a573",
   "outputs": [
    {
     "name": "stdout",
     "output_type": "stream",
     "text": [
      "+----------+------------+----------+---------------+-----------------+------------+\n",
      "|source_nom|    dest_nom|dest_insee|distance(meter)|duration(minutes)|source_insee|\n",
      "+----------+------------+----------+---------------+-----------------+------------+\n",
      "|  Malakoff|MARSEILLE 01|     13201|       771177.7|           481.28|       92046|\n",
      "| Montrouge|MARSEILLE 01|     13201|       769627.6|           478.93|       92049|\n",
      "|   Bagneux|MARSEILLE 01|     13201|       767565.2|           480.69|       92007|\n",
      "+----------+------------+----------+---------------+-----------------+------------+\n",
      "\n"
     ]
    }
   ],
   "execution_count": 24
  },
  {
   "metadata": {
    "ExecuteTime": {
     "end_time": "2025-08-01T13:33:05.424564Z",
     "start_time": "2025-08-01T13:33:05.102733Z"
    }
   },
   "cell_type": "code",
   "source": [
    "# with a wrong code\n",
    "get_special_routes([malakoff, montrouge, bagneux], \"toto\")"
   ],
   "id": "ca314636ae8708a3",
   "outputs": [
    {
     "name": "stdout",
     "output_type": "stream",
     "text": [
      "+----------+--------+----------+---------------+-----------------+------------+\n",
      "|source_nom|dest_nom|dest_insee|distance(meter)|duration(minutes)|source_insee|\n",
      "+----------+--------+----------+---------------+-----------------+------------+\n",
      "+----------+--------+----------+---------------+-----------------+------------+\n",
      "\n"
     ]
    }
   ],
   "execution_count": 25
  },
  {
   "metadata": {},
   "cell_type": "code",
   "outputs": [],
   "execution_count": null,
   "source": "",
   "id": "6fd3c4882ca478c"
  }
 ],
 "metadata": {
  "kernelspec": {
   "display_name": "Python 3",
   "language": "python",
   "name": "python3"
  },
  "language_info": {
   "codemirror_mode": {
    "name": "ipython",
    "version": 2
   },
   "file_extension": ".py",
   "mimetype": "text/x-python",
   "name": "python",
   "nbconvert_exporter": "python",
   "pygments_lexer": "ipython2",
   "version": "2.7.6"
  }
 },
 "nbformat": 4,
 "nbformat_minor": 5
}
