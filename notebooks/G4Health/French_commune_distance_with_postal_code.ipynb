{
 "cells": [
  {
   "metadata": {},
   "cell_type": "markdown",
   "source": [
    "# Calculate distance between all commune of France\n",
    "\n",
    "In previous tutorial, we used the **INSEE COG** to define french commune. In this tutorial, we will use the code postal to define the French commune. There are a `one-to-one` mapping between `INSEE COG and code postal` in most of the case. But there are some exceptions."
   ],
   "id": "a178254f583e761"
  },
  {
   "metadata": {},
   "cell_type": "markdown",
   "source": [
    "\n",
    "## Data source\n",
    "\n",
    "The data source which we use in this tutorial is from: https://datanova.laposte.fr/datasets/laposte-hexasmal\n",
    "\n",
    "From this page, you can download three files:\n",
    "\n",
    "- base-officielle-codes-postaux.csv (click on `piece joint`): commune name, insee codes officiels géographiques (COG), and code postal and centroid of the commune.\n",
    "- 019HexaSmal-full.csv (click on `Telechargement des donees`): commune name, insee codes officiels géographiques (COG), and code postal and polygon of the commune.\n",
    "- 019HexaSmal.csv (click on `Telechargement des donees`): only has commune name, insee codes officiels géographiques (COG), and code postal.\n",
    "\n",
    "> This data is updated twice a year. It's impossible to find the old release. So if you have old data with COG, the new COG or code postal may not be a 100% match."
   ],
   "id": "dba5a81f2ee779f3"
  },
  {
   "metadata": {},
   "cell_type": "markdown",
   "source": [
    "## 0. Build sedona context\n",
    "\n",
    "In this tutorial, we will use `sedona-1.7.2` for `spark 3.5.2` with `scala 2.12`. You can find the required jars in `jars/sedona-35-212-172`.\n",
    "\n",
    "The geotools version is `28.5` for sedona-1.7.2."
   ],
   "id": "5afef6a4d3464864"
  },
  {
   "metadata": {
    "ExecuteTime": {
     "end_time": "2025-07-18T13:04:48.494469Z",
     "start_time": "2025-07-18T13:04:48.489032Z"
    }
   },
   "cell_type": "code",
   "source": [
    "from sedona.spark import *\n",
    "from pyspark.sql import SparkSession, DataFrame\n",
    "from pathlib import Path\n",
    "from pyspark.sql.functions import trim, split, expr"
   ],
   "id": "1bd85e13dd1afbfd",
   "outputs": [],
   "execution_count": 19
  },
  {
   "metadata": {
    "ExecuteTime": {
     "end_time": "2025-07-18T12:44:00.579621Z",
     "start_time": "2025-07-18T12:44:00.575501Z"
    }
   },
   "cell_type": "code",
   "source": [
    "# build a sedona session offline\n",
    "project_root_dir = Path.cwd().parent.parent"
   ],
   "id": "7621542f9c44d140",
   "outputs": [],
   "execution_count": 2
  },
  {
   "metadata": {
    "ExecuteTime": {
     "end_time": "2025-07-18T12:44:14.991386Z",
     "start_time": "2025-07-18T12:44:14.348118Z"
    }
   },
   "cell_type": "code",
   "source": [
    "jar_folder = Path(f\"{project_root_dir}/jars/sedona-35-212-172\")\n",
    "jar_list = [str(jar) for jar in jar_folder.iterdir() if jar.is_file()]\n",
    "jar_path = \",\".join(jar_list)\n",
    "\n",
    "# build a sedona session (sedona = 1.7.2) offline\n",
    "spark = SparkSession.builder \\\n",
    "    .appName(\"SedonaParquetExample\") \\\n",
    "    .master(\"local[*]\") \\\n",
    "    .config(\"spark.jars\", jar_path) \\\n",
    "    .getOrCreate()"
   ],
   "id": "f4c7235ecb8eb241",
   "outputs": [],
   "execution_count": 4
  },
  {
   "metadata": {
    "ExecuteTime": {
     "end_time": "2025-07-18T12:44:23.319345Z",
     "start_time": "2025-07-18T12:44:18.875095Z"
    }
   },
   "cell_type": "code",
   "source": [
    "# create a sedona context\n",
    "sedona = SedonaContext.create(spark)"
   ],
   "id": "43552f7bf8b7ff48",
   "outputs": [],
   "execution_count": 5
  },
  {
   "metadata": {
    "ExecuteTime": {
     "end_time": "2025-07-18T12:44:26.007590Z",
     "start_time": "2025-07-18T12:44:25.998588Z"
    }
   },
   "cell_type": "code",
   "source": [
    "# get the spark context\n",
    "sc = sedona.sparkContext\n",
    "\n",
    "# use utf as default encoding\n",
    "sc.setSystemProperty(\"sedona.global.charset\", \"utf8\")"
   ],
   "id": "bee0541ce27c732b",
   "outputs": [],
   "execution_count": 6
  },
  {
   "metadata": {},
   "cell_type": "markdown",
   "source": "## 1. Explore the base-officielle-codes-postaux",
   "id": "9a303582a9ace078"
  },
  {
   "metadata": {
    "ExecuteTime": {
     "end_time": "2025-07-18T12:44:53.714127Z",
     "start_time": "2025-07-18T12:44:53.707600Z"
    }
   },
   "cell_type": "code",
   "source": [
    "data_dir = project_root_dir / \"data\"\n",
    "commune_file_path = data_dir / \"parquet\" / \"fr_commune_code_postal\" / \"base-officielle-codes-postaux.parquet\""
   ],
   "id": "68840e86b6a46c6a",
   "outputs": [],
   "execution_count": 7
  },
  {
   "metadata": {
    "ExecuteTime": {
     "end_time": "2025-07-18T12:45:14.471202Z",
     "start_time": "2025-07-18T12:45:13.899353Z"
    }
   },
   "cell_type": "code",
   "source": "commune_df = spark.read.parquet(commune_file_path.as_posix())",
   "id": "5eea90302479861e",
   "outputs": [],
   "execution_count": 9
  },
  {
   "metadata": {
    "ExecuteTime": {
     "end_time": "2025-07-18T12:45:24.637343Z",
     "start_time": "2025-07-18T12:45:23.630478Z"
    }
   },
   "cell_type": "code",
   "source": "commune_df.show(5)",
   "id": "e4a6a0ec410ae1fd",
   "outputs": [
    {
     "name": "stdout",
     "output_type": "stream",
     "text": [
      "+------------------+--------------------+-----------+----------------------+-------+--------------------+\n",
      "|code_commune_insee|   nom_de_la_commune|code_postal|libelle_d_acheminement|ligne_5|           _geopoint|\n",
      "+------------------+--------------------+-----------+----------------------+-------+--------------------+\n",
      "|             01001|L ABERGEMENT CLEM...|      01400|  L ABERGEMENT CLEM...|   NULL|46.15170180297285...|\n",
      "|             01002|L ABERGEMENT DE V...|      01640|  L ABERGEMENT DE V...|   NULL|46.00713099777772...|\n",
      "|             01004|   AMBERIEU EN BUGEY|      01500|     AMBERIEU EN BUGEY|   NULL|45.95747066471399...|\n",
      "|             01005| AMBERIEUX EN DOMBES|      01330|   AMBERIEUX EN DOMBES|   NULL|45.99922938293103...|\n",
      "|             01006|             AMBLEON|      01300|               AMBLEON|   NULL|45.74831432147182...|\n",
      "+------------------+--------------------+-----------+----------------------+-------+--------------------+\n",
      "only showing top 5 rows\n",
      "\n"
     ]
    }
   ],
   "execution_count": 10
  },
  {
   "metadata": {
    "ExecuteTime": {
     "end_time": "2025-07-18T12:45:46.320668Z",
     "start_time": "2025-07-18T12:45:46.313443Z"
    }
   },
   "cell_type": "code",
   "source": "commune_df.printSchema()",
   "id": "40e70cbe8ec53652",
   "outputs": [
    {
     "name": "stdout",
     "output_type": "stream",
     "text": [
      "root\n",
      " |-- code_commune_insee: string (nullable = true)\n",
      " |-- nom_de_la_commune: string (nullable = true)\n",
      " |-- code_postal: string (nullable = true)\n",
      " |-- libelle_d_acheminement: string (nullable = true)\n",
      " |-- ligne_5: string (nullable = true)\n",
      " |-- _geopoint: string (nullable = true)\n",
      "\n"
     ]
    }
   ],
   "execution_count": 11
  },
  {
   "metadata": {},
   "cell_type": "markdown",
   "source": "### 1.1 Remove all spaces in the string col",
   "id": "57721611553fb36e"
  },
  {
   "metadata": {
    "ExecuteTime": {
     "end_time": "2025-07-18T12:50:31.687362Z",
     "start_time": "2025-07-18T12:50:31.678367Z"
    }
   },
   "cell_type": "code",
   "source": [
    "def trim_all_string_columns(df: DataFrame) -> DataFrame:\n",
    "    for col_name, dtype in df.dtypes:\n",
    "        if dtype == 'string':\n",
    "            df = df.withColumn(col_name, trim(col_name))\n",
    "    return df"
   ],
   "id": "5f91660083363824",
   "outputs": [],
   "execution_count": 13
  },
  {
   "metadata": {
    "ExecuteTime": {
     "end_time": "2025-07-18T12:50:54.560460Z",
     "start_time": "2025-07-18T12:50:54.478597Z"
    }
   },
   "cell_type": "code",
   "source": "clean_commune_df = trim_all_string_columns(commune_df)",
   "id": "8ba67e440d44db4b",
   "outputs": [],
   "execution_count": 14
  },
  {
   "metadata": {
    "ExecuteTime": {
     "end_time": "2025-07-18T12:51:13.398827Z",
     "start_time": "2025-07-18T12:51:13.213831Z"
    }
   },
   "cell_type": "code",
   "source": "clean_commune_df.show(5, truncate=False)",
   "id": "555c15b66f192fe9",
   "outputs": [
    {
     "name": "stdout",
     "output_type": "stream",
     "text": [
      "+------------------+-----------------------+-----------+-----------------------+-------+------------------------------------+\n",
      "|code_commune_insee|nom_de_la_commune      |code_postal|libelle_d_acheminement |ligne_5|_geopoint                           |\n",
      "+------------------+-----------------------+-----------+-----------------------+-------+------------------------------------+\n",
      "|01001             |L ABERGEMENT CLEMENCIAT|01400      |L ABERGEMENT CLEMENCIAT|NULL   |46.15170180297285,4.930600521664882 |\n",
      "|01002             |L ABERGEMENT DE VAREY  |01640      |L ABERGEMENT DE VAREY  |NULL   |46.00713099777772,5.42467488805381  |\n",
      "|01004             |AMBERIEU EN BUGEY      |01500      |AMBERIEU EN BUGEY      |NULL   |45.957470664713995,5.370568254510258|\n",
      "|01005             |AMBERIEUX EN DOMBES    |01330      |AMBERIEUX EN DOMBES    |NULL   |45.99922938293103,4.911871787269484 |\n",
      "|01006             |AMBLEON                |01300      |AMBLEON                |NULL   |45.74831432147182,5.592784714407381 |\n",
      "+------------------+-----------------------+-----------+-----------------------+-------+------------------------------------+\n",
      "only showing top 5 rows\n",
      "\n"
     ]
    }
   ],
   "execution_count": 15
  },
  {
   "metadata": {},
   "cell_type": "markdown",
   "source": "### 1.2 Convert string to geometry",
   "id": "ce3c44dedd7f7fe8"
  },
  {
   "metadata": {
    "ExecuteTime": {
     "end_time": "2025-07-18T13:04:41.245883Z",
     "start_time": "2025-07-18T13:04:41.170500Z"
    }
   },
   "cell_type": "code",
   "source": [
    "geo_col_name = \"_geopoint\"\n",
    "tmp_df = clean_commune_df.withColumn(\"lat\", split(geo_col_name, \",\").getItem(0).cast(\"double\")) \\\n",
    "    .withColumn(\"lon\", split(geo_col_name, \",\").getItem(1).cast(\"double\"))\n"
   ],
   "id": "1fec9a859e7c0184",
   "outputs": [],
   "execution_count": 17
  },
  {
   "metadata": {
    "ExecuteTime": {
     "end_time": "2025-07-18T13:38:09.438229Z",
     "start_time": "2025-07-18T13:38:09.349842Z"
    }
   },
   "cell_type": "code",
   "source": [
    "rename_map = {\n",
    "    \"code_commune_insee\": \"code_insee\",\n",
    "    \"nom_de_la_commune\": \"commune_name\"\n",
    "}\n",
    "geo_df = tmp_df.withColumn(\"centroid\", expr(\"ST_Point(lon,lat)\")).select(\"code_commune_insee\", \"nom_de_la_commune\",\n",
    "                                                                         \"code_postal\", \"centroid\").withColumnsRenamed(\n",
    "    rename_map)\n",
    "\n"
   ],
   "id": "af2cff2a56575ced",
   "outputs": [],
   "execution_count": 23
  },
  {
   "metadata": {
    "ExecuteTime": {
     "end_time": "2025-07-18T13:38:11.076893Z",
     "start_time": "2025-07-18T13:38:10.876989Z"
    }
   },
   "cell_type": "code",
   "source": "geo_df.show(5, truncate=False)",
   "id": "a2978662b6e149ff",
   "outputs": [
    {
     "name": "stdout",
     "output_type": "stream",
     "text": [
      "+----------+-----------------------+-----------+--------------------------------------------+\n",
      "|code_insee|commune_name           |code_postal|centroid                                    |\n",
      "+----------+-----------------------+-----------+--------------------------------------------+\n",
      "|01001     |L ABERGEMENT CLEMENCIAT|01400      |POINT (4.930600521664882 46.15170180297285) |\n",
      "|01002     |L ABERGEMENT DE VAREY  |01640      |POINT (5.42467488805381 46.00713099777772)  |\n",
      "|01004     |AMBERIEU EN BUGEY      |01500      |POINT (5.370568254510258 45.957470664713995)|\n",
      "|01005     |AMBERIEUX EN DOMBES    |01330      |POINT (4.911871787269484 45.99922938293103) |\n",
      "|01006     |AMBLEON                |01300      |POINT (5.592784714407381 45.74831432147182) |\n",
      "+----------+-----------------------+-----------+--------------------------------------------+\n",
      "only showing top 5 rows\n",
      "\n"
     ]
    }
   ],
   "execution_count": 24
  },
  {
   "metadata": {
    "ExecuteTime": {
     "end_time": "2025-07-18T13:38:38.041677Z",
     "start_time": "2025-07-18T13:38:38.032682Z"
    }
   },
   "cell_type": "code",
   "source": "geo_df.printSchema()",
   "id": "604767ce4cdc5608",
   "outputs": [
    {
     "name": "stdout",
     "output_type": "stream",
     "text": [
      "root\n",
      " |-- code_insee: string (nullable = true)\n",
      " |-- commune_name: string (nullable = true)\n",
      " |-- code_postal: string (nullable = true)\n",
      " |-- centroid: geometry (nullable = true)\n",
      "\n"
     ]
    }
   ],
   "execution_count": 25
  },
  {
   "metadata": {
    "ExecuteTime": {
     "end_time": "2025-07-18T13:46:07.279792Z",
     "start_time": "2025-07-18T13:46:06.822427Z"
    }
   },
   "cell_type": "code",
   "source": [
    "output_path = data_dir / \"tmp\" / \"fr_commune_code_postal_centroid_geopoint\"\n",
    "geo_df.coalesce(1).write \\\n",
    "    .mode(\"overwrite\") \\\n",
    "    .format(\"geoparquet\") \\\n",
    "    .option(\"geometry\", \"centroid\") \\\n",
    "     .option(\"crs\", \"EPSG:4326\") \\\n",
    "    .save(output_path.as_posix())"
   ],
   "id": "24563cf8eec97f7d",
   "outputs": [],
   "execution_count": 28
  },
  {
   "metadata": {},
   "cell_type": "code",
   "outputs": [],
   "execution_count": null,
   "source": "",
   "id": "4dc625d73b2b754c"
  },
  {
   "metadata": {},
   "cell_type": "markdown",
   "source": [
    "### 1.3 Prepare for osrm distance\n",
    "\n",
    "As the osrm api takes only string coordinates, so we need to prepare the matrix with string latitude, and longitude"
   ],
   "id": "9e7fe429f1ff2aa2"
  },
  {
   "metadata": {
    "ExecuteTime": {
     "end_time": "2025-07-18T14:10:11.083869Z",
     "start_time": "2025-07-18T14:10:10.854445Z"
    }
   },
   "cell_type": "code",
   "source": "tmp_df.show(5, truncate=False)",
   "id": "50f8b9e95d8f8c7b",
   "outputs": [
    {
     "name": "stdout",
     "output_type": "stream",
     "text": [
      "+------------------+-----------------------+-----------+-----------------------+-------+------------------------------------+------------------+-----------------+\n",
      "|code_commune_insee|nom_de_la_commune      |code_postal|libelle_d_acheminement |ligne_5|_geopoint                           |lat               |lon              |\n",
      "+------------------+-----------------------+-----------+-----------------------+-------+------------------------------------+------------------+-----------------+\n",
      "|01001             |L ABERGEMENT CLEMENCIAT|01400      |L ABERGEMENT CLEMENCIAT|NULL   |46.15170180297285,4.930600521664882 |46.15170180297285 |4.930600521664882|\n",
      "|01002             |L ABERGEMENT DE VAREY  |01640      |L ABERGEMENT DE VAREY  |NULL   |46.00713099777772,5.42467488805381  |46.00713099777772 |5.42467488805381 |\n",
      "|01004             |AMBERIEU EN BUGEY      |01500      |AMBERIEU EN BUGEY      |NULL   |45.957470664713995,5.370568254510258|45.957470664713995|5.370568254510258|\n",
      "|01005             |AMBERIEUX EN DOMBES    |01330      |AMBERIEUX EN DOMBES    |NULL   |45.99922938293103,4.911871787269484 |45.99922938293103 |4.911871787269484|\n",
      "|01006             |AMBLEON                |01300      |AMBLEON                |NULL   |45.74831432147182,5.592784714407381 |45.74831432147182 |5.592784714407381|\n",
      "+------------------+-----------------------+-----------+-----------------------+-------+------------------------------------+------------------+-----------------+\n",
      "only showing top 5 rows\n",
      "\n"
     ]
    }
   ],
   "execution_count": 29
  },
  {
   "metadata": {
    "ExecuteTime": {
     "end_time": "2025-07-18T14:19:16.456820Z",
     "start_time": "2025-07-18T14:19:16.272316Z"
    }
   },
   "cell_type": "code",
   "source": [
    "commune_df= tmp_df.select(\"code_commune_insee\",\"nom_de_la_commune\",\"code_postal\",\"lon\",\"lat\").withColumnsRenamed(rename_map)\n",
    "commune_df.show(5, truncate=False)"
   ],
   "id": "a46f9bee9fa417f7",
   "outputs": [
    {
     "name": "stdout",
     "output_type": "stream",
     "text": [
      "+----------+-----------------------+-----------+-----------------+------------------+\n",
      "|code_insee|commune_name           |code_postal|lon              |lat               |\n",
      "+----------+-----------------------+-----------+-----------------+------------------+\n",
      "|01001     |L ABERGEMENT CLEMENCIAT|01400      |4.930600521664882|46.15170180297285 |\n",
      "|01002     |L ABERGEMENT DE VAREY  |01640      |5.42467488805381 |46.00713099777772 |\n",
      "|01004     |AMBERIEU EN BUGEY      |01500      |5.370568254510258|45.957470664713995|\n",
      "|01005     |AMBERIEUX EN DOMBES    |01330      |4.911871787269484|45.99922938293103 |\n",
      "|01006     |AMBLEON                |01300      |5.592784714407381|45.74831432147182 |\n",
      "+----------+-----------------------+-----------+-----------------+------------------+\n",
      "only showing top 5 rows\n",
      "\n"
     ]
    }
   ],
   "execution_count": 30
  },
  {
   "metadata": {
    "ExecuteTime": {
     "end_time": "2025-07-18T14:19:44.460172Z",
     "start_time": "2025-07-18T14:19:44.454239Z"
    }
   },
   "cell_type": "code",
   "source": "commune_df.printSchema()",
   "id": "5c8bc4d4685170f",
   "outputs": [
    {
     "name": "stdout",
     "output_type": "stream",
     "text": [
      "root\n",
      " |-- code_insee: string (nullable = true)\n",
      " |-- commune_name: string (nullable = true)\n",
      " |-- code_postal: string (nullable = true)\n",
      " |-- lon: double (nullable = true)\n",
      " |-- lat: double (nullable = true)\n",
      "\n"
     ]
    }
   ],
   "execution_count": 31
  },
  {
   "metadata": {
    "ExecuteTime": {
     "end_time": "2025-07-18T14:21:31.436379Z",
     "start_time": "2025-07-18T14:21:26.761297Z"
    }
   },
   "cell_type": "code",
   "source": "distinct_code_postal_count = commune_df.select(\"code_postal\").distinct().count()",
   "id": "a67fd8b4479b6fc1",
   "outputs": [],
   "execution_count": 32
  },
  {
   "metadata": {
    "ExecuteTime": {
     "end_time": "2025-07-18T14:21:46.613518Z",
     "start_time": "2025-07-18T14:21:46.413232Z"
    }
   },
   "cell_type": "code",
   "source": "total_count = commune_df.count()",
   "id": "df17e82a0f63e388",
   "outputs": [],
   "execution_count": 33
  },
  {
   "metadata": {
    "ExecuteTime": {
     "end_time": "2025-07-18T14:22:11.040366Z",
     "start_time": "2025-07-18T14:22:06.514412Z"
    }
   },
   "cell_type": "code",
   "source": "distinct_code_insee_count = commune_df.select(\"code_insee\").distinct().count()",
   "id": "4cddddb9f831ba82",
   "outputs": [],
   "execution_count": 34
  },
  {
   "metadata": {
    "ExecuteTime": {
     "end_time": "2025-07-18T14:22:35.550371Z",
     "start_time": "2025-07-18T14:22:35.541763Z"
    }
   },
   "cell_type": "code",
   "source": [
    "print(f\"insee code count: {distinct_code_insee_count}\")\n",
    "print(f\"total code count: {total_count}\")\n",
    "print(f\"postal code count: {distinct_code_postal_count}\")"
   ],
   "id": "3351617fdb8da9e5",
   "outputs": [
    {
     "name": "stdout",
     "output_type": "stream",
     "text": [
      "insee code count: 35007\n",
      "total code count: 39192\n",
      "postal code count: 6328\n"
     ]
    }
   ],
   "execution_count": 35
  },
  {
   "metadata": {
    "ExecuteTime": {
     "end_time": "2025-07-18T14:51:16.700750Z",
     "start_time": "2025-07-18T14:51:16.002814Z"
    }
   },
   "cell_type": "code",
   "source": [
    "output_path = data_dir / \"tmp\" / \"fr_commune_code_postal_centroid_double\"\n",
    "commune_df.coalesce(1).write.mode(\"overwrite\").parquet(output_path.as_posix()) \\\n"
   ],
   "id": "41455fa6f343c0a9",
   "outputs": [],
   "execution_count": 36
  },
  {
   "metadata": {},
   "cell_type": "code",
   "outputs": [],
   "execution_count": null,
   "source": "",
   "id": "ad8a9eb0acc45c3f"
  }
 ],
 "metadata": {
  "kernelspec": {
   "display_name": "Python 3",
   "language": "python",
   "name": "python3"
  },
  "language_info": {
   "codemirror_mode": {
    "name": "ipython",
    "version": 2
   },
   "file_extension": ".py",
   "mimetype": "text/x-python",
   "name": "python",
   "nbconvert_exporter": "python",
   "pygments_lexer": "ipython2",
   "version": "2.7.6"
  }
 },
 "nbformat": 4,
 "nbformat_minor": 5
}
