{
 "cells": [
  {
   "metadata": {},
   "cell_type": "markdown",
   "source": [
    "# Calculate distance between all commune of France\n",
    "\n",
    "In previous tutorial, we used the **INSEE COG** to define french commune. In this tutorial, we will use the code postal to define the French commune. There are a `one-to-one` mapping between `INSEE COG and code postal` in most of the case. But there are some exceptions."
   ],
   "id": "a178254f583e761"
  },
  {
   "metadata": {},
   "cell_type": "markdown",
   "source": [
    "\n",
    "## Data source\n",
    "\n",
    "The data source which we use in this tutorial is from: https://datanova.laposte.fr/datasets/laposte-hexasmal\n",
    "\n",
    "From this page, you can download three files:\n",
    "\n",
    "- base-officielle-codes-postaux.csv (click on `piece joint`): commune name, insee codes officiels géographiques (COG), and code postal and centroid of the commune.\n",
    "- 019HexaSmal-full.csv (click on `Telechargement des donees`): commune name, insee codes officiels géographiques (COG), and code postal and polygon of the commune.\n",
    "- 019HexaSmal.csv (click on `Telechargement des donees`): only has commune name, insee codes officiels géographiques (COG), and code postal.\n",
    "\n",
    "> This data is updated twice a year. It's impossible to find the old release. So if you have old data with COG, the new COG or code postal may not be a 100% match."
   ],
   "id": "dba5a81f2ee779f3"
  },
  {
   "metadata": {},
   "cell_type": "markdown",
   "source": [
    "## 0. Build sedona context\n",
    "\n",
    "In this tutorial, we will use `sedona-1.7.2` for `spark 3.5.2` with `scala 2.12`. You can find the required jars in `jars/sedona-35-212-172`.\n",
    "\n",
    "The geotools version is `28.5` for sedona-1.7.2."
   ],
   "id": "5afef6a4d3464864"
  },
  {
   "metadata": {
    "ExecuteTime": {
     "end_time": "2025-07-22T08:08:50.998325Z",
     "start_time": "2025-07-22T08:08:48.677013Z"
    }
   },
   "cell_type": "code",
   "source": [
    "from sedona.spark import *\n",
    "from pyspark.sql import SparkSession, DataFrame\n",
    "from pathlib import Path\n",
    "from pyspark.sql.functions import trim, split, expr, col"
   ],
   "id": "1bd85e13dd1afbfd",
   "outputs": [],
   "execution_count": 1
  },
  {
   "metadata": {
    "ExecuteTime": {
     "end_time": "2025-07-22T08:08:51.018400Z",
     "start_time": "2025-07-22T08:08:51.015399Z"
    }
   },
   "cell_type": "code",
   "source": [
    "# build a sedona session offline\n",
    "project_root_dir = Path.cwd().parent.parent"
   ],
   "id": "7621542f9c44d140",
   "outputs": [],
   "execution_count": 2
  },
  {
   "metadata": {
    "ExecuteTime": {
     "end_time": "2025-07-22T08:09:26.187656Z",
     "start_time": "2025-07-22T08:08:51.027910Z"
    }
   },
   "cell_type": "code",
   "source": [
    "jar_folder = Path(f\"{project_root_dir}/jars/sedona-35-212-172\")\n",
    "jar_list = [str(jar) for jar in jar_folder.iterdir() if jar.is_file()]\n",
    "jar_path = \",\".join(jar_list)\n",
    "\n",
    "# build a sedona session (sedona = 1.7.2) offline\n",
    "spark = SparkSession.builder \\\n",
    "    .appName(\"build_extra_routes_with_spec_commune\") \\\n",
    "    .master(\"local[*]\") \\\n",
    "    .config(\"spark.jars\", jar_path) \\\n",
    "    .getOrCreate()"
   ],
   "id": "f4c7235ecb8eb241",
   "outputs": [],
   "execution_count": 3
  },
  {
   "metadata": {
    "ExecuteTime": {
     "end_time": "2025-07-22T08:09:33.794548Z",
     "start_time": "2025-07-22T08:09:26.722436Z"
    }
   },
   "cell_type": "code",
   "source": [
    "# create a sedona context\n",
    "sedona = SedonaContext.create(spark)"
   ],
   "id": "43552f7bf8b7ff48",
   "outputs": [],
   "execution_count": 4
  },
  {
   "metadata": {
    "ExecuteTime": {
     "end_time": "2025-07-22T08:09:33.823427Z",
     "start_time": "2025-07-22T08:09:33.815036Z"
    }
   },
   "cell_type": "code",
   "source": [
    "# get the spark context\n",
    "sc = sedona.sparkContext\n",
    "\n",
    "# use utf as default encoding\n",
    "sc.setSystemProperty(\"sedona.global.charset\", \"utf8\")"
   ],
   "id": "bee0541ce27c732b",
   "outputs": [],
   "execution_count": 5
  },
  {
   "metadata": {},
   "cell_type": "markdown",
   "source": "## 1. Explore the base-officielle-codes-postaux",
   "id": "9a303582a9ace078"
  },
  {
   "metadata": {
    "ExecuteTime": {
     "end_time": "2025-07-18T12:44:53.714127Z",
     "start_time": "2025-07-18T12:44:53.707600Z"
    }
   },
   "cell_type": "code",
   "source": [
    "data_dir = project_root_dir / \"data\"\n",
    "commune_file_path = data_dir / \"parquet\" / \"fr_commune_code_postal\" / \"base-officielle-codes-postaux.parquet\""
   ],
   "id": "68840e86b6a46c6a",
   "outputs": [],
   "execution_count": 7
  },
  {
   "metadata": {
    "ExecuteTime": {
     "end_time": "2025-07-18T12:45:14.471202Z",
     "start_time": "2025-07-18T12:45:13.899353Z"
    }
   },
   "cell_type": "code",
   "source": "commune_df = spark.read.parquet(commune_file_path.as_posix())",
   "id": "5eea90302479861e",
   "outputs": [],
   "execution_count": 9
  },
  {
   "metadata": {
    "ExecuteTime": {
     "end_time": "2025-07-18T12:45:24.637343Z",
     "start_time": "2025-07-18T12:45:23.630478Z"
    }
   },
   "cell_type": "code",
   "source": "commune_df.show(5)",
   "id": "e4a6a0ec410ae1fd",
   "outputs": [
    {
     "name": "stdout",
     "output_type": "stream",
     "text": [
      "+------------------+--------------------+-----------+----------------------+-------+--------------------+\n",
      "|code_commune_insee|   nom_de_la_commune|code_postal|libelle_d_acheminement|ligne_5|           _geopoint|\n",
      "+------------------+--------------------+-----------+----------------------+-------+--------------------+\n",
      "|             01001|L ABERGEMENT CLEM...|      01400|  L ABERGEMENT CLEM...|   NULL|46.15170180297285...|\n",
      "|             01002|L ABERGEMENT DE V...|      01640|  L ABERGEMENT DE V...|   NULL|46.00713099777772...|\n",
      "|             01004|   AMBERIEU EN BUGEY|      01500|     AMBERIEU EN BUGEY|   NULL|45.95747066471399...|\n",
      "|             01005| AMBERIEUX EN DOMBES|      01330|   AMBERIEUX EN DOMBES|   NULL|45.99922938293103...|\n",
      "|             01006|             AMBLEON|      01300|               AMBLEON|   NULL|45.74831432147182...|\n",
      "+------------------+--------------------+-----------+----------------------+-------+--------------------+\n",
      "only showing top 5 rows\n",
      "\n"
     ]
    }
   ],
   "execution_count": 10
  },
  {
   "metadata": {
    "ExecuteTime": {
     "end_time": "2025-07-18T12:45:46.320668Z",
     "start_time": "2025-07-18T12:45:46.313443Z"
    }
   },
   "cell_type": "code",
   "source": "commune_df.printSchema()",
   "id": "40e70cbe8ec53652",
   "outputs": [
    {
     "name": "stdout",
     "output_type": "stream",
     "text": [
      "root\n",
      " |-- code_commune_insee: string (nullable = true)\n",
      " |-- nom_de_la_commune: string (nullable = true)\n",
      " |-- code_postal: string (nullable = true)\n",
      " |-- libelle_d_acheminement: string (nullable = true)\n",
      " |-- ligne_5: string (nullable = true)\n",
      " |-- _geopoint: string (nullable = true)\n",
      "\n"
     ]
    }
   ],
   "execution_count": 11
  },
  {
   "metadata": {},
   "cell_type": "markdown",
   "source": "### 1.1 Remove all spaces in the string col",
   "id": "57721611553fb36e"
  },
  {
   "metadata": {
    "ExecuteTime": {
     "end_time": "2025-07-18T12:50:31.687362Z",
     "start_time": "2025-07-18T12:50:31.678367Z"
    }
   },
   "cell_type": "code",
   "source": [
    "def trim_all_string_columns(df: DataFrame) -> DataFrame:\n",
    "    for col_name, dtype in df.dtypes:\n",
    "        if dtype == 'string':\n",
    "            df = df.withColumn(col_name, trim(col_name))\n",
    "    return df"
   ],
   "id": "5f91660083363824",
   "outputs": [],
   "execution_count": 13
  },
  {
   "metadata": {
    "ExecuteTime": {
     "end_time": "2025-07-18T12:50:54.560460Z",
     "start_time": "2025-07-18T12:50:54.478597Z"
    }
   },
   "cell_type": "code",
   "source": "clean_commune_df = trim_all_string_columns(commune_df)",
   "id": "8ba67e440d44db4b",
   "outputs": [],
   "execution_count": 14
  },
  {
   "metadata": {
    "ExecuteTime": {
     "end_time": "2025-07-18T12:51:13.398827Z",
     "start_time": "2025-07-18T12:51:13.213831Z"
    }
   },
   "cell_type": "code",
   "source": "clean_commune_df.show(5, truncate=False)",
   "id": "555c15b66f192fe9",
   "outputs": [
    {
     "name": "stdout",
     "output_type": "stream",
     "text": [
      "+------------------+-----------------------+-----------+-----------------------+-------+------------------------------------+\n",
      "|code_commune_insee|nom_de_la_commune      |code_postal|libelle_d_acheminement |ligne_5|_geopoint                           |\n",
      "+------------------+-----------------------+-----------+-----------------------+-------+------------------------------------+\n",
      "|01001             |L ABERGEMENT CLEMENCIAT|01400      |L ABERGEMENT CLEMENCIAT|NULL   |46.15170180297285,4.930600521664882 |\n",
      "|01002             |L ABERGEMENT DE VAREY  |01640      |L ABERGEMENT DE VAREY  |NULL   |46.00713099777772,5.42467488805381  |\n",
      "|01004             |AMBERIEU EN BUGEY      |01500      |AMBERIEU EN BUGEY      |NULL   |45.957470664713995,5.370568254510258|\n",
      "|01005             |AMBERIEUX EN DOMBES    |01330      |AMBERIEUX EN DOMBES    |NULL   |45.99922938293103,4.911871787269484 |\n",
      "|01006             |AMBLEON                |01300      |AMBLEON                |NULL   |45.74831432147182,5.592784714407381 |\n",
      "+------------------+-----------------------+-----------+-----------------------+-------+------------------------------------+\n",
      "only showing top 5 rows\n",
      "\n"
     ]
    }
   ],
   "execution_count": 15
  },
  {
   "metadata": {},
   "cell_type": "markdown",
   "source": "### 1.2 Convert string to geometry",
   "id": "ce3c44dedd7f7fe8"
  },
  {
   "metadata": {
    "ExecuteTime": {
     "end_time": "2025-07-18T13:04:41.245883Z",
     "start_time": "2025-07-18T13:04:41.170500Z"
    }
   },
   "cell_type": "code",
   "source": [
    "geo_col_name = \"_geopoint\"\n",
    "tmp_df = clean_commune_df.withColumn(\"lat\", split(geo_col_name, \",\").getItem(0).cast(\"double\")) \\\n",
    "    .withColumn(\"lon\", split(geo_col_name, \",\").getItem(1).cast(\"double\"))\n"
   ],
   "id": "1fec9a859e7c0184",
   "outputs": [],
   "execution_count": 17
  },
  {
   "metadata": {
    "ExecuteTime": {
     "end_time": "2025-07-18T13:38:09.438229Z",
     "start_time": "2025-07-18T13:38:09.349842Z"
    }
   },
   "cell_type": "code",
   "source": [
    "rename_map = {\n",
    "    \"code_commune_insee\": \"code_insee\",\n",
    "    \"nom_de_la_commune\": \"commune_name\"\n",
    "}\n",
    "geo_df = tmp_df.withColumn(\"centroid\", expr(\"ST_Point(lon,lat)\")).select(\"code_commune_insee\", \"nom_de_la_commune\",\n",
    "                                                                         \"code_postal\", \"centroid\").withColumnsRenamed(\n",
    "    rename_map)\n",
    "\n"
   ],
   "id": "af2cff2a56575ced",
   "outputs": [],
   "execution_count": 23
  },
  {
   "metadata": {
    "ExecuteTime": {
     "end_time": "2025-07-18T13:38:11.076893Z",
     "start_time": "2025-07-18T13:38:10.876989Z"
    }
   },
   "cell_type": "code",
   "source": "geo_df.show(5, truncate=False)",
   "id": "a2978662b6e149ff",
   "outputs": [
    {
     "name": "stdout",
     "output_type": "stream",
     "text": [
      "+----------+-----------------------+-----------+--------------------------------------------+\n",
      "|code_insee|commune_name           |code_postal|centroid                                    |\n",
      "+----------+-----------------------+-----------+--------------------------------------------+\n",
      "|01001     |L ABERGEMENT CLEMENCIAT|01400      |POINT (4.930600521664882 46.15170180297285) |\n",
      "|01002     |L ABERGEMENT DE VAREY  |01640      |POINT (5.42467488805381 46.00713099777772)  |\n",
      "|01004     |AMBERIEU EN BUGEY      |01500      |POINT (5.370568254510258 45.957470664713995)|\n",
      "|01005     |AMBERIEUX EN DOMBES    |01330      |POINT (4.911871787269484 45.99922938293103) |\n",
      "|01006     |AMBLEON                |01300      |POINT (5.592784714407381 45.74831432147182) |\n",
      "+----------+-----------------------+-----------+--------------------------------------------+\n",
      "only showing top 5 rows\n",
      "\n"
     ]
    }
   ],
   "execution_count": 24
  },
  {
   "metadata": {
    "ExecuteTime": {
     "end_time": "2025-07-18T13:38:38.041677Z",
     "start_time": "2025-07-18T13:38:38.032682Z"
    }
   },
   "cell_type": "code",
   "source": "geo_df.printSchema()",
   "id": "604767ce4cdc5608",
   "outputs": [
    {
     "name": "stdout",
     "output_type": "stream",
     "text": [
      "root\n",
      " |-- code_insee: string (nullable = true)\n",
      " |-- commune_name: string (nullable = true)\n",
      " |-- code_postal: string (nullable = true)\n",
      " |-- centroid: geometry (nullable = true)\n",
      "\n"
     ]
    }
   ],
   "execution_count": 25
  },
  {
   "metadata": {
    "ExecuteTime": {
     "end_time": "2025-07-18T13:46:07.279792Z",
     "start_time": "2025-07-18T13:46:06.822427Z"
    }
   },
   "cell_type": "code",
   "source": [
    "output_path = data_dir / \"tmp\" / \"fr_commune_code_postal_centroid_geopoint\"\n",
    "geo_df.coalesce(1).write \\\n",
    "    .mode(\"overwrite\") \\\n",
    "    .format(\"geoparquet\") \\\n",
    "    .option(\"geometry\", \"centroid\") \\\n",
    "    .option(\"crs\", \"EPSG:4326\") \\\n",
    "    .save(output_path.as_posix())"
   ],
   "id": "24563cf8eec97f7d",
   "outputs": [],
   "execution_count": 28
  },
  {
   "metadata": {},
   "cell_type": "code",
   "outputs": [],
   "execution_count": null,
   "source": "",
   "id": "4dc625d73b2b754c"
  },
  {
   "metadata": {},
   "cell_type": "markdown",
   "source": [
    "### 1.3 Prepare for osrm distance\n",
    "\n",
    "As the osrm api takes only string coordinates, so we need to prepare the matrix with string latitude, and longitude"
   ],
   "id": "9e7fe429f1ff2aa2"
  },
  {
   "metadata": {
    "ExecuteTime": {
     "end_time": "2025-07-18T14:10:11.083869Z",
     "start_time": "2025-07-18T14:10:10.854445Z"
    }
   },
   "cell_type": "code",
   "source": "tmp_df.show(5, truncate=False)",
   "id": "50f8b9e95d8f8c7b",
   "outputs": [
    {
     "name": "stdout",
     "output_type": "stream",
     "text": [
      "+------------------+-----------------------+-----------+-----------------------+-------+------------------------------------+------------------+-----------------+\n",
      "|code_commune_insee|nom_de_la_commune      |code_postal|libelle_d_acheminement |ligne_5|_geopoint                           |lat               |lon              |\n",
      "+------------------+-----------------------+-----------+-----------------------+-------+------------------------------------+------------------+-----------------+\n",
      "|01001             |L ABERGEMENT CLEMENCIAT|01400      |L ABERGEMENT CLEMENCIAT|NULL   |46.15170180297285,4.930600521664882 |46.15170180297285 |4.930600521664882|\n",
      "|01002             |L ABERGEMENT DE VAREY  |01640      |L ABERGEMENT DE VAREY  |NULL   |46.00713099777772,5.42467488805381  |46.00713099777772 |5.42467488805381 |\n",
      "|01004             |AMBERIEU EN BUGEY      |01500      |AMBERIEU EN BUGEY      |NULL   |45.957470664713995,5.370568254510258|45.957470664713995|5.370568254510258|\n",
      "|01005             |AMBERIEUX EN DOMBES    |01330      |AMBERIEUX EN DOMBES    |NULL   |45.99922938293103,4.911871787269484 |45.99922938293103 |4.911871787269484|\n",
      "|01006             |AMBLEON                |01300      |AMBLEON                |NULL   |45.74831432147182,5.592784714407381 |45.74831432147182 |5.592784714407381|\n",
      "+------------------+-----------------------+-----------+-----------------------+-------+------------------------------------+------------------+-----------------+\n",
      "only showing top 5 rows\n",
      "\n"
     ]
    }
   ],
   "execution_count": 29
  },
  {
   "metadata": {
    "ExecuteTime": {
     "end_time": "2025-07-18T14:19:16.456820Z",
     "start_time": "2025-07-18T14:19:16.272316Z"
    }
   },
   "cell_type": "code",
   "source": [
    "commune_df = tmp_df.select(\"code_commune_insee\", \"nom_de_la_commune\", \"code_postal\", \"lon\", \"lat\").withColumnsRenamed(\n",
    "    rename_map)\n",
    "commune_df.show(5, truncate=False)"
   ],
   "id": "a46f9bee9fa417f7",
   "outputs": [
    {
     "name": "stdout",
     "output_type": "stream",
     "text": [
      "+----------+-----------------------+-----------+-----------------+------------------+\n",
      "|code_insee|commune_name           |code_postal|lon              |lat               |\n",
      "+----------+-----------------------+-----------+-----------------+------------------+\n",
      "|01001     |L ABERGEMENT CLEMENCIAT|01400      |4.930600521664882|46.15170180297285 |\n",
      "|01002     |L ABERGEMENT DE VAREY  |01640      |5.42467488805381 |46.00713099777772 |\n",
      "|01004     |AMBERIEU EN BUGEY      |01500      |5.370568254510258|45.957470664713995|\n",
      "|01005     |AMBERIEUX EN DOMBES    |01330      |4.911871787269484|45.99922938293103 |\n",
      "|01006     |AMBLEON                |01300      |5.592784714407381|45.74831432147182 |\n",
      "+----------+-----------------------+-----------+-----------------+------------------+\n",
      "only showing top 5 rows\n",
      "\n"
     ]
    }
   ],
   "execution_count": 30
  },
  {
   "metadata": {
    "ExecuteTime": {
     "end_time": "2025-07-18T14:19:44.460172Z",
     "start_time": "2025-07-18T14:19:44.454239Z"
    }
   },
   "cell_type": "code",
   "source": "commune_df.printSchema()",
   "id": "5c8bc4d4685170f",
   "outputs": [
    {
     "name": "stdout",
     "output_type": "stream",
     "text": [
      "root\n",
      " |-- code_insee: string (nullable = true)\n",
      " |-- commune_name: string (nullable = true)\n",
      " |-- code_postal: string (nullable = true)\n",
      " |-- lon: double (nullable = true)\n",
      " |-- lat: double (nullable = true)\n",
      "\n"
     ]
    }
   ],
   "execution_count": 31
  },
  {
   "metadata": {
    "ExecuteTime": {
     "end_time": "2025-07-18T14:21:31.436379Z",
     "start_time": "2025-07-18T14:21:26.761297Z"
    }
   },
   "cell_type": "code",
   "source": "distinct_code_postal_count = commune_df.select(\"code_postal\").distinct().count()",
   "id": "a67fd8b4479b6fc1",
   "outputs": [],
   "execution_count": 32
  },
  {
   "metadata": {
    "ExecuteTime": {
     "end_time": "2025-07-18T14:21:46.613518Z",
     "start_time": "2025-07-18T14:21:46.413232Z"
    }
   },
   "cell_type": "code",
   "source": "total_count = commune_df.count()",
   "id": "df17e82a0f63e388",
   "outputs": [],
   "execution_count": 33
  },
  {
   "metadata": {
    "ExecuteTime": {
     "end_time": "2025-07-18T14:22:11.040366Z",
     "start_time": "2025-07-18T14:22:06.514412Z"
    }
   },
   "cell_type": "code",
   "source": "distinct_code_insee_count = commune_df.select(\"code_insee\").distinct().count()",
   "id": "4cddddb9f831ba82",
   "outputs": [],
   "execution_count": 34
  },
  {
   "metadata": {
    "ExecuteTime": {
     "end_time": "2025-07-18T14:22:35.550371Z",
     "start_time": "2025-07-18T14:22:35.541763Z"
    }
   },
   "cell_type": "code",
   "source": [
    "print(f\"insee code count: {distinct_code_insee_count}\")\n",
    "print(f\"total code count: {total_count}\")\n",
    "print(f\"postal code count: {distinct_code_postal_count}\")"
   ],
   "id": "3351617fdb8da9e5",
   "outputs": [
    {
     "name": "stdout",
     "output_type": "stream",
     "text": [
      "insee code count: 35007\n",
      "total code count: 39192\n",
      "postal code count: 6328\n"
     ]
    }
   ],
   "execution_count": 35
  },
  {
   "metadata": {
    "ExecuteTime": {
     "end_time": "2025-07-18T14:51:16.700750Z",
     "start_time": "2025-07-18T14:51:16.002814Z"
    }
   },
   "cell_type": "code",
   "source": [
    "output_path = data_dir / \"tmp\" / \"fr_commune_code_postal_centroid_double\"\n",
    "commune_df.coalesce(1).write.mode(\"overwrite\").parquet(output_path.as_posix())\n"
   ],
   "id": "41455fa6f343c0a9",
   "outputs": [],
   "execution_count": 36
  },
  {
   "metadata": {},
   "cell_type": "markdown",
   "source": "## Check the diff between",
   "id": "ebab33e79d6ee22"
  },
  {
   "metadata": {
    "ExecuteTime": {
     "end_time": "2025-07-22T08:59:38.082579Z",
     "start_time": "2025-07-22T08:59:37.851599Z"
    }
   },
   "cell_type": "code",
   "source": [
    "# read the data from fr_commune_code_postal_centroid_double.parquet\n",
    "data_dir = project_root_dir / \"data\"\n",
    "commune_file_path = data_dir / \"parquet\" / \"fr_commune_code_postal\" / \"fr_commune_code_postal_centroid_double.parquet\"\n",
    "commune_df = spark.read.parquet(commune_file_path.as_posix())\n",
    "commune_df.show(5, truncate=False)"
   ],
   "id": "d8853039e547514a",
   "outputs": [
    {
     "name": "stdout",
     "output_type": "stream",
     "text": [
      "+----------+-----------------------+-----------+-----------------+------------------+\n",
      "|code_insee|commune_name           |code_postal|lon              |lat               |\n",
      "+----------+-----------------------+-----------+-----------------+------------------+\n",
      "|01001     |L ABERGEMENT CLEMENCIAT|01400      |4.930600521664882|46.15170180297285 |\n",
      "|01002     |L ABERGEMENT DE VAREY  |01640      |5.42467488805381 |46.00713099777772 |\n",
      "|01004     |AMBERIEU EN BUGEY      |01500      |5.370568254510258|45.957470664713995|\n",
      "|01005     |AMBERIEUX EN DOMBES    |01330      |4.911871787269484|45.99922938293103 |\n",
      "|01006     |AMBLEON                |01300      |5.592784714407381|45.74831432147182 |\n",
      "+----------+-----------------------+-----------+-----------------+------------------+\n",
      "only showing top 5 rows\n",
      "\n"
     ]
    }
   ],
   "execution_count": 17
  },
  {
   "metadata": {
    "ExecuteTime": {
     "end_time": "2025-07-22T09:01:05.574902Z",
     "start_time": "2025-07-22T09:01:05.393672Z"
    }
   },
   "cell_type": "code",
   "source": [
    "# the old dataset\n",
    "converted_centroid_path = data_dir / \"tmp\" / \"converted_centroid_of_french_commune\"\n",
    "old_commune_df = spark.read.parquet(converted_centroid_path.as_posix())\n",
    "old_commune_df= old_commune_df.withColumnRenamed(\"insee\", \"code_insee\")\n",
    "old_commune_df.show(5, truncate=False)"
   ],
   "id": "d95c20dd5c97358a",
   "outputs": [
    {
     "name": "stdout",
     "output_type": "stream",
     "text": [
      "+------------+----------+-----------------+------------------+\n",
      "|nom         |code_insee|longitude        |latitude          |\n",
      "+------------+----------+-----------------+------------------+\n",
      "|Pie-d'Orezza|2B222     |9.338150861836196|42.374292014354154|\n",
      "|Lano        |2B137     |9.235357777014519|42.37887024991088 |\n",
      "|Cambia      |2B051     |9.302107656444328|42.36875223806091 |\n",
      "|Érone       |2B106     |9.26661425039706 |42.375563316535825|\n",
      "|Oletta      |2B185     |9.33384508224219 |42.641774511917404|\n",
      "+------------+----------+-----------------+------------------+\n",
      "only showing top 5 rows\n",
      "\n"
     ]
    }
   ],
   "execution_count": 20
  },
  {
   "metadata": {
    "ExecuteTime": {
     "end_time": "2025-07-22T09:08:42.171009Z",
     "start_time": "2025-07-22T09:08:42.143186Z"
    }
   },
   "cell_type": "code",
   "source": [
    "diff_commune_df = commune_df.join(old_commune_df, on=\"code_insee\", how=\"left_anti\")\n",
    "distinct_diff_commune_df = diff_commune_df.select(\"code_insee\",\"commune_name\",\"code_postal\").dropDuplicates(['code_insee'])"
   ],
   "id": "c5bd98551c7f1f78",
   "outputs": [],
   "execution_count": 34
  },
  {
   "metadata": {
    "ExecuteTime": {
     "end_time": "2025-07-22T09:08:47.939079Z",
     "start_time": "2025-07-22T09:08:45.799353Z"
    }
   },
   "cell_type": "code",
   "source": "distinct_diff_commune_df.count()",
   "id": "5d9129364c9f6fa6",
   "outputs": [
    {
     "data": {
      "text/plain": [
       "147"
      ]
     },
     "execution_count": 35,
     "metadata": {},
     "output_type": "execute_result"
    }
   ],
   "execution_count": 35
  },
  {
   "metadata": {
    "ExecuteTime": {
     "end_time": "2025-07-22T09:09:01.516942Z",
     "start_time": "2025-07-22T09:08:59.214084Z"
    }
   },
   "cell_type": "code",
   "source": "distinct_diff_commune_df.orderBy(\"code_insee\").show(100)",
   "id": "362d0a5ee68a59af",
   "outputs": [
    {
     "name": "stdout",
     "output_type": "stream",
     "text": [
      "+----------+--------------------+-----------+\n",
      "|code_insee|        commune_name|code_postal|\n",
      "+----------+--------------------+-----------+\n",
      "|     12218| CONQUES EN ROUERGUE|      12320|\n",
      "|     13201|        MARSEILLE 01|      13001|\n",
      "|     13202|        MARSEILLE 02|      13002|\n",
      "|     13203|        MARSEILLE 03|      13003|\n",
      "|     13204|        MARSEILLE 04|      13004|\n",
      "|     13205|        MARSEILLE 05|      13005|\n",
      "|     13206|        MARSEILLE 06|      13006|\n",
      "|     13207|        MARSEILLE 07|      13007|\n",
      "|     13208|        MARSEILLE 08|      13008|\n",
      "|     13209|        MARSEILLE 09|      13009|\n",
      "|     13210|        MARSEILLE 10|      13010|\n",
      "|     13211|        MARSEILLE 11|      13011|\n",
      "|     13212|        MARSEILLE 12|      13012|\n",
      "|     13213|        MARSEILLE 13|      13013|\n",
      "|     13214|        MARSEILLE 14|      13014|\n",
      "|     13215|        MARSEILLE 15|      13015|\n",
      "|     13216|        MARSEILLE 16|      13016|\n",
      "|     14581|          AURSEULLES|      14240|\n",
      "|     15031|              CELLES|      15170|\n",
      "|     15035|        CHALINARGUES|      15170|\n",
      "|     15047|           CHAVAGNAC|      15300|\n",
      "|     15171|       STE ANASTASIE|      15170|\n",
      "|     27676|      LES TROIS LACS|      27700|\n",
      "|     49126|        OREE D ANJOU|      49270|\n",
      "|     60694|   LES HAUTS TALICAN|      60390|\n",
      "|     69114|PORTE DES PIERRES...|      69400|\n",
      "|     69381|             LYON 01|      69001|\n",
      "|     69382|             LYON 02|      69002|\n",
      "|     69383|             LYON 03|      69003|\n",
      "|     69384|             LYON 04|      69004|\n",
      "|     69385|             LYON 05|      69005|\n",
      "|     69386|             LYON 06|      69006|\n",
      "|     69387|             LYON 07|      69007|\n",
      "|     69388|             LYON 08|      69008|\n",
      "|     69389|             LYON 09|      69009|\n",
      "|     75101|            PARIS 01|      75001|\n",
      "|     75102|            PARIS 02|      75002|\n",
      "|     75103|            PARIS 03|      75003|\n",
      "|     75104|            PARIS 04|      75004|\n",
      "|     75105|            PARIS 05|      75005|\n",
      "|     75106|            PARIS 06|      75006|\n",
      "|     75107|            PARIS 07|      75007|\n",
      "|     75108|            PARIS 08|      75008|\n",
      "|     75109|            PARIS 09|      75009|\n",
      "|     75110|            PARIS 10|      75010|\n",
      "|     75111|            PARIS 11|      75011|\n",
      "|     75112|            PARIS 12|      75012|\n",
      "|     75113|            PARIS 13|      75013|\n",
      "|     75114|            PARIS 14|      75014|\n",
      "|     75115|            PARIS 15|      75015|\n",
      "|     75116|            PARIS 16|      75016|\n",
      "|     75117|            PARIS 17|      75017|\n",
      "|     75118|            PARIS 18|      75018|\n",
      "|     75119|            PARIS 19|      75019|\n",
      "|     75120|            PARIS 20|      75020|\n",
      "|     85165|               L OIE|      85140|\n",
      "|     85212|        STE FLORENCE|      85140|\n",
      "|     97501|   MIQUELON LANGLADE|      97500|\n",
      "|     97502|           ST PIERRE|      97500|\n",
      "|     97701|       ST BARTHELEMY|      97133|\n",
      "|     97801|           ST MARTIN|      97150|\n",
      "|     98611|                 ALO|      98610|\n",
      "|     98612|              SIGAVE|      98620|\n",
      "|     98613|                UVEA|      98600|\n",
      "|     98711|                ANAA|      98760|\n",
      "|     98712|                ARUE|      98701|\n",
      "|     98713|              ARUTUA|      98761|\n",
      "|     98714|           BORA BORA|      98730|\n",
      "|     98715|                FAAA|      98704|\n",
      "|     98716|            FAKARAVA|      98763|\n",
      "|     98717|            FANGATAU|      98765|\n",
      "|     98718|           FATU HIVA|      98740|\n",
      "|     98719|             GAMBIER|      98755|\n",
      "|     98720|                 HAO|      98767|\n",
      "|     98721|             HIKUERU|      98768|\n",
      "|     98722|      HITIAA O TE RA|      98705|\n",
      "|     98723|             HIVA OA|      98741|\n",
      "|     98724|             HUAHINE|      98731|\n",
      "|     98725|              MAHINA|      98709|\n",
      "|     98726|              MAKEMO|      98769|\n",
      "|     98727|              MANIHI|      98770|\n",
      "|     98728|             MAUPITI|      98732|\n",
      "|     98729|        MOOREA MAIAO|      98728|\n",
      "|     98730|              NAPUKA|      98772|\n",
      "|     98731|           NUKU HIVA|      98742|\n",
      "|     98732|          NUKUTAVAKE|      98773|\n",
      "|     98733|                PAEA|      98711|\n",
      "|     98734|              PAPARA|      98712|\n",
      "|     98735|             PAPEETE|      98714|\n",
      "|     98736|               PIRAE|      98716|\n",
      "|     98737|            PUKAPUKA|      98774|\n",
      "|     98738|            PUNAAUIA|      98703|\n",
      "|     98739|            RAIVAVAE|      98750|\n",
      "|     98740|            RANGIROA|      98775|\n",
      "|     98741|                RAPA|      98751|\n",
      "|     98742|                REAO|      98779|\n",
      "|     98743|            RIMATARA|      98752|\n",
      "|     98744|              RURUTU|      98753|\n",
      "|     98745|               TAHAA|      98733|\n",
      "|     98746|             TAHUATA|      98743|\n",
      "+----------+--------------------+-----------+\n",
      "only showing top 100 rows\n",
      "\n"
     ]
    }
   ],
   "execution_count": 36
  },
  {
   "metadata": {
    "ExecuteTime": {
     "end_time": "2025-07-22T09:13:44.556483Z",
     "start_time": "2025-07-22T09:13:44.523178Z"
    }
   },
   "cell_type": "code",
   "source": [
    "diff_commune_df_bis = old_commune_df.join(commune_df, on=\"code_insee\", how=\"left_anti\")\n",
    "\n",
    "distinct_diff_commune_df_bis = diff_commune_df_bis.select(\"code_insee\",\"nom\").dropDuplicates(['code_insee'])"
   ],
   "id": "426ac7566f76327f",
   "outputs": [],
   "execution_count": 42
  },
  {
   "metadata": {
    "ExecuteTime": {
     "end_time": "2025-07-22T09:13:47.532167Z",
     "start_time": "2025-07-22T09:13:46.453701Z"
    }
   },
   "cell_type": "code",
   "source": "distinct_diff_commune_df_bis.count()",
   "id": "83ef57200328e005",
   "outputs": [
    {
     "data": {
      "text/plain": [
       "95"
      ]
     },
     "execution_count": 43,
     "metadata": {},
     "output_type": "execute_result"
    }
   ],
   "execution_count": 43
  },
  {
   "metadata": {
    "ExecuteTime": {
     "end_time": "2025-07-22T09:13:49.469771Z",
     "start_time": "2025-07-22T09:13:48.445611Z"
    }
   },
   "cell_type": "code",
   "source": "distinct_diff_commune_df_bis.show(100)",
   "id": "f6c67ad5ac770e6a",
   "outputs": [
    {
     "name": "stdout",
     "output_type": "stream",
     "text": [
      "+----------+--------------------+\n",
      "|code_insee|                 nom|\n",
      "+----------+--------------------+\n",
      "|     01039|                Béon|\n",
      "|     01330|             Ruffieu|\n",
      "|     02077|        Berzy-le-Sec|\n",
      "|     02311|              Filain|\n",
      "|     08294|         La Moncelle|\n",
      "|     08300|        Le Mont-Dieu|\n",
      "|     09255|         Saint-Amans|\n",
      "|     09287|            Senconac|\n",
      "|     12076| Conques-en-Rouergue|\n",
      "|     13055|           Marseille|\n",
      "|     14011|          Aurseulles|\n",
      "|     14300|             Gerrots|\n",
      "|     14623|Saint-Martin-de-F...|\n",
      "|     16140|        Fontclaireau|\n",
      "|     16147| Gardes-le-Pontaroux|\n",
      "|     16226|  Montignac-Charente|\n",
      "|     16238|          Moutonneau|\n",
      "|     16355|Saint-Sulpice-de-...|\n",
      "|     17334|Saint-Georges-de-...|\n",
      "|     18131|   Lugny-Bourbonnais|\n",
      "|     19223| Saint-Martin-Sepert|\n",
      "|     19230|Saint-Pardoux-Cor...|\n",
      "|     22027|          Le Cambout|\n",
      "|     22043|           Coëtlogon|\n",
      "|     22200|              Pléven|\n",
      "|     22309|       Saint-Launeuc|\n",
      "|     23023|            Blaudeix|\n",
      "|     25282|     Goux-les-Usiers|\n",
      "|     25297|        Le Gratteris|\n",
      "|     25303| Hauterive-la-Fresse|\n",
      "|     25347|       La Longeville|\n",
      "|     25398|          Montflovin|\n",
      "|     25533|               Saraz|\n",
      "|     25549|           Sombacour|\n",
      "|     25620|       Ville-du-Pont|\n",
      "|     26371|             Véronne|\n",
      "|     27058|      Les Trois Lacs|\n",
      "|     28025|        Barmainville|\n",
      "|     28276|     Neuvy-en-Beauce|\n",
      "|     30094|              Corbès|\n",
      "|     32067|     Cabas-Loumassès|\n",
      "|     32260|           Monbardon|\n",
      "|     32413|              Sarcos|\n",
      "|     33409| Saint-Genis-du-Bois|\n",
      "|     34093|   Dio-et-Valquières|\n",
      "|     35112|           Fleurigné|\n",
      "|     39474|        Sainte-Agnès|\n",
      "|     39548|    Vaux-sur-Poligny|\n",
      "|     42072|   La Côte-en-Couzan|\n",
      "|     42109|L'Hôpital-sous-Ro...|\n",
      "|     42252|Saint-Laurent-Roc...|\n",
      "|     46217|                Pern|\n",
      "|     49069|        Orée-d'Anjou|\n",
      "|     49321|     Saint-Sigismond|\n",
      "|     50015|           Annoville|\n",
      "|     51063|  Binson-et-Orquigny|\n",
      "|     51205| Dampierre-au-Temple|\n",
      "|     51637|Villers-sous-Chât...|\n",
      "|     59070|           Bermeries|\n",
      "|     61017|Les Authieux-du-P...|\n",
      "|     61188|        La Genevraie|\n",
      "|     61192|            Godisson|\n",
      "|     61310|       Nonant-le-Pin|\n",
      "|     62461|      Huby-Saint-Leu|\n",
      "|     62549|            Marconne|\n",
      "|     62743| Sainte-Austreberthe|\n",
      "|     63330|Saint-Cirgues-sur...|\n",
      "|     64541|               Urdès|\n",
      "|     69123|                Lyon|\n",
      "|     69152|       Pierre-Bénite|\n",
      "|     69159|Porte des Pierres...|\n",
      "|     70264|            Georfans|\n",
      "|     70530|Vellechevreux-et-...|\n",
      "|     70557|        Villefrancon|\n",
      "|     71131|                Ciel|\n",
      "|     71492|       Saint-Ythaire|\n",
      "|     72287|Saint-Gervais-en-...|\n",
      "|     72298|Saint-Mars-de-Loc...|\n",
      "|     75056|               Paris|\n",
      "|     76358|            Le Héron|\n",
      "|     79060|              Caunay|\n",
      "|     79180|        Montalembert|\n",
      "|     79205|                Pers|\n",
      "|     79212|             Pliboux|\n",
      "|     80830|     Yaucourt-Bussus|\n",
      "|     85021|      La Bernardière|\n",
      "|     85037|       Breuil-Barret|\n",
      "|     85041|              Cezais|\n",
      "|     85053| La Chapelle-aux-Lys|\n",
      "|     85233|Saint-Jean-de-Beugné|\n",
      "|     85271|Saint-Sulpice-en-...|\n",
      "|     86231|        Saint-Macoux|\n",
      "|     88393|        Rollainville|\n",
      "|     93059|Pierrefitte-sur-S...|\n",
      "|     95282|          Gouzangrez|\n",
      "+----------+--------------------+\n",
      "\n"
     ]
    }
   ],
   "execution_count": 44
  },
  {
   "metadata": {},
   "cell_type": "markdown",
   "source": [
    "## Why I don't want to patch the old\n",
    "\n",
    "1. Even I add the special Insee code for lyon, paris, etc as the departure code, and all old insee code as destination, the reverse is not calculated.\n",
    "2. The code insee has changed a lot between 2022 and 2025.\n",
    "          - In 2025, I have 147 code that do not exist in 2022 (147-20-16-9=142, if I remove the special code of paris, lyon)\n",
    "          - In 2022, I have 95 code that do not exist in 2025"
   ],
   "id": "45a3a5c5d7be90af"
  },
  {
   "metadata": {},
   "cell_type": "markdown",
   "source": [
    "## Clean the dataset for the calculation\n",
    "\n",
    "Remove all duplicated rows(code_insee, long, lat)"
   ],
   "id": "ce4970573333a504"
  },
  {
   "metadata": {
    "ExecuteTime": {
     "end_time": "2025-07-22T09:45:24.857775Z",
     "start_time": "2025-07-22T09:45:24.845775Z"
    }
   },
   "cell_type": "code",
   "source": "dedup_old_commune_df = old_commune_df.dropDuplicates(['code_insee',\"longitude\",\"latitude\"])",
   "id": "afda92eb80086b6d",
   "outputs": [],
   "execution_count": 46
  },
  {
   "metadata": {
    "ExecuteTime": {
     "end_time": "2025-07-22T09:45:43.523823Z",
     "start_time": "2025-07-22T09:45:38.421897Z"
    }
   },
   "cell_type": "code",
   "source": "dedup_old_commune_df.count()",
   "id": "3d23f07bd872f19",
   "outputs": [
    {
     "data": {
      "text/plain": [
       "34955"
      ]
     },
     "execution_count": 47,
     "metadata": {},
     "output_type": "execute_result"
    }
   ],
   "execution_count": 47
  },
  {
   "metadata": {
    "ExecuteTime": {
     "end_time": "2025-07-22T09:46:21.882883Z",
     "start_time": "2025-07-22T09:46:21.778994Z"
    }
   },
   "cell_type": "code",
   "source": "old_commune_df.count()",
   "id": "692c8d8112956411",
   "outputs": [
    {
     "data": {
      "text/plain": [
       "34955"
      ]
     },
     "execution_count": 48,
     "metadata": {},
     "output_type": "execute_result"
    }
   ],
   "execution_count": 48
  },
  {
   "metadata": {
    "ExecuteTime": {
     "end_time": "2025-07-22T09:47:31.549868Z",
     "start_time": "2025-07-22T09:47:31.426947Z"
    }
   },
   "cell_type": "code",
   "source": "old_commune_df.show(5)",
   "id": "10740b61365ab793",
   "outputs": [
    {
     "name": "stdout",
     "output_type": "stream",
     "text": [
      "+------------+----------+-----------------+------------------+\n",
      "|         nom|code_insee|        longitude|          latitude|\n",
      "+------------+----------+-----------------+------------------+\n",
      "|Pie-d'Orezza|     2B222|9.338150861836196|42.374292014354154|\n",
      "|        Lano|     2B137|9.235357777014519| 42.37887024991088|\n",
      "|      Cambia|     2B051|9.302107656444328| 42.36875223806091|\n",
      "|       Érone|     2B106| 9.26661425039706|42.375563316535825|\n",
      "|      Oletta|     2B185| 9.33384508224219|42.641774511917404|\n",
      "+------------+----------+-----------------+------------------+\n",
      "only showing top 5 rows\n",
      "\n"
     ]
    }
   ],
   "execution_count": 49
  },
  {
   "metadata": {
    "ExecuteTime": {
     "end_time": "2025-07-22T09:59:27.643999Z",
     "start_time": "2025-07-22T09:59:27.536727Z"
    }
   },
   "cell_type": "code",
   "source": [
    "paris_code_list = [\"75101\",\"75102\",\"75103\",\"75104\",\"75105\",\"75106\",\"75107\",\"75108\",\"75109\",\"75110\",\"75111\",\"75112\",\"75113\",\"75114\",\"75115\",\"75116\",\"75117\",\"75118\",\"75119\",\"75120\"]\n",
    "marseil_code_list = [\"13201\",\"13202\",\"13203\",\"13204\",\"13205\",\"13206\",\"13207\",\"13208\",\"13209\",\"13210\",\"13211\",\"13212\",\"13213\",\"13214\",\"13215\",\"13216\"]\n",
    "lyon_code_list = [\"69381\",\"69382\",\"69383\",\"69384\",\"69385\",\"69386\",\"69387\",\"69388\",\"69389\"]\n",
    "spec_code_list = paris_code_list + marseil_code_list + lyon_code_list\n",
    "special_code_df = commune_df.select(\"code_insee\",\"commune_name\",\"lon\",\"lat\").filter(col(\"code_insee\").isin(spec_code_list)).dropDuplicates([\"code_insee\"])"
   ],
   "id": "ca13c81ede820b7",
   "outputs": [],
   "execution_count": 55
  },
  {
   "metadata": {
    "ExecuteTime": {
     "end_time": "2025-07-22T12:02:29.387753Z",
     "start_time": "2025-07-22T12:02:26.725182Z"
    }
   },
   "cell_type": "code",
   "source": [
    "special_code_df.cache()\n",
    "special_code_df.count()"
   ],
   "id": "f6bffd32c11b03b8",
   "outputs": [
    {
     "data": {
      "text/plain": [
       "45"
      ]
     },
     "execution_count": 58,
     "metadata": {},
     "output_type": "execute_result"
    }
   ],
   "execution_count": 58
  },
  {
   "metadata": {
    "ExecuteTime": {
     "end_time": "2025-07-22T09:59:31.535026Z",
     "start_time": "2025-07-22T09:59:29.699599Z"
    }
   },
   "cell_type": "code",
   "source": "special_code_df.show(25)",
   "id": "2a82cd2e222525a3",
   "outputs": [
    {
     "name": "stdout",
     "output_type": "stream",
     "text": [
      "+----------+------------+------------------+------------------+\n",
      "|code_insee|commune_name|               lon|               lat|\n",
      "+----------+------------+------------------+------------------+\n",
      "|     13201|MARSEILLE 01| 5.382762418572516|   43.300180147405|\n",
      "|     13202|MARSEILLE 02| 5.349708114001739|  43.3223695755212|\n",
      "|     13203|MARSEILLE 03|5.3806244639103245| 43.31130519027072|\n",
      "|     13204|MARSEILLE 04| 5.400172919457896|43.306252388667076|\n",
      "|     13205|MARSEILLE 05| 5.400579300317757| 43.29252007050407|\n",
      "|     13206|MARSEILLE 06| 5.381383694109374| 43.28763998786084|\n",
      "|     13207|MARSEILLE 07| 5.327364965322443| 43.27961254906469|\n",
      "|     13208|MARSEILLE 08| 5.325514248331542|43.214958098052385|\n",
      "|     13209|MARSEILLE 09|  5.45229488318938| 43.23664648410533|\n",
      "|     13210|MARSEILLE 10|5.4242901733836675|43.274316841834796|\n",
      "|     13211|MARSEILLE 11| 5.478708665309835| 43.28765586882729|\n",
      "|     13212|MARSEILLE 12| 5.441757373520363| 43.30714673377935|\n",
      "|     13213|MARSEILLE 13| 5.430088281481468| 43.35279087275671|\n",
      "|     13214|MARSEILLE 14| 5.391477744185436|  43.3468478078473|\n",
      "|     13215|MARSEILLE 15| 5.365308697775667| 43.35309076105492|\n",
      "|     13216|MARSEILLE 16|  5.31608414563043| 43.36423921224197|\n",
      "|     69381|     LYON 01| 4.826372955942867|45.770103986093666|\n",
      "|     69382|     LYON 02| 4.826490567773009| 45.74637017028923|\n",
      "|     69383|     LYON 03| 4.868478074670612|45.751412679874804|\n",
      "|     69384|     LYON 04|  4.82599549470751| 45.78050368744799|\n",
      "|     69385|     LYON 05| 4.801174763110998| 45.75602914260185|\n",
      "|     69386|     LYON 06| 4.854765657402826| 45.77526322291706|\n",
      "|     69387|     LYON 07| 4.839314194613352|45.732110027512974|\n",
      "|     69388|     LYON 08| 4.869548513194665|45.734196894942855|\n",
      "|     69389|     LYON 09| 4.812782752359595|45.783549796948286|\n",
      "+----------+------------+------------------+------------------+\n",
      "only showing top 25 rows\n",
      "\n"
     ]
    }
   ],
   "execution_count": 57
  },
  {
   "metadata": {},
   "cell_type": "markdown",
   "source": [
    "## Build the matrix\n",
    "\n",
    "To be able to calculate the distance between all `communes` in France, we need to build a matrix with `source commune` and `destination commune`.\n",
    "\n",
    "## Relation between Code Officiel Géographique (COG) de l’INSEE and code postal\n",
    "\n",
    "### Paris\n",
    "\n",
    "| Arrondissement\t | Code INSEE | Code Postal |\n",
    "|-----------------|------------|-------------|\n",
    "| Paris 1er\t      | 75101      | 75001       |\n",
    "| Paris 2e\t       | 75102      | 75002       |\n",
    "| Paris 3e\t       | 75103      | 75003       |\n",
    "| Paris 4e\t       | 75104      | 75004       |\n",
    "| Paris 5e\t       | 75105      | 75005       |\n",
    "| Paris 6e\t       | 75106      | 75006       |\n",
    "| Paris 7e\t       | 75107      | 75007       |\n",
    "| Paris 8e\t       | 75108      | 75008       |\n",
    "| Paris 9e\t       | 75109      | 75009       |\n",
    "| Paris 10e\t      | 75110      | 75010       |\n",
    "| Paris 11e\t      | 75111      | 75011       |\n",
    "| Paris 12e\t      | 75112      | 75012       |\n",
    "| Paris 13e\t      | 75113      | 75013       |\n",
    "| Paris 14e\t      | 75114      | 75014       |\n",
    "| Paris 15e\t      | 75115      | 75015       |\n",
    "| Paris 16e\t      | 75116      | 75016       |\n",
    "| Paris 17e\t      | 75117      | 75017       |\n",
    "| Paris 18e\t      | 75118      | 75018       |\n",
    "| Paris 19e\t      | 75119      | 75019       |\n",
    "| Paris 20e\t      | 75120      | 75020       |\n",
    "| Paris ALL       | 75056      | None        |\n",
    "\n",
    "### Lyon\n",
    "\n",
    "| Arrondissement\t | Code INSEE | Code Postal |\n",
    "|-----------------|------------|-------------|\n",
    "| Lyon 1er\t       | 69381      | 69001       |\n",
    "| Lyon 2e\t        | 69382      | 69002       |\n",
    "| Lyon 3e\t        | 69383      | 69003       |\n",
    "| Lyon 4e\t        | 69384      | 69004       |\n",
    "| Lyon 5e\t        | 69385      | 69005       |\n",
    "| Lyon 6e\t        | 69386      | 69006       |\n",
    "| Lyon 7e\t        | 69387      | 69007       |\n",
    "| Lyon 8e\t        | 69388      | 69008       |\n",
    "| Lyon 9e\t        | 69389      | 69009       |\n",
    "| Lyon ALL\t       | 69123      | None        |\n",
    "\n",
    "### Marseille\n",
    "\n",
    "| Arrondissement\t | Code INSEE | Code Postal |\n",
    "|-----------------|------------|-------------|\n",
    "| Marseille 1er\t  | 13201      | 75001       |\n",
    "| Marseille 2e\t   | 13202      | 75002       |\n",
    "| Marseille 3e\t   | 13203      | 75003       |\n",
    "| Marseille 4e\t   | 13204      | 75004       |\n",
    "| Marseille 5e\t   | 13205      | 75005       |\n",
    "| Marseille 6e\t   | 13206      | 75006       |\n",
    "| Marseille 7e\t   | 13207      | 75007       |\n",
    "| Marseille 8e\t   | 13208      | 75008       |\n",
    "| Marseille 9e\t   | 13209      | 75009       |\n",
    "| Marseille 10e\t  | 13210      | 75010       |\n",
    "| Marseille 11e\t  | 13211      | 75011       |\n",
    "| Marseille 12e\t  | 13212      | 75012       |\n",
    "| Marseille 13e\t  | 13213      | 75013       |\n",
    "| Marseille 14e\t  | 13214      | 75014       |\n",
    "| Marseille 15e\t  | 13215      | 75015       |\n",
    "| Marseille 16e\t  | 13216      | 75016       |\n",
    "| Marseille ALL   | 13055      | None        |"
   ],
   "id": "f0d843d42f063861"
  },
  {
   "metadata": {
    "ExecuteTime": {
     "end_time": "2025-07-22T12:04:53.472866Z",
     "start_time": "2025-07-22T12:04:53.456028Z"
    }
   },
   "cell_type": "code",
   "source": [
    "# 1st step: get all possible routes for special code commune as departure\n",
    "df_dep1=special_code_df.selectExpr(\"code_insee as source_insee\",\"commune_name as source_nom\",\"lon as source_long\",\"lat as source_lat\")\n",
    "\n",
    "df_arr1 = old_commune_df.selectExpr(\"code_insee as dest_insee\",\"nom as dest_nom\",\"longitude as dest_long\",\"latitude as dest_lat\")\n",
    "\n",
    "routes1 = df_dep1.crossJoin(df_arr1)"
   ],
   "id": "aa22b787f32f42e2",
   "outputs": [],
   "execution_count": 60
  },
  {
   "metadata": {
    "ExecuteTime": {
     "end_time": "2025-07-22T12:05:39.317091Z",
     "start_time": "2025-07-22T12:05:38.605298Z"
    }
   },
   "cell_type": "code",
   "source": "routes1.count()",
   "id": "30037d9ac480d885",
   "outputs": [
    {
     "data": {
      "text/plain": [
       "1572975"
      ]
     },
     "execution_count": 62,
     "metadata": {},
     "output_type": "execute_result"
    }
   ],
   "execution_count": 62
  },
  {
   "metadata": {
    "ExecuteTime": {
     "end_time": "2025-07-22T12:06:23.355561Z",
     "start_time": "2025-07-22T12:06:22.843413Z"
    }
   },
   "cell_type": "code",
   "source": "routes1.show(10)",
   "id": "1b066d766e594e42",
   "outputs": [
    {
     "name": "stdout",
     "output_type": "stream",
     "text": [
      "+------------+------------+------------------+------------------+----------+------------+-----------------+------------------+\n",
      "|source_insee|  source_nom|       source_long|        source_lat|dest_insee|    dest_nom|        dest_long|          dest_lat|\n",
      "+------------+------------+------------------+------------------+----------+------------+-----------------+------------------+\n",
      "|       75111|    PARIS 11|2.3815596509625725| 48.86007317753911|     2B222|Pie-d'Orezza|9.338150861836196|42.374292014354154|\n",
      "|       13204|MARSEILLE 04| 5.400172919457896|43.306252388667076|     2B222|Pie-d'Orezza|9.338150861836196|42.374292014354154|\n",
      "|       13215|MARSEILLE 15| 5.365308697775667| 43.35309076105492|     2B222|Pie-d'Orezza|9.338150861836196|42.374292014354154|\n",
      "|       13208|MARSEILLE 08| 5.325514248331542|43.214958098052385|     2B222|Pie-d'Orezza|9.338150861836196|42.374292014354154|\n",
      "|       75115|    PARIS 15|2.2937166457955085| 48.84165432062318|     2B222|Pie-d'Orezza|9.338150861836196|42.374292014354154|\n",
      "|       75107|    PARIS 07|2.3114828881827663| 48.85483330106939|     2B222|Pie-d'Orezza|9.338150861836196|42.374292014354154|\n",
      "|       75102|    PARIS 02| 2.341126022069008| 48.86768689347487|     2B222|Pie-d'Orezza|9.338150861836196|42.374292014354154|\n",
      "|       75118|    PARIS 18|2.3486937165071167| 48.89193573082932|     2B222|Pie-d'Orezza|9.338150861836196|42.374292014354154|\n",
      "|       13213|MARSEILLE 13| 5.430088281481468| 43.35279087275671|     2B222|Pie-d'Orezza|9.338150861836196|42.374292014354154|\n",
      "|       75101|    PARIS 01| 2.335944290300044| 48.86200489940309|     2B222|Pie-d'Orezza|9.338150861836196|42.374292014354154|\n",
      "+------------+------------+------------------+------------------+----------+------------+-----------------+------------------+\n",
      "only showing top 10 rows\n",
      "\n"
     ]
    }
   ],
   "execution_count": 64
  },
  {
   "metadata": {
    "ExecuteTime": {
     "end_time": "2025-07-22T12:05:22.758875Z",
     "start_time": "2025-07-22T12:05:22.729480Z"
    }
   },
   "cell_type": "code",
   "source": [
    "# 2nd step: get all possible routes for special code commune as arrival\n",
    "df_dep2 = old_commune_df.selectExpr(\"code_insee as source_insee\",\"nom as source_nom\",\"longitude as dest_long\",\"latitude as dest_lat\")\n",
    "\n",
    "df_arr2 = special_code_df.selectExpr(\"code_insee as dest_insee\",\"commune_name as dest_nom\",\"lon as dest_long\",\"lat as dest_lat\")\n",
    "\n",
    "routes2 = df_dep2.crossJoin(df_arr2)"
   ],
   "id": "ac25d8af66694a49",
   "outputs": [],
   "execution_count": 61
  },
  {
   "metadata": {
    "ExecuteTime": {
     "end_time": "2025-07-22T12:06:04.713905Z",
     "start_time": "2025-07-22T12:06:04.226863Z"
    }
   },
   "cell_type": "code",
   "source": "routes2.count()",
   "id": "fdb6020db6b97b23",
   "outputs": [
    {
     "data": {
      "text/plain": [
       "1572975"
      ]
     },
     "execution_count": 63,
     "metadata": {},
     "output_type": "execute_result"
    }
   ],
   "execution_count": 63
  },
  {
   "metadata": {
    "ExecuteTime": {
     "end_time": "2025-07-22T12:06:51.611969Z",
     "start_time": "2025-07-22T12:06:51.062518Z"
    }
   },
   "cell_type": "code",
   "source": "routes2.show(10)",
   "id": "bfa52e1bda2a5e9d",
   "outputs": [
    {
     "name": "stdout",
     "output_type": "stream",
     "text": [
      "+------------+------------+-----------------+------------------+----------+------------+------------------+------------------+\n",
      "|source_insee|  source_nom|        dest_long|          dest_lat|dest_insee|    dest_nom|         dest_long|          dest_lat|\n",
      "+------------+------------+-----------------+------------------+----------+------------+------------------+------------------+\n",
      "|       2B222|Pie-d'Orezza|9.338150861836196|42.374292014354154|     75111|    PARIS 11|2.3815596509625725| 48.86007317753911|\n",
      "|       2B222|Pie-d'Orezza|9.338150861836196|42.374292014354154|     13204|MARSEILLE 04| 5.400172919457896|43.306252388667076|\n",
      "|       2B222|Pie-d'Orezza|9.338150861836196|42.374292014354154|     13215|MARSEILLE 15| 5.365308697775667| 43.35309076105492|\n",
      "|       2B222|Pie-d'Orezza|9.338150861836196|42.374292014354154|     13208|MARSEILLE 08| 5.325514248331542|43.214958098052385|\n",
      "|       2B222|Pie-d'Orezza|9.338150861836196|42.374292014354154|     75115|    PARIS 15|2.2937166457955085| 48.84165432062318|\n",
      "|       2B222|Pie-d'Orezza|9.338150861836196|42.374292014354154|     75107|    PARIS 07|2.3114828881827663| 48.85483330106939|\n",
      "|       2B222|Pie-d'Orezza|9.338150861836196|42.374292014354154|     75102|    PARIS 02| 2.341126022069008| 48.86768689347487|\n",
      "|       2B222|Pie-d'Orezza|9.338150861836196|42.374292014354154|     75118|    PARIS 18|2.3486937165071167| 48.89193573082932|\n",
      "|       2B222|Pie-d'Orezza|9.338150861836196|42.374292014354154|     13213|MARSEILLE 13| 5.430088281481468| 43.35279087275671|\n",
      "|       2B222|Pie-d'Orezza|9.338150861836196|42.374292014354154|     75101|    PARIS 01| 2.335944290300044| 48.86200489940309|\n",
      "+------------+------------+-----------------+------------------+----------+------------+------------------+------------------+\n",
      "only showing top 10 rows\n",
      "\n"
     ]
    }
   ],
   "execution_count": 65
  },
  {
   "metadata": {
    "ExecuteTime": {
     "end_time": "2025-07-22T12:21:41.772086Z",
     "start_time": "2025-07-22T12:21:41.736925Z"
    }
   },
   "cell_type": "code",
   "source": [
    "# step3: concat routes1 and routes2\n",
    "all_routes = routes1.union(routes2)"
   ],
   "id": "ae11d1143c43063a",
   "outputs": [],
   "execution_count": 66
  },
  {
   "metadata": {
    "ExecuteTime": {
     "end_time": "2025-07-22T12:21:43.751824Z",
     "start_time": "2025-07-22T12:21:42.471755Z"
    }
   },
   "cell_type": "code",
   "source": [
    "# now all routes contains all possible routes between special code commune and old commune\n",
    "all_routes.count()"
   ],
   "id": "92017bf72591bec9",
   "outputs": [
    {
     "data": {
      "text/plain": [
       "3145950"
      ]
     },
     "execution_count": 67,
     "metadata": {},
     "output_type": "execute_result"
    }
   ],
   "execution_count": 67
  },
  {
   "metadata": {
    "ExecuteTime": {
     "end_time": "2025-07-22T12:50:51.211314Z",
     "start_time": "2025-07-22T12:50:49.768753Z"
    }
   },
   "cell_type": "code",
   "source": "all_routes.rdd.getNumPartitions()",
   "id": "477517c94e96a45",
   "outputs": [
    {
     "data": {
      "text/plain": [
       "8"
      ]
     },
     "execution_count": 69,
     "metadata": {},
     "output_type": "execute_result"
    }
   ],
   "execution_count": 69
  },
  {
   "metadata": {
    "ExecuteTime": {
     "end_time": "2025-07-22T12:53:44.951154Z",
     "start_time": "2025-07-22T12:53:43.130726Z"
    }
   },
   "cell_type": "code",
   "source": [
    "output_path = data_dir / \"tmp\" / \"extra_routes_matrix\"\n",
    "all_routes.write.mode(\"overwrite\").parquet(output_path.as_posix())"
   ],
   "id": "e2fc644bf21c1960",
   "outputs": [],
   "execution_count": 71
  },
  {
   "metadata": {
    "ExecuteTime": {
     "end_time": "2025-07-22T12:55:25.431108Z",
     "start_time": "2025-07-22T12:55:25.198087Z"
    }
   },
   "cell_type": "code",
   "source": [
    "tmp_routes = spark.read.parquet(output_path.as_posix())\n",
    "\n",
    "tmp_routes.count()"
   ],
   "id": "8683815c5ec63a0a",
   "outputs": [
    {
     "data": {
      "text/plain": [
       "3145950"
      ]
     },
     "execution_count": 72,
     "metadata": {},
     "output_type": "execute_result"
    }
   ],
   "execution_count": 72
  },
  {
   "metadata": {
    "ExecuteTime": {
     "end_time": "2025-07-22T12:56:37.475455Z",
     "start_time": "2025-07-22T12:56:37.385864Z"
    }
   },
   "cell_type": "code",
   "source": "tmp_routes.show(5, truncate=False)",
   "id": "401a7eb1fca8c4a1",
   "outputs": [
    {
     "name": "stdout",
     "output_type": "stream",
     "text": [
      "+------------+------------+-----------------+------------------+----------+------------+------------------+------------------+\n",
      "|source_insee|source_nom  |source_long      |source_lat        |dest_insee|dest_nom    |dest_long         |dest_lat          |\n",
      "+------------+------------+-----------------+------------------+----------+------------+------------------+------------------+\n",
      "|2B222       |Pie-d'Orezza|9.338150861836196|42.374292014354154|75111     |PARIS 11    |2.3815596509625725|48.86007317753911 |\n",
      "|2B222       |Pie-d'Orezza|9.338150861836196|42.374292014354154|13204     |MARSEILLE 04|5.400172919457896 |43.306252388667076|\n",
      "|2B222       |Pie-d'Orezza|9.338150861836196|42.374292014354154|13215     |MARSEILLE 15|5.365308697775667 |43.35309076105492 |\n",
      "|2B222       |Pie-d'Orezza|9.338150861836196|42.374292014354154|13208     |MARSEILLE 08|5.325514248331542 |43.214958098052385|\n",
      "|2B222       |Pie-d'Orezza|9.338150861836196|42.374292014354154|75115     |PARIS 15    |2.2937166457955085|48.84165432062318 |\n",
      "+------------+------------+-----------------+------------------+----------+------------+------------------+------------------+\n",
      "only showing top 5 rows\n",
      "\n"
     ]
    }
   ],
   "execution_count": 73
  },
  {
   "metadata": {},
   "cell_type": "code",
   "outputs": [],
   "execution_count": null,
   "source": "",
   "id": "f6a3cd9b237a28a"
  }
 ],
 "metadata": {
  "kernelspec": {
   "display_name": "Python 3",
   "language": "python",
   "name": "python3"
  },
  "language_info": {
   "codemirror_mode": {
    "name": "ipython",
    "version": 2
   },
   "file_extension": ".py",
   "mimetype": "text/x-python",
   "name": "python",
   "nbconvert_exporter": "python",
   "pygments_lexer": "ipython2",
   "version": "2.7.6"
  }
 },
 "nbformat": 4,
 "nbformat_minor": 5
}
