{
 "cells": [
  {
   "metadata": {
    "collapsed": true
   },
   "cell_type": "markdown",
   "source": "# analyze french immo transactions",
   "id": "fd3aafe63d91b583"
  },
  {
   "metadata": {},
   "cell_type": "code",
   "outputs": [],
   "execution_count": null,
   "source": [
    "from sedona.spark import *\n",
    "from pyspark.sql import SparkSession, DataFrame\n",
    "from pathlib import Path\n",
    "from pyspark.sql.functions import trim, split, expr, col, lit"
   ],
   "id": "3e7d72d9b4b06abf"
  },
  {
   "metadata": {},
   "cell_type": "code",
   "outputs": [],
   "execution_count": null,
   "source": [
    "# build a sedona session offline\n",
    "project_root_dir = Path.cwd().parent\n",
    "print(project_root_dir.as_posix())"
   ],
   "id": "df02bfb11d486e0"
  },
  {
   "metadata": {},
   "cell_type": "code",
   "outputs": [],
   "execution_count": null,
   "source": [
    "# here we choose sedona 1.7.2 for spark 3.5.* build with scala 2.12\n",
    "jar_folder = Path(f\"{project_root_dir}/jars/sedona-35-212-172\")\n",
    "jar_list = [str(jar) for jar in jar_folder.iterdir() if jar.is_file()]\n",
    "jar_path = \",\".join(jar_list)\n",
    "\n",
    "# build a sedona session (sedona = 1.7.2) offline\n",
    "spark = SparkSession.builder \\\n",
    "    .appName(\"sedona_tutorial\") \\\n",
    "    .master(\"local[*]\") \\\n",
    "    .config(\"spark.jars\", jar_path) \\\n",
    "    .getOrCreate()"
   ],
   "id": "8bfd469b2b2f33a4"
  },
  {
   "metadata": {},
   "cell_type": "code",
   "outputs": [],
   "execution_count": null,
   "source": [
    "# create a sedona context\n",
    "sedona = SedonaContext.create(spark)"
   ],
   "id": "13c257cef43f7afb"
  },
  {
   "metadata": {},
   "cell_type": "code",
   "outputs": [],
   "execution_count": null,
   "source": [
    "sc = spark.sparkContext\n",
    "# use utf as default encoding\n",
    "sc.setSystemProperty(\"sedona.global.charset\", \"utf8\")"
   ],
   "id": "51fd2d16c67176db"
  },
  {
   "metadata": {},
   "cell_type": "code",
   "outputs": [],
   "execution_count": null,
   "source": [
    "data_dir = project_root_dir / \"data\"\n",
    "fr_immo_transaction_path = data_dir / \"large_ds/fr_immo_transaction.parquet\"\n",
    "fr_immo_transactions_df = spark.read.parquet(fr_immo_transaction_path.as_posix())"
   ],
   "id": "5e7944a9bc0aaa18"
  },
  {
   "metadata": {},
   "cell_type": "code",
   "outputs": [],
   "execution_count": null,
   "source": [
    "required_col = [\"id_transaction\", \"date_transaction\", \"prix\", \"departement\", \"ville\", \"code_postal\", \"adresse\",\n",
    "                \"type_batiment\", \"n_pieces\", \"surface_habitable\", \"latitude\", \"longitude\"]\n",
    "clean_fr_immo_df = fr_immo_transactions_df.select(required_col)"
   ],
   "id": "8ab718534e1d776c"
  },
  {
   "metadata": {},
   "cell_type": "code",
   "outputs": [],
   "execution_count": null,
   "source": "clean_fr_immo_df.show()",
   "id": "dc4218da4e0d1d18"
  },
  {
   "metadata": {},
   "cell_type": "code",
   "outputs": [],
   "execution_count": null,
   "source": "clean_fr_immo_df.printSchema()",
   "id": "775023d801d0d32b"
  },
  {
   "metadata": {},
   "cell_type": "code",
   "outputs": [],
   "execution_count": null,
   "source": [
    "fr_immo_geometry_df = clean_fr_immo_df.withColumn(\"geo_coord\", ST_Point(col(\"longitude\"), col(\"latitude\"))).drop(\n",
    "    \"longitude\", \"latitude\")"
   ],
   "id": "e1d828c8760a3eae"
  },
  {
   "metadata": {},
   "cell_type": "code",
   "outputs": [],
   "execution_count": null,
   "source": "fr_immo_geometry_df.show()",
   "id": "ec131d4b6b826186"
  },
  {
   "metadata": {},
   "cell_type": "code",
   "outputs": [],
   "execution_count": null,
   "source": [
    "from pyspark.sql.functions import asc\n",
    "\n",
    "\n",
    "def get_near_immo_transaction(geo_df: DataFrame, target_loc: str, distance: float) -> DataFrame:\n",
    "    \"\"\"\n",
    "    This function get the nearest hospital based on distance with a given patient location\n",
    "    :return:\n",
    "    \"\"\"\n",
    "    tmp_df = geo_df.withColumn(\"distance_meter\", ST_DistanceSphere(ST_GeomFromWKT(lit(target_loc)), col(\"geo_coord\"))) \\\n",
    "        .orderBy(asc(\"distance_meter\"))\n",
    "\n",
    "    return tmp_df.filter(tmp_df.distance_meter <= distance)"
   ],
   "id": "8b276269661900c1"
  },
  {
   "metadata": {},
   "cell_type": "code",
   "outputs": [],
   "execution_count": null,
   "source": [
    "# filter with column code_postal to find all immo transactions in montrouge\n",
    "\n",
    "montrouge_immo_df = fr_immo_geometry_df.filter(\n",
    "    (col(\"code_postal\") == 92120) & (col(\"date_transaction\") > lit(\"2021-12-31\"))).select(\"adresse\", \"type_batiment\",\n",
    "                                                                                          \"n_pieces\",\n",
    "                                                                                          \"surface_habitable\", \"prix\",\n",
    "                                                                                          \"geo_coord\")\n",
    "montrouge_immo_df.count()"
   ],
   "id": "1b98047524b739e9"
  },
  {
   "metadata": {},
   "cell_type": "code",
   "outputs": [],
   "execution_count": null,
   "source": [
    "map_config = {\n",
    "    \"visState\": {\n",
    "        \"layers\": [\n",
    "            {\n",
    "                \"type\": \"point\",\n",
    "                \"config\": {\n",
    "                    \"dataId\": \"Montrouge Transactions\",\n",
    "                    \"label\": \"Transactions\",\n",
    "                    \"color\": [255, 0, 0],\n",
    "                    \"isVisible\": True,\n",
    "                },\n",
    "                \"visualChannels\": {\n",
    "                    \"colorField\": {\"name\": \"prix\", \"type\": \"real\"},\n",
    "                    \"colorScale\": \"quantile\"\n",
    "                }\n",
    "            }\n",
    "        ]\n",
    "    },\n",
    "    \"mapState\": {\n",
    "        \"bearing\": 0,\n",
    "        \"latitude\": 48.816,  # Starting center latitude\n",
    "        \"longitude\": 2.313,  # Starting center longitude\n",
    "        \"pitch\": 0,\n",
    "        \"zoom\": 13  # Starting zoom level\n",
    "    }\n",
    "}"
   ],
   "id": "963b7d79f3c74d0"
  },
  {
   "metadata": {},
   "cell_type": "code",
   "outputs": [],
   "execution_count": null,
   "source": [
    "# to be able to use kepler map, you must install the kepler extension. pip install apache-sedona[kepler-map]\n",
    "kepler_map_path = project_root_dir / \"tmp/montrouge_immo_map.html\"\n",
    "montrouge_immo_map = SedonaKepler.create_map(df=montrouge_immo_df, name=\"montrouge_immo_transaction\", config=map_config)\n",
    "montrouge_immo_map.save_to_html(file_name=kepler_map_path.as_posix())"
   ],
   "id": "c2dc02fd3552ba8d"
  },
  {
   "metadata": {},
   "cell_type": "code",
   "outputs": [],
   "execution_count": null,
   "source": "",
   "id": "3da2e5498ef9beda"
  }
 ],
 "metadata": {
  "kernelspec": {
   "display_name": "Python 3",
   "language": "python",
   "name": "python3"
  },
  "language_info": {
   "codemirror_mode": {
    "name": "ipython",
    "version": 2
   },
   "file_extension": ".py",
   "mimetype": "text/x-python",
   "name": "python",
   "nbconvert_exporter": "python",
   "pygments_lexer": "ipython2",
   "version": "2.7.6"
  }
 },
 "nbformat": 4,
 "nbformat_minor": 5
}
