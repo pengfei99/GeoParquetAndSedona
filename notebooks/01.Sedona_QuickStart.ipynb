{
 "cells": [
  {
   "cell_type": "markdown",
   "source": [
    "# Sedona quick start\n",
    "\n",
    "In this tutorial, we will show how to use sedona to do some basic geometry analytics"
   ],
   "metadata": {
    "collapsed": false
   },
   "id": "2cd021f7f60e5b17"
  },
  {
   "cell_type": "code",
   "source": [
    "from sedona.spark import *\n",
    "from pathlib import Path\n",
    "\n",
    "# import sedona constructor function, often used to build geometry type column from native data type \n",
    "from sedona.sql import st_constructors as stc\n",
    "\n",
    "# import sedona simple function, often used to do geometry calculation such as ST_Distance, \n",
    "from sedona.sql import st_functions as stf\n",
    "\n",
    "# import sedona predicates function, often used to determine relation between two geometry column such as ST_Contains\n",
    "from sedona.sql import st_predicates as stp\n",
    "# import sedona aggregates function,\n",
    "from sedona.sql import st_aggregates"
   ],
   "metadata": {
    "collapsed": false,
    "ExecuteTime": {
     "end_time": "2024-11-25T09:36:58.885092Z",
     "start_time": "2024-11-25T09:36:58.876736Z"
    }
   },
   "id": "fb3df0bf3041970d",
   "outputs": [],
   "execution_count": 2
  },
  {
   "cell_type": "code",
   "execution_count": 3,
   "outputs": [
    {
     "name": "stdout",
     "output_type": "stream",
     "text": [
      "24/04/09 13:48:59 WARN Utils: Your hostname, pengfei-Virtual-Machine resolves to a loopback address: 127.0.1.1; using 10.50.2.80 instead (on interface eth0)\n",
      "24/04/09 13:48:59 WARN Utils: Set SPARK_LOCAL_IP if you need to bind to another address\n",
      "24/04/09 13:49:00 WARN NativeCodeLoader: Unable to load native-hadoop library for your platform... using builtin-java classes where applicable\n"
     ]
    },
    {
     "name": "stderr",
     "output_type": "stream",
     "text": [
      "Setting default log level to \"WARN\".\n",
      "To adjust logging level use sc.setLogLevel(newLevel). For SparkR, use setLogLevel(newLevel).\n",
      "                                                                                \r"
     ]
    }
   ],
   "source": [
    "# build a sedona session offline\n",
    "jar_folder = Path(r\"/home/pengfei/git/PySparkCommonFunc/jars\")\n",
    "jar_list = [str(jar) for jar in jar_folder.iterdir() if jar.is_file()]\n",
    "jar_path = \",\".join(jar_list)\n",
    "\n",
    "# build a sedona session (sedona = 1.5.1)\n",
    "config = SedonaContext.builder() \\\n",
    "    .master(\"local[*]\") \\\n",
    "    .config('spark.jars', jar_path). \\\n",
    "    getOrCreate()\n",
    "# config = SedonaContext.builder(). \\\n",
    "#     config('spark.jars.packages',\n",
    "#            'org.apache.sedona:sedona-spark-shaded-3.0_2.12:1.4.1,'\n",
    "#            'org.datasyslab:geotools-wrapper:1.4.0-28.2'). \\\n",
    "#     getOrCreate()\n",
    "\n"
   ],
   "metadata": {
    "collapsed": false,
    "ExecuteTime": {
     "end_time": "2024-04-09T11:49:15.827400176Z",
     "start_time": "2024-04-09T11:48:56.612502775Z"
    }
   },
   "id": "cf5b69d059641924"
  },
  {
   "metadata": {
    "ExecuteTime": {
     "end_time": "2024-11-25T09:37:47.297948Z",
     "start_time": "2024-11-25T09:37:06.959299Z"
    }
   },
   "cell_type": "code",
   "source": [
    "# build a sedona session online\n",
    "# build a sedona session with internet\n",
    "config = SedonaContext.builder(). \\\n",
    "    config('spark.jars.packages',\n",
    "           'org.apache.sedona:sedona-spark-3.5_2.13:1.6.1,'\n",
    "           'org.datasyslab:geotools-wrapper:1.6.1-28.2'). \\\n",
    "    config('spark.jars.repositories', 'https://artifacts.unidata.ucar.edu/repository/unidata-all'). \\\n",
    "getOrCreate()"
   ],
   "id": "2936453f10803184",
   "outputs": [],
   "execution_count": 3
  },
  {
   "metadata": {
    "ExecuteTime": {
     "end_time": "2024-11-25T09:39:43.365838Z",
     "start_time": "2024-11-25T09:39:33.058462Z"
    }
   },
   "cell_type": "code",
   "source": [
    "# create a sedona context\n",
    "sedona = SedonaContext.create(config)"
   ],
   "id": "bd28a56dfc5710ec",
   "outputs": [],
   "execution_count": 4
  },
  {
   "cell_type": "code",
   "source": [
    "# get the spark context\n",
    "sc = sedona.sparkContext"
   ],
   "metadata": {
    "collapsed": false,
    "ExecuteTime": {
     "end_time": "2024-11-25T09:39:46.666219Z",
     "start_time": "2024-11-25T09:39:46.659121Z"
    }
   },
   "id": "d5198037927a3c5e",
   "outputs": [],
   "execution_count": 5
  },
  {
   "cell_type": "code",
   "execution_count": null,
   "outputs": [],
   "source": [
    "# read shape file"
   ],
   "metadata": {
    "collapsed": false
   },
   "id": "85f253e9feb0efad"
  },
  {
   "cell_type": "code",
   "source": [
    "root_dir = \"../data\"\n",
    "airports_file_path = f\"{root_dir}/shapefile/airports_shape\"\n",
    "countries_file_path = f\"{root_dir}/shapefile/countries_shape\""
   ],
   "metadata": {
    "collapsed": false,
    "ExecuteTime": {
     "end_time": "2024-11-25T09:46:53.573710Z",
     "start_time": "2024-11-25T09:46:53.566193Z"
    }
   },
   "id": "dbb8c375d088a727",
   "outputs": [],
   "execution_count": 6
  },
  {
   "cell_type": "code",
   "source": [
    "# read countries shape file\n",
    "countries = ShapefileReader.readToGeometryRDD(sc, countries_file_path)\n",
    "countries_df = Adapter.toDf(countries, sedona)\n",
    "countries_df.createOrReplaceTempView(\"country\")\n",
    "countries_df.printSchema()"
   ],
   "metadata": {
    "collapsed": false,
    "ExecuteTime": {
     "end_time": "2024-11-25T09:46:57.789567Z",
     "start_time": "2024-11-25T09:46:57.063277Z"
    }
   },
   "id": "69665883402a17eb",
   "outputs": [
    {
     "name": "stdout",
     "output_type": "stream",
     "text": [
      "root\n",
      " |-- geometry: geometry (nullable = true)\n",
      " |-- featurecla: string (nullable = true)\n",
      " |-- scalerank: string (nullable = true)\n",
      " |-- LABELRANK: string (nullable = true)\n",
      " |-- SOVEREIGNT: string (nullable = true)\n",
      " |-- SOV_A3: string (nullable = true)\n",
      " |-- ADM0_DIF: string (nullable = true)\n",
      " |-- LEVEL: string (nullable = true)\n",
      " |-- TYPE: string (nullable = true)\n",
      " |-- ADMIN: string (nullable = true)\n",
      " |-- ADM0_A3: string (nullable = true)\n",
      " |-- GEOU_DIF: string (nullable = true)\n",
      " |-- GEOUNIT: string (nullable = true)\n",
      " |-- GU_A3: string (nullable = true)\n",
      " |-- SU_DIF: string (nullable = true)\n",
      " |-- SUBUNIT: string (nullable = true)\n",
      " |-- SU_A3: string (nullable = true)\n",
      " |-- BRK_DIFF: string (nullable = true)\n",
      " |-- NAME: string (nullable = true)\n",
      " |-- NAME_LONG: string (nullable = true)\n",
      " |-- BRK_A3: string (nullable = true)\n",
      " |-- BRK_NAME: string (nullable = true)\n",
      " |-- BRK_GROUP: string (nullable = true)\n",
      " |-- ABBREV: string (nullable = true)\n",
      " |-- POSTAL: string (nullable = true)\n",
      " |-- FORMAL_EN: string (nullable = true)\n",
      " |-- FORMAL_FR: string (nullable = true)\n",
      " |-- NAME_CIAWF: string (nullable = true)\n",
      " |-- NOTE_ADM0: string (nullable = true)\n",
      " |-- NOTE_BRK: string (nullable = true)\n",
      " |-- NAME_SORT: string (nullable = true)\n",
      " |-- NAME_ALT: string (nullable = true)\n",
      " |-- MAPCOLOR7: string (nullable = true)\n",
      " |-- MAPCOLOR8: string (nullable = true)\n",
      " |-- MAPCOLOR9: string (nullable = true)\n",
      " |-- MAPCOLOR13: string (nullable = true)\n",
      " |-- POP_EST: string (nullable = true)\n",
      " |-- POP_RANK: string (nullable = true)\n",
      " |-- GDP_MD_EST: string (nullable = true)\n",
      " |-- POP_YEAR: string (nullable = true)\n",
      " |-- LASTCENSUS: string (nullable = true)\n",
      " |-- GDP_YEAR: string (nullable = true)\n",
      " |-- ECONOMY: string (nullable = true)\n",
      " |-- INCOME_GRP: string (nullable = true)\n",
      " |-- WIKIPEDIA: string (nullable = true)\n",
      " |-- FIPS_10_: string (nullable = true)\n",
      " |-- ISO_A2: string (nullable = true)\n",
      " |-- ISO_A3: string (nullable = true)\n",
      " |-- ISO_A3_EH: string (nullable = true)\n",
      " |-- ISO_N3: string (nullable = true)\n",
      " |-- UN_A3: string (nullable = true)\n",
      " |-- WB_A2: string (nullable = true)\n",
      " |-- WB_A3: string (nullable = true)\n",
      " |-- WOE_ID: string (nullable = true)\n",
      " |-- WOE_ID_EH: string (nullable = true)\n",
      " |-- WOE_NOTE: string (nullable = true)\n",
      " |-- ADM0_A3_IS: string (nullable = true)\n",
      " |-- ADM0_A3_US: string (nullable = true)\n",
      " |-- ADM0_A3_UN: string (nullable = true)\n",
      " |-- ADM0_A3_WB: string (nullable = true)\n",
      " |-- CONTINENT: string (nullable = true)\n",
      " |-- REGION_UN: string (nullable = true)\n",
      " |-- SUBREGION: string (nullable = true)\n",
      " |-- REGION_WB: string (nullable = true)\n",
      " |-- NAME_LEN: string (nullable = true)\n",
      " |-- LONG_LEN: string (nullable = true)\n",
      " |-- ABBREV_LEN: string (nullable = true)\n",
      " |-- TINY: string (nullable = true)\n",
      " |-- HOMEPART: string (nullable = true)\n",
      " |-- MIN_ZOOM: string (nullable = true)\n",
      " |-- MIN_LABEL: string (nullable = true)\n",
      " |-- MAX_LABEL: string (nullable = true)\n",
      " |-- NE_ID: string (nullable = true)\n",
      " |-- WIKIDATAID: string (nullable = true)\n",
      " |-- NAME_AR: string (nullable = true)\n",
      " |-- NAME_BN: string (nullable = true)\n",
      " |-- NAME_DE: string (nullable = true)\n",
      " |-- NAME_EN: string (nullable = true)\n",
      " |-- NAME_ES: string (nullable = true)\n",
      " |-- NAME_FR: string (nullable = true)\n",
      " |-- NAME_EL: string (nullable = true)\n",
      " |-- NAME_HI: string (nullable = true)\n",
      " |-- NAME_HU: string (nullable = true)\n",
      " |-- NAME_ID: string (nullable = true)\n",
      " |-- NAME_IT: string (nullable = true)\n",
      " |-- NAME_JA: string (nullable = true)\n",
      " |-- NAME_KO: string (nullable = true)\n",
      " |-- NAME_NL: string (nullable = true)\n",
      " |-- NAME_PL: string (nullable = true)\n",
      " |-- NAME_PT: string (nullable = true)\n",
      " |-- NAME_RU: string (nullable = true)\n",
      " |-- NAME_SV: string (nullable = true)\n",
      " |-- NAME_TR: string (nullable = true)\n",
      " |-- NAME_VI: string (nullable = true)\n",
      " |-- NAME_ZH: string (nullable = true)\n",
      "\n"
     ]
    }
   ],
   "execution_count": 7
  },
  {
   "cell_type": "code",
   "source": [
    "# read airports shape file\n",
    "airports = ShapefileReader.readToGeometryRDD(sc, airports_file_path)\n",
    "airports_df = Adapter.toDf(airports, sedona)\n",
    "airports_df.createOrReplaceTempView(\"airport\")\n",
    "airports_df.printSchema()"
   ],
   "metadata": {
    "collapsed": false,
    "ExecuteTime": {
     "end_time": "2024-11-25T09:47:03.227775Z",
     "start_time": "2024-11-25T09:47:03.020282Z"
    }
   },
   "id": "75216c9ccf335d82",
   "outputs": [
    {
     "name": "stdout",
     "output_type": "stream",
     "text": [
      "root\n",
      " |-- geometry: geometry (nullable = true)\n",
      " |-- scalerank: string (nullable = true)\n",
      " |-- featurecla: string (nullable = true)\n",
      " |-- type: string (nullable = true)\n",
      " |-- name: string (nullable = true)\n",
      " |-- abbrev: string (nullable = true)\n",
      " |-- location: string (nullable = true)\n",
      " |-- gps_code: string (nullable = true)\n",
      " |-- iata_code: string (nullable = true)\n",
      " |-- wikipedia: string (nullable = true)\n",
      " |-- natlscale: string (nullable = true)\n",
      "\n"
     ]
    }
   ],
   "execution_count": 8
  },
  {
   "cell_type": "markdown",
   "source": [
    "# Join the data frame\n",
    "In this example, we join the country data frame and airport data frame by using the condition ST_Contains(c.geometry, a.geometry). It means if the airport (point) in the country (polygon), then we show the row."
   ],
   "metadata": {
    "collapsed": false
   },
   "id": "2a4b74c39229f64"
  },
  {
   "cell_type": "code",
   "source": [
    "# create a new dataframe to host the result of the join\n",
    "countries_airport_df = sedona.sql(\"SELECT c.geometry as country_location, c.NAME_EN as country_name, a.geometry as airport_location, a.name as airport_name FROM country c, airport a WHERE ST_Contains(c.geometry, a.geometry)\")\n",
    "countries_airport_df.show()"
   ],
   "metadata": {
    "collapsed": false,
    "ExecuteTime": {
     "end_time": "2024-11-25T09:47:10.299709Z",
     "start_time": "2024-11-25T09:47:07.179424Z"
    }
   },
   "id": "9ced4296fa57a45b",
   "outputs": [
    {
     "name": "stdout",
     "output_type": "stream",
     "text": [
      "+--------------------+--------------------+--------------------+--------------------+\n",
      "|    country_location|        country_name|    airport_location|        airport_name|\n",
      "+--------------------+--------------------+--------------------+--------------------+\n",
      "|MULTIPOLYGON (((1...|              Taiwan|POINT (121.231370...|             Taoyuan|\n",
      "|MULTIPOLYGON (((5...|         Netherlands|POINT (4.76437693...|            Schiphol|\n",
      "|POLYGON ((103.969...|           Singapore|POINT (103.986413...|    Singapore Changi|\n",
      "|MULTIPOLYGON (((-...|      United Kingdom|POINT (-0.4531566...|     London Heathrow|\n",
      "|MULTIPOLYGON (((-...|United States of ...|POINT (-149.98172...|     Anchorage Int'l|\n",
      "|MULTIPOLYGON (((-...|United States of ...|POINT (-84.425397...|Hartsfield-Jackso...|\n",
      "|MULTIPOLYGON (((1...|People's Republic...|POINT (116.588174...|     Beijing Capital|\n",
      "|MULTIPOLYGON (((-...|            Colombia|POINT (-74.143371...|      Eldorado Int'l|\n",
      "|MULTIPOLYGON (((6...|               India|POINT (72.8745639...|Chhatrapati Shiva...|\n",
      "|MULTIPOLYGON (((-...|United States of ...|POINT (-71.016406...| Gen E L Logan Int'l|\n",
      "|MULTIPOLYGON (((-...|United States of ...|POINT (-76.668642...|Baltimore-Washing...|\n",
      "|POLYGON ((36.8713...|               Egypt|POINT (31.3997430...|         Cairo Int'l|\n",
      "|POLYGON ((-2.2196...|             Morocco|POINT (-7.6632188...|     Casablanca-Anfa|\n",
      "|MULTIPOLYGON (((-...|           Venezuela|POINT (-67.005748...| Simon Bolivar Int'l|\n",
      "|MULTIPOLYGON (((2...|        South Africa|POINT (18.5976565...|     Cape Town Int'l|\n",
      "|MULTIPOLYGON (((1...|People's Republic...|POINT (103.956136...|   Chengdushuang Liu|\n",
      "|MULTIPOLYGON (((6...|               India|POINT (77.0878362...| Indira Gandhi Int'l|\n",
      "|MULTIPOLYGON (((-...|United States of ...|POINT (-104.67379...|        Denver Int'l|\n",
      "|MULTIPOLYGON (((-...|United States of ...|POINT (-97.040371...|Dallas-Ft. Worth ...|\n",
      "|MULTIPOLYGON (((1...|            Thailand|POINT (100.602578...|     Don Muang Int'l|\n",
      "+--------------------+--------------------+--------------------+--------------------+\n",
      "only showing top 20 rows\n",
      "\n"
     ]
    }
   ],
   "execution_count": 9
  },
  {
   "cell_type": "code",
   "source": [
    "countries_airport_df.printSchema()"
   ],
   "metadata": {
    "collapsed": false,
    "ExecuteTime": {
     "end_time": "2024-11-25T09:47:27.888864Z",
     "start_time": "2024-11-25T09:47:27.877400Z"
    }
   },
   "id": "f55e334903638de9",
   "outputs": [
    {
     "name": "stdout",
     "output_type": "stream",
     "text": [
      "root\n",
      " |-- country_location: geometry (nullable = true)\n",
      " |-- country_name: string (nullable = true)\n",
      " |-- airport_location: geometry (nullable = true)\n",
      " |-- airport_name: string (nullable = true)\n",
      "\n"
     ]
    }
   ],
   "execution_count": 10
  },
  {
   "cell_type": "code",
   "source": [
    "# create a table\n",
    "countries_airport_df.createOrReplaceTempView(\"country_airport\")"
   ],
   "metadata": {
    "collapsed": false,
    "ExecuteTime": {
     "end_time": "2024-11-25T09:47:32.835299Z",
     "start_time": "2024-11-25T09:47:32.812943Z"
    }
   },
   "id": "e8ff03345982c4e",
   "outputs": [],
   "execution_count": 11
  },
  {
   "cell_type": "code",
   "source": [
    "airports_count=sedona.sql(\"SELECT c.country_name, c.country_location, count(*) as airport_count FROM country_airport c GROUP BY c.country_name, c.country_location sort by airport_count desc\")\n",
    "airports_count.show(5)"
   ],
   "metadata": {
    "collapsed": false,
    "ExecuteTime": {
     "end_time": "2024-11-25T09:47:40.481696Z",
     "start_time": "2024-11-25T09:47:35.690665Z"
    }
   },
   "id": "717726600a3a81fb",
   "outputs": [
    {
     "name": "stdout",
     "output_type": "stream",
     "text": [
      "+--------------------+--------------------+-------------+\n",
      "|        country_name|    country_location|airport_count|\n",
      "+--------------------+--------------------+-------------+\n",
      "|United States of ...|MULTIPOLYGON (((-...|           35|\n",
      "|              Canada|MULTIPOLYGON (((-...|           15|\n",
      "|              Mexico|MULTIPOLYGON (((-...|           12|\n",
      "|              Brazil|MULTIPOLYGON (((-...|           12|\n",
      "|People's Republic...|MULTIPOLYGON (((1...|            7|\n",
      "+--------------------+--------------------+-------------+\n",
      "only showing top 5 rows\n",
      "\n"
     ]
    }
   ],
   "execution_count": 12
  },
  {
   "cell_type": "code",
   "execution_count": null,
   "outputs": [],
   "source": [],
   "metadata": {
    "collapsed": false
   },
   "id": "10d5472c5591cc06"
  }
 ],
 "metadata": {
  "kernelspec": {
   "display_name": "Python 3",
   "language": "python",
   "name": "python3"
  },
  "language_info": {
   "codemirror_mode": {
    "name": "ipython",
    "version": 2
   },
   "file_extension": ".py",
   "mimetype": "text/x-python",
   "name": "python",
   "nbconvert_exporter": "python",
   "pygments_lexer": "ipython2",
   "version": "2.7.6"
  }
 },
 "nbformat": 4,
 "nbformat_minor": 5
}
