{
 "cells": [
  {
   "cell_type": "markdown",
   "id": "66d894eda3afb241",
   "metadata": {
    "collapsed": false
   },
   "source": [
    "# Apache Sedona and OSM\n",
    "\n",
    "In this tutorial, we will use apache sedona to read geospatial data which are provided by OSM(Open Street Map).\n",
    "OSM provides data with various format (e.g. PBF, shapefile, etc.). In this tutorial, we will use `PBF format` ([Protocolbuffer Binary Format](https://wiki.openstreetmap.org/wiki/PBF_Format)).\n",
    "\n",
    "## 1. Get the sample data\n",
    "\n",
    "The sample data which I will use in this tutorial is the download from this page \n",
    "https://download.geofabrik.de/europe/france.html . I use the `Ile-de-France` map (`ile-de-france-latest.osm.pbf`)\n"
   ]
  },
  {
   "cell_type": "code",
   "execution_count": 1,
   "id": "9944ab92f653ea31",
   "metadata": {
    "collapsed": false,
    "ExecuteTime": {
     "end_time": "2024-04-17T11:42:24.337466068Z",
     "start_time": "2024-04-17T11:42:23.369836886Z"
    }
   },
   "outputs": [
    {
     "name": "stdout",
     "output_type": "stream",
     "text": [
      "Skipping SedonaKepler import, verify if keplergl is installed\n",
      "Skipping SedonaPyDeck import, verify if pydeck is installed\n"
     ]
    }
   ],
   "source": [
    "from sedona.spark import *\n",
    "from pathlib import Path\n",
    "import json\n",
    "\n",
    "from ipyleaflet import Map, basemaps, basemap_to_tiles, MarkerCluster, Marker, AwesomeIcon\n",
    "from ipywidgets import Layout\n",
    "import numpy as np"
   ]
  },
  {
   "cell_type": "code",
   "execution_count": 2,
   "id": "6c5eb7ef630603c6",
   "metadata": {
    "collapsed": false,
    "ExecuteTime": {
     "end_time": "2024-04-17T11:42:46.659908407Z",
     "start_time": "2024-04-17T11:42:24.327356419Z"
    }
   },
   "outputs": [
    {
     "name": "stdout",
     "output_type": "stream",
     "text": [
      "24/04/17 13:42:27 WARN Utils: Your hostname, pengfei-Virtual-Machine resolves to a loopback address: 127.0.1.1; using 10.50.2.80 instead (on interface eth0)\n",
      "24/04/17 13:42:27 WARN Utils: Set SPARK_LOCAL_IP if you need to bind to another address\n",
      ":: loading settings :: url = jar:file:/home/pengfei/opt/spark/spark-3.3.0/jars/ivy-2.5.0.jar!/org/apache/ivy/core/settings/ivysettings.xml\n"
     ]
    },
    {
     "name": "stderr",
     "output_type": "stream",
     "text": [
      "Ivy Default Cache set to: /home/pengfei/.ivy2/cache\n",
      "The jars for the packages stored in: /home/pengfei/.ivy2/jars\n",
      "com.acervera.osm4scala#osm4scala-spark3-shaded_2.12 added as a dependency\n",
      "org.apache.sedona#sedona-spark-shaded-3.0_2.12 added as a dependency\n",
      "org.datasyslab#geotools-wrapper added as a dependency\n",
      ":: resolving dependencies :: org.apache.spark#spark-submit-parent-06192f74-e84f-4ac2-b30e-924c47672d80;1.0\n",
      "\tconfs: [default]\n",
      "\tfound com.acervera.osm4scala#osm4scala-spark3-shaded_2.12;1.0.11 in central\n",
      "\tfound org.apache.sedona#sedona-spark-shaded-3.0_2.12;1.4.1 in central\n",
      "\tfound org.datasyslab#geotools-wrapper;1.4.0-28.2 in central\n",
      ":: resolution report :: resolve 287ms :: artifacts dl 17ms\n",
      "\t:: modules in use:\n",
      "\tcom.acervera.osm4scala#osm4scala-spark3-shaded_2.12;1.0.11 from central in [default]\n",
      "\torg.apache.sedona#sedona-spark-shaded-3.0_2.12;1.4.1 from central in [default]\n",
      "\torg.datasyslab#geotools-wrapper;1.4.0-28.2 from central in [default]\n",
      "\t---------------------------------------------------------------------\n",
      "\t|                  |            modules            ||   artifacts   |\n",
      "\t|       conf       | number| search|dwnlded|evicted|| number|dwnlded|\n",
      "\t---------------------------------------------------------------------\n",
      "\t|      default     |   3   |   0   |   0   |   0   ||   3   |   0   |\n",
      "\t---------------------------------------------------------------------\n",
      ":: retrieving :: org.apache.spark#spark-submit-parent-06192f74-e84f-4ac2-b30e-924c47672d80\n",
      "\tconfs: [default]\n",
      "\t0 artifacts copied, 3 already retrieved (0kB/6ms)\n"
     ]
    },
    {
     "name": "stdout",
     "output_type": "stream",
     "text": [
      "24/04/17 13:42:28 WARN NativeCodeLoader: Unable to load native-hadoop library for your platform... using builtin-java classes where applicable\n"
     ]
    },
    {
     "name": "stderr",
     "output_type": "stream",
     "text": [
      "Setting default log level to \"WARN\".\n",
      "To adjust logging level use sc.setLogLevel(newLevel). For SparkR, use setLogLevel(newLevel).\n"
     ]
    },
    {
     "name": "stdout",
     "output_type": "stream",
     "text": [
      "24/04/17 13:42:30 WARN Utils: Service 'SparkUI' could not bind on port 4040. Attempting port 4041.\n"
     ]
    },
    {
     "name": "stderr",
     "output_type": "stream",
     "text": [
      "                                                                                \r"
     ]
    }
   ],
   "source": [
    "# build a sedona session (sedona = 1.5.1)\n",
    "config = SedonaContext.builder() \\\n",
    "    .appName(\"Sedona with pyspark\") \\\n",
    "    .master(\"local[*]\") \\\n",
    "    .config(\"spark.driver.memory\", \"6g\") \\\n",
    "    .config('spark.jars.packages',\n",
    "            'com.acervera.osm4scala:osm4scala-spark3-shaded_2.12:1.0.11,' \n",
    "            'org.apache.sedona:sedona-spark-shaded-3.0_2.12:1.4.1,' \n",
    "            'org.datasyslab:geotools-wrapper:1.4.0-28.2'). \\\n",
    "     getOrCreate()\n",
    "\n",
    "# create a sedona context\n",
    "sedona = SedonaContext.create(config)"
   ]
  },
  {
   "cell_type": "markdown",
   "id": "bef84e49d8e1bd71",
   "metadata": {
    "collapsed": false
   },
   "source": [
    "## 2. Read the PBF format with Sedona(Spark)\n",
    "\n",
    "By default, sedona can not read PBF file directly. But there is a `spark polyglot connector` called [osm4scala](https://simplexspatial.github.io/osm4scala/). You can also visit their github page [here](https://github.com/simplexspatial/osm4scala) \n",
    "\n",
    "To make it work, it's quite simple:\n",
    "- online mode: In the sparkSession creation clause add the **.config('spark.jars.packages','com.acervera.osm4scala:osm4scala-spark3-shaded_2.12:1.0.11')**\n",
    "- offline mode: You need to download the jar file first, then in the sparkSession creation clause add the **.config(''spark.jars', jar_path')**\n",
    "\n",
    "> You can find more information about the jar file [here](https://simplexspatial.github.io/osm4scala/docs/spark-connector)\n",
    "\n"
   ]
  },
  {
   "cell_type": "code",
   "execution_count": 3,
   "id": "8079ba9c1f1c1f4b",
   "metadata": {
    "collapsed": false,
    "ExecuteTime": {
     "end_time": "2024-04-17T11:42:46.716010579Z",
     "start_time": "2024-04-17T11:42:46.664185928Z"
    }
   },
   "outputs": [],
   "source": [
    "homePath = \"/home/pengfei/data_set/geo_spatial\"\n",
    "pbfFilePath= f\"{homePath}/ile-de-france-latest.osm.pbf\"\n",
    "parquetFilePath=f\"{homePath}/ile-de-france-geo-parquet\"\n"
   ]
  },
  {
   "cell_type": "code",
   "execution_count": 4,
   "id": "cb7472c6bf640a6e",
   "metadata": {
    "collapsed": false,
    "ExecuteTime": {
     "end_time": "2024-04-17T11:42:46.747947333Z",
     "start_time": "2024-04-17T11:42:46.679500602Z"
    }
   },
   "outputs": [],
   "source": [
    "def read_osm_data(usePbf:bool):\n",
    "    if usePbf:\n",
    "        df = sedona.read.format(\"osm.pbf\").load(pbfFilePath)\n",
    "    else:\n",
    "        # read raw_df from the parquet file\n",
    "        df=sedona.read.parquet(parquetFilePath)\n",
    "    return df\n",
    "        "
   ]
  },
  {
   "cell_type": "markdown",
   "id": "7d25fed3fed14152",
   "metadata": {
    "collapsed": false
   },
   "source": [
    "## 3. Explore the OSM dataset\n",
    "\n",
    "### 3.1 Understand the basic OSM data structure\n",
    "\n",
    "OpenStreetMap uses a `topological data structure`, with `four core elements` (aka data primitives):\n",
    "\n",
    "- **Nodes**: are points with a geographic position, stored as coordinates (pairs of a latitude and a longitude) according to `WGS 84`. Outside their usage in ways, they are used to represent map features without a size, such as `points of interest` or mountain peaks.\n",
    "- **Ways**: are ordered lists of `nodes`, representing a `polyline, or possibly a polygon` if they form a closed loop. They are used both for representing linear features such as streets and rivers, and areas, like forests, parks, parking areas and lakes.\n",
    "- **Relations**: are `ordered lists of nodes, ways and relations` (together called \"members\"), where each member can optionally have a \"role\" (a string). Relations are used for representing the relationship of existing nodes and ways. Examples include turn restrictions on roads, routes that span several existing ways (for instance, a long-distance motorway), and areas with holes.\n",
    "- **Tags**: are `key-value pairs (both arbitrary strings)`. They are used to store metadata about the map objects (such as their type, their name and their physical properties). `Tags are not freestanding, but are always attached to an object: to a node, a way or a relation`. A recommended ontology of map features (the meaning of tags) is maintained on a wiki. New tagging schemes can always be proposed by a popular vote of a written proposal in OpenStreetMap wiki, however, there is no requirement to follow this process. There are over 89 million different kinds of tags in use as of June 2017.\n",
    "\n",
    "![OpenStreetMap_data_primitives_in_iD.png](../images/OpenStreetMap_data_primitives_in_iD.png)"
   ]
  },
  {
   "cell_type": "code",
   "execution_count": 5,
   "id": "67a65425aec1d1b8",
   "metadata": {
    "collapsed": false,
    "ExecuteTime": {
     "end_time": "2024-04-17T11:43:04.307809453Z",
     "start_time": "2024-04-17T11:42:59.369797042Z"
    }
   },
   "outputs": [
    {
     "name": "stderr",
     "output_type": "stream",
     "text": [
      "[Stage 4:>                                                          (0 + 1) / 1]\r"
     ]
    },
    {
     "name": "stdout",
     "output_type": "stream",
     "text": [
      "+------+----+------------------+------------------+-----+---------+--------------------+--------------------+\n",
      "|    id|type|          latitude|         longitude|nodes|relations|                tags|                info|\n",
      "+------+----+------------------+------------------+-----+---------+--------------------+--------------------+\n",
      "|122626|   0|49.115966300000004|         2.5549119|   []|       []|                  {}|{3, 2020-05-10 11...|\n",
      "|122627|   0|49.110294100000004|         2.5521725|   []|       []|                  {}|{4, 2009-02-13 19...|\n",
      "|122631|   0|        49.0834393|2.5511375000000003|   []|       []|                  {}|{15, 2021-06-30 1...|\n",
      "|122632|   0|        49.0675225|2.5524679000000003|   []|       []|                  {}|{17, 2019-04-10 1...|\n",
      "|122633|   0|         49.063616|2.5522412000000005|   []|       []|                  {}|{17, 2009-02-13 1...|\n",
      "|122634|   0|        49.0597465|2.5509097000000005|   []|       []|                  {}|{2, 2009-02-13 19...|\n",
      "|122635|   0|        49.0551989|2.5486690000000003|   []|       []|{highway -> emerg...|{20, 2023-03-05 1...|\n",
      "|122637|   0|         49.046553|2.5460228000000003|   []|       []|                  {}|{3, 2012-03-21 19...|\n",
      "|122638|   0|49.042466000000005|2.5435980000000002|   []|       []|                  {}|{24, 2009-02-13 1...|\n",
      "|122639|   0|49.039122400000004|2.5421644000000003|   []|       []|                  {}|{6, 2014-05-31 18...|\n",
      "|122640|   0|49.033757900000005|2.5402285000000004|   []|       []|                  {}|{4, 2019-04-10 11...|\n",
      "|122642|   0|49.006576100000004|2.5269186000000006|   []|       []|                  {}|{8, 2012-09-01 00...|\n",
      "|122922|   0|48.875346400000005|2.4402228000000004|   []|       []|                  {}|{3, 2014-05-07 10...|\n",
      "|122923|   0| 48.87823900000001|2.4462307000000005|   []|       []|                  {}|{3, 2010-10-18 22...|\n",
      "|122924|   0| 48.88325530000001|2.4577488000000005|   []|       []|{source -> data.g...|{4, 2020-06-08 13...|\n",
      "|122925|   0| 48.88400510000001|2.4598863000000004|   []|       []|                  {}|{4, 2012-09-12 12...|\n",
      "|122926|   0| 48.88408150000001|2.4635493000000004|   []|       []|                  {}|{4, 2018-08-01 00...|\n",
      "|122927|   0|48.883974300000006|2.4654187000000003|   []|       []|                  {}|{6, 2010-09-17 00...|\n",
      "|122928|   0|48.884235200000006|2.4697861000000003|   []|       []|                  {}|{5, 2011-04-18 11...|\n",
      "|122929|   0|        48.8847548|2.4710061000000003|   []|       []|                  {}|{5, 2011-04-18 11...|\n",
      "+------+----+------------------+------------------+-----+---------+--------------------+--------------------+\n"
     ]
    },
    {
     "name": "stderr",
     "output_type": "stream",
     "text": [
      "                                                                                \r"
     ]
    }
   ],
   "source": [
    "raw_df = read_osm_data(usePbf=False)\n",
    "raw_df.show()"
   ]
  },
  {
   "cell_type": "code",
   "execution_count": 6,
   "id": "42f60fda344f14db",
   "metadata": {
    "collapsed": false,
    "ExecuteTime": {
     "end_time": "2024-04-17T11:43:09.095877940Z",
     "start_time": "2024-04-17T11:43:09.030199522Z"
    }
   },
   "outputs": [
    {
     "name": "stdout",
     "output_type": "stream",
     "text": [
      "root\n",
      " |-- id: long (nullable = true)\n",
      " |-- type: byte (nullable = true)\n",
      " |-- latitude: double (nullable = true)\n",
      " |-- longitude: double (nullable = true)\n",
      " |-- nodes: array (nullable = true)\n",
      " |    |-- element: long (containsNull = true)\n",
      " |-- relations: array (nullable = true)\n",
      " |    |-- element: struct (containsNull = true)\n",
      " |    |    |-- id: long (nullable = true)\n",
      " |    |    |-- relationType: byte (nullable = true)\n",
      " |    |    |-- role: string (nullable = true)\n",
      " |-- tags: map (nullable = true)\n",
      " |    |-- key: string\n",
      " |    |-- value: string (valueContainsNull = true)\n",
      " |-- info: struct (nullable = true)\n",
      " |    |-- version: integer (nullable = true)\n",
      " |    |-- timestamp: timestamp (nullable = true)\n",
      " |    |-- changeset: long (nullable = true)\n",
      " |    |-- userId: integer (nullable = true)\n",
      " |    |-- userName: string (nullable = true)\n",
      " |    |-- visible: boolean (nullable = true)\n"
     ]
    }
   ],
   "source": [
    "raw_df.printSchema()"
   ]
  },
  {
   "cell_type": "markdown",
   "id": "b2fd7b1cebe0c14a",
   "metadata": {
    "collapsed": false
   },
   "source": [
    "Here we test the geoparquet and parquet format. The .pbf format is smaller than parquet file (293Mo vs 856 Mo), which surprised me a little.\n",
    "\n",
    "> We can't write geoparquet, because there is no geometry column"
   ]
  },
  {
   "cell_type": "markdown",
   "id": "a3d5d9d431f011b2",
   "metadata": {
    "collapsed": false
   },
   "source": [
    "### 3.2 Filter the node and ways\n",
    "\n",
    "As we explained before, there are four different entities(`four core elements`). In our dataset, each row has a type.\n",
    "- Type 0: Node\n",
    "- Type 1: Ways\n",
    "- Type 2: Relations\n",
    "\n",
    "In this tutorial, we only keep nodes and ways."
   ]
  },
  {
   "cell_type": "code",
   "execution_count": 6,
   "id": "f0dc24020389e8f0",
   "metadata": {
    "ExecuteTime": {
     "end_time": "2024-04-15T07:19:49.133811891Z",
     "start_time": "2024-04-15T07:19:44.030535699Z"
    },
    "collapsed": false
   },
   "outputs": [
    {
     "name": "stderr",
     "output_type": "stream",
     "text": [
      "[Stage 4:============================================>              (3 + 1) / 4]\r"
     ]
    },
    {
     "name": "stdout",
     "output_type": "stream",
     "text": [
      "+----+\n",
      "|type|\n",
      "+----+\n",
      "|   0|\n",
      "|   1|\n",
      "|   2|\n",
      "+----+\n"
     ]
    },
    {
     "name": "stderr",
     "output_type": "stream",
     "text": [
      "                                                                                \r"
     ]
    }
   ],
   "source": [
    "raw_df.select(\"type\").distinct().show()"
   ]
  },
  {
   "cell_type": "code",
   "execution_count": 7,
   "id": "7314050b06f5ef8b",
   "metadata": {
    "ExecuteTime": {
     "end_time": "2024-04-15T07:19:56.659527600Z",
     "start_time": "2024-04-15T07:19:54.542426323Z"
    },
    "collapsed": false
   },
   "outputs": [
    {
     "name": "stdout",
     "output_type": "stream",
     "text": [
      "+------+----+------------------+------------------+-----+---------+----+--------------------+\n",
      "|    id|type|          latitude|         longitude|nodes|relations|tags|                info|\n",
      "+------+----+------------------+------------------+-----+---------+----+--------------------+\n",
      "|122626|   0|49.115966300000004|         2.5549119|   []|       []|  {}|{3, 2020-05-10 11...|\n",
      "|122627|   0|49.110294100000004|         2.5521725|   []|       []|  {}|{4, 2009-02-13 19...|\n",
      "|122631|   0|        49.0834393|2.5511375000000003|   []|       []|  {}|{15, 2021-06-30 1...|\n",
      "|122632|   0|        49.0675225|2.5524679000000003|   []|       []|  {}|{17, 2019-04-10 1...|\n",
      "|122633|   0|         49.063616|2.5522412000000005|   []|       []|  {}|{17, 2009-02-13 1...|\n",
      "+------+----+------------------+------------------+-----+---------+----+--------------------+\n"
     ]
    }
   ],
   "source": [
    "# get all nodes \n",
    "node_df = raw_df.where(\"type = 0\")\n",
    "\n",
    "node_df.show(5)\n"
   ]
  },
  {
   "cell_type": "code",
   "execution_count": 8,
   "id": "cf48d84d428e419c",
   "metadata": {
    "ExecuteTime": {
     "end_time": "2024-04-15T07:20:01.990064130Z",
     "start_time": "2024-04-15T07:20:01.300781643Z"
    },
    "collapsed": false
   },
   "outputs": [
    {
     "name": "stdout",
     "output_type": "stream",
     "text": [
      "+------+------------------+------------------+\n",
      "|    id|          latitude|         longitude|\n",
      "+------+------------------+------------------+\n",
      "|122626|49.115966300000004|         2.5549119|\n",
      "|122627|49.110294100000004|         2.5521725|\n",
      "|122631|        49.0834393|2.5511375000000003|\n",
      "|122632|        49.0675225|2.5524679000000003|\n",
      "|122633|         49.063616|2.5522412000000005|\n",
      "+------+------------------+------------------+\n"
     ]
    }
   ],
   "source": [
    "# We need to remove useless column\n",
    "node_simple_df = node_df.select(\"id\",\"latitude\", \"longitude\")\n",
    "node_simple_df.show(5)"
   ]
  },
  {
   "cell_type": "code",
   "execution_count": 9,
   "id": "9438030baf8e91bb",
   "metadata": {
    "ExecuteTime": {
     "end_time": "2024-04-15T07:20:21.434729066Z",
     "start_time": "2024-04-15T07:20:18.535047917Z"
    },
    "collapsed": false
   },
   "outputs": [
    {
     "name": "stderr",
     "output_type": "stream",
     "text": [
      "[Stage 10:======================================>                   (2 + 1) / 3]\r"
     ]
    },
    {
     "name": "stdout",
     "output_type": "stream",
     "text": [
      "+------+----+--------+---------+-------------------------------------------------------------------------------------------------------------------------------------------------------------------------------------------------------------------------------------------------------------------------------------+---------+-------------------------------------------------------------------------------------------------------------------------------------------------------------------------------------------------------------------------------------------------------------------------------------------------------------------------------------+---------------------------------------+\n",
      "|id    |type|latitude|longitude|nodes                                                                                                                                                                                                                                                                                |relations|tags                                                                                                                                                                                                                                                                                                                                 |info                                   |\n",
      "+------+----+--------+---------+-------------------------------------------------------------------------------------------------------------------------------------------------------------------------------------------------------------------------------------------------------------------------------------+---------+-------------------------------------------------------------------------------------------------------------------------------------------------------------------------------------------------------------------------------------------------------------------------------------------------------------------------------------+---------------------------------------+\n",
      "|2569  |1   |null    |null     |[382017, 3745434701, 1836953770, 3745434708, 505820718]                                                                                                                                                                                                                              |[]       |{lane_markings -> no, name -> Rue Nationale, surface -> asphalt, maxspeed -> 30, highway -> tertiary, lit -> yes, foot -> no, cycleway:right -> no, sidewalk -> no, oneway -> yes}                                                                                                                                                   |{20, 2023-03-29 01:43:32, 0, 0, , null}|\n",
      "|2570  |1   |null    |null     |[7223004840, 361709]                                                                                                                                                                                                                                                                 |[]       |{name -> Avenue des Gobelins, surface -> paving_stones, maxspeed -> 30, highway -> secondary, lit -> yes, lanes -> 2, cycleway -> no, source:maxspeed -> FR:urban, sidewalk -> separate, oneway -> yes}                                                                                                                              |{24, 2023-06-29 09:01:35, 0, 0, , null}|\n",
      "|2573  |1   |null    |null     |[6865885341, 361795, 1928023436, 506391462, 1928023437, 361744, 6865885342, 1928023435, 506391463, 1928023433, 15859522, 1928023431, 506391464, 5636775298, 1928023429, 361745, 1928023421, 426157576, 1928023430, 506391461, 1928023432, 361746, 6865885340, 1928023434, 6865885341]|[]       |{name -> Place des Alpes, surface -> asphalt, maxspeed -> 30, highway -> residential, lit -> yes, note -> ceci n'est pas un carrefour giratoire; not a roundabout, name:etymology:wikidata -> Q1286, sidewalk:right -> separate, junction -> circular, oneway -> yes}                                                                |{20, 2024-03-23 21:15:23, 0, 0, , null}|\n",
      "|2574  |1   |null    |null     |[5467645835, 5185380725, 5178718999, 15378840, 1252383318, 10989160472]                                                                                                                                                                                                              |[]       |{name -> Rue Taine, lanes:forward -> 1, surface -> asphalt, maxspeed -> 30, cycleway:left:oneway -> -1, highway -> tertiary, oneway:bus -> no, lit -> yes, lanes -> 2, busway:left:oneway -> -1, cycleway:right -> no, lanes:backward -> 1, busway:left -> track, oneway -> yes, cycleway:left -> share_busway, oneway:bicycle -> no}|{27, 2023-10-20 11:05:36, 0, 0, , null}|\n",
      "|286314|1   |null    |null     |[218267571, 4958110958]                                                                                                                                                                                                                                                              |[]       |{cycleway:both -> no, name -> Rue Saint-Louis en l'Île, surface -> asphalt, maxspeed -> 30, highway -> residential, lit -> yes, lanes -> 2, source:maxspeed -> sign, sidewalk -> both, name:etymology:wikidata -> Q1709616}                                                                                                          |{18, 2024-02-17 18:28:44, 0, 0, , null}|\n",
      "+------+----+--------+---------+-------------------------------------------------------------------------------------------------------------------------------------------------------------------------------------------------------------------------------------------------------------------------------------+---------+-------------------------------------------------------------------------------------------------------------------------------------------------------------------------------------------------------------------------------------------------------------------------------------------------------------------------------------+---------------------------------------+\n"
     ]
    },
    {
     "name": "stderr",
     "output_type": "stream",
     "text": [
      "                                                                                \r"
     ]
    }
   ],
   "source": [
    "# get all ways row\n",
    "way_df = raw_df.where(\"type = 1\")\n",
    "\n",
    "way_df.show(5,truncate=False)"
   ]
  },
  {
   "cell_type": "code",
   "execution_count": 14,
   "id": "2c1b67b0a9ad7f4f",
   "metadata": {
    "ExecuteTime": {
     "end_time": "2024-04-15T07:21:11.864635054Z",
     "start_time": "2024-04-15T07:21:10.446882442Z"
    },
    "collapsed": false
   },
   "outputs": [
    {
     "name": "stdout",
     "output_type": "stream",
     "text": [
      "+----+----+--------+---------+-----+------------------------------------------------------------------------------------------------------------------------------------------------------------------------------------------------------------------------------------------------------------------------------------------------------------------------------------------------------------------------------------------------------------------------------------------------------------------------------------------------------------------------------------------------------------------------------------------------------------------------------------------------------------------------------------------------------------------------------------------------------------------------------------------------------------------------------------------------------------------------------------------------------------------------------------------------------------------------------------------------------------------------------------------------------------------------------------------------------------------------------------------------------------------------------------------------------------------------------------------------------------------------------------------------------------------------------------------------------------------------------------------------------------------------------------------------------------------------------------------------------------------------------------------------------------------------------------------------------------------------------------------------------------------------------------------------------------------------------------------------------------------------------------------------------------------------------------------------------------------------------------------------------------------------------------------------------------------------------------------------------------------------------------------------------------------------------------------------------------------------------------------------------------------------------------------------------------------------------------------------------------------------------------------------------------------------------------------------------------------------------------------------------------------------------------------------------------------------------------------------------------------------------------------------------------------------------------------------------------------------------------------------------------------------------------------------------------------------------------------------------------------------------------------------------------------------------------------------------------------------------------------------------------------------------------------------------------------------------------------------------------------------------------------------------------------------------------------------------------------------------------------------------------------------------------------------------------------------------------------------------------------------------------------------------------------------------------------------------------------------------------------------------------------------------------------------------------------------------------------------------------------------------------------------------------------------------------------------------------------------------------------------------------------------------------------------------------------------------------------------------------------------------------------------------------------------------------------------------------------------------------------------------------------------------------------------------------------------------------------------------------------------------------------------------------------------------------------------------------------------------------------------------------------------------------------------------------------------------------------------------------------------------------------------------------------------------------------------------------------------------------------------------------------------------------------------------------------------------------------------------------------------------------------------------------------------------------------------------------------------------------------------------------------------------------------------------------------------------------------------------------------------------------------------------------------------------------------------------------------------------------------------------------------------------------------------------------------------------------------------------------------------------------------------------------------------------------------------------------------------------------------------------------------------------------------------------------------------------------------------------------------------------------------------------------------------------------------------------------------------------------------------------------------------------------------------------------------------------------------------------------------------------------------------------------------------------------------------------------------------------------------------------------------------------------------------------------------------------------------------------------------------------------------------------------------------------------------------------------------------------------------------------------------------------------------------------------------------------------------------------------------------------------------------------------------------------------------------------------------------------------------------------------------------------------------------------------------------------------------------------------------------------------------------------------------------------------------------------------------------------------------------------------------------------------------------------------------------------------------------------------------------------------------------------------------------------------------------------------------------------------------------------------------------------------------------------------------------------------------------------------------------------------------------------------------------------------------------------------------------------------------------------------------------------------+-----------------------------------------------------------------------------------------------------------------------------------------------------------------------------------------------------------------------------------------------------------------------------------------------------------------------------------------------------------------------------------------------------------------------------------------------------------------------------------------------------------------------------------------------------------------------------------------------------------------------------------------------------------------------------------------------------------------------------------------------------------------------------------------------------------------------------------------------------------------------------------------------------------------------------------------------------------------------------------------------------------------------------------------------------------------------------------------------------------------+----------------------------------------+\n",
      "|id  |type|latitude|longitude|nodes|relations                                                                                                                                                                                                                                                                                                                                                                                                                                                                                                                                                                                                                                                                                                                                                                                                                                                                                                                                                                                                                                                                                                                                                                                                                                                                                                                                                                                                                                                                                                                                                                                                                                                                                                                                                                                                                                                                                                                                                                                                                                                                                                                                                                                                                                                                                                                                                                                                                                                                                                                                                                                                                                                                                                                                                                                                                                                                                                                                                                                                                                                                                                                                                                                                                                                                                                                                                                                                                                                                                                                                                                                                                                                                                                                                                                                                                                                                                                                                                                                                                                                                                                                                                                                                                                                                                                                                                                                                                                                                                                                                                                                                                                                                                                                                                                                                                                                                                                                                                                                                                                                                                                                                                                                                                                                                                                                                                                                                                                                                                                                                                                                                                                                                                                                                                                                                                                                                                                                                                                                                                                                                                                                                                                                                                                                                                                                                                                                                                                                                                                                                                                                                                                                                                                                                                                                                                                                                                                                           |tags                                                                                                                                                                                                                                                                                                                                                                                                                                                                                                                                                                                                                                                                                                                                                                                                                                                                                                                                                                                                                                                                                                             |info                                    |\n",
      "+----+----+--------+---------+-----+------------------------------------------------------------------------------------------------------------------------------------------------------------------------------------------------------------------------------------------------------------------------------------------------------------------------------------------------------------------------------------------------------------------------------------------------------------------------------------------------------------------------------------------------------------------------------------------------------------------------------------------------------------------------------------------------------------------------------------------------------------------------------------------------------------------------------------------------------------------------------------------------------------------------------------------------------------------------------------------------------------------------------------------------------------------------------------------------------------------------------------------------------------------------------------------------------------------------------------------------------------------------------------------------------------------------------------------------------------------------------------------------------------------------------------------------------------------------------------------------------------------------------------------------------------------------------------------------------------------------------------------------------------------------------------------------------------------------------------------------------------------------------------------------------------------------------------------------------------------------------------------------------------------------------------------------------------------------------------------------------------------------------------------------------------------------------------------------------------------------------------------------------------------------------------------------------------------------------------------------------------------------------------------------------------------------------------------------------------------------------------------------------------------------------------------------------------------------------------------------------------------------------------------------------------------------------------------------------------------------------------------------------------------------------------------------------------------------------------------------------------------------------------------------------------------------------------------------------------------------------------------------------------------------------------------------------------------------------------------------------------------------------------------------------------------------------------------------------------------------------------------------------------------------------------------------------------------------------------------------------------------------------------------------------------------------------------------------------------------------------------------------------------------------------------------------------------------------------------------------------------------------------------------------------------------------------------------------------------------------------------------------------------------------------------------------------------------------------------------------------------------------------------------------------------------------------------------------------------------------------------------------------------------------------------------------------------------------------------------------------------------------------------------------------------------------------------------------------------------------------------------------------------------------------------------------------------------------------------------------------------------------------------------------------------------------------------------------------------------------------------------------------------------------------------------------------------------------------------------------------------------------------------------------------------------------------------------------------------------------------------------------------------------------------------------------------------------------------------------------------------------------------------------------------------------------------------------------------------------------------------------------------------------------------------------------------------------------------------------------------------------------------------------------------------------------------------------------------------------------------------------------------------------------------------------------------------------------------------------------------------------------------------------------------------------------------------------------------------------------------------------------------------------------------------------------------------------------------------------------------------------------------------------------------------------------------------------------------------------------------------------------------------------------------------------------------------------------------------------------------------------------------------------------------------------------------------------------------------------------------------------------------------------------------------------------------------------------------------------------------------------------------------------------------------------------------------------------------------------------------------------------------------------------------------------------------------------------------------------------------------------------------------------------------------------------------------------------------------------------------------------------------------------------------------------------------------------------------------------------------------------------------------------------------------------------------------------------------------------------------------------------------------------------------------------------------------------------------------------------------------------------------------------------------------------------------------------------------------------------------------------------------------------------------------+-----------------------------------------------------------------------------------------------------------------------------------------------------------------------------------------------------------------------------------------------------------------------------------------------------------------------------------------------------------------------------------------------------------------------------------------------------------------------------------------------------------------------------------------------------------------------------------------------------------------------------------------------------------------------------------------------------------------------------------------------------------------------------------------------------------------------------------------------------------------------------------------------------------------------------------------------------------------------------------------------------------------------------------------------------------------------------------------------------------------+----------------------------------------+\n",
      "|4105|2   |null    |null     |[]   |[{68852192, 1, outer}, {19804385, 1, inner}]                                                                                                                                                                                                                                                                                                                                                                                                                                                                                                                                                                                                                                                                                                                                                                                                                                                                                                                                                                                                                                                                                                                                                                                                                                                                                                                                                                                                                                                                                                                                                                                                                                                                                                                                                                                                                                                                                                                                                                                                                                                                                                                                                                                                                                                                                                                                                                                                                                                                                                                                                                                                                                                                                                                                                                                                                                                                                                                                                                                                                                                                                                                                                                                                                                                                                                                                                                                                                                                                                                                                                                                                                                                                                                                                                                                                                                                                                                                                                                                                                                                                                                                                                                                                                                                                                                                                                                                                                                                                                                                                                                                                                                                                                                                                                                                                                                                                                                                                                                                                                                                                                                                                                                                                                                                                                                                                                                                                                                                                                                                                                                                                                                                                                                                                                                                                                                                                                                                                                                                                                                                                                                                                                                                                                                                                                                                                                                                                                                                                                                                                                                                                                                                                                                                                                                                                                                                                                        |{name -> Le Triangle, building:levels -> 10, building -> office, roof:shape -> flat, type -> multipolygon}                                                                                                                                                                                                                                                                                                                                                                                                                                                                                                                                                                                                                                                                                                                                                                                                                                                                                                                                                                                                       |{12, 2021-09-22 13:29:48, 0, 0, , null} |\n",
      "|4721|2   |null    |null     |[]   |[{13792999, 1, outer}, {22716557, 1, inner}]                                                                                                                                                                                                                                                                                                                                                                                                                                                                                                                                                                                                                                                                                                                                                                                                                                                                                                                                                                                                                                                                                                                                                                                                                                                                                                                                                                                                                                                                                                                                                                                                                                                                                                                                                                                                                                                                                                                                                                                                                                                                                                                                                                                                                                                                                                                                                                                                                                                                                                                                                                                                                                                                                                                                                                                                                                                                                                                                                                                                                                                                                                                                                                                                                                                                                                                                                                                                                                                                                                                                                                                                                                                                                                                                                                                                                                                                                                                                                                                                                                                                                                                                                                                                                                                                                                                                                                                                                                                                                                                                                                                                                                                                                                                                                                                                                                                                                                                                                                                                                                                                                                                                                                                                                                                                                                                                                                                                                                                                                                                                                                                                                                                                                                                                                                                                                                                                                                                                                                                                                                                                                                                                                                                                                                                                                                                                                                                                                                                                                                                                                                                                                                                                                                                                                                                                                                                                                        |{name -> Bassin, natural -> water, type -> multipolygon}                                                                                                                                                                                                                                                                                                                                                                                                                                                                                                                                                                                                                                                                                                                                                                                                                                                                                                                                                                                                                                                         |{5, 2019-04-26 14:44:42, 0, 0, , null}  |\n",
      "|4724|2   |null    |null     |[]   |[{19129593, 1, outer}, {22716561, 1, inner}]                                                                                                                                                                                                                                                                                                                                                                                                                                                                                                                                                                                                                                                                                                                                                                                                                                                                                                                                                                                                                                                                                                                                                                                                                                                                                                                                                                                                                                                                                                                                                                                                                                                                                                                                                                                                                                                                                                                                                                                                                                                                                                                                                                                                                                                                                                                                                                                                                                                                                                                                                                                                                                                                                                                                                                                                                                                                                                                                                                                                                                                                                                                                                                                                                                                                                                                                                                                                                                                                                                                                                                                                                                                                                                                                                                                                                                                                                                                                                                                                                                                                                                                                                                                                                                                                                                                                                                                                                                                                                                                                                                                                                                                                                                                                                                                                                                                                                                                                                                                                                                                                                                                                                                                                                                                                                                                                                                                                                                                                                                                                                                                                                                                                                                                                                                                                                                                                                                                                                                                                                                                                                                                                                                                                                                                                                                                                                                                                                                                                                                                                                                                                                                                                                                                                                                                                                                                                                        |{natural -> water, type -> multipolygon}                                                                                                                                                                                                                                                                                                                                                                                                                                                                                                                                                                                                                                                                                                                                                                                                                                                                                                                                                                                                                                                                         |{3, 2010-09-06 21:19:31, 0, 0, , null}  |\n",
      "|7374|2   |null    |null     |[]   |[{1768128336, 0, admin_centre}, {140026399, 1, outer}, {137053205, 1, outer}, {81426461, 1, outer}, {81413130, 1, outer}, {137049737, 1, outer}, {81419539, 1, outer}, {81216046, 1, outer}, {81213392, 1, outer}, {122660837, 1, outer}, {122658924, 1, outer}, {81131486, 1, outer}, {81034156, 1, outer}, {122658926, 1, outer}, {59316052, 1, outer}, {122660836, 1, outer}, {59319559, 1, outer}, {59421589, 1, outer}, {41988708, 1, outer}, {59428384, 1, outer}, {59428387, 1, outer}, {59426548, 1, outer}, {453832301, 1, outer}, {486317516, 1, outer}, {59426544, 1, outer}, {59507462, 1, outer}, {50501694, 1, outer}, {59504170, 1, outer}, {50501691, 1, outer}, {59504169, 1, outer}, {41587624, 1, outer}, {55858734, 1, outer}, {59513510, 1, outer}, {156992454, 1, outer}, {156988002, 1, outer}, {59577566, 1, outer}, {60235254, 1, outer}, {156988001, 1, outer}, {156988003, 1, outer}, {41586167, 1, outer}, {60233234, 1, outer}, {60003309, 1, outer}, {41586168, 1, outer}, {60003311, 1, outer}, {41573991, 1, outer}, {153004752, 1, outer}, {31251519, 1, outer}, {60236618, 1, outer}, {60928413, 1, outer}, {60928418, 1, outer}, {60707255, 1, outer}, {31251518, 1, outer}, {30907625, 1, outer}, {40404927, 1, outer}, {30907626, 1, outer}, {30907633, 1, outer}, {40404922, 1, outer}, {55857212, 1, outer}, {60108845, 1, outer}, {161867342, 1, outer}, {60108842, 1, outer}, {58670679, 1, outer}, {161866373, 1, outer}, {58670681, 1, outer}, {30836528, 1, outer}, {30595632, 1, outer}, {30843042, 1, outer}, {30843041, 1, outer}, {80142471, 1, outer}, {30843039, 1, outer}, {148801192, 1, outer}, {80142472, 1, outer}, {41579601, 1, outer}, {135807617, 1, outer}, {148717303, 1, outer}, {41119750, 1, outer}, {148859121, 1, outer}, {41119221, 1, outer}, {138630687, 1, outer}, {138639549, 1, outer}, {244175515, 1, outer}, {149171103, 1, outer}, {244175511, 1, outer}, {138639548, 1, outer}, {135816301, 1, outer}, {30498113, 1, outer}, {30476502, 1, outer}, {56149640, 1, outer}, {56149641, 1, outer}, {30444325, 1, outer}, {30493320, 1, outer}, {30493317, 1, outer}, {245244159, 1, outer}, {245417114, 1, outer}, {140560920, 1, outer}, {81266771, 1, outer}, {140560917, 1, outer}, {140560915, 1, outer}, {140560918, 1, outer}, {81266768, 1, outer}, {81382406, 1, outer}, {81376324, 1, outer}, {453801902, 1, outer}, {453801903, 1, outer}, {67603351, 1, outer}, {1110252271, 1, outer}, {1110252273, 1, outer}, {67603393, 1, outer}, {55857209, 1, outer}, {67603410, 1, outer}, {66356478, 1, outer}, {150726522, 1, outer}, {66356497, 1, outer}, {23301671, 1, outer}, {149514019, 1, outer}, {149514018, 1, outer}, {143487029, 1, outer}, {243418115, 1, outer}, {243418116, 1, outer}, {143487031, 1, outer}, {243436616, 1, outer}, {195658236, 1, outer}, {143465658, 1, outer}, {243571140, 1, outer}, {143458947, 1, outer}, {243574092, 1, outer}, {143313956, 1, outer}, {142333451, 1, outer}, {177627065, 1, outer}, {142441197, 1, outer}, {142723012, 1, outer}, {177627076, 1, outer}, {41121156, 1, outer}, {243773607, 1, outer}, {216975845, 1, outer}, {216975853, 1, outer}, {216975855, 1, outer}, {71001700, 1, outer}, {243773606, 1, outer}, {244596899, 1, outer}, {244698882, 1, outer}, {69971094, 1, outer}, {55855597, 1, outer}, {194772194, 1, outer}, {69971096, 1, outer}, {135822673, 1, outer}, {69906923, 1, outer}, {135822575, 1, outer}, {32878536, 1, outer}, {153534881, 1, outer}, {153532246, 1, outer}, {32793326, 1, outer}, {32794186, 1, outer}, {153532261, 1, outer}, {32878537, 1, outer}, {1238710155, 1, outer}, {41670832, 1, outer}, {41670830, 1, outer}, {153532287, 1, outer}, {41670826, 1, outer}, {153528362, 1, outer}, {133732709, 1, outer}, {133732708, 1, outer}, {138279515, 1, outer}, {138278316, 1, outer}, {143198671, 1, outer}, {153446619, 1, outer}, {143128448, 1, outer}, {153383334, 1, outer}, {142980980, 1, outer}, {133088711, 1, outer}, {1242789811, 1, outer}, {153383326, 1, outer}, {133088726, 1, outer}, {41272853, 1, outer}, {41272845, 1, outer}, {247321274, 1, outer}, {247311061, 1, outer}, {247311056, 1, outer}, {153522305, 1, outer}, {41178851, 1, outer}, {142305051, 1, outer}, {41178850, 1, outer}, {37290023, 1, outer}, {100617631, 1, outer}, {100617628, 1, outer}, {35137949, 1, outer}, {35137926, 1, outer}, {161632559, 1, outer}, {37142792, 1, outer}, {162514246, 1, outer}, {35137771, 1, outer}, {35290450, 1, outer}, {162568173, 1, outer}, {161787051, 1, outer}, {35319745, 1, outer}, {161785521, 1, outer}, {35093547, 1, outer}, {161783471, 1, outer}, {35093152, 1, outer}, {161680167, 1, outer}, {40114600, 1, outer}, {37208296, 1, outer}, {609985553, 1, outer}, {609985152, 1, outer}, {37208295, 1, outer}, {40404314, 1, outer}, {37208298, 1, outer}, {37210687, 1, outer}, {40404298, 1, outer}, {617699367, 1, outer}, {35207282, 1, outer}, {35207598, 1, outer}, {140026402, 1, outer}, {140026363, 1, outer}, {35207413, 1, outer}, {2201453, 2, subarea}, {2201273, 2, subarea}, {2201280, 2, subarea}, {2201473, 2, subarea}]                                                                                                                                                                                                                                                                                                                                                                                                                                                                                                                                                                                                                                                                                                                                                                                                                                                                                                                                                                                                                                                                                                                                                                                                                                                                                                                                                                                                                                                                                                                                                                                                                                                                                                                                                                   |{name:be -> Эр-і-Луар, name:ko -> 외르에루아르, name -> Eure-et-Loir, name:la -> Ebura-et-Lidericus, ref:nuts -> FRB02, name:oc -> Eure-e-Loir, name:lt -> Eras-ir-Luara, name:frp -> Ere-et-Lêr, name:pnb -> ضلع یورے-ات-لویر, ref:nuts:3 -> FRB02, population -> 431575, population:date -> 2019, name:uk -> Ер-і-Луар, boundary -> administrative, name:tg -> Эр-ва-Луар, ref -> 28, name:he -> אר-ולואר, source:population -> INSEE 2022, source:name:oc -> ieo-bdtopoc, admin_level -> 6, wikidata -> Q3377, name:bg -> Йор-е-Лоар, name:zh -> 厄尔-卢瓦尔省, wikipedia -> fr:Eure-et-Loir, name:fa -> اور-ا-لوآر, name:ja -> ウール＝エ＝ロワール県, ref:INSEE -> 28, ISO3166-2 -> FR-28, name:es -> Eure-y-Loir, name:mr -> युर-ए-लुआर, name:ar -> أور-ولوار, name:ka -> ერი-და-ლუარი, name:ca -> Eure-i-Loir, name:an -> Eure-y-Loir, border_type -> departement, name:ru -> Эр-и-Луар, type -> boundary, name:sr -> Ер-и-Лоар, name:lv -> Ēra-un-Luāra, name:th -> เออเรลัวร์, name:fr -> Eure-et-Loir, name:cv -> Эр-тата-Луар, name:gl -> Eure-e-Loir, name:hy -> Էր-և-Լուար, name:kk -> Эр-және-Луар}|{212, 2024-01-25 12:22:29, 0, 0, , null}|\n",
      "|7379|2   |null    |null     |[]   |[{26692266, 0, admin_centre}, {35565161, 1, outer}, {192029862, 1, outer}, {192029530, 1, outer}, {132463170, 1, outer}, {132454798, 1, outer}, {51259304, 1, outer}, {51007390, 1, outer}, {50473942, 1, outer}, {51008292, 1, outer}, {50474840, 1, outer}, {51075535, 1, outer}, {51075359, 1, outer}, {51075358, 1, outer}, {937710711, 1, outer}, {51075356, 1, outer}, {51259306, 1, outer}, {51259307, 1, outer}, {132452610, 1, outer}, {51227745, 1, outer}, {132450121, 1, outer}, {132450120, 1, outer}, {35420348, 1, outer}, {178678809, 1, outer}, {132382829, 1, outer}, {132383112, 1, outer}, {30807891, 1, outer}, {178692285, 1, outer}, {30807890, 1, outer}, {30807895, 1, outer}, {146178607, 1, outer}, {30807898, 1, outer}, {30808163, 1, outer}, {51464539, 1, outer}, {51464408, 1, outer}, {146178606, 1, outer}, {178910712, 1, outer}, {51464327, 1, outer}, {179091072, 1, outer}, {132380791, 1, outer}, {132267251, 1, outer}, {132264642, 1, outer}, {51263291, 1, outer}, {132247207, 1, outer}, {51209941, 1, outer}, {132247204, 1, outer}, {51272846, 1, outer}, {51209418, 1, outer}, {191987961, 1, outer}, {132238287, 1, outer}, {132238293, 1, outer}, {132150290, 1, outer}, {222843071, 1, outer}, {935757350, 1, outer}, {132133732, 1, outer}, {222822915, 1, outer}, {132120727, 1, outer}, {132038393, 1, outer}, {132040088, 1, outer}, {222822916, 1, outer}, {222817175, 1, outer}, {222648183, 1, outer}, {222567936, 1, outer}, {131999446, 1, outer}, {131950630, 1, outer}, {204362281, 1, outer}, {131948714, 1, outer}, {204362282, 1, outer}, {131911696, 1, outer}, {131907621, 1, outer}, {222639401, 1, outer}, {131691070, 1, outer}, {222641091, 1, outer}, {131691069, 1, outer}, {127905380, 1, outer}, {127978901, 1, outer}, {204182867, 1, outer}, {127853924, 1, outer}, {89625314, 1, outer}, {183750885, 1, outer}, {204182868, 1, outer}, {204346174, 1, outer}, {183750882, 1, outer}, {89616220, 1, outer}, {183750889, 1, outer}, {183750886, 1, outer}, {183750888, 1, outer}, {183750880, 1, outer}, {166265732, 1, outer}, {204346450, 1, outer}, {89755220, 1, outer}, {166265740, 1, outer}, {166265733, 1, outer}, {90256363, 1, outer}, {181594332, 1, outer}, {184106715, 1, outer}, {184106716, 1, outer}, {90704533, 1, outer}, {204347154, 1, outer}, {204175841, 1, outer}, {204175842, 1, outer}, {91639643, 1, outer}, {183603689, 1, outer}, {204498154, 1, outer}, {183603698, 1, outer}, {183603688, 1, outer}, {204498998, 1, outer}, {91561526, 1, outer}, {92948389, 1, outer}, {736879138, 1, outer}, {183749030, 1, outer}, {205128003, 1, outer}, {138137683, 1, outer}, {138137682, 1, outer}, {138137684, 1, outer}, {138137685, 1, outer}, {132105610, 1, outer}, {135811759, 1, outer}, {136515970, 1, outer}, {132087758, 1, outer}, {135811708, 1, outer}, {132092091, 1, outer}, {132067264, 1, outer}, {148834079, 1, outer}, {132008288, 1, outer}, {150930768, 1, outer}, {151076444, 1, outer}, {151086442, 1, outer}, {132230341, 1, outer}, {132714454, 1, outer}, {132734011, 1, outer}, {132937623, 1, outer}, {225302978, 1, outer}, {133054838, 1, outer}, {133251980, 1, outer}, {225411883, 1, outer}, {142977338, 1, outer}, {205281631, 1, outer}, {142918275, 1, outer}, {142904540, 1, outer}, {205282678, 1, outer}, {205395732, 1, outer}, {205395727, 1, outer}, {142803027, 1, outer}, {205422499, 1, outer}, {191799599, 1, outer}, {142792500, 1, outer}, {142638349, 1, outer}, {191799598, 1, outer}, {191989063, 1, outer}, {142598921, 1, outer}, {142529015, 1, outer}, {191989062, 1, outer}, {142505676, 1, outer}, {192950269, 1, outer}, {142426068, 1, outer}, {142383383, 1, outer}, {192950270, 1, outer}, {142380331, 1, outer}, {142348339, 1, outer}, {138253443, 1, outer}, {142345792, 1, outer}, {138252301, 1, outer}, {138247912, 1, outer}, {58509172, 1, outer}, {193513072, 1, outer}, {193634754, 1, outer}, {58514714, 1, outer}, {465904645, 1, outer}, {58514675, 1, outer}, {193634755, 1, outer}, {465904642, 1, outer}, {193721308, 1, outer}, {51348299, 1, outer}, {465904643, 1, outer}, {193771471, 1, outer}, {135219432, 1, outer}, {394038826, 1, outer}, {135322349, 1, outer}, {135322348, 1, outer}, {249627646, 1, outer}, {194177771, 1, outer}, {194210661, 1, outer}, {194389217, 1, outer}, {194186363, 1, outer}, {145817835, 1, outer}, {135316337, 1, outer}, {135325716, 1, outer}, {51351729, 1, outer}, {145817834, 1, outer}, {51344068, 1, outer}, {51344437, 1, outer}, {138376620, 1, outer}, {138992425, 1, outer}, {138992429, 1, outer}, {139931571, 1, outer}, {193602392, 1, outer}, {59527303, 1, outer}, {194343484, 1, outer}, {59527344, 1, outer}, {59351854, 1, outer}, {59526949, 1, outer}, {194367339, 1, outer}, {59709111, 1, outer}, {206006812, 1, outer}, {206009732, 1, outer}, {59709112, 1, outer}, {59527490, 1, outer}, {205999378, 1, outer}, {205939454, 1, outer}, {635180022, 1, outer}, {59527488, 1, outer}, {205939453, 1, outer}, {140051046, 1, outer}, {140061659, 1, outer}, {224178145, 1, outer}, {1218362495, 1, outer}, {140061667, 1, outer}, {318808621, 1, outer}, {1218362494, 1, outer}, {141140068, 1, outer}, {141140062, 1, outer}, {141141611, 1, outer}, {141684507, 1, outer}, {141691448, 1, outer}, {223388479, 1, outer}, {141694064, 1, outer}, {223382904, 1, outer}, {223382902, 1, outer}, {51336139, 1, outer}, {223384542, 1, outer}, {223393011, 1, outer}, {141782565, 1, outer}, {223508927, 1, outer}, {223531524, 1, outer}, {223531523, 1, outer}, {141874105, 1, outer}, {141980461, 1, outer}, {142109264, 1, outer}, {142110453, 1, outer}, {142110457, 1, outer}, {142110456, 1, outer}, {142138157, 1, outer}, {142114340, 1, outer}, {142115345, 1, outer}, {142162196, 1, outer}, {131953477, 1, outer}, {131953476, 1, outer}, {131953597, 1, outer}, {131953468, 1, outer}, {215256350, 1, outer}, {131880104, 1, outer}, {184007804, 1, outer}, {215282411, 1, outer}, {131880116, 1, outer}, {177094504, 1, outer}, {131880111, 1, outer}, {131839550, 1, outer}, {131751701, 1, outer}, {87490563, 1, outer}, {87490573, 1, outer}, {131751669, 1, outer}, {51336762, 1, outer}, {768123410, 1, outer}, {51336765, 1, outer}, {85249561, 1, outer}, {85249629, 1, outer}, {184007805, 1, outer}, {85249585, 1, outer}, {85427632, 1, outer}, {51218385, 1, outer}, {193053798, 1, outer}, {193053797, 1, outer}, {98420839, 1, outer}, {193194431, 1, outer}, {98452941, 1, outer}, {98572658, 1, outer}, {192765136, 1, outer}, {98688962, 1, outer}, {98689131, 1, outer}, {100788784, 1, outer}, {101335652, 1, outer}, {101335641, 1, outer}, {101335654, 1, outer}, {101335665, 1, outer}, {192517341, 1, outer}, {101335642, 1, outer}, {101416537, 1, outer}, {2769675, 2, subarea}, {2762482, 2, subarea}, {2698467, 2, subarea}, {2769122, 2, subarea}]|{name:be -> Марна, name -> Marne, name:la -> Matrona, ref:nuts -> FRF23, name:oc -> Marna, name:lt -> Marna, name:pnb -> ماغنے, ref:nuts:3 -> FRF23, population -> 566855, name:it -> Marna, population:date -> 2019, name:uk -> Марна, boundary -> administrative, name:tg -> Марна, ref -> 51, source:population -> INSEE 2022, admin_level -> 6, wikidata -> Q12594, name:bg -> Марн, source:name:br -> ofis publik ar brezhoneg, name:zh -> 马恩省, wikipedia -> fr:Marne (département), name:fa -> مرن, name:ja -> マルヌ県, ref:INSEE -> 51, ISO3166-2 -> FR-51, name:pl -> Marna, name:mr -> मार्न, name:ar -> المارن, name:ka -> მარნა, border_type -> departement, name:ru -> Марна, type -> boundary, name:sr -> Марна, name:lv -> Marna, name:th -> มาร์น, name:br -> Marn, name:fr -> Marne, name:cv -> Марна, name:hy -> Մարն, name:kk -> Марна}                                                                                                                                                                                                                                                    |{259, 2023-10-25 21:32:55, 0, 0, , null}|\n",
      "+----+----+--------+---------+-----+------------------------------------------------------------------------------------------------------------------------------------------------------------------------------------------------------------------------------------------------------------------------------------------------------------------------------------------------------------------------------------------------------------------------------------------------------------------------------------------------------------------------------------------------------------------------------------------------------------------------------------------------------------------------------------------------------------------------------------------------------------------------------------------------------------------------------------------------------------------------------------------------------------------------------------------------------------------------------------------------------------------------------------------------------------------------------------------------------------------------------------------------------------------------------------------------------------------------------------------------------------------------------------------------------------------------------------------------------------------------------------------------------------------------------------------------------------------------------------------------------------------------------------------------------------------------------------------------------------------------------------------------------------------------------------------------------------------------------------------------------------------------------------------------------------------------------------------------------------------------------------------------------------------------------------------------------------------------------------------------------------------------------------------------------------------------------------------------------------------------------------------------------------------------------------------------------------------------------------------------------------------------------------------------------------------------------------------------------------------------------------------------------------------------------------------------------------------------------------------------------------------------------------------------------------------------------------------------------------------------------------------------------------------------------------------------------------------------------------------------------------------------------------------------------------------------------------------------------------------------------------------------------------------------------------------------------------------------------------------------------------------------------------------------------------------------------------------------------------------------------------------------------------------------------------------------------------------------------------------------------------------------------------------------------------------------------------------------------------------------------------------------------------------------------------------------------------------------------------------------------------------------------------------------------------------------------------------------------------------------------------------------------------------------------------------------------------------------------------------------------------------------------------------------------------------------------------------------------------------------------------------------------------------------------------------------------------------------------------------------------------------------------------------------------------------------------------------------------------------------------------------------------------------------------------------------------------------------------------------------------------------------------------------------------------------------------------------------------------------------------------------------------------------------------------------------------------------------------------------------------------------------------------------------------------------------------------------------------------------------------------------------------------------------------------------------------------------------------------------------------------------------------------------------------------------------------------------------------------------------------------------------------------------------------------------------------------------------------------------------------------------------------------------------------------------------------------------------------------------------------------------------------------------------------------------------------------------------------------------------------------------------------------------------------------------------------------------------------------------------------------------------------------------------------------------------------------------------------------------------------------------------------------------------------------------------------------------------------------------------------------------------------------------------------------------------------------------------------------------------------------------------------------------------------------------------------------------------------------------------------------------------------------------------------------------------------------------------------------------------------------------------------------------------------------------------------------------------------------------------------------------------------------------------------------------------------------------------------------------------------------------------------------------------------------------------------------------------------------------------------------------------------------------------------------------------------------------------------------------------------------------------------------------------------------------------------------------------------------------------------------------------------------------------------------------------------------------------------------------------------------------------------------------------------------------------------------------------------------------------------------------------------------------------------------+-----------------------------------------------------------------------------------------------------------------------------------------------------------------------------------------------------------------------------------------------------------------------------------------------------------------------------------------------------------------------------------------------------------------------------------------------------------------------------------------------------------------------------------------------------------------------------------------------------------------------------------------------------------------------------------------------------------------------------------------------------------------------------------------------------------------------------------------------------------------------------------------------------------------------------------------------------------------------------------------------------------------------------------------------------------------------------------------------------------------+----------------------------------------+\n"
     ]
    }
   ],
   "source": [
    "relation_df = raw_df.where(\"type = 2\")\n",
    "relation_df.show(5,truncate=False)"
   ]
  },
  {
   "cell_type": "markdown",
   "id": "dbea93e6393a8a58",
   "metadata": {
    "collapsed": false
   },
   "source": [
    "Since the latitude and longitude columns of ways do not contain any information we can remove them. We can also notice that a way contains a list of nodes(e.g. the value is the node id). If we link these nodes, we can build the way. We can consider the first node is the starting point of the way, the last node is ending point of the way. If we join all the ways with the first nodes listed in each way, we use the starting point of the way to draw the way."
   ]
  },
  {
   "cell_type": "code",
   "execution_count": 10,
   "id": "9d18bd0b5dd992f8",
   "metadata": {
    "ExecuteTime": {
     "end_time": "2024-04-15T07:25:18.011846328Z",
     "start_time": "2024-04-15T07:25:17.796544864Z"
    },
    "collapsed": false
   },
   "outputs": [],
   "source": [
    "\n",
    "way_simple_df = way_df.drop(\"id\",\"latitude\", \"longitude\")\n",
    "way_with_gps_df = way_simple_df.join(\n",
    "    node_simple_df, way_simple_df.nodes.getItem(0) == node_simple_df.id)\n",
    "\n",
    "way_trans_df = way_with_gps_df.select(\"latitude\", \"longitude\", \"tags\")\n"
   ]
  },
  {
   "cell_type": "code",
   "execution_count": 11,
   "id": "94eb683e67184c7d",
   "metadata": {
    "ExecuteTime": {
     "end_time": "2024-04-15T07:25:42.831223490Z",
     "start_time": "2024-04-15T07:25:18.881315434Z"
    },
    "collapsed": false
   },
   "outputs": [
    {
     "name": "stderr",
     "output_type": "stream",
     "text": [
      "[Stage 15:>                                                         (0 + 1) / 1]\r"
     ]
    },
    {
     "name": "stdout",
     "output_type": "stream",
     "text": [
      "+------------------+------------------+-------------------------------------------------------------------------------------------------------------------------------------------------------------------------------------------------------------------------------------------------------------------------------+\n",
      "|latitude          |longitude         |tags                                                                                                                                                                                                                                                                           |\n",
      "+------------------+------------------+-------------------------------------------------------------------------------------------------------------------------------------------------------------------------------------------------------------------------------------------------------------------------------+\n",
      "|48.74317940000001 |2.3225308         |{name -> Autoroute du Soleil, int_ref -> E 05, start_date -> 1960, surface -> asphalt, maxspeed -> 110, highway -> motorway, ref -> A 6, lit -> yes, lanes -> 4, toll -> no, hazmat -> no, operator -> DIRIF, smoothness -> good, oneway -> yes}                               |\n",
      "|48.86332490000002 |2.4087188000000013|{cycleway:both -> no, name -> Boulevard Davout, surface -> asphalt, maxspeed -> 50, highway -> primary, lit -> yes, lanes -> 2, dual_carriageway -> yes, name:etymology:wikidata -> Q158778, sidewalk:right -> separate, oneway -> yes}                                        |\n",
      "|48.80058040000003 |2.3420713         |{hazmat:B -> no, int_ref -> E 05, start_date -> 1960, hazmat:D -> no, hazmat:C -> no, surface -> asphalt, maxspeed -> 70, highway -> motorway, ref -> A 6a, lit -> yes, lanes -> 3, toll -> no, hazmat -> no, operator -> DIRIF, hazmat:A -> no, hazmat:E -> no, oneway -> yes}|\n",
      "|48.858418200000024|2.2589320000000006|{name -> Chemin de Ceinture du Lac Inférieur, motor_vehicle -> no, surface -> sett, highway -> service, service -> alley, bicycle -> yes}                                                                                                                                      |\n",
      "|48.858418200000024|2.2589320000000006|{name -> Avenue de l'Hippodrome, lanes:forward -> 1, surface -> asphalt, maxspeed -> 50, highway -> secondary, lit -> yes, lanes -> 2, cycleway -> separate, lanes:backward -> 1, sidewalk -> separate}                                                                        |\n",
      "+------------------+------------------+-------------------------------------------------------------------------------------------------------------------------------------------------------------------------------------------------------------------------------------------------------------------------------+\n"
     ]
    },
    {
     "name": "stderr",
     "output_type": "stream",
     "text": [
      "                                                                                \r"
     ]
    }
   ],
   "source": [
    "way_trans_df.show(5, truncate=False)\n"
   ]
  },
  {
   "cell_type": "code",
   "execution_count": 12,
   "id": "53e10b8ecb14fe2e",
   "metadata": {
    "ExecuteTime": {
     "end_time": "2024-04-15T07:29:58.314450128Z",
     "start_time": "2024-04-15T07:29:58.264583013Z"
    },
    "collapsed": false
   },
   "outputs": [],
   "source": [
    "node_trans_df = node_df.select(\"latitude\", \"longitude\", \"tags\")"
   ]
  },
  {
   "cell_type": "code",
   "execution_count": 13,
   "id": "65644ef6a0f5e39d",
   "metadata": {
    "ExecuteTime": {
     "end_time": "2024-04-15T07:30:16.366439264Z",
     "start_time": "2024-04-15T07:29:59.489089549Z"
    },
    "collapsed": false
   },
   "outputs": [
    {
     "name": "stderr",
     "output_type": "stream",
     "text": [
      "                                                                                \r"
     ]
    },
    {
     "name": "stdout",
     "output_type": "stream",
     "text": [
      "+------------------+------------------+--------------------+\n",
      "|          latitude|         longitude|                tags|\n",
      "+------------------+------------------+--------------------+\n",
      "|  48.8228839999944| 2.397936000000003|{website -> https...|\n",
      "|49.101812299999956| 2.543690700000001|{name -> Maison d...|\n",
      "|48.903260199999906| 2.305047599999987|{healthcare:speci...|\n",
      "|48.885186399999995|2.4011061000000105|{name -> Clinique...|\n",
      "|48.692460400000265|2.2671637000000016|{amenity -> docto...|\n",
      "| 48.80802140000021|2.1349204000000053|{amenity -> hospi...|\n",
      "|  48.8539673000001|         2.3481897|{operator:short -...|\n",
      "| 48.80471840000002| 2.424477000000009|{website -> https...|\n",
      "| 48.59296099999903|2.2486759999999957|{name -> Clinique...|\n",
      "| 48.85146449999998|2.3714151999999813|{website -> http:...|\n",
      "| 48.82344670000005|2.5382796000000027|{source -> cadast...|\n",
      "|48.570080700000055| 2.432605999999993|{healthcare:speci...|\n",
      "| 48.56786900000003| 2.431551999999988|{healthcare:speci...|\n",
      "|48.764957100000224| 2.320634999999993|{name -> Établiss...|\n",
      "| 48.95533799999998|2.3678719000000017|{website -> http:...|\n",
      "| 48.92287930000005|2.2341363000000034|{healthcare:speci...|\n",
      "| 48.88454769999999|2.1716105999999975|{healthcare:speci...|\n",
      "|  48.9068048000003| 2.549452500000016|{amenity -> docto...|\n",
      "|  48.9623823000004| 1.897738899999993|{amenity -> docto...|\n",
      "| 48.83813140000022|  2.34180040000001|{healthcare:speci...|\n",
      "+------------------+------------------+--------------------+\n"
     ]
    }
   ],
   "source": [
    "hospital_and_food_df = way_trans_df.union(node_trans_df).\\\n",
    "    where(\"element_at(tags, 'amenity') in ('hospital', 'clinic','doctors')\")\n",
    "hospital_and_food_df.cache()\n",
    "hospital_and_food_df.show()"
   ]
  },
  {
   "cell_type": "code",
   "execution_count": 14,
   "id": "6b78078bdc1361d9",
   "metadata": {
    "ExecuteTime": {
     "end_time": "2024-04-15T07:30:18.757619869Z",
     "start_time": "2024-04-15T07:30:18.450369528Z"
    },
    "collapsed": false
   },
   "outputs": [],
   "source": [
    "hospital_df = hospital_and_food_df.select(\"latitude\", \"longitude\").\\\n",
    "    where(\"element_at(tags, 'amenity') == 'hospital'\")\n",
    "hospital_df.createOrReplaceTempView(\"hospital\")\n",
    "\n",
    "clinic_df = hospital_and_food_df.select(\"latitude\", \"longitude\").\\\n",
    "    where(\"element_at(tags, 'amenity') == 'clinic'\")\n",
    "clinic_df.createOrReplaceTempView(\"clinic\")\n",
    "\n",
    "doctors_df = hospital_and_food_df.select(\"latitude\", \"longitude\").\\\n",
    "    where(\"element_at(tags, 'amenity') == 'doctors'\")\n",
    "doctors_df.createOrReplaceTempView(\"doctors\")"
   ]
  },
  {
   "cell_type": "code",
   "execution_count": 15,
   "id": "7acef9dc9bc4da0",
   "metadata": {
    "ExecuteTime": {
     "end_time": "2024-04-15T07:30:41.798577300Z",
     "start_time": "2024-04-15T07:30:20.858243537Z"
    },
    "collapsed": false
   },
   "outputs": [
    {
     "name": "stderr",
     "output_type": "stream",
     "text": [
      "[Stage 27:=====================================================>(203 + 1) / 204]\r"
     ]
    },
    {
     "name": "stdout",
     "output_type": "stream",
     "text": [
      "Total hospital number in Ile-de-France: 315\n"
     ]
    },
    {
     "name": "stderr",
     "output_type": "stream",
     "text": [
      "                                                                                \r"
     ]
    }
   ],
   "source": [
    "hospital_number=hospital_df.count()\n",
    "print(f\"Total hospital number in Ile-de-France: {hospital_number}\")"
   ]
  },
  {
   "cell_type": "code",
   "execution_count": 16,
   "id": "8e433d7b7469132c",
   "metadata": {
    "ExecuteTime": {
     "end_time": "2024-04-15T07:30:45.047677720Z",
     "start_time": "2024-04-15T07:30:44.677308181Z"
    },
    "collapsed": false
   },
   "outputs": [
    {
     "name": "stdout",
     "output_type": "stream",
     "text": [
      "+------------------+------------------+\n",
      "|latitude          |longitude         |\n",
      "+------------------+------------------+\n",
      "|48.8228839999944  |2.397936000000003 |\n",
      "|48.885186399999995|2.4011061000000105|\n",
      "|48.80802140000021 |2.1349204000000053|\n",
      "|48.8539673000001  |2.3481897         |\n",
      "|48.59296099999903 |2.2486759999999957|\n",
      "+------------------+------------------+\n"
     ]
    }
   ],
   "source": [
    "hospital_df.show(5,truncate=False)"
   ]
  },
  {
   "cell_type": "code",
   "execution_count": 17,
   "id": "29bffe30494a1d31",
   "metadata": {
    "ExecuteTime": {
     "end_time": "2024-04-15T07:30:49.843374707Z",
     "start_time": "2024-04-15T07:30:48.069933007Z"
    },
    "collapsed": false
   },
   "outputs": [
    {
     "name": "stderr",
     "output_type": "stream",
     "text": [
      "[Stage 43:===============================================>      (181 + 4) / 204]\r"
     ]
    },
    {
     "name": "stdout",
     "output_type": "stream",
     "text": [
      "Total clinic number in Ile-de-France: 219\n"
     ]
    },
    {
     "name": "stderr",
     "output_type": "stream",
     "text": [
      "                                                                                \r"
     ]
    }
   ],
   "source": [
    "clinic_number=clinic_df.count()\n",
    "print(f\"Total clinic number in Ile-de-France: {clinic_number}\")"
   ]
  },
  {
   "cell_type": "code",
   "execution_count": 18,
   "id": "84d85a43e0876940",
   "metadata": {
    "ExecuteTime": {
     "end_time": "2024-04-15T07:30:54.371818806Z",
     "start_time": "2024-04-15T07:30:52.985805653Z"
    },
    "collapsed": false
   },
   "outputs": [
    {
     "name": "stderr",
     "output_type": "stream",
     "text": [
      "[Stage 50:====================================================> (198 + 6) / 204]\r"
     ]
    },
    {
     "name": "stdout",
     "output_type": "stream",
     "text": [
      "Total doctor office number in Ile-de-France: 1294\n"
     ]
    },
    {
     "name": "stderr",
     "output_type": "stream",
     "text": [
      "                                                                                \r"
     ]
    }
   ],
   "source": [
    "doctors_number=doctors_df.count()\n",
    "print(f\"Total doctor office number in Ile-de-France: {doctors_number}\")"
   ]
  },
  {
   "cell_type": "code",
   "execution_count": 19,
   "id": "95274bbe14892a64",
   "metadata": {
    "ExecuteTime": {
     "end_time": "2024-04-15T07:30:57.998198807Z",
     "start_time": "2024-04-15T07:30:57.907030432Z"
    },
    "collapsed": false
   },
   "outputs": [],
   "source": [
    "icon_hospital = AwesomeIcon(\n",
    "    name='h-square',\n",
    "    marker_color='green',\n",
    "    icon_color='darkgreen'\n",
    ")\n",
    "\n",
    "icon_clinic = AwesomeIcon(\n",
    "    name='hospital-o',\n",
    "    marker_color='red',\n",
    "    icon_color='black'\n",
    ")\n",
    "\n",
    "icon_doctors = AwesomeIcon(\n",
    "    name='user-md',\n",
    "    marker_color='blue',\n",
    "    icon_color='gray'\n",
    ")"
   ]
  },
  {
   "cell_type": "code",
   "execution_count": 20,
   "id": "1f68a478f4c8c063",
   "metadata": {
    "ExecuteTime": {
     "end_time": "2024-04-15T07:31:10.874373719Z",
     "start_time": "2024-04-15T07:31:04.145798030Z"
    },
    "collapsed": false
   },
   "outputs": [
    {
     "name": "stderr",
     "output_type": "stream",
     "text": [
      "                                                                                \r"
     ]
    },
    {
     "data": {
      "application/vnd.jupyter.widget-view+json": {
       "model_id": "c782c7f0ce8f401f8875df42328f01bb",
       "version_major": 2,
       "version_minor": 0
      },
      "text/plain": [
       "Map(center=[48.8168256002, 2.336495916399999], controls=(ZoomControl(options=['position', 'zoom_in_text', 'zoo…"
      ]
     },
     "metadata": {},
     "output_type": "display_data"
    }
   ],
   "source": [
    "hospital_pos = tuple([Marker(location=tuple(row), icon=icon_hospital) for row in hospital_df.limit(250).collect()])\n",
    "clinic_pos  = tuple([Marker(location=tuple(row), icon=icon_clinic ) for row in clinic_df.limit(250).collect()])\n",
    "doctors_pos  = tuple([Marker(location=tuple(row), icon=icon_doctors ) for row in doctors_df.limit(250).collect()])\n",
    "\n",
    "marker_hospital = MarkerCluster(markers=hospital_pos)\n",
    "marker_clinic = MarkerCluster(markers=clinic_pos)\n",
    "marker_doctors = MarkerCluster(markers=doctors_pos)\n",
    "\n",
    "latitudes =  np.array([x.location[0] for x in hospital_pos]+[x.location[0] for x in doctors_pos])\n",
    "longitudes = np.array([x.location[1] for x in hospital_pos]+[x.location[1] for x in doctors_pos])\n",
    "ce = [latitudes.mean(), longitudes.mean()]\n",
    "\n",
    "m = Map(\n",
    "    basemap=basemap_to_tiles(basemaps.OpenStreetMap.Mapnik),\n",
    "    center=ce,\n",
    "    layout=Layout(width='50%', height='800px'),\n",
    "    zoom=7\n",
    ")\n",
    "\n",
    "m.add_layer(marker_hospital)\n",
    "m.add_layer(marker_clinic)\n",
    "m.add_layer(marker_doctors)\n",
    "\n",
    "display(m)"
   ]
  },
  {
   "cell_type": "markdown",
   "id": "cd54e8543cc21a65",
   "metadata": {
    "collapsed": false
   },
   "source": [
    "## Find a doctor near hospital\n",
    "\n",
    "In previous sections, we have created three tables:\n",
    "- hospital\n",
    "- clinic\n",
    "- doctors\n",
    "\n",
    "Now we want to find doctors who are near to a hospital."
   ]
  },
  {
   "cell_type": "code",
   "execution_count": 26,
   "id": "4d954f723de35d0c",
   "metadata": {
    "ExecuteTime": {
     "end_time": "2024-04-15T07:32:14.267497254Z",
     "start_time": "2024-04-15T07:32:13.445006962Z"
    },
    "collapsed": false
   },
   "outputs": [
    {
     "name": "stdout",
     "output_type": "stream",
     "text": [
      "+------------------+------------------+\n",
      "|          latitude|         longitude|\n",
      "+------------------+------------------+\n",
      "|48.903260199999906| 2.305047599999987|\n",
      "| 48.80471840000002| 2.424477000000009|\n",
      "| 48.88454769999999|2.1716105999999975|\n",
      "| 48.91647889999997| 2.303190799999997|\n",
      "| 48.83635030000024|2.2315512999999956|\n",
      "|49.040539000000216|2.3091220999999966|\n",
      "| 48.96485259999991| 2.873218499999991|\n",
      "| 49.08164119999964| 2.035150200000009|\n",
      "|49.005708799999944| 1.693478399999992|\n",
      "| 48.83592900000021| 2.414462699999997|\n",
      "|49.065623800000104| 2.677090399999996|\n",
      "| 48.88902659999986|2.2385880999999994|\n",
      "|48.864705600000086|2.3819127999999945|\n",
      "|48.861411700001675| 2.508706400000011|\n",
      "| 49.02780120000006|2.2247925000000004|\n",
      "|48.910013299999875|         2.4354707|\n",
      "|48.814878299999954|2.4875772000000014|\n",
      "| 48.88551719999999|2.2400001000000036|\n",
      "| 48.77585449999995| 2.294707799999999|\n",
      "| 48.71357359999996|2.2612773999999956|\n",
      "+------------------+------------------+\n"
     ]
    }
   ],
   "source": [
    "# You can change the table_name to hospital,clinic and doctors\n",
    "table_name=\"clinic\"\n",
    "sedona.sql(f\"select * from {table_name}\").show()"
   ]
  },
  {
   "cell_type": "markdown",
   "id": "bee953f69b5a7044",
   "metadata": {
    "collapsed": false
   },
   "source": [
    "### Convert string column to geometry column\n",
    "\n",
    "To use the geoparquet format and sedona to calculate the distance, we need to convert the latitude/longitude string columns into geometry columns\n",
    "\n",
    "The CRS code is the code of the CRS in the official EPSG database (https://epsg.org/) in the format of EPSG:XXXX. A community tool EPSG.io can help you quick identify a CRS code. For example, the code of WGS84 is EPSG:4326."
   ]
  },
  {
   "cell_type": "code",
   "execution_count": 27,
   "id": "cabb610e7e35d5b8",
   "metadata": {
    "ExecuteTime": {
     "end_time": "2024-04-15T08:02:03.221404968Z",
     "start_time": "2024-04-15T08:02:03.166965526Z"
    },
    "collapsed": false
   },
   "outputs": [],
   "source": [
    "from pyspark.sql import DataFrame\n",
    "\n",
    "\n",
    "def geo_df_convertor(source_df:DataFrame,lat_col_name:str, long_col_name:str,  source_epsg_code:str,target_epsg_code:str, target_geo_col_name:str=\"location\"):\n",
    "    \"\"\"\n",
    "    This function takes a dataframe with gps coordinate column(string type), convert the string column to a geometry column. The returned dataframe can be stored as geoparquet.\n",
    "    :param source_df: \n",
    "    :type source_df: \n",
    "    :param long_col_name: longitude column name\n",
    "    :type long_col_name: str\n",
    "    :param lat_col_name: latitude column name\n",
    "    :type lat_col_name: str\n",
    "    :param source_epsg_code: the csr code of the input gps coordinates\n",
    "    :type source_epsg_code: str\n",
    "    :param target_epsg_code: the csr code of the output gps coordinates\n",
    "    :type target_epsg_code: str\n",
    "    :param target_geo_col_name: \n",
    "    :type target_geo_col_name: \n",
    "    :return: \n",
    "    :rtype: \n",
    "    \"\"\"\n",
    "    # create a temp view of the source df, the table name is the name of the data frame\n",
    "    source_df.createOrReplaceTempView(f\"{source_df}\")\n",
    "    target_df = sedona.sql(f\"\"\"\n",
    "    SELECT \n",
    "    ST_Transform(ST_Point(CAST({lat_col_name} AS Decimal(24,20)), CAST({long_col_name} AS Decimal(24,20))), '{source_epsg_code}', '{target_epsg_code}') AS {target_geo_col_name} from {source_df}\"\"\")\n",
    "    return target_df\n",
    "\n",
    "def geo_table_convertor(source_table_name:str,lat_col_name:str, long_col_name:str,  source_epsg_code:str,target_epsg_code:str, target_geo_col_name:str=\"location\"):\n",
    "    \"\"\"\n",
    "    This function takes a spark temp view with gps coordinate column(string type), convert the string column to a geometry column. The returned dataframe can be stored as geoparquet.\n",
    "    :param source_table_name: \n",
    "    :type source_table_name: \n",
    "    :param target_geo_col_name: \n",
    "    :type target_geo_col_name: \n",
    "    :param long_col_name: \n",
    "    :type long_col_name: \n",
    "    :param lat_col_name: \n",
    "    :type lat_col_name: \n",
    "    :param source_epsg_code: \n",
    "    :type source_epsg_code: \n",
    "    :param target_epsg_code: \n",
    "    :type target_epsg_code: \n",
    "    :return: \n",
    "    :rtype: \n",
    "    \"\"\"\n",
    "    # create a temp view of the source df, the table name is the name of the data frame\n",
    "    target_df = sedona.sql(f\"\"\"\n",
    "    SELECT \n",
    "    ST_Transform(ST_Point(CAST({lat_col_name} AS Decimal(24,20)), CAST({long_col_name} AS Decimal(24,20))), '{source_epsg_code}', '{target_epsg_code}') AS {target_geo_col_name} from {source_table_name}\"\"\")\n",
    "    return target_df"
   ]
  },
  {
   "cell_type": "code",
   "execution_count": 28,
   "id": "71effcc55f258f42",
   "metadata": {
    "ExecuteTime": {
     "end_time": "2024-04-15T08:07:41.389405318Z",
     "start_time": "2024-04-15T08:07:38.285778676Z"
    },
    "collapsed": false
   },
   "outputs": [
    {
     "name": "stderr",
     "output_type": "stream",
     "text": [
      "                                                                                \r"
     ]
    },
    {
     "name": "stdout",
     "output_type": "stream",
     "text": [
      "converted hospital count:   315\n",
      "+--------------------+\n",
      "|            location|\n",
      "+--------------------+\n",
      "|POINT (48.8228839...|\n",
      "|POINT (48.8851863...|\n",
      "|POINT (48.8080214...|\n",
      "|POINT (48.8539673...|\n",
      "|POINT (48.5929609...|\n",
      "+--------------------+\n",
      "only showing top 5 rows\n"
     ]
    }
   ],
   "source": [
    "# Set up the epsg code value, osm uses epsg:25832\n",
    "source_epsg_code = \"epsg:4326\"\n",
    "# eu centered epsg code, more information can be found https://epsg.io/25832\n",
    "target_epsg_code = \"epsg:4326\"\n",
    "\n",
    "hospital_geo_table_name = \"hospital_geo\"\n",
    "hospital_geo_df = geo_table_convertor(\"hospital\",\"latitude\",\"longitude\",source_epsg_code,target_epsg_code)\n",
    "hospital_geo_df.cache()\n",
    "hospital_geo_df.createOrReplaceTempView(hospital_geo_table_name)\n",
    "\n",
    "\n",
    "print(f\"converted hospital count:   {hospital_geo_df.count()}\")\n",
    "sedona.sql(f\"select * from {hospital_geo_table_name}\").show(5)\n"
   ]
  },
  {
   "cell_type": "code",
   "execution_count": 29,
   "id": "60cb8407a4b3311d",
   "metadata": {
    "ExecuteTime": {
     "end_time": "2024-04-15T08:07:48.089272602Z",
     "start_time": "2024-04-15T08:07:45.631681828Z"
    },
    "collapsed": false
   },
   "outputs": [
    {
     "name": "stderr",
     "output_type": "stream",
     "text": [
      "                                                                                \r"
     ]
    },
    {
     "name": "stdout",
     "output_type": "stream",
     "text": [
      "converted clinic count:   219\n",
      "+--------------------+\n",
      "|            location|\n",
      "+--------------------+\n",
      "|POINT (48.9032601...|\n",
      "|POINT (48.8047184...|\n",
      "|POINT (48.8845476...|\n",
      "|POINT (48.9164788...|\n",
      "|POINT (48.8363503...|\n",
      "+--------------------+\n",
      "only showing top 5 rows\n"
     ]
    }
   ],
   "source": [
    "clinic_geo_table_name = \"clinic_geo\"\n",
    "clinic_geo_df = geo_table_convertor(\"clinic\",\"latitude\",\"longitude\",source_epsg_code,target_epsg_code)\n",
    "clinic_geo_df.cache()\n",
    "clinic_geo_df.createOrReplaceTempView(clinic_geo_table_name)\n",
    "\n",
    "print(f\"converted clinic count:   {clinic_geo_df.count()}\")\n",
    "sedona.sql(f\"select * from {clinic_geo_table_name}\").show(5)\n",
    "\n"
   ]
  },
  {
   "cell_type": "code",
   "execution_count": 30,
   "id": "fab3dac683b61c2f",
   "metadata": {
    "ExecuteTime": {
     "end_time": "2024-04-15T08:07:52.774722603Z",
     "start_time": "2024-04-15T08:07:50.212270169Z"
    },
    "collapsed": false
   },
   "outputs": [
    {
     "name": "stderr",
     "output_type": "stream",
     "text": [
      "                                                                                \r"
     ]
    },
    {
     "name": "stdout",
     "output_type": "stream",
     "text": [
      "converted doctors count:   1294\n",
      "+--------------------+\n",
      "|            location|\n",
      "+--------------------+\n",
      "|POINT (49.1018122...|\n",
      "|POINT (48.6924604...|\n",
      "|POINT (48.8234467...|\n",
      "|POINT (48.5700807...|\n",
      "|POINT (48.5678690...|\n",
      "+--------------------+\n",
      "only showing top 5 rows\n"
     ]
    }
   ],
   "source": [
    "doctors_geo_table_name = \"doctors_geo\"\n",
    "doctors_geo_df = geo_table_convertor(\"doctors\",\"latitude\",\"longitude\",source_epsg_code,target_epsg_code)\n",
    "doctors_geo_df.cache()\n",
    "doctors_geo_df.createOrReplaceTempView(doctors_geo_table_name)\n",
    "\n",
    "print(f\"converted doctors count:   {doctors_geo_df.count()}\")\n",
    "sedona.sql(f\"select * from {doctors_geo_table_name}\").show(5)"
   ]
  },
  {
   "cell_type": "code",
   "execution_count": 40,
   "id": "4307d25a-ed84-4113-909f-0008b4fff924",
   "metadata": {
    "ExecuteTime": {
     "end_time": "2024-04-15T08:55:40.666538098Z",
     "start_time": "2024-04-15T08:55:40.460614074Z"
    }
   },
   "outputs": [
    {
     "data": {
      "text/plain": [
       "DataFrame[hospital_point: string]"
      ]
     },
     "execution_count": 40,
     "metadata": {},
     "output_type": "execute_result"
    }
   ],
   "source": [
    "# the below sql query use where to filter all doctors and hospitals which have distance less than 100, then create 3 column, \n",
    "\n",
    "doctors_near_hospital_df = sedona.sql(f\"\"\"\n",
    "SELECT\n",
    "ST_AsGeoJSON(\n",
    "   ST_Transform(doctors_geo.location,     '{target_epsg_code}', 'epsg:4326')\n",
    ") doctors_point, \n",
    "ST_AsGeoJSON(\n",
    "   ST_Transform(hospital_geo.location, '{target_epsg_code}', 'epsg:4326')\n",
    ") hospital_point, \n",
    "ST_DistanceSphere(\n",
    "  doctors_geo.location, hospital_geo.location\n",
    ") distance_meter\n",
    "FROM doctors_geo, hospital_geo \n",
    "WHERE \n",
    "ST_DistanceSphere(doctors_geo.location, hospital_geo.location) <= 100\n",
    "\"\"\").cache()\n",
    "\n",
    "doctors_near_df = doctors_near_hospital_df.select(\"doctors_point\").distinct()\n",
    "doctors_near_df.cache()\n",
    "hospital_near_df = doctors_near_hospital_df.select(\"hospital_point\").distinct()\n",
    "hospital_near_df.cache()"
   ]
  },
  {
   "cell_type": "code",
   "execution_count": 41,
   "id": "938c727d8d2b2af5",
   "metadata": {
    "ExecuteTime": {
     "end_time": "2024-04-15T08:55:43.528542099Z",
     "start_time": "2024-04-15T08:55:42.023672424Z"
    },
    "collapsed": false
   },
   "outputs": [
    {
     "name": "stderr",
     "output_type": "stream",
     "text": [
      "                                                                                \r"
     ]
    },
    {
     "name": "stdout",
     "output_type": "stream",
     "text": [
      "+--------------------+--------------------+------------------+\n",
      "|       doctors_point|      hospital_point|    distance_meter|\n",
      "+--------------------+--------------------+------------------+\n",
      "|{\"type\":\"Point\",\"...|{\"type\":\"Point\",\"...| 82.32033706113094|\n",
      "|{\"type\":\"Point\",\"...|{\"type\":\"Point\",\"...| 53.00228892135059|\n",
      "|{\"type\":\"Point\",\"...|{\"type\":\"Point\",\"...| 71.37191949917427|\n",
      "|{\"type\":\"Point\",\"...|{\"type\":\"Point\",\"...| 30.11324175582708|\n",
      "|{\"type\":\"Point\",\"...|{\"type\":\"Point\",\"...| 51.86854940196954|\n",
      "|{\"type\":\"Point\",\"...|{\"type\":\"Point\",\"...| 40.82116425744196|\n",
      "|{\"type\":\"Point\",\"...|{\"type\":\"Point\",\"...| 42.30815658687326|\n",
      "|{\"type\":\"Point\",\"...|{\"type\":\"Point\",\"...|52.627921550669726|\n",
      "|{\"type\":\"Point\",\"...|{\"type\":\"Point\",\"...|54.564668537257354|\n",
      "|{\"type\":\"Point\",\"...|{\"type\":\"Point\",\"...| 91.45132268963458|\n",
      "|{\"type\":\"Point\",\"...|{\"type\":\"Point\",\"...| 69.06425407009839|\n",
      "|{\"type\":\"Point\",\"...|{\"type\":\"Point\",\"...| 89.08856109179862|\n",
      "|{\"type\":\"Point\",\"...|{\"type\":\"Point\",\"...| 25.69032804660417|\n",
      "|{\"type\":\"Point\",\"...|{\"type\":\"Point\",\"...| 86.16843262492218|\n",
      "|{\"type\":\"Point\",\"...|{\"type\":\"Point\",\"...| 8.376748247584429|\n",
      "|{\"type\":\"Point\",\"...|{\"type\":\"Point\",\"...| 58.53369517255964|\n",
      "|{\"type\":\"Point\",\"...|{\"type\":\"Point\",\"...|55.511825787172995|\n",
      "|{\"type\":\"Point\",\"...|{\"type\":\"Point\",\"...| 37.51170721145516|\n",
      "|{\"type\":\"Point\",\"...|{\"type\":\"Point\",\"...|  47.2262102003045|\n",
      "|{\"type\":\"Point\",\"...|{\"type\":\"Point\",\"...|30.138978844312838|\n",
      "+--------------------+--------------------+------------------+\n"
     ]
    },
    {
     "name": "stderr",
     "output_type": "stream",
     "text": [
      "                                                                                \r"
     ]
    }
   ],
   "source": [
    "doctors_near_hospital_df.show()"
   ]
  },
  {
   "cell_type": "code",
   "execution_count": 42,
   "id": "52307b89-b53f-47b6-8e91-db7289a2c21e",
   "metadata": {
    "ExecuteTime": {
     "end_time": "2024-04-15T08:55:51.333414768Z",
     "start_time": "2024-04-15T08:55:45.170224954Z"
    }
   },
   "outputs": [
    {
     "name": "stderr",
     "output_type": "stream",
     "text": [
      "                                                                                \r"
     ]
    },
    {
     "name": "stdout",
     "output_type": "stream",
     "text": [
      "doctors number: 26\n"
     ]
    },
    {
     "name": "stderr",
     "output_type": "stream",
     "text": [
      "[Stage 290:=========================================>           (156 + 6) / 200]\r"
     ]
    },
    {
     "name": "stdout",
     "output_type": "stream",
     "text": [
      "hospital number: 21\n"
     ]
    },
    {
     "name": "stderr",
     "output_type": "stream",
     "text": [
      "                                                                                \r"
     ]
    }
   ],
   "source": [
    "print(f\"doctors number: {doctors_near_df.count()}\")\n",
    "print(f\"hospital number: {hospital_near_df.count()}\")"
   ]
  },
  {
   "cell_type": "code",
   "execution_count": 43,
   "id": "fd45ff84-7071-428c-b8e5-a3e2a850eb06",
   "metadata": {
    "ExecuteTime": {
     "end_time": "2024-04-15T08:57:14.159329244Z",
     "start_time": "2024-04-15T08:57:11.290525081Z"
    }
   },
   "outputs": [
    {
     "name": "stderr",
     "output_type": "stream",
     "text": [
      "                                                                                \r"
     ]
    },
    {
     "data": {
      "application/vnd.jupyter.widget-view+json": {
       "model_id": "4fbeac2f3b2c451a98e92db159e4c03c",
       "version_major": 2,
       "version_minor": 0
      },
      "text/plain": [
       "Map(center=[48.870568063829765, 2.3099355595744666], controls=(ZoomControl(options=['position', 'zoom_in_text'…"
      ]
     },
     "metadata": {},
     "output_type": "display_data"
    }
   ],
   "source": [
    "doctors_near_pos = tuple([Marker(location=tuple(json.loads(row[\"doctors_point\"])[\"coordinates\"]), icon=icon_doctors) for row in doctors_near_df.collect()])\n",
    "hospital_near_pos  = tuple([Marker(location=tuple(json.loads(row[\"hospital_point\"])[\"coordinates\"]), icon=icon_hospital) for row in hospital_near_df.collect()])\n",
    "\n",
    "doctors_near_marker = MarkerCluster(markers=doctors_near_pos)\n",
    "hospital_near_marker = MarkerCluster(markers=hospital_near_pos)\n",
    "\n",
    "latitudes =  np.array([x.location[0] for x in doctors_near_pos]+[x.location[0] for x in hospital_near_pos])\n",
    "longitudes = np.array([x.location[1] for x in doctors_near_pos]+[x.location[1] for x in hospital_near_pos])\n",
    "\n",
    "ce = [latitudes.mean(), longitudes.mean()]\n",
    "\n",
    "\n",
    "doc_hospital_near_map = Map(\n",
    "    basemap=basemap_to_tiles(basemaps.OpenStreetMap.Mapnik),\n",
    "    center=ce,\n",
    "    layout=Layout(width='50%', height='800px'),\n",
    "    zoom=7\n",
    ")\n",
    "\n",
    "doc_hospital_near_map.add_layer(doctors_near_marker)\n",
    "doc_hospital_near_map.add_layer(hospital_near_marker)\n",
    "\n",
    "display(doc_hospital_near_map)"
   ]
  },
  {
   "cell_type": "code",
   "execution_count": null,
   "id": "65701738-4776-426b-a5ef-1a4ca6e78f28",
   "metadata": {},
   "outputs": [],
   "source": []
  }
 ],
 "metadata": {
  "kernelspec": {
   "display_name": "Python 3 (ipykernel)",
   "language": "python",
   "name": "python3"
  },
  "language_info": {
   "codemirror_mode": {
    "name": "ipython",
    "version": 3
   },
   "file_extension": ".py",
   "mimetype": "text/x-python",
   "name": "python",
   "nbconvert_exporter": "python",
   "pygments_lexer": "ipython3",
   "version": "3.10.13"
  }
 },
 "nbformat": 4,
 "nbformat_minor": 5
}
