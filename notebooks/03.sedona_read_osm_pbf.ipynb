{
 "cells": [
  {
   "cell_type": "markdown",
   "source": [
    "# Apache Sedona and OSM\n",
    "\n",
    "In this tutorial, we will use apache sedona to read geospatial data which are provided by OSM(Open Street Map).\n",
    "OSM provides data with various format (e.g. PBF, shapefile, etc.). In this tutorial, we will use `PBF format` ([Protocolbuffer Binary Format](https://wiki.openstreetmap.org/wiki/PBF_Format)).\n",
    "\n",
    "## 1. Get the sample data\n",
    "\n",
    "## 2. Read the PBF format with Sedona(Spark)\n",
    "\n",
    "By default, sedona can not read PBF file directly. But there is a `spark polyglot connector` called [osm4scala](https://simplexspatial.github.io/osm4scala/). You can also visit their github page [here](https://github.com/simplexspatial/osm4scala) \n",
    "\n",
    "To make it work, it's quite simple:\n",
    "- online mode: In the sparkSession creation clause add the **.config('spark.jars.packages','com.acervera.osm4scala:osm4scala-spark3-shaded_2.12:1.0.11')**\n",
    "- offline mode: You need to download the jar file first, then in the sparkSession creation clause add the **.config(''spark.jars', jar_path')**\n",
    "\n",
    "> You can find more information about the jar file [here](https://simplexspatial.github.io/osm4scala/docs/spark-connector)\n",
    "\n",
    "## 3. Understand the basic OSM data structure\n",
    "\n",
    "OpenStreetMap uses a `topological data structure`, with `four core elements` (aka data primitives):\n",
    "\n",
    "- **Nodes**: are points with a geographic position, stored as coordinates (pairs of a latitude and a longitude) according to `WGS 84`. Outside their usage in ways, they are used to represent map features without a size, such as `points of interest` or mountain peaks.\n",
    "- **Ways**: are ordered lists of `nodes`, representing a `polyline, or possibly a polygon` if they form a closed loop. They are used both for representing linear features such as streets and rivers, and areas, like forests, parks, parking areas and lakes.\n",
    "- **Relations**: are `ordered lists of nodes, ways and relations` (together called \"members\"), where each member can optionally have a \"role\" (a string). Relations are used for representing the relationship of existing nodes and ways. Examples include turn restrictions on roads, routes that span several existing ways (for instance, a long-distance motorway), and areas with holes.\n",
    "- **Tags**: are `key-value pairs (both arbitrary strings)`. They are used to store metadata about the map objects (such as their type, their name and their physical properties). `Tags are not freestanding, but are always attached to an object: to a node, a way or a relation`. A recommended ontology of map features (the meaning of tags) is maintained on a wiki. New tagging schemes can always be proposed by a popular vote of a written proposal in OpenStreetMap wiki, however, there is no requirement to follow this process. There are over 89 million different kinds of tags in use as of June 2017."
   ],
   "metadata": {
    "collapsed": false
   },
   "id": "66d894eda3afb241"
  },
  {
   "cell_type": "code",
   "execution_count": null,
   "outputs": [],
   "source": [
    "from sedona.spark import *\n",
    "from pathlib import Path\n",
    "import json\n",
    "\n",
    "from ipyleaflet import Map, basemaps, basemap_to_tiles, MarkerCluster, Marker, AwesomeIcon\n",
    "from ipywidgets import Layout\n",
    "import numpy as np"
   ],
   "metadata": {
    "collapsed": false
   },
   "id": "9944ab92f653ea31"
  },
  {
   "cell_type": "code",
   "execution_count": 2,
   "id": "6c5eb7ef630603c6",
   "metadata": {
    "ExecuteTime": {
     "end_time": "2024-04-10T12:19:05.212641891Z",
     "start_time": "2024-04-10T12:18:25.302843394Z"
    },
    "collapsed": false
   },
   "outputs": [
    {
     "name": "stdout",
     "output_type": "stream",
     "text": [
      "24/04/11 10:05:06 WARN Utils: Your hostname, pengfei-Virtual-Machine resolves to a loopback address: 127.0.1.1; using 10.50.2.80 instead (on interface eth0)\n",
      "24/04/11 10:05:06 WARN Utils: Set SPARK_LOCAL_IP if you need to bind to another address\n",
      ":: loading settings :: url = jar:file:/home/pengfei/opt/spark/spark-3.3.0/jars/ivy-2.5.0.jar!/org/apache/ivy/core/settings/ivysettings.xml\n"
     ]
    },
    {
     "name": "stderr",
     "output_type": "stream",
     "text": [
      "Ivy Default Cache set to: /home/pengfei/.ivy2/cache\n",
      "The jars for the packages stored in: /home/pengfei/.ivy2/jars\n",
      "com.acervera.osm4scala#osm4scala-spark3-shaded_2.12 added as a dependency\n",
      "org.apache.sedona#sedona-spark-shaded-3.0_2.12 added as a dependency\n",
      "org.datasyslab#geotools-wrapper added as a dependency\n",
      ":: resolving dependencies :: org.apache.spark#spark-submit-parent-0e67dc31-cc58-4873-b7ed-443abd90fa96;1.0\n",
      "\tconfs: [default]\n",
      "\tfound com.acervera.osm4scala#osm4scala-spark3-shaded_2.12;1.0.11 in central\n",
      "\tfound org.apache.sedona#sedona-spark-shaded-3.0_2.12;1.4.1 in central\n",
      "\tfound org.datasyslab#geotools-wrapper;1.4.0-28.2 in central\n",
      ":: resolution report :: resolve 362ms :: artifacts dl 16ms\n",
      "\t:: modules in use:\n",
      "\tcom.acervera.osm4scala#osm4scala-spark3-shaded_2.12;1.0.11 from central in [default]\n",
      "\torg.apache.sedona#sedona-spark-shaded-3.0_2.12;1.4.1 from central in [default]\n",
      "\torg.datasyslab#geotools-wrapper;1.4.0-28.2 from central in [default]\n",
      "\t---------------------------------------------------------------------\n",
      "\t|                  |            modules            ||   artifacts   |\n",
      "\t|       conf       | number| search|dwnlded|evicted|| number|dwnlded|\n",
      "\t---------------------------------------------------------------------\n",
      "\t|      default     |   3   |   0   |   0   |   0   ||   3   |   0   |\n",
      "\t---------------------------------------------------------------------\n",
      ":: retrieving :: org.apache.spark#spark-submit-parent-0e67dc31-cc58-4873-b7ed-443abd90fa96\n",
      "\tconfs: [default]\n",
      "\t0 artifacts copied, 3 already retrieved (0kB/7ms)\n"
     ]
    },
    {
     "name": "stdout",
     "output_type": "stream",
     "text": [
      "24/04/11 10:05:08 WARN NativeCodeLoader: Unable to load native-hadoop library for your platform... using builtin-java classes where applicable\n"
     ]
    },
    {
     "name": "stderr",
     "output_type": "stream",
     "text": [
      "Setting default log level to \"WARN\".\n",
      "To adjust logging level use sc.setLogLevel(newLevel). For SparkR, use setLogLevel(newLevel).\n",
      "                                                                                \r"
     ]
    }
   ],
   "source": [
    "# build a sedona session (sedona = 1.5.1)\n",
    "config = SedonaContext.builder() \\\n",
    "    .appName(\"Sedona with pyspark\") \\\n",
    "    .master(\"local[*]\") \\\n",
    "    .config(\"spark.driver.memory\", \"6g\") \\\n",
    "    .config('spark.jars.packages',\n",
    "            'com.acervera.osm4scala:osm4scala-spark3-shaded_2.12:1.0.11,' \n",
    "            'org.apache.sedona:sedona-spark-shaded-3.0_2.12:1.4.1,' \n",
    "            'org.datasyslab:geotools-wrapper:1.4.0-28.2'). \\\n",
    "     getOrCreate()\n",
    "\n",
    "# create a sedona context\n",
    "sedona = SedonaContext.create(config)"
   ]
  },
  {
   "cell_type": "code",
   "execution_count": 3,
   "id": "8079ba9c1f1c1f4b",
   "metadata": {
    "ExecuteTime": {
     "end_time": "2024-04-10T12:27:38.046592032Z",
     "start_time": "2024-04-10T12:27:37.997868528Z"
    },
    "collapsed": false
   },
   "outputs": [],
   "source": [
    "homePath = \"/home/pengfei/data_set/geo_spatial\"\n",
    "filePath= f\"{homePath}/ile-de-france-latest.osm.pbf\""
   ]
  },
  {
   "cell_type": "code",
   "execution_count": 4,
   "id": "cb7472c6bf640a6e",
   "metadata": {
    "ExecuteTime": {
     "end_time": "2024-04-10T12:25:07.212519853Z",
     "start_time": "2024-04-10T12:25:06.313811958Z"
    },
    "collapsed": false
   },
   "outputs": [],
   "source": [
    "raw_df = sedona.read.format(\"osm.pbf\").load(filePath)"
   ]
  },
  {
   "cell_type": "code",
   "execution_count": 5,
   "id": "67a65425aec1d1b8",
   "metadata": {
    "ExecuteTime": {
     "end_time": "2024-04-10T12:25:19.574515859Z",
     "start_time": "2024-04-10T12:25:17.671531745Z"
    },
    "collapsed": false
   },
   "outputs": [
    {
     "name": "stdout",
     "output_type": "stream",
     "text": [
      "+------+----+------------------+------------------+-----+---------+--------------------+--------------------+\n",
      "|    id|type|          latitude|         longitude|nodes|relations|                tags|                info|\n",
      "+------+----+------------------+------------------+-----+---------+--------------------+--------------------+\n",
      "|122626|   0|49.115966300000004|         2.5549119|   []|       []|                  {}|{3, 2020-05-10 11...|\n",
      "|122627|   0|49.110294100000004|         2.5521725|   []|       []|                  {}|{4, 2009-02-13 19...|\n",
      "|122631|   0|        49.0834393|2.5511375000000003|   []|       []|                  {}|{15, 2021-06-30 1...|\n",
      "|122632|   0|        49.0675225|2.5524679000000003|   []|       []|                  {}|{17, 2019-04-10 1...|\n",
      "|122633|   0|         49.063616|2.5522412000000005|   []|       []|                  {}|{17, 2009-02-13 1...|\n",
      "|122634|   0|        49.0597465|2.5509097000000005|   []|       []|                  {}|{2, 2009-02-13 19...|\n",
      "|122635|   0|        49.0551989|2.5486690000000003|   []|       []|{highway -> emerg...|{20, 2023-03-05 1...|\n",
      "|122637|   0|         49.046553|2.5460228000000003|   []|       []|                  {}|{3, 2012-03-21 19...|\n",
      "|122638|   0|49.042466000000005|2.5435980000000002|   []|       []|                  {}|{24, 2009-02-13 1...|\n",
      "|122639|   0|49.039122400000004|2.5421644000000003|   []|       []|                  {}|{6, 2014-05-31 18...|\n",
      "|122640|   0|49.033757900000005|2.5402285000000004|   []|       []|                  {}|{4, 2019-04-10 11...|\n",
      "|122642|   0|49.006576100000004|2.5269186000000006|   []|       []|                  {}|{8, 2012-09-01 00...|\n",
      "|122922|   0|48.875346400000005|2.4402228000000004|   []|       []|                  {}|{3, 2014-05-07 10...|\n",
      "|122923|   0| 48.87823900000001|2.4462307000000005|   []|       []|                  {}|{3, 2010-10-18 22...|\n",
      "|122924|   0| 48.88325530000001|2.4577488000000005|   []|       []|{source -> data.g...|{4, 2020-06-08 13...|\n",
      "|122925|   0| 48.88400510000001|2.4598863000000004|   []|       []|                  {}|{4, 2012-09-12 12...|\n",
      "|122926|   0| 48.88408150000001|2.4635493000000004|   []|       []|                  {}|{4, 2018-08-01 00...|\n",
      "|122927|   0|48.883974300000006|2.4654187000000003|   []|       []|                  {}|{6, 2010-09-17 00...|\n",
      "|122928|   0|48.884235200000006|2.4697861000000003|   []|       []|                  {}|{5, 2011-04-18 11...|\n",
      "|122929|   0|        48.8847548|2.4710061000000003|   []|       []|                  {}|{5, 2011-04-18 11...|\n",
      "+------+----+------------------+------------------+-----+---------+--------------------+--------------------+\n"
     ]
    }
   ],
   "source": [
    "raw_df.show()"
   ]
  },
  {
   "cell_type": "code",
   "execution_count": 6,
   "id": "42f60fda344f14db",
   "metadata": {
    "ExecuteTime": {
     "end_time": "2024-04-10T12:32:02.998110725Z",
     "start_time": "2024-04-10T12:32:02.955414986Z"
    },
    "collapsed": false
   },
   "outputs": [
    {
     "name": "stdout",
     "output_type": "stream",
     "text": [
      "root\n",
      " |-- id: long (nullable = true)\n",
      " |-- type: byte (nullable = true)\n",
      " |-- latitude: double (nullable = true)\n",
      " |-- longitude: double (nullable = true)\n",
      " |-- nodes: array (nullable = true)\n",
      " |    |-- element: long (containsNull = true)\n",
      " |-- relations: array (nullable = true)\n",
      " |    |-- element: struct (containsNull = true)\n",
      " |    |    |-- id: long (nullable = true)\n",
      " |    |    |-- relationType: byte (nullable = true)\n",
      " |    |    |-- role: string (nullable = true)\n",
      " |-- tags: map (nullable = true)\n",
      " |    |-- key: string\n",
      " |    |-- value: string (valueContainsNull = true)\n",
      " |-- info: struct (nullable = true)\n",
      " |    |-- version: integer (nullable = true)\n",
      " |    |-- timestamp: timestamp (nullable = true)\n",
      " |    |-- changeset: long (nullable = true)\n",
      " |    |-- userId: integer (nullable = true)\n",
      " |    |-- userName: string (nullable = true)\n",
      " |    |-- visible: boolean (nullable = true)\n"
     ]
    }
   ],
   "source": [
    "raw_df.printSchema()"
   ]
  },
  {
   "cell_type": "code",
   "execution_count": 7,
   "id": "f2b58a7d9cbc1600",
   "metadata": {
    "ExecuteTime": {
     "end_time": "2024-04-10T12:27:41.295684899Z",
     "start_time": "2024-04-10T12:27:41.262550592Z"
    },
    "collapsed": false
   },
   "outputs": [],
   "source": [
    "outPath=f\"{homePath}/ile-de-france-geo-parquet\""
   ]
  },
  {
   "cell_type": "code",
   "execution_count": 11,
   "id": "c247e5142560a17c",
   "metadata": {
    "ExecuteTime": {
     "end_time": "2024-04-10T13:00:53.952463059Z",
     "start_time": "2024-04-10T12:58:26.507682318Z"
    },
    "collapsed": false
   },
   "outputs": [
    {
     "name": "stderr",
     "output_type": "stream",
     "text": [
      "                                                                                \r"
     ]
    }
   ],
   "source": [
    "raw_df.write.mode(\"overwrite\").format(\"parquet\").save(outPath)"
   ]
  },
  {
   "cell_type": "markdown",
   "id": "a3d5d9d431f011b2",
   "metadata": {
    "collapsed": false
   },
   "source": [
    "# Separate the node and ways\n",
    "\n"
   ]
  },
  {
   "cell_type": "code",
   "execution_count": 7,
   "id": "7314050b06f5ef8b",
   "metadata": {
    "ExecuteTime": {
     "end_time": "2024-04-10T13:29:19.105110901Z",
     "start_time": "2024-04-10T13:29:18.791219584Z"
    },
    "collapsed": false
   },
   "outputs": [],
   "source": [
    "node_df = raw_df.where(\"type = 0\")\n",
    "way_df = raw_df.where(\"type = 1\")"
   ]
  },
  {
   "cell_type": "code",
   "execution_count": 8,
   "id": "9d18bd0b5dd992f8",
   "metadata": {
    "ExecuteTime": {
     "end_time": "2024-04-10T13:30:20.011250127Z",
     "start_time": "2024-04-10T13:30:19.740744729Z"
    },
    "collapsed": false
   },
   "outputs": [],
   "source": [
    "node_simple_df = node_df.select(\"id\",\"latitude\", \"longitude\")\n",
    "way_simple_df = way_df.drop(\"id\",\"latitude\", \"longitude\")\n",
    "way_with_gps_df = way_simple_df.join(\n",
    "    node_simple_df, way_simple_df.nodes.getItem(0) == node_simple_df.id)\n",
    "\n",
    "way_simple_df = way_with_gps_df.select(\"latitude\", \"longitude\", \"tags\")\n",
    "node_simple_df = node_df.select(\"latitude\", \"longitude\", \"tags\")"
   ]
  },
  {
   "cell_type": "code",
   "execution_count": 22,
   "id": "94eb683e67184c7d",
   "metadata": {
    "ExecuteTime": {
     "end_time": "2024-04-10T13:43:56.344267766Z",
     "start_time": "2024-04-10T13:42:25.136615092Z"
    },
    "collapsed": false
   },
   "outputs": [
    {
     "name": "stderr",
     "output_type": "stream",
     "text": [
      "[Stage 39:==========================================================(4 + 0) / 4]\r"
     ]
    },
    {
     "name": "stdout",
     "output_type": "stream",
     "text": [
      "+------------------+------------------+------------------------------------------------------------------------------------------------------------------------------------------------------------------------------------------------------------------------------------------------------------------------------------------------------------------------------------------------------------------------------------------------------------------------------------------------------------------------------------------------------------------------------------+\n",
      "|latitude          |longitude         |tags                                                                                                                                                                                                                                                                                                                                                                                                                                                                                                                                |\n",
      "+------------------+------------------+------------------------------------------------------------------------------------------------------------------------------------------------------------------------------------------------------------------------------------------------------------------------------------------------------------------------------------------------------------------------------------------------------------------------------------------------------------------------------------------------------------------------------------+\n",
      "|48.74317940000001 |2.3225308         |{name -> Autoroute du Soleil, int_ref -> E 05, start_date -> 1960, surface -> asphalt, maxspeed -> 110, highway -> motorway, ref -> A 6, lit -> yes, lanes -> 4, toll -> no, hazmat -> no, operator -> DIRIF, smoothness -> good, oneway -> yes}                                                                                                                                                                                                                                                                                    |\n",
      "|48.86332490000002 |2.4087188000000013|{cycleway:both -> no, name -> Boulevard Davout, surface -> asphalt, maxspeed -> 50, highway -> primary, lit -> yes, lanes -> 2, dual_carriageway -> yes, name:etymology:wikidata -> Q158778, sidewalk:right -> separate, oneway -> yes}                                                                                                                                                                                                                                                                                             |\n",
      "|48.80058040000003 |2.3420713         |{hazmat:B -> no, int_ref -> E 05, start_date -> 1960, hazmat:D -> no, hazmat:C -> no, surface -> asphalt, maxspeed -> 70, highway -> motorway, ref -> A 6a, lit -> yes, lanes -> 3, toll -> no, hazmat -> no, operator -> DIRIF, hazmat:A -> no, hazmat:E -> no, oneway -> yes}                                                                                                                                                                                                                                                     |\n",
      "|48.858418200000024|2.2589320000000006|{name -> Chemin de Ceinture du Lac Inférieur, motor_vehicle -> no, surface -> sett, highway -> service, service -> alley, bicycle -> yes}                                                                                                                                                                                                                                                                                                                                                                                           |\n",
      "|48.858418200000024|2.2589320000000006|{name -> Avenue de l'Hippodrome, lanes:forward -> 1, surface -> asphalt, maxspeed -> 50, highway -> secondary, lit -> yes, lanes -> 2, cycleway -> separate, lanes:backward -> 1, sidewalk -> separate}                                                                                                                                                                                                                                                                                                                             |\n",
      "|48.862292200000034|2.238310500000001 |{name -> Route de Sèvres à Neuilly, surface -> asphalt, maxspeed -> 50, highway -> secondary, lit -> yes, lanes -> 2, cycleway:right -> separate, bicycle:backward -> use_sidepath, oneway -> yes, cycleway:left -> no}                                                                                                                                                                                                                                                                                                             |\n",
      "|48.862292200000034|2.238310500000001 |{maxspeed -> 30, highway -> service, foot -> yes, bicycle -> yes, oneway -> yes, access -> customers}                                                                                                                                                                                                                                                                                                                                                                                                                               |\n",
      "|48.83802810000003 |2.3510000000000013|{name -> Rue du Petit Moine, surface -> asphalt, maxspeed -> 30, highway -> residential, lit -> yes, cycleway -> opposite, source:maxspeed -> BMO arrêté n°2010-086, sidewalk -> separate, zone:maxspeed -> FR:30, name:etymology:wikidata -> Q1211272, oneway -> yes, oneway:bicycle -> no}                                                                                                                                                                                                                                        |\n",
      "|48.83802810000003 |2.3510000000000013|{name -> Avenue des Gobelins, surface -> asphalt, maxspeed -> 30, turn:lanes -> left|through, highway -> secondary, lit -> yes, lanes -> 2, cycleway:right:lane -> exclusive, source:maxspeed -> FR:urban, smoothness -> good, dual_carriageway -> yes, cycleway:right -> lane, sidewalk -> right, name:etymology:wikidata -> Q732312, oneway -> yes, cycleway:left -> no}                                                                                                                                                          |\n",
      "|48.83802810000003 |2.3510000000000013|{name -> Avenue des Gobelins, lanes:forward -> 2, surface -> asphalt, maxspeed -> 30, sidewalk:both:surface -> asphalt, highway -> secondary, psv:lanes:forward -> yes|designated, lit -> yes, lanes -> 4, bicycle:lanes:forward -> yes|designated, cycleway -> share_busway, source:maxspeed -> FR:urban, smoothness -> good, lanes:backward -> 2, sidewalk -> both, psv:lanes:backward -> yes|designated, name:etymology:wikidata -> Q732312, busway:right -> lane, bicycle:lanes:backward -> yes|designated, busway:left -> lane}|\n",
      "|48.857491000000046|2.351447000000001 |{name -> Rue de Rivoli, source -> cadastre-dgi-fr source : Direction Générale des Impôts - Cadastre. Mise à jour : 2010, surface -> asphalt, maxspeed -> 30, highway -> secondary, lit -> yes, lanes -> 2, was:highway -> primary, bicycle -> yes, source:maxspeed -> FR:urban, name:de -> Rue de Rivoli, smoothness -> good, sidewalk:both -> separate, name:es -> Rue de Rivoli, bicycle:backward -> use_sidepath, name:etymology:wikidata -> Q1069936, name:ru -> Улица Риволи, name:fr -> Rue de Rivoli, oneway -> yes}         |\n",
      "|48.857491000000046|2.351447000000001 |{name -> Rue de Rivoli, bus -> designated, motor_vehicle -> destination;delivery, source -> cadastre-dgi-fr source : Direction Générale des Impôts - Cadastre. Mise à jour : 2010, surface -> asphalt, maxspeed -> 30, highway -> service, lit -> yes, name:de -> Rue de Rivoli, smoothness -> good, name:es -> Rue de Rivoli, psv -> yes, name:etymology:wikidata -> Q1069936, name:ru -> Улица Риволи, name:fr -> Rue de Rivoli, oneway -> yes, access -> no}                                                                     |\n",
      "|48.88468970000004 |2.329535300000001 |{name -> Rue Forest, motor_vehicle -> destination, surface -> asphalt, maxspeed -> 30, sidewalk:both:surface -> asphalt, highway -> residential, lit -> yes, cycleway -> opposite, smoothness -> good, sidewalk -> both, zone:maxspeed -> FR:30, emergency -> yes, oneway -> yes, oneway:bicycle -> no}                                                                                                                                                                                                                             |\n",
      "|48.88468970000004 |2.329535300000001 |{bicycle:lanes -> yes|yes|designated, sidewalk:left -> no, name -> Boulevard de Clichy, parking:both -> no, surface -> asphalt, maxspeed -> 30, highway -> primary, taxi:lanes -> yes|yes|designated, bus:lanes -> yes|yes|designated, lit -> yes, lanes -> 3, dual_carriageway -> yes, cycleway:right -> share_busway, name:etymology:wikidata -> Q2064625, sidewalk:right -> separate, busway:right -> lane, psv:lanes -> yes|yes|designated, oneway -> yes}                                                                      |\n",
      "|48.82616320000004 |2.3599616000000014|{cycleway:both -> no, name -> Avenue de Choisy, lanes:forward -> 1, surface -> asphalt, maxspeed -> 30, highway -> secondary, lit -> yes, lanes -> 3, source:maxspeed -> FR:urban, sidewalk:both -> separate, lanes:backward -> 2, name:etymology:wikidata -> Q212987}                                                                                                                                                                                                                                                              |\n",
      "|48.82616320000004 |2.3599616000000014|{name -> Rue de Tolbiac, lanes:forward -> 1, surface -> asphalt, maxspeed -> 30, highway -> secondary, lit -> yes, maxheight -> none, lanes -> 3, sidewalk:both -> separate, lanes:backward -> 2, psv:lanes:backward -> yes|designated, name:etymology:wikidata -> Q264737, bicycle:lanes:backward -> yes|designated, busway:left -> lane, cycleway:left -> share_busway}                                                                                                                                                           |\n",
      "|48.82616320000004 |2.3599616000000014|{cycleway:both -> no, name -> Avenue de Choisy, source -> cadastre-dgi-fr source : Direction Générale des Impôts - Cadastre. Mise à jour : 2012, surface -> asphalt, maxspeed -> 30, highway -> secondary, lit -> yes, lanes -> 2, sidewalk -> both, name:etymology:wikidata -> Q212987, oneway -> yes}                                                                                                                                                                                                                             |\n",
      "|48.85210300000005 |2.3402952999999997|{cycleway:left:lane -> exclusive, name -> Boulevard Saint-Germain, surface -> asphalt, maxspeed -> 30, cycleway:left:oneway -> -1, highway -> tertiary, lit -> yes, lanes -> 2, smoothness -> good, cycleway:right -> no, name:etymology:wikidata -> Q255910, oneway -> yes, cycleway:left -> lane, oneway:bicycle -> no}                                                                                                                                                                                                           |\n",
      "|48.84107170000004 |2.3216243         |{parking:lane:right -> no, sidewalk:left -> no, name -> Rue du Départ, surface -> asphalt, maxspeed -> 30, parking:lane:left -> parallel, highway -> secondary, lit -> yes, lanes -> 1, dual_carriageway -> yes, cycleway:right -> share_busway, parking:lane:left:parallel -> on_street, sidewalk:right -> separate, busway:right -> lane, name:br -> Straed Al Loc'hañ, oneway -> yes}                                                                                                                                            |\n",
      "|48.85483190000002 |2.2423969         |{name -> Route du Point du Jour à Suresnes, motor_vehicle -> no, tracktype -> grade1, surface -> asphalt, maxspeed -> 30, highway -> service, foot -> yes, service -> alley, bicycle -> yes}                                                                                                                                                                                                                                                                                                                                        |\n",
      "+------------------+------------------+------------------------------------------------------------------------------------------------------------------------------------------------------------------------------------------------------------------------------------------------------------------------------------------------------------------------------------------------------------------------------------------------------------------------------------------------------------------------------------------------------------------------------------+\n"
     ]
    },
    {
     "name": "stderr",
     "output_type": "stream",
     "text": [
      "                                                                                \r"
     ]
    }
   ],
   "source": [
    "way_simple_df.show(truncate=False)\n"
   ]
  },
  {
   "cell_type": "code",
   "execution_count": 23,
   "id": "8e629005acdf9410",
   "metadata": {
    "ExecuteTime": {
     "end_time": "2024-04-10T13:46:20.949959519Z",
     "start_time": "2024-04-10T13:46:20.616858229Z"
    },
    "collapsed": false
   },
   "outputs": [
    {
     "name": "stdout",
     "output_type": "stream",
     "text": [
      "+------------------+------------------+-----------------------------------------------------------------------------------------------------------------------+\n",
      "|latitude          |longitude         |tags                                                                                                                   |\n",
      "+------------------+------------------+-----------------------------------------------------------------------------------------------------------------------+\n",
      "|49.115966300000004|2.5549119         |{}                                                                                                                     |\n",
      "|49.110294100000004|2.5521725         |{}                                                                                                                     |\n",
      "|49.0834393        |2.5511375000000003|{}                                                                                                                     |\n",
      "|49.0675225        |2.5524679000000003|{}                                                                                                                     |\n",
      "|49.063616         |2.5522412000000005|{}                                                                                                                     |\n",
      "|49.0597465        |2.5509097000000005|{}                                                                                                                     |\n",
      "|49.0551989        |2.5486690000000003|{highway -> emergency_bay}                                                                                             |\n",
      "|49.046553         |2.5460228000000003|{}                                                                                                                     |\n",
      "|49.042466000000005|2.5435980000000002|{}                                                                                                                     |\n",
      "|49.039122400000004|2.5421644000000003|{}                                                                                                                     |\n",
      "|49.033757900000005|2.5402285000000004|{}                                                                                                                     |\n",
      "|49.006576100000004|2.5269186000000006|{}                                                                                                                     |\n",
      "|48.875346400000005|2.4402228000000004|{}                                                                                                                     |\n",
      "|48.87823900000001 |2.4462307000000005|{}                                                                                                                     |\n",
      "|48.88325530000001 |2.4577488000000005|{source -> data.gouv.fr, ref:highway -> A 3, highway -> milestone, operator -> DIRIF, nat_ref -> 93PR4G, distance -> 4}|\n",
      "|48.88400510000001 |2.4598863000000004|{}                                                                                                                     |\n",
      "|48.88408150000001 |2.4635493000000004|{}                                                                                                                     |\n",
      "|48.883974300000006|2.4654187000000003|{}                                                                                                                     |\n",
      "|48.884235200000006|2.4697861000000003|{}                                                                                                                     |\n",
      "|48.8847548        |2.4710061000000003|{}                                                                                                                     |\n",
      "+------------------+------------------+-----------------------------------------------------------------------------------------------------------------------+\n"
     ]
    }
   ],
   "source": [
    "node_simple_df.show(truncate=False)"
   ]
  },
  {
   "cell_type": "code",
   "execution_count": 9,
   "id": "65644ef6a0f5e39d",
   "metadata": {
    "ExecuteTime": {
     "end_time": "2024-04-10T13:31:11.641726345Z",
     "start_time": "2024-04-10T13:31:10.803361539Z"
    },
    "collapsed": false
   },
   "outputs": [
    {
     "data": {
      "text/plain": [
       "DataFrame[latitude: double, longitude: double, tags: map<string,string>]"
      ]
     },
     "execution_count": 9,
     "metadata": {},
     "output_type": "execute_result"
    }
   ],
   "source": [
    "charge_and_food_df = way_simple_df.union(node_simple_df).\\\n",
    "    where(\"element_at(tags, 'amenity') in ('charging_station', 'fast_food')\")\n",
    "charge_and_food_df.cache()"
   ]
  },
  {
   "cell_type": "code",
   "execution_count": 10,
   "id": "6b78078bdc1361d9",
   "metadata": {
    "ExecuteTime": {
     "end_time": "2024-04-10T13:31:24.989210283Z",
     "start_time": "2024-04-10T13:31:24.666212668Z"
    },
    "collapsed": false
   },
   "outputs": [],
   "source": [
    "charger_df = charge_and_food_df.select(\"latitude\", \"longitude\").\\\n",
    "    where(\"element_at(tags, 'amenity') == 'charging_station' and instr(element_at(tags, 'socket:type2_combo:output'),' kW') > 0 and replace(element_at(tags, 'socket:type2_combo:output'), ' kW','') > 50\")\n",
    "charger_df.createOrReplaceTempView(\"charger\")\n",
    "\n",
    "fast_food_df = charge_and_food_df.select(\"latitude\", \"longitude\").\\\n",
    "    where(\"element_at(tags, 'amenity') == 'fast_food'\")\n",
    "fast_food_df.createOrReplaceTempView(\"fast_food\")"
   ]
  },
  {
   "cell_type": "code",
   "execution_count": 11,
   "id": "95274bbe14892a64",
   "metadata": {
    "ExecuteTime": {
     "end_time": "2024-04-10T13:33:48.120229632Z",
     "start_time": "2024-04-10T13:33:48.086960720Z"
    },
    "collapsed": false
   },
   "outputs": [],
   "source": [
    "icon_charger = AwesomeIcon(\n",
    "    name='fa-battery-full',\n",
    "    marker_color='green',\n",
    "    icon_color='darkgreen'\n",
    ")\n",
    "\n",
    "icon_fast_food = AwesomeIcon(\n",
    "    name='fa-cutlery',\n",
    "    marker_color='red',\n",
    "    icon_color='black'\n",
    ")"
   ]
  },
  {
   "cell_type": "code",
   "execution_count": 12,
   "id": "1f68a478f4c8c063",
   "metadata": {
    "ExecuteTime": {
     "end_time": "2024-04-10T13:36:56.397895250Z",
     "start_time": "2024-04-10T13:34:47.755447685Z"
    },
    "collapsed": false
   },
   "outputs": [
    {
     "name": "stderr",
     "output_type": "stream",
     "text": [
      "                                                                                \r"
     ]
    },
    {
     "data": {
      "application/vnd.jupyter.widget-view+json": {
       "model_id": "9cd8f3030ca74dd59e67dc0072bdf603",
       "version_major": 2,
       "version_minor": 0
      },
      "text/plain": [
       "Map(center=[48.79681462758624, 2.3822608034482764], controls=(ZoomControl(options=['position', 'zoom_in_text',…"
      ]
     },
     "metadata": {},
     "output_type": "display_data"
    }
   ],
   "source": [
    "charger_pos = tuple([Marker(location=tuple(row), icon=icon_charger) for row in charger_df.limit(250).collect()])\n",
    "fast_food_pos  = tuple([Marker(location=tuple(row), icon=icon_fast_food ) for row in fast_food_df.limit(250).collect()])\n",
    "\n",
    "marker_charger = MarkerCluster(markers=charger_pos)\n",
    "marker_fast_food = MarkerCluster(markers=fast_food_pos)\n",
    "\n",
    "latitudes =  np.array([x.location[0] for x in charger_pos]+[x.location[0] for x in fast_food_pos])\n",
    "longitudes = np.array([x.location[1] for x in charger_pos]+[x.location[1] for x in fast_food_pos])\n",
    "ce = [latitudes.mean(), longitudes.mean()]\n",
    "\n",
    "m = Map(\n",
    "    basemap=basemap_to_tiles(basemaps.OpenStreetMap.Mapnik),\n",
    "    center=ce,\n",
    "    layout=Layout(width='50%', height='800px'),\n",
    "    zoom=7\n",
    ")\n",
    "\n",
    "m.add_layer(marker_charger)\n",
    "m.add_layer(marker_fast_food)\n",
    "\n",
    "display(m)"
   ]
  },
  {
   "cell_type": "code",
   "execution_count": 14,
   "id": "71effcc55f258f42",
   "metadata": {
    "collapsed": false
   },
   "outputs": [
    {
     "name": "stderr",
     "output_type": "stream",
     "text": [
      "                                                                                \r"
     ]
    },
    {
     "name": "stdout",
     "output_type": "stream",
     "text": [
      "Charger count:   40\n"
     ]
    },
    {
     "name": "stderr",
     "output_type": "stream",
     "text": [
      "[Stage 40:====================================================> (198 + 4) / 204]\r"
     ]
    },
    {
     "name": "stdout",
     "output_type": "stream",
     "text": [
      "Fast food count: 5913\n"
     ]
    },
    {
     "name": "stderr",
     "output_type": "stream",
     "text": [
      "                                                                                \r"
     ]
    }
   ],
   "source": [
    "epsg_code = \"epsg:25832\"\n",
    "\n",
    "charger_geo = sedona.sql(f\"\"\"\n",
    "SELECT \n",
    "ST_Transform(ST_Point(CAST(latitude AS Decimal(24,20)), CAST(longitude AS Decimal(24,20))), 'epsg:4326', '{epsg_code}') AS charger_point \n",
    "from charger\"\"\")\n",
    "charger_geo.cache()\n",
    "charger_geo.createOrReplaceTempView(\"charger_geo\")\n",
    "\n",
    "fast_food_geo = sedona.sql(f\"\"\"\n",
    "SELECT ST_Transform(ST_Point(CAST(latitude AS Decimal(24,20)), CAST(longitude AS Decimal(24,20))), 'epsg:4326', '{epsg_code}') AS fast_food_point from fast_food\n",
    "\"\"\")\n",
    "fast_food_geo.cache()\n",
    "fast_food_geo.createOrReplaceTempView(\"fast_food_geo\")\n",
    "\n",
    "print(f\"Charger count:   {charger_geo.count()}\")\n",
    "print(f\"Fast food count: {fast_food_geo.count()}\")"
   ]
  },
  {
   "cell_type": "code",
   "execution_count": 15,
   "id": "4307d25a-ed84-4113-909f-0008b4fff924",
   "metadata": {},
   "outputs": [
    {
     "data": {
      "text/plain": [
       "DataFrame[fast_food_point: string]"
      ]
     },
     "execution_count": 15,
     "metadata": {},
     "output_type": "execute_result"
    }
   ],
   "source": [
    "food_near_charger_df = sedona.sql(f\"\"\"\n",
    "SELECT \n",
    "ST_AsGeoJSON(\n",
    "   ST_Transform(charger_geo.charger_point,     '{epsg_code}', 'epsg:4326')\n",
    ") charger_point, \n",
    "ST_AsGeoJSON(\n",
    "   ST_Transform(fast_food_geo.fast_food_point, '{epsg_code}', 'epsg:4326')\n",
    ") fast_food_point, \n",
    "ST_Distance(\n",
    "  charger_geo.charger_point, fast_food_geo.fast_food_point\n",
    ") distance_meter\n",
    "FROM charger_geo, fast_food_geo \n",
    "WHERE \n",
    "ST_Distance(charger_geo.charger_point, fast_food_geo.fast_food_point) <= 100\n",
    "\"\"\").cache()\n",
    "\n",
    "charger_near_df = food_near_charger_df.select(\"charger_point\").distinct()\n",
    "charger_near_df.cache()\n",
    "food_near_df = food_near_charger_df.select(\"fast_food_point\").distinct()\n",
    "food_near_df.cache()"
   ]
  },
  {
   "cell_type": "code",
   "execution_count": 16,
   "id": "52307b89-b53f-47b6-8e91-db7289a2c21e",
   "metadata": {},
   "outputs": [
    {
     "name": "stderr",
     "output_type": "stream",
     "text": [
      "                                                                                \r"
     ]
    },
    {
     "name": "stdout",
     "output_type": "stream",
     "text": [
      "Fast food: 8\n"
     ]
    },
    {
     "name": "stderr",
     "output_type": "stream",
     "text": [
      "[Stage 60:============================================>         (165 + 6) / 200]\r"
     ]
    },
    {
     "name": "stdout",
     "output_type": "stream",
     "text": [
      "Charger: 7\n"
     ]
    },
    {
     "name": "stderr",
     "output_type": "stream",
     "text": [
      "                                                                                \r"
     ]
    }
   ],
   "source": [
    "print(f\"Fast food: {food_near_df.count()}\")\n",
    "print(f\"Charger: {charger_near_df.count()}\")"
   ]
  },
  {
   "cell_type": "code",
   "execution_count": 19,
   "id": "fd45ff84-7071-428c-b8e5-a3e2a850eb06",
   "metadata": {},
   "outputs": [
    {
     "name": "stderr",
     "output_type": "stream",
     "text": [
      "                                                                                \r"
     ]
    },
    {
     "data": {
      "application/vnd.jupyter.widget-view+json": {
       "model_id": "58e5793b7df34e9687b1322c008d6e48",
       "version_major": 2,
       "version_minor": 0
      },
      "text/plain": [
       "Map(center=[48.63091086836675, 2.5216525934245593], controls=(ZoomControl(options=['position', 'zoom_in_text',…"
      ]
     },
     "metadata": {},
     "output_type": "display_data"
    }
   ],
   "source": [
    "charger_pos = tuple([Marker(location=tuple(json.loads(row[\"charger_point\"])[\"coordinates\"]), icon=icon_charger) for row in charger_near_df.collect()])\n",
    "burger_pos  = tuple([Marker(location=tuple(json.loads(row[\"fast_food_point\"])[\"coordinates\"]), icon=icon_fast_food) for row in food_near_df.collect()])\n",
    "\n",
    "marker_charger = MarkerCluster(markers=charger_pos)\n",
    "marker_burger = MarkerCluster(markers=burger_pos)\n",
    "\n",
    "latitudes =  np.array([x.location[0] for x in charger_pos]+[x.location[0] for x in burger_pos])\n",
    "longitudes = np.array([x.location[1] for x in charger_pos]+[x.location[1] for x in burger_pos])\n",
    "\n",
    "ce = [latitudes.mean(), longitudes.mean()]\n",
    "\n",
    "\n",
    "m = Map(\n",
    "    basemap=basemap_to_tiles(basemaps.OpenStreetMap.Mapnik),\n",
    "    center=ce,\n",
    "    layout=Layout(width='50%', height='800px'),\n",
    "    zoom=7\n",
    ")\n",
    "\n",
    "m.add_layer(marker_charger)\n",
    "m.add_layer(marker_burger)\n",
    "\n",
    "display(m)"
   ]
  },
  {
   "cell_type": "code",
   "execution_count": null,
   "id": "65701738-4776-426b-a5ef-1a4ca6e78f28",
   "metadata": {},
   "outputs": [],
   "source": []
  }
 ],
 "metadata": {
  "kernelspec": {
   "display_name": "Python 3 (ipykernel)",
   "language": "python",
   "name": "python3"
  },
  "language_info": {
   "codemirror_mode": {
    "name": "ipython",
    "version": 3
   },
   "file_extension": ".py",
   "mimetype": "text/x-python",
   "name": "python",
   "nbconvert_exporter": "python",
   "pygments_lexer": "ipython3",
   "version": "3.10.13"
  }
 },
 "nbformat": 4,
 "nbformat_minor": 5
}
