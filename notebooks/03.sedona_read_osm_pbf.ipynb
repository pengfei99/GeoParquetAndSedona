{
 "cells": [
  {
   "cell_type": "markdown",
   "id": "66d894eda3afb241",
   "metadata": {
    "collapsed": false,
    "jupyter": {
     "outputs_hidden": false
    }
   },
   "source": [
    "# Apache Sedona and OSM\n",
    "\n",
    "In this tutorial, we will use apache sedona to read geospatial data which are provided by OSM(Open Street Map).\n",
    "OSM provides data with various format (e.g. PBF, shapefile, etc.). In this tutorial, we will use `PBF format` ([Protocolbuffer Binary Format](https://wiki.openstreetmap.org/wiki/PBF_Format)).\n",
    "\n",
    "## 1. Get the sample data\n",
    "\n",
    "The sample data which I will use in this tutorial is the download from this page \n",
    "https://download.geofabrik.de/europe/france.html . I use the `Ile-de-France` map (`ile-de-france-latest.osm.pbf`)\n"
   ]
  },
  {
   "cell_type": "code",
   "execution_count": 1,
   "id": "9944ab92f653ea31",
   "metadata": {
    "ExecuteTime": {
     "end_time": "2024-04-11T11:52:56.357196534Z",
     "start_time": "2024-04-11T11:52:55.593355641Z"
    },
    "collapsed": false,
    "jupyter": {
     "outputs_hidden": false
    }
   },
   "outputs": [
    {
     "name": "stdout",
     "output_type": "stream",
     "text": [
      "Skipping SedonaKepler import, verify if keplergl is installed\n",
      "Skipping SedonaPyDeck import, verify if pydeck is installed\n"
     ]
    }
   ],
   "source": [
    "from sedona.spark import *\n",
    "from pathlib import Path\n",
    "import json\n",
    "\n",
    "from ipyleaflet import Map, basemaps, basemap_to_tiles, MarkerCluster, Marker, AwesomeIcon\n",
    "from ipywidgets import Layout\n",
    "import numpy as np"
   ]
  },
  {
   "cell_type": "code",
   "execution_count": 2,
   "id": "6c5eb7ef630603c6",
   "metadata": {
    "ExecuteTime": {
     "end_time": "2024-04-11T11:53:18.966612703Z",
     "start_time": "2024-04-11T11:52:57.475934308Z"
    },
    "collapsed": false,
    "jupyter": {
     "outputs_hidden": false
    }
   },
   "outputs": [
    {
     "name": "stdout",
     "output_type": "stream",
     "text": [
      "24/04/12 12:08:16 WARN Utils: Your hostname, pengfei-Virtual-Machine resolves to a loopback address: 127.0.1.1; using 10.50.2.80 instead (on interface eth0)\n",
      "24/04/12 12:08:16 WARN Utils: Set SPARK_LOCAL_IP if you need to bind to another address\n",
      ":: loading settings :: url = jar:file:/home/pengfei/opt/spark/spark-3.3.0/jars/ivy-2.5.0.jar!/org/apache/ivy/core/settings/ivysettings.xml\n"
     ]
    },
    {
     "name": "stderr",
     "output_type": "stream",
     "text": [
      "Ivy Default Cache set to: /home/pengfei/.ivy2/cache\n",
      "The jars for the packages stored in: /home/pengfei/.ivy2/jars\n",
      "com.acervera.osm4scala#osm4scala-spark3-shaded_2.12 added as a dependency\n",
      "org.apache.sedona#sedona-spark-shaded-3.0_2.12 added as a dependency\n",
      "org.datasyslab#geotools-wrapper added as a dependency\n",
      ":: resolving dependencies :: org.apache.spark#spark-submit-parent-006cb2f2-0e5e-4daf-aa73-7b1bc4998fe1;1.0\n",
      "\tconfs: [default]\n",
      "\tfound com.acervera.osm4scala#osm4scala-spark3-shaded_2.12;1.0.11 in central\n",
      "\tfound org.apache.sedona#sedona-spark-shaded-3.0_2.12;1.4.1 in central\n",
      "\tfound org.datasyslab#geotools-wrapper;1.4.0-28.2 in central\n",
      ":: resolution report :: resolve 408ms :: artifacts dl 21ms\n",
      "\t:: modules in use:\n",
      "\tcom.acervera.osm4scala#osm4scala-spark3-shaded_2.12;1.0.11 from central in [default]\n",
      "\torg.apache.sedona#sedona-spark-shaded-3.0_2.12;1.4.1 from central in [default]\n",
      "\torg.datasyslab#geotools-wrapper;1.4.0-28.2 from central in [default]\n",
      "\t---------------------------------------------------------------------\n",
      "\t|                  |            modules            ||   artifacts   |\n",
      "\t|       conf       | number| search|dwnlded|evicted|| number|dwnlded|\n",
      "\t---------------------------------------------------------------------\n",
      "\t|      default     |   3   |   0   |   0   |   0   ||   3   |   0   |\n",
      "\t---------------------------------------------------------------------\n",
      ":: retrieving :: org.apache.spark#spark-submit-parent-006cb2f2-0e5e-4daf-aa73-7b1bc4998fe1\n",
      "\tconfs: [default]\n",
      "\t0 artifacts copied, 3 already retrieved (0kB/31ms)\n"
     ]
    },
    {
     "name": "stdout",
     "output_type": "stream",
     "text": [
      "24/04/12 12:08:18 WARN NativeCodeLoader: Unable to load native-hadoop library for your platform... using builtin-java classes where applicable\n"
     ]
    },
    {
     "name": "stderr",
     "output_type": "stream",
     "text": [
      "Setting default log level to \"WARN\".\n",
      "To adjust logging level use sc.setLogLevel(newLevel). For SparkR, use setLogLevel(newLevel).\n",
      "                                                                                \r"
     ]
    }
   ],
   "source": [
    "# build a sedona session (sedona = 1.5.1)\n",
    "config = SedonaContext.builder() \\\n",
    "    .appName(\"Sedona with pyspark\") \\\n",
    "    .master(\"local[*]\") \\\n",
    "    .config(\"spark.driver.memory\", \"6g\") \\\n",
    "    .config('spark.jars.packages',\n",
    "            'com.acervera.osm4scala:osm4scala-spark3-shaded_2.12:1.0.11,' \n",
    "            'org.apache.sedona:sedona-spark-shaded-3.0_2.12:1.4.1,' \n",
    "            'org.datasyslab:geotools-wrapper:1.4.0-28.2'). \\\n",
    "     getOrCreate()\n",
    "\n",
    "# create a sedona context\n",
    "sedona = SedonaContext.create(config)"
   ]
  },
  {
   "cell_type": "markdown",
   "id": "bef84e49d8e1bd71",
   "metadata": {
    "collapsed": false,
    "jupyter": {
     "outputs_hidden": false
    }
   },
   "source": [
    "## 2. Read the PBF format with Sedona(Spark)\n",
    "\n",
    "By default, sedona can not read PBF file directly. But there is a `spark polyglot connector` called [osm4scala](https://simplexspatial.github.io/osm4scala/). You can also visit their github page [here](https://github.com/simplexspatial/osm4scala) \n",
    "\n",
    "To make it work, it's quite simple:\n",
    "- online mode: In the sparkSession creation clause add the **.config('spark.jars.packages','com.acervera.osm4scala:osm4scala-spark3-shaded_2.12:1.0.11')**\n",
    "- offline mode: You need to download the jar file first, then in the sparkSession creation clause add the **.config(''spark.jars', jar_path')**\n",
    "\n",
    "> You can find more information about the jar file [here](https://simplexspatial.github.io/osm4scala/docs/spark-connector)\n",
    "\n"
   ]
  },
  {
   "cell_type": "code",
   "execution_count": 3,
   "id": "8079ba9c1f1c1f4b",
   "metadata": {
    "ExecuteTime": {
     "end_time": "2024-04-11T11:53:23.190186973Z",
     "start_time": "2024-04-11T11:53:23.156937469Z"
    },
    "collapsed": false,
    "jupyter": {
     "outputs_hidden": false
    }
   },
   "outputs": [],
   "source": [
    "homePath = \"/home/pengfei/data_set/geo_spatial\"\n",
    "filePath= f\"{homePath}/ile-de-france-latest.osm.pbf\""
   ]
  },
  {
   "cell_type": "code",
   "execution_count": 4,
   "id": "cb7472c6bf640a6e",
   "metadata": {
    "ExecuteTime": {
     "end_time": "2024-04-11T11:53:31.438680502Z",
     "start_time": "2024-04-11T11:53:30.984124206Z"
    },
    "collapsed": false,
    "jupyter": {
     "outputs_hidden": false
    }
   },
   "outputs": [],
   "source": [
    "raw_df = sedona.read.format(\"osm.pbf\").load(filePath)"
   ]
  },
  {
   "cell_type": "markdown",
   "id": "7d25fed3fed14152",
   "metadata": {
    "collapsed": false,
    "jupyter": {
     "outputs_hidden": false
    }
   },
   "source": [
    "## 3. Explore the OSM dataset\n",
    "\n",
    "### 3.1 Understand the basic OSM data structure\n",
    "\n",
    "OpenStreetMap uses a `topological data structure`, with `four core elements` (aka data primitives):\n",
    "\n",
    "- **Nodes**: are points with a geographic position, stored as coordinates (pairs of a latitude and a longitude) according to `WGS 84`. Outside their usage in ways, they are used to represent map features without a size, such as `points of interest` or mountain peaks.\n",
    "- **Ways**: are ordered lists of `nodes`, representing a `polyline, or possibly a polygon` if they form a closed loop. They are used both for representing linear features such as streets and rivers, and areas, like forests, parks, parking areas and lakes.\n",
    "- **Relations**: are `ordered lists of nodes, ways and relations` (together called \"members\"), where each member can optionally have a \"role\" (a string). Relations are used for representing the relationship of existing nodes and ways. Examples include turn restrictions on roads, routes that span several existing ways (for instance, a long-distance motorway), and areas with holes.\n",
    "- **Tags**: are `key-value pairs (both arbitrary strings)`. They are used to store metadata about the map objects (such as their type, their name and their physical properties). `Tags are not freestanding, but are always attached to an object: to a node, a way or a relation`. A recommended ontology of map features (the meaning of tags) is maintained on a wiki. New tagging schemes can always be proposed by a popular vote of a written proposal in OpenStreetMap wiki, however, there is no requirement to follow this process. There are over 89 million different kinds of tags in use as of June 2017.\n",
    "\n",
    "![OpenStreetMap_data_primitives_in_iD.png](../images/OpenStreetMap_data_primitives_in_iD.png)"
   ]
  },
  {
   "cell_type": "code",
   "execution_count": 5,
   "id": "67a65425aec1d1b8",
   "metadata": {
    "ExecuteTime": {
     "end_time": "2024-04-11T11:53:39.724293470Z",
     "start_time": "2024-04-11T11:53:37.317264262Z"
    },
    "collapsed": false,
    "jupyter": {
     "outputs_hidden": false
    }
   },
   "outputs": [
    {
     "name": "stdout",
     "output_type": "stream",
     "text": [
      "+------+----+------------------+------------------+-----+---------+--------------------+--------------------+\n",
      "|    id|type|          latitude|         longitude|nodes|relations|                tags|                info|\n",
      "+------+----+------------------+------------------+-----+---------+--------------------+--------------------+\n",
      "|122626|   0|49.115966300000004|         2.5549119|   []|       []|                  {}|{3, 2020-05-10 11...|\n",
      "|122627|   0|49.110294100000004|         2.5521725|   []|       []|                  {}|{4, 2009-02-13 19...|\n",
      "|122631|   0|        49.0834393|2.5511375000000003|   []|       []|                  {}|{15, 2021-06-30 1...|\n",
      "|122632|   0|        49.0675225|2.5524679000000003|   []|       []|                  {}|{17, 2019-04-10 1...|\n",
      "|122633|   0|         49.063616|2.5522412000000005|   []|       []|                  {}|{17, 2009-02-13 1...|\n",
      "|122634|   0|        49.0597465|2.5509097000000005|   []|       []|                  {}|{2, 2009-02-13 19...|\n",
      "|122635|   0|        49.0551989|2.5486690000000003|   []|       []|{highway -> emerg...|{20, 2023-03-05 1...|\n",
      "|122637|   0|         49.046553|2.5460228000000003|   []|       []|                  {}|{3, 2012-03-21 19...|\n",
      "|122638|   0|49.042466000000005|2.5435980000000002|   []|       []|                  {}|{24, 2009-02-13 1...|\n",
      "|122639|   0|49.039122400000004|2.5421644000000003|   []|       []|                  {}|{6, 2014-05-31 18...|\n",
      "|122640|   0|49.033757900000005|2.5402285000000004|   []|       []|                  {}|{4, 2019-04-10 11...|\n",
      "|122642|   0|49.006576100000004|2.5269186000000006|   []|       []|                  {}|{8, 2012-09-01 00...|\n",
      "|122922|   0|48.875346400000005|2.4402228000000004|   []|       []|                  {}|{3, 2014-05-07 10...|\n",
      "|122923|   0| 48.87823900000001|2.4462307000000005|   []|       []|                  {}|{3, 2010-10-18 22...|\n",
      "|122924|   0| 48.88325530000001|2.4577488000000005|   []|       []|{source -> data.g...|{4, 2020-06-08 13...|\n",
      "|122925|   0| 48.88400510000001|2.4598863000000004|   []|       []|                  {}|{4, 2012-09-12 12...|\n",
      "|122926|   0| 48.88408150000001|2.4635493000000004|   []|       []|                  {}|{4, 2018-08-01 00...|\n",
      "|122927|   0|48.883974300000006|2.4654187000000003|   []|       []|                  {}|{6, 2010-09-17 00...|\n",
      "|122928|   0|48.884235200000006|2.4697861000000003|   []|       []|                  {}|{5, 2011-04-18 11...|\n",
      "|122929|   0|        48.8847548|2.4710061000000003|   []|       []|                  {}|{5, 2011-04-18 11...|\n",
      "+------+----+------------------+------------------+-----+---------+--------------------+--------------------+\n",
      "only showing top 20 rows\n",
      "\n"
     ]
    }
   ],
   "source": [
    "raw_df.show()"
   ]
  },
  {
   "cell_type": "code",
   "execution_count": 6,
   "id": "42f60fda344f14db",
   "metadata": {
    "ExecuteTime": {
     "end_time": "2024-04-11T11:53:45.304109701Z",
     "start_time": "2024-04-11T11:53:45.198270350Z"
    },
    "collapsed": false,
    "jupyter": {
     "outputs_hidden": false
    }
   },
   "outputs": [
    {
     "name": "stdout",
     "output_type": "stream",
     "text": [
      "root\n",
      " |-- id: long (nullable = true)\n",
      " |-- type: byte (nullable = true)\n",
      " |-- latitude: double (nullable = true)\n",
      " |-- longitude: double (nullable = true)\n",
      " |-- nodes: array (nullable = true)\n",
      " |    |-- element: long (containsNull = true)\n",
      " |-- relations: array (nullable = true)\n",
      " |    |-- element: struct (containsNull = true)\n",
      " |    |    |-- id: long (nullable = true)\n",
      " |    |    |-- relationType: byte (nullable = true)\n",
      " |    |    |-- role: string (nullable = true)\n",
      " |-- tags: map (nullable = true)\n",
      " |    |-- key: string\n",
      " |    |-- value: string (valueContainsNull = true)\n",
      " |-- info: struct (nullable = true)\n",
      " |    |-- version: integer (nullable = true)\n",
      " |    |-- timestamp: timestamp (nullable = true)\n",
      " |    |-- changeset: long (nullable = true)\n",
      " |    |-- userId: integer (nullable = true)\n",
      " |    |-- userName: string (nullable = true)\n",
      " |    |-- visible: boolean (nullable = true)\n",
      "\n"
     ]
    }
   ],
   "source": [
    "raw_df.printSchema()"
   ]
  },
  {
   "cell_type": "code",
   "execution_count": 7,
   "id": "f2b58a7d9cbc1600",
   "metadata": {
    "ExecuteTime": {
     "end_time": "2024-04-10T12:27:41.295684899Z",
     "start_time": "2024-04-10T12:27:41.262550592Z"
    },
    "collapsed": false,
    "jupyter": {
     "outputs_hidden": false
    }
   },
   "outputs": [],
   "source": [
    "outPath=f\"{homePath}/ile-de-france-geo-parquet\""
   ]
  },
  {
   "cell_type": "code",
   "execution_count": 8,
   "id": "c247e5142560a17c",
   "metadata": {
    "ExecuteTime": {
     "end_time": "2024-04-10T13:00:53.952463059Z",
     "start_time": "2024-04-10T12:58:26.507682318Z"
    },
    "collapsed": false,
    "jupyter": {
     "outputs_hidden": false
    }
   },
   "outputs": [
    {
     "name": "stderr",
     "output_type": "stream",
     "text": [
      "                                                                                \r"
     ]
    }
   ],
   "source": [
    "raw_df.write.mode(\"overwrite\").format(\"parquet\").save(outPath)"
   ]
  },
  {
   "cell_type": "markdown",
   "id": "b2fd7b1cebe0c14a",
   "metadata": {
    "collapsed": false,
    "jupyter": {
     "outputs_hidden": false
    }
   },
   "source": [
    "Here we also test the geoparquet and parquet format. The .pbf format is smaller than parquet file (293Mo vs 856 Mo), which surprised me a little.\n",
    "\n",
    "> We can't write geoparquet, because there is no geometry column"
   ]
  },
  {
   "cell_type": "markdown",
   "id": "a3d5d9d431f011b2",
   "metadata": {
    "collapsed": false,
    "jupyter": {
     "outputs_hidden": false
    }
   },
   "source": [
    "### 3.2 Filter the node and ways\n",
    "\n",
    "As we explained before, there are four different entities(`four core elements`). In our dataset, each row has a type.\n",
    "- Type 0: Node\n",
    "- Type 1: Ways\n",
    "- Type 2: Relations\n",
    "\n",
    "In this tutorial, we only keep nodes and ways."
   ]
  },
  {
   "cell_type": "code",
   "execution_count": 7,
   "id": "f0dc24020389e8f0",
   "metadata": {
    "ExecuteTime": {
     "end_time": "2024-04-11T11:54:50.377154645Z",
     "start_time": "2024-04-11T11:54:08.980563931Z"
    },
    "collapsed": false,
    "jupyter": {
     "outputs_hidden": false
    }
   },
   "outputs": [
    {
     "name": "stderr",
     "output_type": "stream",
     "text": [
      "[Stage 4:============================================>              (3 + 1) / 4]\r"
     ]
    },
    {
     "name": "stdout",
     "output_type": "stream",
     "text": [
      "+----+\n",
      "|type|\n",
      "+----+\n",
      "|   0|\n",
      "|   1|\n",
      "|   2|\n",
      "+----+\n"
     ]
    },
    {
     "name": "stderr",
     "output_type": "stream",
     "text": [
      "                                                                                \r"
     ]
    }
   ],
   "source": [
    "raw_df.select(\"type\").distinct().show()"
   ]
  },
  {
   "cell_type": "code",
   "execution_count": 9,
   "id": "7314050b06f5ef8b",
   "metadata": {
    "ExecuteTime": {
     "end_time": "2024-04-11T12:49:24.768643535Z",
     "start_time": "2024-04-11T12:49:23.292495909Z"
    },
    "collapsed": false,
    "jupyter": {
     "outputs_hidden": false
    }
   },
   "outputs": [
    {
     "name": "stdout",
     "output_type": "stream",
     "text": [
      "+------+----+------------------+------------------+-----+---------+----+--------------------+\n",
      "|    id|type|          latitude|         longitude|nodes|relations|tags|                info|\n",
      "+------+----+------------------+------------------+-----+---------+----+--------------------+\n",
      "|122626|   0|49.115966300000004|         2.5549119|   []|       []|  {}|{3, 2020-05-10 11...|\n",
      "|122627|   0|49.110294100000004|         2.5521725|   []|       []|  {}|{4, 2009-02-13 19...|\n",
      "|122631|   0|        49.0834393|2.5511375000000003|   []|       []|  {}|{15, 2021-06-30 1...|\n",
      "|122632|   0|        49.0675225|2.5524679000000003|   []|       []|  {}|{17, 2019-04-10 1...|\n",
      "|122633|   0|         49.063616|2.5522412000000005|   []|       []|  {}|{17, 2009-02-13 1...|\n",
      "+------+----+------------------+------------------+-----+---------+----+--------------------+\n",
      "only showing top 5 rows\n",
      "\n"
     ]
    }
   ],
   "source": [
    "# get all nodes \n",
    "node_df = raw_df.where(\"type = 0\")\n",
    "\n",
    "node_df.show(5)\n"
   ]
  },
  {
   "cell_type": "code",
   "execution_count": 10,
   "id": "cf48d84d428e419c",
   "metadata": {
    "ExecuteTime": {
     "end_time": "2024-04-11T14:45:22.914305463Z",
     "start_time": "2024-04-11T14:45:22.601113880Z"
    },
    "collapsed": false,
    "jupyter": {
     "outputs_hidden": false
    }
   },
   "outputs": [
    {
     "name": "stdout",
     "output_type": "stream",
     "text": [
      "+------+------------------+------------------+\n",
      "|    id|          latitude|         longitude|\n",
      "+------+------------------+------------------+\n",
      "|122626|49.115966300000004|         2.5549119|\n",
      "|122627|49.110294100000004|         2.5521725|\n",
      "|122631|        49.0834393|2.5511375000000003|\n",
      "|122632|        49.0675225|2.5524679000000003|\n",
      "|122633|         49.063616|2.5522412000000005|\n",
      "+------+------------------+------------------+\n",
      "only showing top 5 rows\n",
      "\n"
     ]
    }
   ],
   "source": [
    "# We need to remove useless column\n",
    "node_simple_df = node_df.select(\"id\",\"latitude\", \"longitude\")\n",
    "node_simple_df.show(5)"
   ]
  },
  {
   "cell_type": "code",
   "execution_count": 11,
   "id": "9438030baf8e91bb",
   "metadata": {
    "ExecuteTime": {
     "end_time": "2024-04-11T15:15:05.863449918Z",
     "start_time": "2024-04-11T15:13:53.820186378Z"
    },
    "collapsed": false,
    "jupyter": {
     "outputs_hidden": false
    }
   },
   "outputs": [
    {
     "name": "stderr",
     "output_type": "stream",
     "text": [
      "[Stage 8:=======================================>                   (2 + 1) / 3]\r"
     ]
    },
    {
     "name": "stdout",
     "output_type": "stream",
     "text": [
      "+------+----+--------+---------+--------------------+---------+--------------------+--------------------+\n",
      "|    id|type|latitude|longitude|               nodes|relations|                tags|                info|\n",
      "+------+----+--------+---------+--------------------+---------+--------------------+--------------------+\n",
      "|  2569|   1|    null|     null|[382017, 37454347...|       []|{lane_markings ->...|{20, 2023-03-29 0...|\n",
      "|  2570|   1|    null|     null|[7223004840, 361709]|       []|{name -> Avenue d...|{24, 2023-06-29 0...|\n",
      "|  2573|   1|    null|     null|[6865885341, 3617...|       []|{name -> Place de...|{20, 2024-03-23 2...|\n",
      "|  2574|   1|    null|     null|[5467645835, 5185...|       []|{name -> Rue Tain...|{27, 2023-10-20 1...|\n",
      "|286314|   1|    null|     null|[218267571, 49581...|       []|{cycleway:both ->...|{18, 2024-02-17 1...|\n",
      "+------+----+--------+---------+--------------------+---------+--------------------+--------------------+\n",
      "only showing top 5 rows\n",
      "\n"
     ]
    },
    {
     "name": "stderr",
     "output_type": "stream",
     "text": [
      "                                                                                \r"
     ]
    }
   ],
   "source": [
    "# get all ways row\n",
    "way_df = raw_df.where(\"type = 1\")\n",
    "\n",
    "way_df.show(5)"
   ]
  },
  {
   "cell_type": "markdown",
   "id": "dbea93e6393a8a58",
   "metadata": {
    "collapsed": false,
    "jupyter": {
     "outputs_hidden": false
    }
   },
   "source": [
    "Since the latitude and longitude columns of ways do not contain any information we can remove them. We can also notice that a way contains a list of nodes(e.g. the value is the node id). If we link these nodes, we can build the way. We can consider the first node is the starting point of the way, the last node is ending point of the way. If we join all the ways with the first nodes listed in each way, we use the starting point of the way to draw the way."
   ]
  },
  {
   "cell_type": "code",
   "execution_count": 12,
   "id": "9d18bd0b5dd992f8",
   "metadata": {
    "ExecuteTime": {
     "end_time": "2024-04-12T07:27:27.699054452Z",
     "start_time": "2024-04-12T07:27:27.605679983Z"
    },
    "collapsed": false,
    "jupyter": {
     "outputs_hidden": false
    }
   },
   "outputs": [],
   "source": [
    "\n",
    "way_simple_df = way_df.drop(\"id\",\"latitude\", \"longitude\")\n",
    "way_with_gps_df = way_simple_df.join(\n",
    "    node_simple_df, way_simple_df.nodes.getItem(0) == node_simple_df.id)\n",
    "\n",
    "way_trans_df = way_with_gps_df.select(\"latitude\", \"longitude\", \"tags\")\n"
   ]
  },
  {
   "cell_type": "code",
   "execution_count": 13,
   "id": "94eb683e67184c7d",
   "metadata": {
    "ExecuteTime": {
     "end_time": "2024-04-12T07:28:38.081585844Z",
     "start_time": "2024-04-12T07:27:29.020448907Z"
    },
    "collapsed": false,
    "jupyter": {
     "outputs_hidden": false
    }
   },
   "outputs": [
    {
     "name": "stderr",
     "output_type": "stream",
     "text": [
      "[Stage 13:>                                                         (0 + 1) / 1]\r"
     ]
    },
    {
     "name": "stdout",
     "output_type": "stream",
     "text": [
      "+------------------+------------------+-------------------------------------------------------------------------------------------------------------------------------------------------------------------------------------------------------------------------------------------------------------------------------+\n",
      "|latitude          |longitude         |tags                                                                                                                                                                                                                                                                           |\n",
      "+------------------+------------------+-------------------------------------------------------------------------------------------------------------------------------------------------------------------------------------------------------------------------------------------------------------------------------+\n",
      "|48.74317940000001 |2.3225308         |{name -> Autoroute du Soleil, int_ref -> E 05, start_date -> 1960, surface -> asphalt, maxspeed -> 110, highway -> motorway, ref -> A 6, lit -> yes, lanes -> 4, toll -> no, hazmat -> no, operator -> DIRIF, smoothness -> good, oneway -> yes}                               |\n",
      "|48.86332490000002 |2.4087188000000013|{cycleway:both -> no, name -> Boulevard Davout, surface -> asphalt, maxspeed -> 50, highway -> primary, lit -> yes, lanes -> 2, dual_carriageway -> yes, name:etymology:wikidata -> Q158778, sidewalk:right -> separate, oneway -> yes}                                        |\n",
      "|48.80058040000003 |2.3420713         |{hazmat:B -> no, int_ref -> E 05, start_date -> 1960, hazmat:D -> no, hazmat:C -> no, surface -> asphalt, maxspeed -> 70, highway -> motorway, ref -> A 6a, lit -> yes, lanes -> 3, toll -> no, hazmat -> no, operator -> DIRIF, hazmat:A -> no, hazmat:E -> no, oneway -> yes}|\n",
      "|48.858418200000024|2.2589320000000006|{name -> Chemin de Ceinture du Lac Inférieur, motor_vehicle -> no, surface -> sett, highway -> service, service -> alley, bicycle -> yes}                                                                                                                                      |\n",
      "|48.858418200000024|2.2589320000000006|{name -> Avenue de l'Hippodrome, lanes:forward -> 1, surface -> asphalt, maxspeed -> 50, highway -> secondary, lit -> yes, lanes -> 2, cycleway -> separate, lanes:backward -> 1, sidewalk -> separate}                                                                        |\n",
      "+------------------+------------------+-------------------------------------------------------------------------------------------------------------------------------------------------------------------------------------------------------------------------------------------------------------------------------+\n",
      "only showing top 5 rows\n",
      "\n"
     ]
    },
    {
     "name": "stderr",
     "output_type": "stream",
     "text": [
      "                                                                                \r"
     ]
    }
   ],
   "source": [
    "way_trans_df.show(5, truncate=False)\n"
   ]
  },
  {
   "cell_type": "code",
   "execution_count": 14,
   "id": "53e10b8ecb14fe2e",
   "metadata": {
    "ExecuteTime": {
     "end_time": "2024-04-12T07:28:42.864996163Z",
     "start_time": "2024-04-12T07:28:42.820129888Z"
    },
    "collapsed": false,
    "jupyter": {
     "outputs_hidden": false
    }
   },
   "outputs": [],
   "source": [
    "node_trans_df = node_df.select(\"latitude\", \"longitude\", \"tags\")"
   ]
  },
  {
   "cell_type": "code",
   "execution_count": 15,
   "id": "65644ef6a0f5e39d",
   "metadata": {
    "ExecuteTime": {
     "end_time": "2024-04-12T07:40:51.351028560Z",
     "start_time": "2024-04-12T07:39:49.657865467Z"
    },
    "collapsed": false,
    "jupyter": {
     "outputs_hidden": false
    }
   },
   "outputs": [
    {
     "name": "stderr",
     "output_type": "stream",
     "text": [
      "                                                                                \r"
     ]
    },
    {
     "name": "stdout",
     "output_type": "stream",
     "text": [
      "+------------------+------------------+--------------------+\n",
      "|          latitude|         longitude|                tags|\n",
      "+------------------+------------------+--------------------+\n",
      "|  48.8228839999944| 2.397936000000003|{website -> https...|\n",
      "|49.101812299999956| 2.543690700000001|{name -> Maison d...|\n",
      "|48.903260199999906| 2.305047599999987|{healthcare:speci...|\n",
      "|48.885186399999995|2.4011061000000105|{name -> Clinique...|\n",
      "|48.692460400000265|2.2671637000000016|{amenity -> docto...|\n",
      "| 48.80802140000021|2.1349204000000053|{amenity -> hospi...|\n",
      "|  48.8539673000001|         2.3481897|{operator:short -...|\n",
      "| 48.80471840000002| 2.424477000000009|{website -> https...|\n",
      "| 48.59296099999903|2.2486759999999957|{name -> Clinique...|\n",
      "| 48.85146449999998|2.3714151999999813|{website -> http:...|\n",
      "| 48.82344670000005|2.5382796000000027|{source -> cadast...|\n",
      "|48.570080700000055| 2.432605999999993|{healthcare:speci...|\n",
      "| 48.56786900000003| 2.431551999999988|{healthcare:speci...|\n",
      "|48.764957100000224| 2.320634999999993|{name -> Établiss...|\n",
      "| 48.95533799999998|2.3678719000000017|{website -> http:...|\n",
      "| 48.92287930000005|2.2341363000000034|{healthcare:speci...|\n",
      "| 48.88454769999999|2.1716105999999975|{healthcare:speci...|\n",
      "|  48.9068048000003| 2.549452500000016|{amenity -> docto...|\n",
      "|  48.9623823000004| 1.897738899999993|{amenity -> docto...|\n",
      "| 48.83813140000022|  2.34180040000001|{healthcare:speci...|\n",
      "+------------------+------------------+--------------------+\n",
      "only showing top 20 rows\n",
      "\n"
     ]
    }
   ],
   "source": [
    "hospital_and_food_df = way_trans_df.union(node_trans_df).\\\n",
    "    where(\"element_at(tags, 'amenity') in ('hospital', 'clinic','doctors')\")\n",
    "hospital_and_food_df.cache()\n",
    "hospital_and_food_df.show()"
   ]
  },
  {
   "cell_type": "code",
   "execution_count": 16,
   "id": "6b78078bdc1361d9",
   "metadata": {
    "ExecuteTime": {
     "end_time": "2024-04-12T07:42:59.289473120Z",
     "start_time": "2024-04-12T07:42:58.961939653Z"
    },
    "collapsed": false,
    "jupyter": {
     "outputs_hidden": false
    }
   },
   "outputs": [],
   "source": [
    "hospital_df = hospital_and_food_df.select(\"latitude\", \"longitude\").\\\n",
    "    where(\"element_at(tags, 'amenity') == 'hospital'\")\n",
    "hospital_df.createOrReplaceTempView(\"hospital\")\n",
    "\n",
    "clinic_df = hospital_and_food_df.select(\"latitude\", \"longitude\").\\\n",
    "    where(\"element_at(tags, 'amenity') == 'clinic'\")\n",
    "clinic_df.createOrReplaceTempView(\"clinic\")\n",
    "\n",
    "doctors_df = hospital_and_food_df.select(\"latitude\", \"longitude\").\\\n",
    "    where(\"element_at(tags, 'amenity') == 'doctors'\")\n",
    "doctors_df.createOrReplaceTempView(\"doctors\")"
   ]
  },
  {
   "cell_type": "code",
   "execution_count": 17,
   "id": "7acef9dc9bc4da0",
   "metadata": {
    "ExecuteTime": {
     "end_time": "2024-04-12T07:43:41.175699323Z",
     "start_time": "2024-04-12T07:43:02.866837497Z"
    },
    "collapsed": false,
    "jupyter": {
     "outputs_hidden": false
    }
   },
   "outputs": [
    {
     "name": "stderr",
     "output_type": "stream",
     "text": [
      "[Stage 25:=====================================================>(203 + 1) / 204]\r"
     ]
    },
    {
     "name": "stdout",
     "output_type": "stream",
     "text": [
      "Total hospital number in Ile-de-France: 315\n"
     ]
    },
    {
     "name": "stderr",
     "output_type": "stream",
     "text": [
      "                                                                                \r"
     ]
    }
   ],
   "source": [
    "hospital_number=hospital_df.count()\n",
    "print(f\"Total hospital number in Ile-de-France: {hospital_number}\")"
   ]
  },
  {
   "cell_type": "code",
   "execution_count": 18,
   "id": "8e433d7b7469132c",
   "metadata": {
    "ExecuteTime": {
     "end_time": "2024-04-12T07:43:56.160485445Z",
     "start_time": "2024-04-12T07:43:55.889971836Z"
    },
    "collapsed": false,
    "jupyter": {
     "outputs_hidden": false
    }
   },
   "outputs": [
    {
     "name": "stdout",
     "output_type": "stream",
     "text": [
      "+------------------+------------------+\n",
      "|latitude          |longitude         |\n",
      "+------------------+------------------+\n",
      "|48.8228839999944  |2.397936000000003 |\n",
      "|48.885186399999995|2.4011061000000105|\n",
      "|48.80802140000021 |2.1349204000000053|\n",
      "|48.8539673000001  |2.3481897         |\n",
      "|48.59296099999903 |2.2486759999999957|\n",
      "+------------------+------------------+\n",
      "only showing top 5 rows\n",
      "\n"
     ]
    }
   ],
   "source": [
    "hospital_df.show(5,truncate=False)"
   ]
  },
  {
   "cell_type": "code",
   "execution_count": 19,
   "id": "29bffe30494a1d31",
   "metadata": {
    "ExecuteTime": {
     "end_time": "2024-04-12T07:46:00.159735630Z",
     "start_time": "2024-04-12T07:45:58.241790503Z"
    },
    "collapsed": false,
    "jupyter": {
     "outputs_hidden": false
    }
   },
   "outputs": [
    {
     "name": "stderr",
     "output_type": "stream",
     "text": [
      "[Stage 41:=======================================>              (149 + 4) / 204]\r"
     ]
    },
    {
     "name": "stdout",
     "output_type": "stream",
     "text": [
      "Total clinic number in Ile-de-France: 219\n"
     ]
    },
    {
     "name": "stderr",
     "output_type": "stream",
     "text": [
      "                                                                                \r"
     ]
    }
   ],
   "source": [
    "clinic_number=clinic_df.count()\n",
    "print(f\"Total clinic number in Ile-de-France: {clinic_number}\")"
   ]
  },
  {
   "cell_type": "code",
   "execution_count": 20,
   "id": "84d85a43e0876940",
   "metadata": {
    "ExecuteTime": {
     "end_time": "2024-04-12T07:46:45.232536787Z",
     "start_time": "2024-04-12T07:46:43.678718959Z"
    },
    "collapsed": false,
    "jupyter": {
     "outputs_hidden": false
    }
   },
   "outputs": [
    {
     "name": "stderr",
     "output_type": "stream",
     "text": [
      "[Stage 48:==================================================>   (189 + 4) / 204]\r"
     ]
    },
    {
     "name": "stdout",
     "output_type": "stream",
     "text": [
      "Total doctor office number in Ile-de-France: 1294\n"
     ]
    },
    {
     "name": "stderr",
     "output_type": "stream",
     "text": [
      "                                                                                \r"
     ]
    }
   ],
   "source": [
    "doctors_number=doctors_df.count()\n",
    "print(f\"Total doctor office number in Ile-de-France: {doctors_number}\")"
   ]
  },
  {
   "cell_type": "code",
   "execution_count": 23,
   "id": "95274bbe14892a64",
   "metadata": {
    "ExecuteTime": {
     "end_time": "2024-04-12T07:57:21.095517363Z",
     "start_time": "2024-04-12T07:57:21.062786355Z"
    },
    "collapsed": false,
    "jupyter": {
     "outputs_hidden": false
    }
   },
   "outputs": [],
   "source": [
    "icon_hospital = AwesomeIcon(\n",
    "    name='h-square',\n",
    "    marker_color='green',\n",
    "    icon_color='darkgreen'\n",
    ")\n",
    "\n",
    "icon_clinic = AwesomeIcon(\n",
    "    name='hospital-o',\n",
    "    marker_color='red',\n",
    "    icon_color='black'\n",
    ")\n",
    "\n",
    "icon_doctors = AwesomeIcon(\n",
    "    name='user-md',\n",
    "    marker_color='blue',\n",
    "    icon_color='gray'\n",
    ")"
   ]
  },
  {
   "cell_type": "code",
   "execution_count": 28,
   "id": "1f68a478f4c8c063",
   "metadata": {
    "ExecuteTime": {
     "end_time": "2024-04-12T07:57:28.296031247Z",
     "start_time": "2024-04-12T07:57:23.208898671Z"
    },
    "collapsed": false,
    "jupyter": {
     "outputs_hidden": false
    }
   },
   "outputs": [
    {
     "data": {
      "application/vnd.jupyter.widget-view+json": {
       "model_id": "778583f7208c48b7925860994b6db9ba",
       "version_major": 2,
       "version_minor": 0
      },
      "text/plain": [
       "Map(center=[48.8168256002, 2.336495916399999], controls=(ZoomControl(options=['position', 'zoom_in_text', 'zoo…"
      ]
     },
     "metadata": {},
     "output_type": "display_data"
    }
   ],
   "source": [
    "hospital_pos = tuple([Marker(location=tuple(row), icon=icon_hospital) for row in hospital_df.limit(250).collect()])\n",
    "clinic_pos  = tuple([Marker(location=tuple(row), icon=icon_clinic ) for row in clinic_df.limit(250).collect()])\n",
    "doctors_pos  = tuple([Marker(location=tuple(row), icon=icon_doctors ) for row in doctors_df.limit(250).collect()])\n",
    "\n",
    "marker_hospital = MarkerCluster(markers=hospital_pos)\n",
    "marker_clinic = MarkerCluster(markers=clinic_pos)\n",
    "marker_doctors = MarkerCluster(markers=doctors_pos)\n",
    "\n",
    "latitudes =  np.array([x.location[0] for x in hospital_pos]+[x.location[0] for x in doctors_pos])\n",
    "longitudes = np.array([x.location[1] for x in hospital_pos]+[x.location[1] for x in doctors_pos])\n",
    "ce = [latitudes.mean(), longitudes.mean()]\n",
    "\n",
    "m = Map(\n",
    "    basemap=basemap_to_tiles(basemaps.OpenStreetMap.Mapnik),\n",
    "    center=ce,\n",
    "    layout=Layout(width='50%', height='800px'),\n",
    "    zoom=7\n",
    ")\n",
    "\n",
    "m.add_layer(marker_hospital)\n",
    "m.add_layer(marker_clinic)\n",
    "m.add_layer(marker_doctors)\n",
    "\n",
    "display(m)"
   ]
  },
  {
   "cell_type": "code",
   "execution_count": 14,
   "id": "71effcc55f258f42",
   "metadata": {
    "collapsed": false,
    "jupyter": {
     "outputs_hidden": false
    }
   },
   "outputs": [
    {
     "name": "stderr",
     "output_type": "stream",
     "text": [
      "                                                                                \r"
     ]
    },
    {
     "name": "stdout",
     "output_type": "stream",
     "text": [
      "Charger count:   40\n"
     ]
    },
    {
     "name": "stderr",
     "output_type": "stream",
     "text": [
      "[Stage 40:====================================================> (198 + 4) / 204]\r"
     ]
    },
    {
     "name": "stdout",
     "output_type": "stream",
     "text": [
      "Fast food count: 5913\n"
     ]
    },
    {
     "name": "stderr",
     "output_type": "stream",
     "text": [
      "                                                                                \r"
     ]
    }
   ],
   "source": [
    "epsg_code = \"epsg:25832\"\n",
    "\n",
    "charger_geo = sedona.sql(f\"\"\"\n",
    "SELECT \n",
    "ST_Transform(ST_Point(CAST(latitude AS Decimal(24,20)), CAST(longitude AS Decimal(24,20))), 'epsg:4326', '{epsg_code}') AS charger_point \n",
    "from charger\"\"\")\n",
    "charger_geo.cache()\n",
    "charger_geo.createOrReplaceTempView(\"charger_geo\")\n",
    "\n",
    "fast_food_geo = sedona.sql(f\"\"\"\n",
    "SELECT ST_Transform(ST_Point(CAST(latitude AS Decimal(24,20)), CAST(longitude AS Decimal(24,20))), 'epsg:4326', '{epsg_code}') AS fast_food_point from fast_food\n",
    "\"\"\")\n",
    "fast_food_geo.cache()\n",
    "fast_food_geo.createOrReplaceTempView(\"fast_food_geo\")\n",
    "\n",
    "print(f\"Charger count:   {charger_geo.count()}\")\n",
    "print(f\"Fast food count: {fast_food_geo.count()}\")"
   ]
  },
  {
   "cell_type": "code",
   "execution_count": 15,
   "id": "4307d25a-ed84-4113-909f-0008b4fff924",
   "metadata": {},
   "outputs": [
    {
     "data": {
      "text/plain": [
       "DataFrame[fast_food_point: string]"
      ]
     },
     "execution_count": 15,
     "metadata": {},
     "output_type": "execute_result"
    }
   ],
   "source": [
    "food_near_charger_df = sedona.sql(f\"\"\"\n",
    "SELECT \n",
    "ST_AsGeoJSON(\n",
    "   ST_Transform(charger_geo.charger_point,     '{epsg_code}', 'epsg:4326')\n",
    ") charger_point, \n",
    "ST_AsGeoJSON(\n",
    "   ST_Transform(fast_food_geo.fast_food_point, '{epsg_code}', 'epsg:4326')\n",
    ") fast_food_point, \n",
    "ST_Distance(\n",
    "  charger_geo.charger_point, fast_food_geo.fast_food_point\n",
    ") distance_meter\n",
    "FROM charger_geo, fast_food_geo \n",
    "WHERE \n",
    "ST_Distance(charger_geo.charger_point, fast_food_geo.fast_food_point) <= 100\n",
    "\"\"\").cache()\n",
    "\n",
    "charger_near_df = food_near_charger_df.select(\"charger_point\").distinct()\n",
    "charger_near_df.cache()\n",
    "food_near_df = food_near_charger_df.select(\"fast_food_point\").distinct()\n",
    "food_near_df.cache()"
   ]
  },
  {
   "cell_type": "code",
   "execution_count": 16,
   "id": "52307b89-b53f-47b6-8e91-db7289a2c21e",
   "metadata": {},
   "outputs": [
    {
     "name": "stderr",
     "output_type": "stream",
     "text": [
      "                                                                                \r"
     ]
    },
    {
     "name": "stdout",
     "output_type": "stream",
     "text": [
      "Fast food: 8\n"
     ]
    },
    {
     "name": "stderr",
     "output_type": "stream",
     "text": [
      "[Stage 60:============================================>         (165 + 6) / 200]\r"
     ]
    },
    {
     "name": "stdout",
     "output_type": "stream",
     "text": [
      "Charger: 7\n"
     ]
    },
    {
     "name": "stderr",
     "output_type": "stream",
     "text": [
      "                                                                                \r"
     ]
    }
   ],
   "source": [
    "print(f\"Fast food: {food_near_df.count()}\")\n",
    "print(f\"Charger: {charger_near_df.count()}\")"
   ]
  },
  {
   "cell_type": "code",
   "execution_count": 19,
   "id": "fd45ff84-7071-428c-b8e5-a3e2a850eb06",
   "metadata": {},
   "outputs": [
    {
     "name": "stderr",
     "output_type": "stream",
     "text": [
      "                                                                                \r"
     ]
    },
    {
     "data": {
      "application/vnd.jupyter.widget-view+json": {
       "model_id": "58e5793b7df34e9687b1322c008d6e48",
       "version_major": 2,
       "version_minor": 0
      },
      "text/plain": [
       "Map(center=[48.63091086836675, 2.5216525934245593], controls=(ZoomControl(options=['position', 'zoom_in_text',…"
      ]
     },
     "metadata": {},
     "output_type": "display_data"
    }
   ],
   "source": [
    "charger_pos = tuple([Marker(location=tuple(json.loads(row[\"charger_point\"])[\"coordinates\"]), icon=icon_charger) for row in charger_near_df.collect()])\n",
    "burger_pos  = tuple([Marker(location=tuple(json.loads(row[\"fast_food_point\"])[\"coordinates\"]), icon=icon_fast_food) for row in food_near_df.collect()])\n",
    "\n",
    "marker_charger = MarkerCluster(markers=charger_pos)\n",
    "marker_burger = MarkerCluster(markers=burger_pos)\n",
    "\n",
    "latitudes =  np.array([x.location[0] for x in charger_pos]+[x.location[0] for x in burger_pos])\n",
    "longitudes = np.array([x.location[1] for x in charger_pos]+[x.location[1] for x in burger_pos])\n",
    "\n",
    "ce = [latitudes.mean(), longitudes.mean()]\n",
    "\n",
    "\n",
    "m = Map(\n",
    "    basemap=basemap_to_tiles(basemaps.OpenStreetMap.Mapnik),\n",
    "    center=ce,\n",
    "    layout=Layout(width='50%', height='800px'),\n",
    "    zoom=7\n",
    ")\n",
    "\n",
    "m.add_layer(marker_charger)\n",
    "m.add_layer(marker_burger)\n",
    "\n",
    "display(m)"
   ]
  },
  {
   "cell_type": "code",
   "execution_count": null,
   "id": "65701738-4776-426b-a5ef-1a4ca6e78f28",
   "metadata": {},
   "outputs": [],
   "source": []
  }
 ],
 "metadata": {
  "kernelspec": {
   "display_name": "Python 3 (ipykernel)",
   "language": "python",
   "name": "python3"
  },
  "language_info": {
   "codemirror_mode": {
    "name": "ipython",
    "version": 3
   },
   "file_extension": ".py",
   "mimetype": "text/x-python",
   "name": "python",
   "nbconvert_exporter": "python",
   "pygments_lexer": "ipython3",
   "version": "3.10.13"
  }
 },
 "nbformat": 4,
 "nbformat_minor": 5
}
