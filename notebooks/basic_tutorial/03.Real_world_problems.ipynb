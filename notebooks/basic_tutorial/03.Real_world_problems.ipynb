{
 "cells": [
  {
   "cell_type": "code",
   "id": "initial_id",
   "metadata": {
    "collapsed": true,
    "ExecuteTime": {
     "end_time": "2024-11-28T14:49:08.697461Z",
     "start_time": "2024-11-28T14:49:08.676085Z"
    }
   },
   "source": [
    "from sedona.spark import *\n",
    "from pathlib import Path\n",
    "from pyspark.sql import DataFrame\n",
    "import json\n",
    "\n",
    "from ipyleaflet import Map, basemaps, basemap_to_tiles, MarkerCluster, Marker, AwesomeIcon\n",
    "from ipywidgets import Layout\n",
    "import numpy as np"
   ],
   "outputs": [],
   "execution_count": 14
  },
  {
   "metadata": {
    "ExecuteTime": {
     "end_time": "2024-11-28T14:19:30.132306Z",
     "start_time": "2024-11-28T14:19:30.121981Z"
    }
   },
   "cell_type": "code",
   "source": [
    "# get the project root dir\n",
    "project_root_dir = Path.cwd().parent.parent\n",
    "data_dir = f\"{project_root_dir}/data\"\n",
    "win_root_dir = \"C:/Users/PLIU/Documents/ubuntu_share/data_set\"\n",
    "fr_commune_file_path = f\"{win_root_dir}/kaggle/geospatial/communes_fr_geoparquet\""
   ],
   "id": "795cb3bdfd8e2222",
   "outputs": [],
   "execution_count": 2
  },
  {
   "metadata": {
    "ExecuteTime": {
     "end_time": "2024-11-28T14:19:37.149352Z",
     "start_time": "2024-11-28T14:19:32.766257Z"
    }
   },
   "cell_type": "code",
   "source": [
    "# build a sedona session (sedona = 1.6.1)\n",
    "jar_folder = Path(f\"{project_root_dir}/jars/sedona-35-213-161\")\n",
    "jar_list = [str(jar) for jar in jar_folder.iterdir() if jar.is_file()]\n",
    "jar_path = \",\".join(jar_list)\n",
    "\n",
    "# build a sedona session (sedona = 1.6.1) offline\n",
    "config = SedonaContext.builder() \\\n",
    "    .master(\"local[*]\") \\\n",
    "    .config('spark.jars', jar_path). \\\n",
    "    getOrCreate()"
   ],
   "id": "38f6e9ea4816a222",
   "outputs": [],
   "execution_count": 3
  },
  {
   "metadata": {
    "ExecuteTime": {
     "end_time": "2024-11-28T14:19:43.409583Z",
     "start_time": "2024-11-28T14:19:37.812837Z"
    }
   },
   "cell_type": "code",
   "source": [
    "# create a sedona context\n",
    "sedona = SedonaContext.create(config)\n",
    "sc = sedona.sparkContext\n",
    "spark = sedona.getActiveSession()\n"
   ],
   "id": "d115ca74f0fd4341",
   "outputs": [],
   "execution_count": 4
  },
  {
   "metadata": {
    "ExecuteTime": {
     "end_time": "2024-11-28T14:19:44.067093Z",
     "start_time": "2024-11-28T14:19:44.053526Z"
    }
   },
   "cell_type": "code",
   "source": [
    "# this sets the encoding of shape files\n",
    "sc.setSystemProperty(\"sedona.global.charset\", \"utf8\")"
   ],
   "id": "c1ebbc0494350d44",
   "outputs": [],
   "execution_count": 5
  },
  {
   "metadata": {},
   "cell_type": "code",
   "outputs": [],
   "execution_count": null,
   "source": "",
   "id": "c8be3d1757810443"
  },
  {
   "metadata": {
    "ExecuteTime": {
     "end_time": "2024-11-28T14:21:25.304072Z",
     "start_time": "2024-11-28T14:21:24.097915Z"
    }
   },
   "cell_type": "code",
   "source": "fr_commune_df = sedona.read.format(\"geoparquet\").load(fr_commune_file_path)",
   "id": "5f2e5fc2b0d14e51",
   "outputs": [],
   "execution_count": 6
  },
  {
   "metadata": {
    "ExecuteTime": {
     "end_time": "2024-11-28T14:21:42.663102Z",
     "start_time": "2024-11-28T14:21:41.447274Z"
    }
   },
   "cell_type": "code",
   "source": [
    "fr_commune_df.show(5)\n",
    "fr_commune_df.printSchema()"
   ],
   "id": "46fc51e8be940d94",
   "outputs": [
    {
     "name": "stdout",
     "output_type": "stream",
     "text": [
      "+--------------------+--------------------+--------------------+------------+-----+\n",
      "|            geometry|           wikipedia|             surf_ha|         nom|insee|\n",
      "+--------------------+--------------------+--------------------+------------+-----+\n",
      "|POLYGON ((9.32016...|fr:Pie-d'Orezza  ...|     573.00000000...|Pie-d'Orezza|2B222|\n",
      "|POLYGON ((9.20010...|fr:Lano          ...|     824.00000000...|        Lano|2B137|\n",
      "|POLYGON ((9.27757...|fr:Cambia        ...|     833.00000000...|      Cambia|2B051|\n",
      "|POLYGON ((9.25119...|fr:Érone         ...|     393.00000000...|       Érone|2B106|\n",
      "|POLYGON ((9.28339...|fr:Oletta        ...|    2674.00000000...|      Oletta|2B185|\n",
      "+--------------------+--------------------+--------------------+------------+-----+\n",
      "only showing top 5 rows\n",
      "\n",
      "root\n",
      " |-- geometry: geometry (nullable = true)\n",
      " |-- wikipedia: string (nullable = true)\n",
      " |-- surf_ha: string (nullable = true)\n",
      " |-- nom: string (nullable = true)\n",
      " |-- insee: string (nullable = true)\n",
      "\n"
     ]
    }
   ],
   "execution_count": 7
  },
  {
   "metadata": {
    "ExecuteTime": {
     "end_time": "2024-11-28T14:36:42.022425Z",
     "start_time": "2024-11-28T14:36:41.977428Z"
    }
   },
   "cell_type": "code",
   "source": "fr_commune_df = fr_commune_df.select(\"geometry\",\"nom\",\"insee\")",
   "id": "6368b2fa76c80e4c",
   "outputs": [],
   "execution_count": 8
  },
  {
   "metadata": {
    "ExecuteTime": {
     "end_time": "2024-11-28T14:36:51.298094Z",
     "start_time": "2024-11-28T14:36:50.750494Z"
    }
   },
   "cell_type": "code",
   "source": [
    "fr_commune_df.show(5)\n",
    "fr_commune_df.printSchema()"
   ],
   "id": "68a8069e2001240a",
   "outputs": [
    {
     "name": "stdout",
     "output_type": "stream",
     "text": [
      "+--------------------+------------+-----+\n",
      "|            geometry|         nom|insee|\n",
      "+--------------------+------------+-----+\n",
      "|POLYGON ((9.32016...|Pie-d'Orezza|2B222|\n",
      "|POLYGON ((9.20010...|        Lano|2B137|\n",
      "|POLYGON ((9.27757...|      Cambia|2B051|\n",
      "|POLYGON ((9.25119...|       Érone|2B106|\n",
      "|POLYGON ((9.28339...|      Oletta|2B185|\n",
      "+--------------------+------------+-----+\n",
      "only showing top 5 rows\n",
      "\n",
      "root\n",
      " |-- geometry: geometry (nullable = true)\n",
      " |-- nom: string (nullable = true)\n",
      " |-- insee: string (nullable = true)\n",
      "\n"
     ]
    }
   ],
   "execution_count": 9
  },
  {
   "metadata": {
    "ExecuteTime": {
     "end_time": "2024-11-28T14:44:06.352683Z",
     "start_time": "2024-11-28T14:44:05.787825Z"
    }
   },
   "cell_type": "code",
   "source": "fr_commune_df.show(truncate=False,vertical=True)",
   "id": "27c785450666907f",
   "outputs": [
    {
     "name": "stderr",
     "output_type": "stream",
     "text": [
      "IOPub data rate exceeded.\n",
      "The notebook server will temporarily stop sending output\n",
      "to the client in order to avoid crashing it.\n",
      "To change this limit, set the config variable\n",
      "`--NotebookApp.iopub_data_rate_limit`.\n",
      "\n",
      "Current values:\n",
      "NotebookApp.iopub_data_rate_limit=1000000.0 (bytes/sec)\n",
      "NotebookApp.rate_limit_window=3.0 (secs)\n",
      "\n"
     ]
    }
   ],
   "execution_count": 10
  },
  {
   "metadata": {
    "ExecuteTime": {
     "end_time": "2024-11-28T14:48:58.974633Z",
     "start_time": "2024-11-28T14:48:58.950731Z"
    }
   },
   "cell_type": "code",
   "source": [
    "temp_table_name=\"fr_commune\"\n",
    "fr_commune_df.createOrReplaceTempView(temp_table_name)"
   ],
   "id": "64037cbe81c71a1a",
   "outputs": [],
   "execution_count": 12
  },
  {
   "metadata": {
    "ExecuteTime": {
     "end_time": "2024-11-28T14:49:33.918112Z",
     "start_time": "2024-11-28T14:49:33.906896Z"
    }
   },
   "cell_type": "code",
   "source": [
    "def get_nearest_commune(latitude:str, longitude:str, max_commune_number:int):\n",
    "    nearest_commune_df = sedona.sql(f\"\"\"\n",
    "     SELECT z.nom as commune_name, z.insee, ST_DistanceSphere(ST_PointFromText('{longitude},{latitude}', ','), z.geometry) AS distance FROM {temp_table_name} as z ORDER BY distance ASC LIMIT {max_commune_number}\n",
    "     \"\"\")\n",
    "    return nearest_commune_df"
   ],
   "id": "4b22deaca53617f",
   "outputs": [],
   "execution_count": 16
  },
  {
   "metadata": {
    "ExecuteTime": {
     "end_time": "2024-11-28T14:50:47.558774Z",
     "start_time": "2024-11-28T14:50:47.546090Z"
    }
   },
   "cell_type": "code",
   "source": [
    "# the gps coordinates for kremlin-Bicetre is 48.8100° N, 2.3539° E\n",
    "\n",
    "kb_latitude = \"48.8100\"\n",
    "kb_longitude = \"2.3539\""
   ],
   "id": "2ace400f406e2ba3",
   "outputs": [],
   "execution_count": 17
  },
  {
   "metadata": {
    "ExecuteTime": {
     "end_time": "2024-11-28T14:50:59.221563Z",
     "start_time": "2024-11-28T14:50:59.005621Z"
    }
   },
   "cell_type": "code",
   "source": "kb_nearest_shape_df = get_nearest_commune(kb_latitude,kb_longitude,10)",
   "id": "c810a7a4fe420c76",
   "outputs": [],
   "execution_count": 19
  },
  {
   "metadata": {
    "ExecuteTime": {
     "end_time": "2024-11-28T14:51:15.308205Z",
     "start_time": "2024-11-28T14:51:11.990154Z"
    }
   },
   "cell_type": "code",
   "source": [
    "%%time\n",
    "\n",
    "kb_nearest_shape_df.show()\n",
    "kb_nearest_shape_df.count()"
   ],
   "id": "b6fcf58326a2ec48",
   "outputs": [
    {
     "name": "stdout",
     "output_type": "stream",
     "text": [
      "+------------------+-----+------------------+\n",
      "|      commune_name|insee|          distance|\n",
      "+------------------+-----+------------------+\n",
      "|Le Kremlin-Bicêtre|94043|198.60307108585405|\n",
      "|          Gentilly|94037| 798.3521490770968|\n",
      "|           Arcueil|94003|1543.0937442695515|\n",
      "|         Villejuif|94076| 2007.793912679607|\n",
      "|    Ivry-sur-Seine|94041| 2489.634383841373|\n",
      "|            Cachan|94016| 2590.828517555236|\n",
      "|         Montrouge|92049| 2750.714176859015|\n",
      "|           Bagneux|92007| 3462.091511432535|\n",
      "|   Vitry-sur-Seine|94081|3845.1624363327196|\n",
      "|   L'Haÿ-les-Roses|94038| 3942.190017739479|\n",
      "+------------------+-----+------------------+\n",
      "\n",
      "CPU times: total: 0 ns\n",
      "Wall time: 3.3 s\n"
     ]
    },
    {
     "data": {
      "text/plain": [
       "10"
      ]
     },
     "execution_count": 20,
     "metadata": {},
     "output_type": "execute_result"
    }
   ],
   "execution_count": 20
  },
  {
   "metadata": {},
   "cell_type": "code",
   "outputs": [],
   "execution_count": null,
   "source": "",
   "id": "54e88d0538ee70bd"
  },
  {
   "metadata": {},
   "cell_type": "code",
   "outputs": [],
   "execution_count": null,
   "source": "",
   "id": "1fb9f023e9fd6cd3"
  }
 ],
 "metadata": {
  "kernelspec": {
   "display_name": "Python 3",
   "language": "python",
   "name": "python3"
  },
  "language_info": {
   "codemirror_mode": {
    "name": "ipython",
    "version": 2
   },
   "file_extension": ".py",
   "mimetype": "text/x-python",
   "name": "python",
   "nbconvert_exporter": "python",
   "pygments_lexer": "ipython2",
   "version": "2.7.6"
  }
 },
 "nbformat": 4,
 "nbformat_minor": 5
}
