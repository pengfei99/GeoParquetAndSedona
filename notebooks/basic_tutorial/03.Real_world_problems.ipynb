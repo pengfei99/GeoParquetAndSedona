{
 "cells": [
  {
   "cell_type": "code",
   "id": "initial_id",
   "metadata": {
    "collapsed": true,
    "ExecuteTime": {
     "end_time": "2024-12-05T14:11:41.333061Z",
     "start_time": "2024-12-05T14:11:41.318559Z"
    }
   },
   "source": [
    "from sedona.spark import *\n",
    "from pathlib import Path\n",
    "from pyspark.sql.functions import col, lower\n",
    "from pyspark.sql import DataFrame\n",
    "import json\n",
    "\n",
    "from ipyleaflet import Map, basemaps, basemap_to_tiles, MarkerCluster, Marker, AwesomeIcon\n",
    "from ipywidgets import Layout\n",
    "import numpy as np"
   ],
   "outputs": [],
   "execution_count": 120
  },
  {
   "metadata": {
    "ExecuteTime": {
     "end_time": "2024-12-05T09:27:33.068669Z",
     "start_time": "2024-12-05T09:27:33.053138Z"
    }
   },
   "cell_type": "code",
   "source": [
    "# get the project root dir\n",
    "project_root_dir = Path.cwd().parent.parent\n",
    "data_dir = f\"{project_root_dir}/data\"\n",
    "win_root_dir = \"C:/Users/PLIU/Documents/ubuntu_share/data_set\"\n",
    "fr_commune_file_path = f\"{win_root_dir}/kaggle/geospatial/communes_fr_geoparquet\""
   ],
   "id": "795cb3bdfd8e2222",
   "outputs": [],
   "execution_count": 2
  },
  {
   "metadata": {
    "ExecuteTime": {
     "end_time": "2024-12-05T09:27:45.242763Z",
     "start_time": "2024-12-05T09:27:41.605160Z"
    }
   },
   "cell_type": "code",
   "source": [
    "# build a sedona session (sedona = 1.6.1)\n",
    "jar_folder = Path(f\"{project_root_dir}/jars/sedona-35-213-161\")\n",
    "jar_list = [str(jar) for jar in jar_folder.iterdir() if jar.is_file()]\n",
    "jar_path = \",\".join(jar_list)\n",
    "\n",
    "# build a sedona session (sedona = 1.6.1) offline\n",
    "config = SedonaContext.builder() \\\n",
    "    .master(\"local[*]\") \\\n",
    "    .config('spark.jars', jar_path). \\\n",
    "    getOrCreate()"
   ],
   "id": "38f6e9ea4816a222",
   "outputs": [],
   "execution_count": 3
  },
  {
   "metadata": {
    "ExecuteTime": {
     "end_time": "2024-12-05T09:27:50.701016Z",
     "start_time": "2024-12-05T09:27:46.068832Z"
    }
   },
   "cell_type": "code",
   "source": [
    "# create a sedona context\n",
    "sedona = SedonaContext.create(config)\n",
    "sc = sedona.sparkContext\n",
    "spark = sedona.getActiveSession()\n"
   ],
   "id": "d115ca74f0fd4341",
   "outputs": [],
   "execution_count": 4
  },
  {
   "metadata": {
    "ExecuteTime": {
     "end_time": "2024-12-05T09:27:51.583843Z",
     "start_time": "2024-12-05T09:27:51.560779Z"
    }
   },
   "cell_type": "code",
   "source": [
    "# this sets the encoding of shape files\n",
    "sc.setSystemProperty(\"sedona.global.charset\", \"utf8\")"
   ],
   "id": "c1ebbc0494350d44",
   "outputs": [],
   "execution_count": 5
  },
  {
   "metadata": {},
   "cell_type": "code",
   "outputs": [],
   "execution_count": null,
   "source": "",
   "id": "c8be3d1757810443"
  },
  {
   "metadata": {
    "ExecuteTime": {
     "end_time": "2024-12-05T09:27:56.757830Z",
     "start_time": "2024-12-05T09:27:55.821464Z"
    }
   },
   "cell_type": "code",
   "source": "fr_commune_df = sedona.read.format(\"geoparquet\").load(fr_commune_file_path)",
   "id": "5f2e5fc2b0d14e51",
   "outputs": [],
   "execution_count": 6
  },
  {
   "metadata": {
    "ExecuteTime": {
     "end_time": "2024-12-05T09:28:00.690713Z",
     "start_time": "2024-12-05T09:27:59.464072Z"
    }
   },
   "cell_type": "code",
   "source": [
    "fr_commune_df.show(5)\n",
    "fr_commune_df.printSchema()"
   ],
   "id": "46fc51e8be940d94",
   "outputs": [
    {
     "name": "stdout",
     "output_type": "stream",
     "text": [
      "+--------------------+--------------------+--------------------+------------+-----+\n",
      "|            geometry|           wikipedia|             surf_ha|         nom|insee|\n",
      "+--------------------+--------------------+--------------------+------------+-----+\n",
      "|POLYGON ((9.32016...|fr:Pie-d'Orezza  ...|     573.00000000...|Pie-d'Orezza|2B222|\n",
      "|POLYGON ((9.20010...|fr:Lano          ...|     824.00000000...|        Lano|2B137|\n",
      "|POLYGON ((9.27757...|fr:Cambia        ...|     833.00000000...|      Cambia|2B051|\n",
      "|POLYGON ((9.25119...|fr:Érone         ...|     393.00000000...|       Érone|2B106|\n",
      "|POLYGON ((9.28339...|fr:Oletta        ...|    2674.00000000...|      Oletta|2B185|\n",
      "+--------------------+--------------------+--------------------+------------+-----+\n",
      "only showing top 5 rows\n",
      "\n",
      "root\n",
      " |-- geometry: geometry (nullable = true)\n",
      " |-- wikipedia: string (nullable = true)\n",
      " |-- surf_ha: string (nullable = true)\n",
      " |-- nom: string (nullable = true)\n",
      " |-- insee: string (nullable = true)\n",
      "\n"
     ]
    }
   ],
   "execution_count": 7
  },
  {
   "metadata": {
    "ExecuteTime": {
     "end_time": "2024-12-05T14:11:45.544113Z",
     "start_time": "2024-12-05T14:11:45.502282Z"
    }
   },
   "cell_type": "code",
   "source": "fr_commune_df = fr_commune_df.select(\"geometry\",\"nom\",\"insee\").withColumn(\"name\",lower(col(\"nom\"))).drop(\"nom\")",
   "id": "6368b2fa76c80e4c",
   "outputs": [],
   "execution_count": 121
  },
  {
   "metadata": {
    "ExecuteTime": {
     "end_time": "2024-12-05T14:11:47.383762Z",
     "start_time": "2024-12-05T14:11:46.969545Z"
    }
   },
   "cell_type": "code",
   "source": [
    "fr_commune_df.show(5)\n",
    "fr_commune_df.printSchema()"
   ],
   "id": "68a8069e2001240a",
   "outputs": [
    {
     "name": "stdout",
     "output_type": "stream",
     "text": [
      "+--------------------+-----+------------+\n",
      "|            geometry|insee|        name|\n",
      "+--------------------+-----+------------+\n",
      "|POLYGON ((9.32016...|2B222|pie-d'orezza|\n",
      "|POLYGON ((9.20010...|2B137|        lano|\n",
      "|POLYGON ((9.27757...|2B051|      cambia|\n",
      "|POLYGON ((9.25119...|2B106|       érone|\n",
      "|POLYGON ((9.28339...|2B185|      oletta|\n",
      "+--------------------+-----+------------+\n",
      "only showing top 5 rows\n",
      "\n",
      "root\n",
      " |-- geometry: geometry (nullable = true)\n",
      " |-- insee: string (nullable = true)\n",
      " |-- name: string (nullable = true)\n",
      "\n"
     ]
    }
   ],
   "execution_count": 122
  },
  {
   "metadata": {
    "ExecuteTime": {
     "end_time": "2024-12-05T14:21:07.073213Z",
     "start_time": "2024-12-05T14:21:07.041714Z"
    }
   },
   "cell_type": "code",
   "source": [
    "temp_table_name=\"fr_commune\"\n",
    "fr_commune_df.createOrReplaceTempView(temp_table_name)"
   ],
   "id": "64037cbe81c71a1a",
   "outputs": [],
   "execution_count": 131
  },
  {
   "metadata": {
    "ExecuteTime": {
     "end_time": "2024-12-05T09:29:08.393246Z",
     "start_time": "2024-12-05T09:29:08.389037Z"
    }
   },
   "cell_type": "code",
   "source": [
    "def get_nearest_commune(latitude:str, longitude:str, max_commune_number:int):\n",
    "    nearest_commune_df = sedona.sql(f\"\"\"\n",
    "     SELECT z.nom as commune_name, z.insee, ST_DistanceSphere(ST_PointFromText('{longitude},{latitude}', ','), z.geometry) AS distance FROM {temp_table_name} as z ORDER BY distance ASC LIMIT {max_commune_number}\n",
    "     \"\"\")\n",
    "    return nearest_commune_df"
   ],
   "id": "4b22deaca53617f",
   "outputs": [],
   "execution_count": 12
  },
  {
   "metadata": {
    "ExecuteTime": {
     "end_time": "2024-12-05T09:29:10.553580Z",
     "start_time": "2024-12-05T09:29:10.538278Z"
    }
   },
   "cell_type": "code",
   "source": [
    "# the gps coordinates for kremlin-Bicetre is 48.8100° N, 2.3539° E\n",
    "\n",
    "kb_latitude = \"48.8100\"\n",
    "kb_longitude = \"2.3539\""
   ],
   "id": "2ace400f406e2ba3",
   "outputs": [],
   "execution_count": 13
  },
  {
   "metadata": {
    "ExecuteTime": {
     "end_time": "2024-12-05T09:30:20.930029Z",
     "start_time": "2024-12-05T09:30:20.865859Z"
    }
   },
   "cell_type": "code",
   "source": "kb_nearest_shape_df = get_nearest_commune(kb_latitude,kb_longitude,36000)",
   "id": "c810a7a4fe420c76",
   "outputs": [],
   "execution_count": 16
  },
  {
   "metadata": {
    "ExecuteTime": {
     "end_time": "2024-12-05T09:30:24.923349Z",
     "start_time": "2024-12-05T09:30:22.647663Z"
    }
   },
   "cell_type": "code",
   "source": [
    "%%time\n",
    "\n",
    "kb_nearest_shape_df.show(50)\n",
    "kb_nearest_shape_df.count()"
   ],
   "id": "b6fcf58326a2ec48",
   "outputs": [
    {
     "name": "stdout",
     "output_type": "stream",
     "text": [
      "+--------------------+-----+------------------+\n",
      "|        commune_name|insee|          distance|\n",
      "+--------------------+-----+------------------+\n",
      "|  Le Kremlin-Bicêtre|94043|198.60307108585405|\n",
      "|            Gentilly|94037| 798.3521490770968|\n",
      "|             Arcueil|94003|1543.0937442695515|\n",
      "|           Villejuif|94076| 2007.793912679607|\n",
      "|      Ivry-sur-Seine|94041| 2489.634383841373|\n",
      "|              Cachan|94016| 2590.828517555236|\n",
      "|           Montrouge|92049| 2750.714176859015|\n",
      "|             Bagneux|92007| 3462.091511432535|\n",
      "|     Vitry-sur-Seine|94081|3845.1624363327196|\n",
      "|     L'Haÿ-les-Roses|94038| 3942.190017739479|\n",
      "|   Charenton-le-Pont|94018|4109.1534066729655|\n",
      "|      Bourg-la-Reine|92014| 4252.649916385617|\n",
      "|            Malakoff|92046| 4299.536384480496|\n",
      "|      Chevilly-Larue|94021| 4792.395404715219|\n",
      "|           Châtillon|92020| 4852.777041114918|\n",
      "|              Vanves|92075| 5035.982282488627|\n",
      "|         Alfortville|94002|   5173.1066517449|\n",
      "|               Paris|75056| 5246.572543626998|\n",
      "|  Fontenay-aux-Roses|92032| 5408.220712949713|\n",
      "|              Sceaux|92071| 5621.398234304307|\n",
      "|         Saint-Mandé|94067| 5866.637078912165|\n",
      "|              Thiais|94073| 5944.658859149744|\n",
      "|       Saint-Maurice|94069| 6169.460599654178|\n",
      "|      Maisons-Alfort|94046|6178.0091886382725|\n",
      "|             Fresnes|94034|6226.0893830341365|\n",
      "| Issy-les-Moulineaux|92040| 6688.123540900415|\n",
      "|              Rungis|94065| 6706.745147665737|\n",
      "|       Choisy-le-Roi|94022| 6880.828909506287|\n",
      "|           Vincennes|94080| 7419.345457935082|\n",
      "|             Clamart|92023| 7449.415698477335|\n",
      "| Le Plessis-Robinson|92060| 7646.272531012016|\n",
      "|              Antony|92002| 7791.031480549029|\n",
      "|             Créteil|94028| 7940.088490388186|\n",
      "|                Orly|94054| 8059.149167059917|\n",
      "|    Châtenay-Malabry|92019| 8089.550993882701|\n",
      "|            Bagnolet|93006| 8270.899810804984|\n",
      "|   Joinville-le-Pont|94042| 8623.896582341315|\n",
      "|Boulogne-Billancourt|92012| 8906.249340893224|\n",
      "|             Wissous|91689| 9108.772407530316|\n",
      "|Le Pré-Saint-Gervais|93061| 9129.508511014732|\n",
      "|           Montreuil|93048| 9137.155069533605|\n",
      "|              Meudon|92048| 9292.085711446307|\n",
      "|           Les Lilas|93045| 9326.757843505495|\n",
      "| Paray-Vieille-Poste|91479| 9504.460279634728|\n",
      "|   Villeneuve-le-Roi|94077| 9606.846471006136|\n",
      "|    Nogent-sur-Marne|94052| 9813.489891036797|\n",
      "|  Fontenay-sous-Bois|94033| 9913.063205713528|\n",
      "|Verrières-le-Buisson|91645| 9974.201780021354|\n",
      "|            Valenton|94074|10120.659924620468|\n",
      "|Villeneuve-Saint-...|94078|10297.269471273707|\n",
      "+--------------------+-----+------------------+\n",
      "only showing top 50 rows\n",
      "\n",
      "CPU times: total: 0 ns\n",
      "Wall time: 2.26 s\n"
     ]
    },
    {
     "data": {
      "text/plain": [
       "34955"
      ]
     },
     "execution_count": 17,
     "metadata": {},
     "output_type": "execute_result"
    }
   ],
   "execution_count": 17
  },
  {
   "metadata": {
    "ExecuteTime": {
     "end_time": "2024-12-05T09:31:05.522509Z",
     "start_time": "2024-12-05T09:31:05.501990Z"
    }
   },
   "cell_type": "code",
   "source": [
    "# the gps coordinates for Paul-Brousse is 48.7951606539 N, 2.3636935981061606 E\n",
    "pb_latitude = \"48.7951606539\"\n",
    "pb_longitude = \"2.3636935981061606\""
   ],
   "id": "54e88d0538ee70bd",
   "outputs": [],
   "execution_count": 18
  },
  {
   "metadata": {
    "ExecuteTime": {
     "end_time": "2024-12-05T09:31:58.166407Z",
     "start_time": "2024-12-05T09:31:58.116874Z"
    }
   },
   "cell_type": "code",
   "source": "pb_nearest_shape_df = get_nearest_commune(pb_latitude,pb_longitude,36000)",
   "id": "1fb9f023e9fd6cd3",
   "outputs": [],
   "execution_count": 21
  },
  {
   "metadata": {
    "ExecuteTime": {
     "end_time": "2024-12-05T09:32:01.648341Z",
     "start_time": "2024-12-05T09:31:59.359380Z"
    }
   },
   "cell_type": "code",
   "source": [
    "%%time\n",
    "\n",
    "pb_nearest_shape_df.show(10)\n",
    "pb_nearest_shape_df.count()"
   ],
   "id": "5065a03e903ae495",
   "outputs": [
    {
     "name": "stdout",
     "output_type": "stream",
     "text": [
      "+------------------+-----+------------------+\n",
      "|      commune_name|insee|          distance|\n",
      "+------------------+-----+------------------+\n",
      "|         Villejuif|94076| 417.1387367323394|\n",
      "|Le Kremlin-Bicêtre|94043|1616.4950325552602|\n",
      "|            Cachan|94016|2350.1367377095153|\n",
      "|   Vitry-sur-Seine|94081| 2391.395059245885|\n",
      "|           Arcueil|94003| 2455.207543731906|\n",
      "|          Gentilly|94037| 2469.389110389481|\n",
      "|    Ivry-sur-Seine|94041|2592.6844195169124|\n",
      "|   L'Haÿ-les-Roses|94038| 2842.834896668716|\n",
      "|    Chevilly-Larue|94021| 3239.030695241757|\n",
      "|    Bourg-la-Reine|92014| 3788.693247539781|\n",
      "+------------------+-----+------------------+\n",
      "only showing top 10 rows\n",
      "\n",
      "CPU times: total: 0 ns\n",
      "Wall time: 2.27 s\n"
     ]
    },
    {
     "data": {
      "text/plain": [
       "34955"
      ]
     },
     "execution_count": 22,
     "metadata": {},
     "output_type": "execute_result"
    }
   ],
   "execution_count": 22
  },
  {
   "metadata": {
    "ExecuteTime": {
     "end_time": "2024-12-05T09:40:27.056182Z",
     "start_time": "2024-12-05T09:40:26.870083Z"
    }
   },
   "cell_type": "code",
   "source": [
    "ile_france_pbf_path=f\"{win_root_dir}/geo_spatial/ile-de-france-geo-parquet\"\n",
    "osm_ile_france_df = spark.read.parquet(ile_france_pbf_path)"
   ],
   "id": "ad2b99e2b01f61a9",
   "outputs": [],
   "execution_count": 23
  },
  {
   "metadata": {
    "ExecuteTime": {
     "end_time": "2024-12-05T09:42:15.574530Z",
     "start_time": "2024-12-05T09:42:15.367645Z"
    }
   },
   "cell_type": "code",
   "source": "osm_ile_france_df.show(15)",
   "id": "f6b9a2e0e35cf9e0",
   "outputs": [
    {
     "name": "stdout",
     "output_type": "stream",
     "text": [
      "+------+----+------------------+------------------+-----+---------+--------------------+--------------------+\n",
      "|    id|type|          latitude|         longitude|nodes|relations|                tags|                info|\n",
      "+------+----+------------------+------------------+-----+---------+--------------------+--------------------+\n",
      "|122626|   0|49.115966300000004|         2.5549119|   []|       []|                  {}|{3, 2020-05-10 11...|\n",
      "|122627|   0|49.110294100000004|         2.5521725|   []|       []|                  {}|{4, 2009-02-13 19...|\n",
      "|122631|   0|        49.0834393|2.5511375000000003|   []|       []|                  {}|{15, 2021-06-30 1...|\n",
      "|122632|   0|        49.0675225|2.5524679000000003|   []|       []|                  {}|{17, 2019-04-10 1...|\n",
      "|122633|   0|         49.063616|2.5522412000000005|   []|       []|                  {}|{17, 2009-02-13 1...|\n",
      "|122634|   0|        49.0597465|2.5509097000000005|   []|       []|                  {}|{2, 2009-02-13 19...|\n",
      "|122635|   0|        49.0551989|2.5486690000000003|   []|       []|{highway -> emerg...|{20, 2023-03-05 1...|\n",
      "|122637|   0|         49.046553|2.5460228000000003|   []|       []|                  {}|{3, 2012-03-21 19...|\n",
      "|122638|   0|49.042466000000005|2.5435980000000002|   []|       []|                  {}|{24, 2009-02-13 1...|\n",
      "|122639|   0|49.039122400000004|2.5421644000000003|   []|       []|                  {}|{6, 2014-05-31 18...|\n",
      "|122640|   0|49.033757900000005|2.5402285000000004|   []|       []|                  {}|{4, 2019-04-10 11...|\n",
      "|122642|   0|49.006576100000004|2.5269186000000006|   []|       []|                  {}|{8, 2012-09-01 00...|\n",
      "|122922|   0|48.875346400000005|2.4402228000000004|   []|       []|                  {}|{3, 2014-05-07 10...|\n",
      "|122923|   0| 48.87823900000001|2.4462307000000005|   []|       []|                  {}|{3, 2010-10-18 22...|\n",
      "|122924|   0| 48.88325530000001|2.4577488000000005|   []|       []|{source -> data.g...|{4, 2020-06-08 13...|\n",
      "+------+----+------------------+------------------+-----+---------+--------------------+--------------------+\n",
      "only showing top 15 rows\n",
      "\n"
     ]
    }
   ],
   "execution_count": 25
  },
  {
   "metadata": {
    "ExecuteTime": {
     "end_time": "2024-12-05T09:51:11.428177Z",
     "start_time": "2024-12-05T09:51:11.417463Z"
    }
   },
   "cell_type": "code",
   "source": [
    "def show_row_details(entity_id:int):\n",
    "    sample_row = osm_ile_france_df.filter(osm_ile_france_df.id == entity_id )\n",
    "    sample_row.show(truncate=False, vertical=True)"
   ],
   "id": "b3d00e0540aeb26c",
   "outputs": [],
   "execution_count": 31
  },
  {
   "metadata": {
    "ExecuteTime": {
     "end_time": "2024-12-05T09:49:19.489731Z",
     "start_time": "2024-12-05T09:49:19.434380Z"
    }
   },
   "cell_type": "code",
   "source": "hospital_df = osm_ile_france_df.select(\"id\", \"latitude\", \"longitude\", \"tags\").where(\"element_at(tags, 'amenity') in ('hospital', 'clinic')\")",
   "id": "861cf0fb87f959f4",
   "outputs": [],
   "execution_count": 28
  },
  {
   "metadata": {
    "ExecuteTime": {
     "end_time": "2024-12-05T09:54:21.627411Z",
     "start_time": "2024-12-05T09:54:21.593752Z"
    }
   },
   "cell_type": "code",
   "source": "doctor_df = osm_ile_france_df.select(\"id\", \"latitude\", \"longitude\", \"tags\").where(\"element_at(tags, 'amenity') == 'doctors'\")",
   "id": "830345a14ae106cd",
   "outputs": [],
   "execution_count": 34
  },
  {
   "metadata": {
    "ExecuteTime": {
     "end_time": "2024-12-05T09:49:40.633573Z",
     "start_time": "2024-12-05T09:49:39.121023Z"
    }
   },
   "cell_type": "code",
   "source": "hospital_df.count()",
   "id": "28806a02f498e28c",
   "outputs": [
    {
     "data": {
      "text/plain": [
       "564"
      ]
     },
     "execution_count": 29,
     "metadata": {},
     "output_type": "execute_result"
    }
   ],
   "execution_count": 29
  },
  {
   "metadata": {
    "ExecuteTime": {
     "end_time": "2024-12-05T09:50:06.075450Z",
     "start_time": "2024-12-05T09:50:04.696331Z"
    }
   },
   "cell_type": "code",
   "source": "hospital_df.show(5)",
   "id": "67e81b32104077a",
   "outputs": [
    {
     "name": "stdout",
     "output_type": "stream",
     "text": [
      "+---------+------------------+------------------+--------------------+\n",
      "|       id|          latitude|         longitude|                tags|\n",
      "+---------+------------------+------------------+--------------------+\n",
      "|452401907| 48.78635369999983| 2.291711499999987|{amenity -> hospi...|\n",
      "|476313165|48.878517699999826| 2.414601899999999|{name -> Maternit...|\n",
      "|483569726| 48.82353579999984|2.2768316999999985|{website -> https...|\n",
      "|670633220|48.722277100000056|2.4525995000000083|{name -> Centre H...|\n",
      "|783760856| 48.83526160000006|         2.2442898|{name -> Centre d...|\n",
      "+---------+------------------+------------------+--------------------+\n",
      "only showing top 5 rows\n",
      "\n"
     ]
    }
   ],
   "execution_count": 30
  },
  {
   "metadata": {
    "ExecuteTime": {
     "end_time": "2024-12-05T09:52:17.997256Z",
     "start_time": "2024-12-05T09:52:17.685399Z"
    }
   },
   "cell_type": "code",
   "source": "show_row_details(670633220)",
   "id": "818e8ddc649380d8",
   "outputs": [
    {
     "name": "stdout",
     "output_type": "stream",
     "text": [
      "-RECORD 0--------------------------------------------------------------------------------------------------------------------------------------------------------------------------------------------------------------------------------------------------------------------------------------------------------------------------------------------------------------------------------------------------------------------------------------------------------------------------------------------------------------------------------------------------------------------------------------------------------------------------------------------------------------------------------------------------------------\n",
      " id        | 670633220                                                                                                                                                                                                                                                                                                                                                                                                                                                                                                                                                                                                                                                                                                 \n",
      " type      | 0                                                                                                                                                                                                                                                                                                                                                                                                                                                                                                                                                                                                                                                                                                         \n",
      " latitude  | 48.722277100000056                                                                                                                                                                                                                                                                                                                                                                                                                                                                                                                                                                                                                                                                                        \n",
      " longitude | 2.4525995000000083                                                                                                                                                                                                                                                                                                                                                                                                                                                                                                                                                                                                                                                                                        \n",
      " nodes     | []                                                                                                                                                                                                                                                                                                                                                                                                                                                                                                                                                                                                                                                                                                        \n",
      " relations | []                                                                                                                                                                                                                                                                                                                                                                                                                                                                                                                                                                                                                                                                                                        \n",
      " tags      | {name -> Centre Hospitalier Intercommunal Lucie et Raymond Aubrac, source -> ©IGN 2010 dans le cadre de la cartographie réglementaire, addr:street -> Allée de la Source, addr:postcode -> 94190, url -> http://geodesie.ign.fr/fiches/index.php?module=e&action=fichepdf&source=carte&sit_no=94078A, description -> Hôpital : Paratonnerre : Base - Point vu en place en 2006, amenity -> hospital, ref -> 94078A - 1, addr:housenumber -> 40, ele -> 107.43, addr:city -> Villeneuve-Saint-Georges, note -> Ne pas déplacer ce point, cf. - Do not move this node, see - http://wiki.openstreetmap.org/wiki/WikiProject_France/Repères_Géodésiques#Permanence_des_rep.C3.A8res, healthcare -> hospital} \n",
      " info      | {3, 2023-02-16 17:56:32, 0, 0, , NULL}                                                                                                                                                                                                                                                                                                                                                                                                                                                                                                                                                                                                                                                                    \n",
      "\n"
     ]
    }
   ],
   "execution_count": 33
  },
  {
   "metadata": {
    "ExecuteTime": {
     "end_time": "2024-12-05T09:55:09.388318Z",
     "start_time": "2024-12-05T09:55:08.112304Z"
    }
   },
   "cell_type": "code",
   "source": "doctor_df.count()",
   "id": "e47204ce353e313f",
   "outputs": [
    {
     "data": {
      "text/plain": [
       "1298"
      ]
     },
     "execution_count": 35,
     "metadata": {},
     "output_type": "execute_result"
    }
   ],
   "execution_count": 35
  },
  {
   "metadata": {
    "ExecuteTime": {
     "end_time": "2024-12-05T09:55:28.597234Z",
     "start_time": "2024-12-05T09:55:28.339344Z"
    }
   },
   "cell_type": "code",
   "source": "doctor_df.show(5)",
   "id": "690f45749cf3b775",
   "outputs": [
    {
     "name": "stdout",
     "output_type": "stream",
     "text": [
      "+---------+------------------+------------------+--------------------+\n",
      "|       id|          latitude|         longitude|                tags|\n",
      "+---------+------------------+------------------+--------------------+\n",
      "|293986528| 48.86378410000007|2.3814177000000036|{amenity -> docto...|\n",
      "|302305751|        48.5833366|2.2414200000000104|{amenity -> docto...|\n",
      "|416708946|48.872033599999774|2.3765707000000202|{website -> https...|\n",
      "|456140610| 48.75835359999986| 3.048538999999998|{amenity -> docto...|\n",
      "|477197148|49.010437500000016|2.0296950999999948|{amenity -> doctors}|\n",
      "+---------+------------------+------------------+--------------------+\n",
      "only showing top 5 rows\n",
      "\n"
     ]
    }
   ],
   "execution_count": 36
  },
  {
   "metadata": {
    "ExecuteTime": {
     "end_time": "2024-12-05T09:56:32.009012Z",
     "start_time": "2024-12-05T09:56:31.778442Z"
    }
   },
   "cell_type": "code",
   "source": "show_row_details(416708946)",
   "id": "69021d65b221aca4",
   "outputs": [
    {
     "name": "stdout",
     "output_type": "stream",
     "text": [
      "-RECORD 0-------------------------------------------------------------------------------------------------------------------------------------------------------------------------------------------------------------------------------------------------------------\n",
      " id        | 416708946                                                                                                                                                                                                                                                \n",
      " type      | 0                                                                                                                                                                                                                                                        \n",
      " latitude  | 48.872033599999774                                                                                                                                                                                                                                       \n",
      " longitude | 2.3765707000000202                                                                                                                                                                                                                                       \n",
      " nodes     | []                                                                                                                                                                                                                                                       \n",
      " relations | []                                                                                                                                                                                                                                                       \n",
      " tags      | {website -> https://dentylis.fr/dentistes-paris-10-belleville/, name -> Centre dentaire et ophtalmologie Paris 10 - Belleville, amenity -> doctors, opening_hours -> Mo-Fr 09:00-19:00, Sa 09:00-18:00, healthcare -> doctor;dentist, wheelchair -> yes} \n",
      " info      | {13, 2023-11-10 21:41:55, 0, 0, , NULL}                                                                                                                                                                                                                  \n",
      "\n"
     ]
    }
   ],
   "execution_count": 38
  },
  {
   "metadata": {
    "ExecuteTime": {
     "end_time": "2024-12-05T12:42:34.891402Z",
     "start_time": "2024-12-05T12:42:34.884012Z"
    }
   },
   "cell_type": "code",
   "source": [
    "from pyspark.sql import DataFrame\n",
    "\n",
    "\n",
    "def geo_df_convertor(source_df: DataFrame, lat_col_name: str, long_col_name: str, source_epsg_code: str,\n",
    "                     target_epsg_code: str, target_geo_col_name: str = \"location\"):\n",
    "    \"\"\"\n",
    "    This function takes a dataframe with gps coordinate column(string type), convert the string column to a geometry column. The returned dataframe can be stored as geoparquet.\n",
    "    :param source_df: \n",
    "    :type source_df: \n",
    "    :param long_col_name: longitude column name\n",
    "    :type long_col_name: str\n",
    "    :param lat_col_name: latitude column name\n",
    "    :type lat_col_name: str\n",
    "    :param source_epsg_code: the csr code of the input gps coordinates\n",
    "    :type source_epsg_code: str\n",
    "    :param target_epsg_code: the csr code of the output gps coordinates\n",
    "    :type target_epsg_code: str\n",
    "    :param target_geo_col_name: \n",
    "    :type target_geo_col_name: \n",
    "    :return: \n",
    "    :rtype: \n",
    "    \"\"\"\n",
    "    # create a temp view of the source df, the table name is the name of the data frame\n",
    "    temp_table_name = \"raw_source_df\"\n",
    "    source_df.createOrReplaceTempView(f\"{temp_table_name}\")\n",
    "    target_df = sedona.sql(f\"\"\"\n",
    "    SELECT id, tags,\n",
    "    ST_Transform(ST_Point(CAST({long_col_name} AS Decimal(24,20)), CAST({lat_col_name} AS Decimal(24,20))), '{source_epsg_code}', '{target_epsg_code}') AS {target_geo_col_name} from {temp_table_name}\"\"\")\n",
    "    return target_df\n",
    "\n",
    "\n",
    "def geo_table_convertor(source_table_name: str, lat_col_name: str, long_col_name: str, source_epsg_code: str,\n",
    "                        target_epsg_code: str, target_geo_col_name: str = \"location\"):\n",
    "    \"\"\"\n",
    "    This function takes a spark temp view with gps coordinate column(string type), convert the string column to a geometry column. The returned dataframe can be stored as geoparquet.\n",
    "    :param source_table_name: \n",
    "    :type source_table_name: \n",
    "    :param target_geo_col_name: \n",
    "    :type target_geo_col_name: \n",
    "    :param long_col_name: \n",
    "    :type long_col_name: \n",
    "    :param lat_col_name: \n",
    "    :type lat_col_name: \n",
    "    :param source_epsg_code: \n",
    "    :type source_epsg_code: \n",
    "    :param target_epsg_code: \n",
    "    :type target_epsg_code: \n",
    "    :return: \n",
    "    :rtype: \n",
    "    \"\"\"\n",
    "    # create a temp view of the source df, the table name is the name of the data frame\n",
    "    target_df = sedona.sql(f\"\"\"\n",
    "    SELECT \n",
    "    ST_Transform(ST_Point(CAST({long_col_name} AS Decimal(24,20)), CAST({lat_col_name} AS Decimal(24,20))), '{source_epsg_code}', '{target_epsg_code}') AS {target_geo_col_name} from {source_table_name}\"\"\")\n",
    "    return target_df\n"
   ],
   "id": "3b1f05f53fa9222d",
   "outputs": [],
   "execution_count": 89
  },
  {
   "metadata": {},
   "cell_type": "code",
   "outputs": [],
   "execution_count": null,
   "source": "",
   "id": "e6ec413a8cc7ce40"
  },
  {
   "metadata": {
    "ExecuteTime": {
     "end_time": "2024-12-05T12:42:38.990231Z",
     "start_time": "2024-12-05T12:42:38.923054Z"
    }
   },
   "cell_type": "code",
   "source": [
    "# Set up the epsg code value, osm uses epsg:25832\n",
    "source_epsg_code = \"epsg:4326\"\n",
    "# eu centered epsg code, more information can be found https://epsg.io/25832\n",
    "target_epsg_code = \"epsg:4326\"\n",
    "\n",
    "hospital_geo_table_name = \"hospital_geo\"\n",
    "hospital_geo_df = geo_df_convertor(hospital_df,\"latitude\",\"longitude\",source_epsg_code,target_epsg_code)\n",
    "hospital_geo_df.cache()\n",
    "hospital_geo_df.createOrReplaceTempView(hospital_geo_table_name)"
   ],
   "id": "cd80b279648f6cd1",
   "outputs": [],
   "execution_count": 90
  },
  {
   "metadata": {
    "ExecuteTime": {
     "end_time": "2024-12-05T12:42:42.944530Z",
     "start_time": "2024-12-05T12:42:40.849159Z"
    }
   },
   "cell_type": "code",
   "source": "hospital_geo_df.show()",
   "id": "e381d03c238a9ced",
   "outputs": [
    {
     "name": "stdout",
     "output_type": "stream",
     "text": [
      "+----------+--------------------+--------------------+\n",
      "|        id|                tags|            location|\n",
      "+----------+--------------------+--------------------+\n",
      "| 452401907|{amenity -> hospi...|POINT (2.29171149...|\n",
      "| 476313165|{name -> Maternit...|POINT (2.41460189...|\n",
      "| 483569726|{website -> https...|POINT (2.27683169...|\n",
      "| 670633220|{name -> Centre H...|POINT (2.45259950...|\n",
      "| 783760856|{name -> Centre d...|POINT (2.2442898 ...|\n",
      "| 977194624|{healthcare:speci...|POINT (2.35491029...|\n",
      "|1224158095|{name -> Centre d...|POINT (2.24444949...|\n",
      "|1225227409|{amenity -> clini...|POINT (2.26147650...|\n",
      "|1362787029|{amenity -> clini...|POINT (2.35780950...|\n",
      "|1462112612|{website -> https...|POINT (2.2777715 ...|\n",
      "|1684818336|{name -> Institut...|POINT (2.34351969...|\n",
      "|1685650816|{website -> https...|POINT (2.33943379...|\n",
      "|1744066136|{name -> Clinique...|POINT (2.87306660...|\n",
      "|1763282456|{name -> Clinique...|POINT (2.26171229...|\n",
      "|1768419851|{name -> CMS et P...|POINT (2.34639360...|\n",
      "|1945941131|{website -> https...|POINT (2.23885669...|\n",
      "|2022863169|{website -> http:...|POINT (2.22445849...|\n",
      "|2089723521|{name -> Hôpital ...|POINT (2.29126750...|\n",
      "|2112365042|{healthcare:speci...|POINT (2.53859249...|\n",
      "|2391501025|{name -> Clinique...|POINT (1.94785359...|\n",
      "+----------+--------------------+--------------------+\n",
      "only showing top 20 rows\n",
      "\n"
     ]
    }
   ],
   "execution_count": 91
  },
  {
   "metadata": {
    "ExecuteTime": {
     "end_time": "2024-12-05T12:52:38.538580Z",
     "start_time": "2024-12-05T12:52:38.525730Z"
    }
   },
   "cell_type": "code",
   "source": [
    "def get_near_hospital(patient_loc:str, distance:float):\n",
    "    \"\"\"\n",
    "    This function get the nearest hospital based on distance with a given patient location\n",
    "    :param patient_loc: gps coordinates in format \"POINT(longitude, latitude)\"\n",
    "    :param distance: the max distance between hospital and patient\n",
    "    :return: \n",
    "    \"\"\"\n",
    "    tmp_df = sedona.sql(f\"\"\"\n",
    "                         SELECT \n",
    "                         hospital_geo.id, \n",
    "                         hospital_geo.tags,\n",
    "                         ST_AsGeoJSON(ST_Transform(hospital_geo.location, '{target_epsg_code}', 'epsg:4326')) hospital_point, \n",
    "                         ST_DistanceSphere(ST_GeomFromWKT('{patient_loc}'), hospital_geo.location) distance_meter\n",
    "                         FROM hospital_geo \n",
    "\"\"\")\n",
    "    near_hospital_df= tmp_df.filter(tmp_df.distance_meter<=distance)\n",
    "    return near_hospital_df"
   ],
   "id": "ca31d1c4b91ca56b",
   "outputs": [],
   "execution_count": 110
  },
  {
   "metadata": {
    "ExecuteTime": {
     "end_time": "2024-12-05T15:25:15.753274Z",
     "start_time": "2024-12-05T15:25:15.607538Z"
    }
   },
   "cell_type": "code",
   "source": [
    "casd = \"POINT(2.3081911 48.8190155)\"\n",
    "kb = \"POINT(2.3573828 48.8121344)\"\n",
    "resu_df= get_near_hospital(kb, 5000)\n",
    "resu_df.show()"
   ],
   "id": "350ac3f7b65b3b42",
   "outputs": [
    {
     "name": "stdout",
     "output_type": "stream",
     "text": [
      "+----------+--------------------+--------------------+------------------+\n",
      "|        id|                tags|      hospital_point|    distance_meter|\n",
      "+----------+--------------------+--------------------+------------------+\n",
      "| 977194624|{healthcare:speci...|{\"type\":\"Point\",\"...|3498.0786372043644|\n",
      "|1362787029|{amenity -> clini...|{\"type\":\"Point\",\"...|1254.8694619275752|\n",
      "|1684818336|{name -> Institut...|{\"type\":\"Point\",\"...|3541.1455120259116|\n",
      "|1685650816|{website -> https...|{\"type\":\"Point\",\"...|3789.4252637925338|\n",
      "|2495910498|{healthcare:speci...|{\"type\":\"Point\",\"...|2228.9702311958245|\n",
      "|2506232459|{website -> http:...|{\"type\":\"Point\",\"...|3050.1027677005413|\n",
      "|3624753425|{website -> https...|{\"type\":\"Point\",\"...| 4880.471899182354|\n",
      "|4416374303|{name -> Clinique...|{\"type\":\"Point\",\"...|  2897.81069807685|\n",
      "|4657177274|{amenity -> clini...|{\"type\":\"Point\",\"...| 2209.855315303411|\n",
      "|4751279276|{amenity -> clini...|{\"type\":\"Point\",\"...|3276.3427584854035|\n",
      "|4936398378|{amenity -> clini...|{\"type\":\"Point\",\"...|3600.4847007316453|\n",
      "|5023043114|{healthcare:speci...|{\"type\":\"Point\",\"...| 4579.403190917573|\n",
      "|6987051305|{amenity -> clini...|{\"type\":\"Point\",\"...| 2171.009607324671|\n",
      "|7131500262|{amenity -> clini...|{\"type\":\"Point\",\"...|3523.4904349179114|\n",
      "|7131526972|{name -> Centre E...|{\"type\":\"Point\",\"...|3511.6854918640174|\n",
      "|7568123336|{name -> Unité de...|{\"type\":\"Point\",\"...|4431.2048027325845|\n",
      "|7923610571|{amenity -> clini...|{\"type\":\"Point\",\"...| 2166.251428174754|\n",
      "|8068619004|{amenity -> clini...|{\"type\":\"Point\",\"...|3021.8380397008605|\n",
      "|8236688539|{name -> Clinique...|{\"type\":\"Point\",\"...| 2097.856894292422|\n",
      "|8269359942|{name -> Cabinet ...|{\"type\":\"Point\",\"...|1518.0336707409215|\n",
      "+----------+--------------------+--------------------+------------------+\n",
      "only showing top 20 rows\n",
      "\n"
     ]
    }
   ],
   "execution_count": 182
  },
  {
   "metadata": {
    "ExecuteTime": {
     "end_time": "2024-12-05T15:25:24.106979Z",
     "start_time": "2024-12-05T15:25:24.036798Z"
    }
   },
   "cell_type": "code",
   "source": [
    "kepler_map_path = f\"{data_dir}/tmp/near_hospital_map.html\"\n",
    "\n",
    "sedona_kepler_map = SedonaKepler.create_map(df=resu_df,name=\"near_hospital\")\n",
    "\n",
    "sedona_kepler_map.save_to_html(file_name=kepler_map_path)"
   ],
   "id": "b2e926d3e07626ec",
   "outputs": [
    {
     "name": "stdout",
     "output_type": "stream",
     "text": [
      "User Guide: https://docs.kepler.gl/docs/keplergl-jupyter\n",
      "Map saved to C:\\Users\\PLIU\\Documents\\git\\GeoParquetAndSedona/data/tmp/near_hospital_map.html!\n"
     ]
    }
   ],
   "execution_count": 183
  },
  {
   "metadata": {
    "ExecuteTime": {
     "end_time": "2024-12-05T14:04:17.956012Z",
     "start_time": "2024-12-05T14:04:17.756310Z"
    }
   },
   "cell_type": "code",
   "source": [
    "resu_df.count()\n",
    "resu_df.printSchema()"
   ],
   "id": "d377252e2c6263c8",
   "outputs": [
    {
     "name": "stdout",
     "output_type": "stream",
     "text": [
      "root\n",
      " |-- id: long (nullable = true)\n",
      " |-- tags: map (nullable = true)\n",
      " |    |-- key: string\n",
      " |    |-- value: string (valueContainsNull = true)\n",
      " |-- hospital_point: string (nullable = true)\n",
      " |-- distance_meter: double (nullable = true)\n",
      "\n"
     ]
    }
   ],
   "execution_count": 118
  },
  {
   "metadata": {
    "ExecuteTime": {
     "end_time": "2024-12-05T11:18:47.279196Z",
     "start_time": "2024-12-05T11:18:47.033528Z"
    }
   },
   "cell_type": "code",
   "source": "show_row_details(2506232459)",
   "id": "9652488fe56866a1",
   "outputs": [
    {
     "name": "stdout",
     "output_type": "stream",
     "text": [
      "-RECORD 0------------------------------------------------------------------------------------------------------------------------------------------------------------------------------------\n",
      " id        | 2506232459                                                                                                                                                                      \n",
      " type      | 0                                                                                                                                                                               \n",
      " latitude  | 48.81152669999993                                                                                                                                                               \n",
      " longitude | 2.3157396000000015                                                                                                                                                              \n",
      " nodes     | []                                                                                                                                                                              \n",
      " relations | []                                                                                                                                                                              \n",
      " tags      | {website -> http://www.centrelafontaine.fr/index.php, name -> Centre médical Lafontaine, source -> survey, amenity -> clinic, healthcare -> clinic, phone -> +33 1 46 55 07 65} \n",
      " info      | {3, 2022-08-25 19:32:36, 0, 0, , NULL}                                                                                                                                          \n",
      "\n"
     ]
    }
   ],
   "execution_count": 82
  },
  {
   "metadata": {},
   "cell_type": "markdown",
   "source": "## get hospital count in the below commune",
   "id": "83c905200168f214"
  },
  {
   "metadata": {
    "ExecuteTime": {
     "end_time": "2024-12-05T14:57:25.134746Z",
     "start_time": "2024-12-05T14:57:23.870322Z"
    }
   },
   "cell_type": "code",
   "source": [
    "from sedona.spark import *\n",
    "paris_polygon_df= fr_commune_df.filter(col(\"name\")==\"paris\").withColumn(\"centroid\",ST_Centroid(col(\"geometry\")))\n",
    "paris_polygon_df.show()\n",
    "paris_polygon_df.createOrReplaceTempView(\"paris_polygon\")\n"
   ],
   "id": "615d805a59970494",
   "outputs": [
    {
     "name": "stdout",
     "output_type": "stream",
     "text": [
      "+--------------------+-----+-----+--------------------+\n",
      "|            geometry|insee| name|            centroid|\n",
      "+--------------------+-----+-----+--------------------+\n",
      "|POLYGON ((2.22412...|75056|paris|POINT (2.34287643...|\n",
      "+--------------------+-----+-----+--------------------+\n",
      "\n"
     ]
    }
   ],
   "execution_count": 147
  },
  {
   "metadata": {
    "ExecuteTime": {
     "end_time": "2024-12-05T15:22:01.204757Z",
     "start_time": "2024-12-05T15:22:01.162750Z"
    }
   },
   "cell_type": "code",
   "source": [
    "distance = 8000\n",
    "query = f\"SELECT fr.name FROM paris_polygon p, fr_commune fr WHERE ST_DWithin(p.centroid, fr.geometry,{distance},true)\"\n",
    "filtered_commune_df = sedona.sql(query)"
   ],
   "id": "d004776f3c76b3f4",
   "outputs": [],
   "execution_count": 175
  },
  {
   "metadata": {
    "ExecuteTime": {
     "end_time": "2024-12-05T15:22:09.265261Z",
     "start_time": "2024-12-05T15:22:02.728421Z"
    }
   },
   "cell_type": "code",
   "source": [
    "print(f\"total commune count: {filtered_commune_df.count()}\")\n",
    "filtered_commune_df.show()"
   ],
   "id": "91f25752bc98619",
   "outputs": [
    {
     "name": "stdout",
     "output_type": "stream",
     "text": [
      "total commune count: 30\n",
      "+--------------------+\n",
      "|                name|\n",
      "+--------------------+\n",
      "|boulogne-billancourt|\n",
      "|           châtillon|\n",
      "|    levallois-perret|\n",
      "|              vanves|\n",
      "|               paris|\n",
      "|           vincennes|\n",
      "|            bagnolet|\n",
      "|         romainville|\n",
      "|   neuilly-sur-seine|\n",
      "|           les lilas|\n",
      "|         saint-mandé|\n",
      "|le pré-saint-gervais|\n",
      "| issy-les-moulineaux|\n",
      "|          courbevoie|\n",
      "|           montreuil|\n",
      "|       aubervilliers|\n",
      "|saint-ouen-sur-seine|\n",
      "|   charenton-le-pont|\n",
      "|              pantin|\n",
      "|      ivry-sur-seine|\n",
      "+--------------------+\n",
      "only showing top 20 rows\n",
      "\n"
     ]
    }
   ],
   "execution_count": 176
  },
  {
   "metadata": {
    "ExecuteTime": {
     "end_time": "2024-12-05T15:22:15.528691Z",
     "start_time": "2024-12-05T15:22:11.664911Z"
    }
   },
   "cell_type": "code",
   "source": [
    "target_commune = [row[\"name\"] for row in filtered_commune_df.select(\"name\").collect()]\n",
    "\n",
    "print(target_commune)"
   ],
   "id": "35afcaa110dcaeb7",
   "outputs": [
    {
     "name": "stdout",
     "output_type": "stream",
     "text": [
      "['boulogne-billancourt', 'châtillon', 'levallois-perret', 'vanves', 'paris', 'vincennes', 'bagnolet', 'romainville', 'neuilly-sur-seine', 'les lilas', 'saint-mandé', 'le pré-saint-gervais', 'issy-les-moulineaux', 'courbevoie', 'montreuil', 'aubervilliers', 'saint-ouen-sur-seine', 'charenton-le-pont', 'pantin', 'ivry-sur-seine', 'asnières-sur-seine', 'gentilly', 'le kremlin-bicêtre', 'arcueil', 'villejuif', 'cachan', 'malakoff', 'montrouge', 'clichy-la-garenne', 'bagneux']\n"
     ]
    }
   ],
   "execution_count": 177
  },
  {
   "metadata": {
    "ExecuteTime": {
     "end_time": "2024-12-05T15:22:23.689453Z",
     "start_time": "2024-12-05T15:22:22.206502Z"
    }
   },
   "cell_type": "code",
   "source": [
    "target_commune_df = fr_commune_df.filter(col(\"name\").isin(target_commune))\n",
    "target_commune_df.show()\n",
    "target_commune_df.createOrReplaceTempView(\"target_commune\")"
   ],
   "id": "51e724419d2b08ea",
   "outputs": [
    {
     "name": "stdout",
     "output_type": "stream",
     "text": [
      "+--------------------+-----+--------------------+\n",
      "|            geometry|insee|                name|\n",
      "+--------------------+-----+--------------------+\n",
      "|POLYGON ((3.26578...|02043|             bagneux|\n",
      "|POLYGON ((3.08236...|03069|           châtillon|\n",
      "|POLYGON ((3.79568...|51032|             bagneux|\n",
      "|POLYGON ((5.69078...|39122|           châtillon|\n",
      "|POLYGON ((5.84683...|54041|             bagneux|\n",
      "|POLYGON ((4.62395...|69050|           châtillon|\n",
      "|POLYGON ((3.16833...|03015|             bagneux|\n",
      "|POLYGON ((2.22279...|92012|boulogne-billancourt|\n",
      "|POLYGON ((1.75451...|62588|           montreuil|\n",
      "|POLYGON ((1.71683...|36011|             bagneux|\n",
      "|POLYGON ((1.35566...|28267|           montreuil|\n",
      "|POLYGON ((-0.8686...|85148|           montreuil|\n",
      "|POLYGON ((2.27139...|92020|           châtillon|\n",
      "|POLYGON ((2.27102...|92044|    levallois-perret|\n",
      "|POLYGON ((2.27261...|92075|              vanves|\n",
      "|POLYGON ((2.22412...|75056|               paris|\n",
      "|POLYGON ((2.41844...|94080|           vincennes|\n",
      "|POLYGON ((2.41344...|93006|            bagnolet|\n",
      "|POLYGON ((2.42415...|93063|         romainville|\n",
      "|POLYGON ((2.24562...|92051|   neuilly-sur-seine|\n",
      "+--------------------+-----+--------------------+\n",
      "only showing top 20 rows\n",
      "\n"
     ]
    }
   ],
   "execution_count": 178
  },
  {
   "metadata": {
    "ExecuteTime": {
     "end_time": "2024-12-05T15:22:28.057068Z",
     "start_time": "2024-12-05T15:22:26.547269Z"
    }
   },
   "cell_type": "code",
   "source": [
    "commune_hospital_df = sedona.sql(f\"\"\"\n",
    " select \n",
    " target_commune.name, target_commune.geometry, hospital_geo.id\n",
    " FROM target_commune, hospital_geo \n",
    " WHERE \n",
    " ST_Contains(target_commune.geometry, hospital_geo.location)\n",
    "\"\"\")\n",
    "\n",
    "commune_hospital_df.show()\n",
    "commune_hospital_df.createOrReplaceTempView(\"commune_hospital\")"
   ],
   "id": "79f42adc5b7d5ab7",
   "outputs": [
    {
     "name": "stdout",
     "output_type": "stream",
     "text": [
      "+--------------------+--------------------+-----------+\n",
      "|                name|            geometry|         id|\n",
      "+--------------------+--------------------+-----------+\n",
      "|boulogne-billancourt|POLYGON ((2.22279...| 3189803775|\n",
      "|boulogne-billancourt|POLYGON ((2.22279...|  783760856|\n",
      "|boulogne-billancourt|POLYGON ((2.22279...| 1224158095|\n",
      "|    levallois-perret|POLYGON ((2.27102...| 5719766166|\n",
      "|               paris|POLYGON ((2.22412...|10883369653|\n",
      "|               paris|POLYGON ((2.22412...| 4936398378|\n",
      "|               paris|POLYGON ((2.22412...| 7923610571|\n",
      "|               paris|POLYGON ((2.22412...| 9073838043|\n",
      "|               paris|POLYGON ((2.22412...|10061970658|\n",
      "|               paris|POLYGON ((2.22412...| 8269359942|\n",
      "|               paris|POLYGON ((2.22412...| 1362787029|\n",
      "|               paris|POLYGON ((2.22412...| 9247842736|\n",
      "|               paris|POLYGON ((2.22412...| 4657177274|\n",
      "|               paris|POLYGON ((2.22412...| 3624753425|\n",
      "|               paris|POLYGON ((2.22412...| 7568123336|\n",
      "|               paris|POLYGON ((2.22412...| 8354199443|\n",
      "|               paris|POLYGON ((2.22412...| 6987051305|\n",
      "|               paris|POLYGON ((2.22412...| 8236688539|\n",
      "|               paris|POLYGON ((2.22412...| 9667186287|\n",
      "|               paris|POLYGON ((2.22412...| 8269359960|\n",
      "+--------------------+--------------------+-----------+\n",
      "only showing top 20 rows\n",
      "\n"
     ]
    }
   ],
   "execution_count": 179
  },
  {
   "metadata": {
    "ExecuteTime": {
     "end_time": "2024-12-05T15:22:31.017638Z",
     "start_time": "2024-12-05T15:22:31.005142Z"
    }
   },
   "cell_type": "code",
   "source": "hospital_count_df = sedona.sql(\"SELECT c.name, c.geometry, count(*) as hospital_count FROM commune_hospital c GROUP BY c.name, c.name, c.geometry sort by hospital_count desc\")",
   "id": "5070bcd3df0525b",
   "outputs": [],
   "execution_count": 180
  },
  {
   "metadata": {
    "ExecuteTime": {
     "end_time": "2024-12-05T15:22:34.992003Z",
     "start_time": "2024-12-05T15:22:33.737128Z"
    }
   },
   "cell_type": "code",
   "source": [
    "kepler_map_path = f\"{data_dir}/tmp/hospital_count_map.html\"\n",
    "\n",
    "sedona_kepler_map = SedonaKepler.create_map(df=hospital_count_df,name=\"hospital_count_df\")\n",
    "\n",
    "sedona_kepler_map.save_to_html(file_name=kepler_map_path)"
   ],
   "id": "85441be452342676",
   "outputs": [
    {
     "name": "stdout",
     "output_type": "stream",
     "text": [
      "User Guide: https://docs.kepler.gl/docs/keplergl-jupyter\n",
      "Map saved to C:\\Users\\PLIU\\Documents\\git\\GeoParquetAndSedona/data/tmp/hospital_count_map.html!\n"
     ]
    }
   ],
   "execution_count": 181
  },
  {
   "metadata": {},
   "cell_type": "markdown",
   "source": "",
   "id": "92e30f14c900a4ef"
  }
 ],
 "metadata": {
  "kernelspec": {
   "display_name": "Python 3",
   "language": "python",
   "name": "python3"
  },
  "language_info": {
   "codemirror_mode": {
    "name": "ipython",
    "version": 2
   },
   "file_extension": ".py",
   "mimetype": "text/x-python",
   "name": "python",
   "nbconvert_exporter": "python",
   "pygments_lexer": "ipython2",
   "version": "2.7.6"
  }
 },
 "nbformat": 4,
 "nbformat_minor": 5
}
