{
 "cells": [
  {
   "metadata": {},
   "cell_type": "markdown",
   "source": [
    "# Spatial Query in sedona\n",
    "\n",
    "\n",
    "In this tutorial, we will play with spatial join query. To better understand the query, we use this [website](https://www.keene.edu/campus/maps/tool/) to get coordinates.\n",
    "\n",
    "For example, the below polygone represent Île-de-France:\n",
    "```text\n",
    "1.8814087,49.2265665\n",
    "1.8099976,48.5884175\n",
    "2.9347229,48.5820584\n",
    "3.0528259,49.2068317\n",
    "1.8814087,49.2265665\n",
    "```\n",
    "\n",
    "polygone represents casd:\n",
    "```text\n",
    "2.3065817,48.8204849\n",
    "2.3063672,48.8177934\n",
    "2.3113775,48.8177369\n",
    "2.3114955,48.8205838\n",
    "2.3065817,48.8204849\n",
    "\n",
    "```\n",
    "\n",
    "polygone represents insee:\n",
    "```text\n",
    "2.3066783,48.8179488\n",
    "2.3065925,48.8159283\n",
    "2.3108518,48.8159566\n",
    "2.3109269,48.8179559\n",
    "2.3066783,48.8179488\n",
    "\n",
    "```\n",
    "\n",
    "polygone represents hospital Paul-Brousse:\n",
    "```text\n",
    "2.359668,48.7974719\n",
    "2.3590672,48.7944258\n",
    "2.3640883,48.7945106\n",
    "2.3641849,48.7977687\n",
    "2.359668,48.7974719\n",
    "```\n",
    "\n",
    "\n",
    "      \n",
    "The coordinates of eiffel-tour:\n",
    "```text\n",
    "2.2949409,48.8579388 \n",
    "```\n",
    "\n",
    "The coordinates of bordeaux:\n",
    "```text\n",
    "-0.574851 44.8453837\n",
    "```\n",
    "\n",
    "Below is a list of predefine functions that implements geospatial predicates:\n",
    "\n",
    "- **ST_Contains**(polygondf.polygonshape,pointdf.pointshape): Return true if A fully contains B.\n",
    "- **ST_Crosses**(polygondf.polygonshape,polygondf.polygonshape): Return true if A crosses B. (E.g. check if a polygon cross inside a polygone)\n",
    "- **ST_Disjoint**(polygondf.polygonshape,polygondf.polygonshape): Return true if A and B are disjoint. (E.g. check if a polygon disjoint another polygone)\n",
    "- **ST_DWithin**(leftGeometry: Geometry, rightGeometry: Geometry, distance: Double, useSpheroid: Optional(Boolean) = false): \n",
    "- **ST_Equals**(A: Geometry, B: Geometry): Return true if A equals to B. (E.g. checks if two line string LINESTRING(0 0,10 10), LINESTRING(0 0,5 5,10 10) equals.)\n",
    "- **ST_Intersects**(polygondf.polygonshape,pointdf.pointshape): Return true if A intersects B. \n",
    "- **ST_OrderingEquals**(A: geometry, B: geometry): Returns true if the geometries are equal and the coordinates are in the same order\n",
    "- **ST_Overlaps**(A: Geometry, B: Geometry): Return true if A overlaps B\n",
    "- **ST_Relate**(geom1: Geometry, geom2: Geometry, intersectionMatrix: String):"
   ],
   "id": "ee2433d4d6aff593"
  },
  {
   "metadata": {
    "ExecuteTime": {
     "end_time": "2024-12-02T12:12:01.056170Z",
     "start_time": "2024-12-02T12:12:01.041393Z"
    }
   },
   "cell_type": "code",
   "source": [
    "from pyspark.sql import DataFrame\n",
    "from sedona.spark import SedonaContext\n",
    "import geopandas as gpd\n",
    "from pyspark.sql.functions import trim, col\n",
    "from pathlib import Path"
   ],
   "id": "a652fc3c77a04cdf",
   "outputs": [],
   "execution_count": 12
  },
  {
   "metadata": {
    "ExecuteTime": {
     "end_time": "2024-12-02T12:06:01.471745Z",
     "start_time": "2024-12-02T12:06:01.458386Z"
    }
   },
   "cell_type": "code",
   "source": [
    "# get the project root dir\n",
    "project_root_dir = Path.cwd().parent.parent"
   ],
   "id": "80fb77945b0098d0",
   "outputs": [],
   "execution_count": 2
  },
  {
   "metadata": {
    "ExecuteTime": {
     "end_time": "2024-12-02T12:06:27.717083Z",
     "start_time": "2024-12-02T12:06:01.484707Z"
    }
   },
   "cell_type": "code",
   "source": [
    "# build a sedona session (sedona = 1.6.1)\n",
    "jar_folder = Path(f\"{project_root_dir}/jars/sedona-35-213-161\")\n",
    "jar_list = [str(jar) for jar in jar_folder.iterdir() if jar.is_file()]\n",
    "jar_path = \",\".join(jar_list)\n",
    "\n",
    "# build a sedona session (sedona = 1.6.1) offline\n",
    "config = SedonaContext.builder() \\\n",
    "    .master(\"local[*]\") \\\n",
    "    .config('spark.jars', jar_path). \\\n",
    "    getOrCreate()"
   ],
   "id": "a1ded89a43dd774d",
   "outputs": [],
   "execution_count": 3
  },
  {
   "metadata": {
    "ExecuteTime": {
     "end_time": "2024-12-02T12:06:34.352749Z",
     "start_time": "2024-12-02T12:06:28.126705Z"
    }
   },
   "cell_type": "code",
   "source": [
    "# create a sedona context\n",
    "sedona = SedonaContext.create(config)\n",
    "sc = sedona.sparkContext"
   ],
   "id": "a900521068276db",
   "outputs": [],
   "execution_count": 4
  },
  {
   "metadata": {
    "ExecuteTime": {
     "end_time": "2024-12-02T12:06:34.373592Z",
     "start_time": "2024-12-02T12:06:34.364304Z"
    }
   },
   "cell_type": "code",
   "source": [
    "# this sets the encoding of shape files\n",
    "sc.setSystemProperty(\"sedona.global.charset\", \"utf8\")"
   ],
   "id": "5970d7d2591a55a9",
   "outputs": [],
   "execution_count": 5
  },
  {
   "metadata": {
    "ExecuteTime": {
     "end_time": "2024-12-02T12:12:05.611762Z",
     "start_time": "2024-12-02T12:12:05.597817Z"
    }
   },
   "cell_type": "code",
   "source": [
    "def evalSpaceJoinQuery(TargetQuery:str)->DataFrame:\n",
    "    inQuery = f\"{TargetQuery} as result\"\n",
    "    return sedona.sql(inQuery)"
   ],
   "id": "74996809a0327fa0",
   "outputs": [],
   "execution_count": 13
  },
  {
   "metadata": {},
   "cell_type": "markdown",
   "source": [
    "## 1. ST_Contains VS ST_Within\n",
    "\n",
    "- **ST_Contains**(A: Geometry, B: Geometry): Return true if A fully contains B.\n",
    "- **ST_Within**(A: Geometry, B: Geometry): Return true if A is fully contained by B\n",
    "\n",
    "In below code example, we check if:\n",
    "- eiffel_tour(point) within Île-de-France(polygon)/ Île-de-France contains eiffel_tour\n",
    "- bordeaux city hall(point) in Île-de-France(polygon) / Île-de-France contains eiffel_tour\n",
    "- casd(polygon) inside Île-de-France(polygon) /"
   ],
   "id": "869d3439eaee0797"
  },
  {
   "metadata": {
    "ExecuteTime": {
     "end_time": "2024-12-02T13:47:19.171133Z",
     "start_time": "2024-12-02T13:47:19.151252Z"
    }
   },
   "cell_type": "code",
   "source": [
    "ile_france = \"POLYGON((1.8814087 49.2265665,1.8099976 48.5884175,2.9347229 48.5820584,3.0528259 49.2068317,1.8814087 49.2265665))\"\n",
    "\n",
    "casd = \"POLYGON((2.3065817  48.8204849,2.3063672  48.8177934,2.3113775  48.8177369,2.3114955  48.8205838,2.3065817  48.8204849))\"\n",
    "\n",
    "insee = \"POLYGON((2.3066783  48.8179488,2.3065925  48.8159283,2.3108518  48.8159566,2.3109269  48.8179559,2.3066783  48.8179488))\"\n",
    "paul_brousse= \"POLYGON((2.359668  48.7974719,2.3590672  48.7944258,2.3640883  48.7945106,2.3641849  48.7977687,2.359668  48.7974719))\"\n",
    "\n",
    "eiffel_tour = \"POINT(2.2949409 48.8579388)\"\n",
    "bordeaux = \"POINT(-0.574851 44.8453837)\""
   ],
   "id": "46cb2eebc6dc4c17",
   "outputs": [],
   "execution_count": 36
  },
  {
   "metadata": {
    "ExecuteTime": {
     "end_time": "2024-12-02T16:17:53.395749Z",
     "start_time": "2024-12-02T16:17:53.359783Z"
    }
   },
   "cell_type": "code",
   "source": [
    "# in query 1 we use ST_Contains\n",
    "query1 = f\"SELECT ST_Contains(ST_GeomFromWKT('{ile_france}'), ST_GeomFromWKT('{eiffel_tour}'))\"\n",
    "\n",
    "resu1 = evalSpaceJoinQuery(query1)\n",
    "\n",
    "# we can do the same by using\n",
    "query1bis = f\"SELECT ST_Within(ST_GeomFromWKT('{eiffel_tour}'), ST_GeomFromWKT('{ile_france}'))\"\n",
    "\n",
    "resu1bis = evalSpaceJoinQuery(query1bis)\n"
   ],
   "id": "9278d517f613fb72",
   "outputs": [],
   "execution_count": 47
  },
  {
   "metadata": {
    "ExecuteTime": {
     "end_time": "2024-12-02T16:18:07.904435Z",
     "start_time": "2024-12-02T16:18:07.775883Z"
    }
   },
   "cell_type": "code",
   "source": [
    "resu1.show()\n",
    "resu1bis.show()"
   ],
   "id": "90aaed97ca8e8247",
   "outputs": [
    {
     "name": "stdout",
     "output_type": "stream",
     "text": [
      "+------+\n",
      "|result|\n",
      "+------+\n",
      "|  true|\n",
      "+------+\n",
      "\n",
      "+------+\n",
      "|result|\n",
      "+------+\n",
      "|  true|\n",
      "+------+\n",
      "\n"
     ]
    }
   ],
   "execution_count": 48
  },
  {
   "metadata": {
    "ExecuteTime": {
     "end_time": "2024-12-02T12:40:21.514601Z",
     "start_time": "2024-12-02T12:40:21.485630Z"
    }
   },
   "cell_type": "code",
   "source": [
    "query2 = f\"SELECT ST_Contains(ST_GeomFromWKT('{ile_france}'), ST_GeomFromWKT('{bordeaux}'))\"\n",
    "\n",
    "resu2 = evalSpaceJoinQuery(query2)"
   ],
   "id": "f33a34ca5e28ed84",
   "outputs": [],
   "execution_count": 26
  },
  {
   "metadata": {
    "ExecuteTime": {
     "end_time": "2024-12-02T12:40:23.245490Z",
     "start_time": "2024-12-02T12:40:23.152711Z"
    }
   },
   "cell_type": "code",
   "source": "resu2.show()",
   "id": "bb1d057fd6251a0",
   "outputs": [
    {
     "name": "stdout",
     "output_type": "stream",
     "text": [
      "+------+\n",
      "|result|\n",
      "+------+\n",
      "| false|\n",
      "+------+\n",
      "\n"
     ]
    }
   ],
   "execution_count": 27
  },
  {
   "metadata": {
    "ExecuteTime": {
     "end_time": "2024-12-02T13:04:52.978438Z",
     "start_time": "2024-12-02T13:04:52.917865Z"
    }
   },
   "cell_type": "code",
   "source": [
    "query3 = f\"SELECT ST_Contains(ST_GeomFromWKT('{ile_france}'), ST_GeomFromWKT('{casd}'))\"\n",
    "resu3 = evalSpaceJoinQuery(query3)\n",
    "resu3.show()"
   ],
   "id": "daed0c98cb7db78a",
   "outputs": [
    {
     "name": "stdout",
     "output_type": "stream",
     "text": [
      "+------+\n",
      "|result|\n",
      "+------+\n",
      "|  true|\n",
      "+------+\n",
      "\n"
     ]
    }
   ],
   "execution_count": 32
  },
  {
   "metadata": {},
   "cell_type": "markdown",
   "source": "## 2. ST_Crosses",
   "id": "e9ac2f9f82816068"
  },
  {
   "metadata": {
    "ExecuteTime": {
     "end_time": "2024-12-02T13:45:31.690764Z",
     "start_time": "2024-12-02T13:45:31.509366Z"
    }
   },
   "cell_type": "code",
   "source": [
    "query4 = f\"SELECT ST_Crosses(ST_GeomFromWKT('{casd}'),ST_GeomFromWKT('{insee}'))\"\n",
    "resu4 = evalSpaceJoinQuery(query4)\n",
    "resu4.show()"
   ],
   "id": "d9bcf592fc0c1355",
   "outputs": [
    {
     "name": "stdout",
     "output_type": "stream",
     "text": [
      "+------+\n",
      "|result|\n",
      "+------+\n",
      "| false|\n",
      "+------+\n",
      "\n"
     ]
    }
   ],
   "execution_count": 33
  },
  {
   "metadata": {},
   "cell_type": "markdown",
   "source": [
    "## 3. ST_Disjoint\n",
    "\n",
    "\n"
   ],
   "id": "ebb321d2f50fa3d2"
  },
  {
   "metadata": {
    "ExecuteTime": {
     "end_time": "2024-12-02T13:46:56.745310Z",
     "start_time": "2024-12-02T13:46:56.685937Z"
    }
   },
   "cell_type": "code",
   "source": [
    "query = f\"SELECT ST_Disjoint(ST_GeomFromWKT('{casd}'),ST_GeomFromWKT('{insee}'))\"\n",
    "resu = evalSpaceJoinQuery(query)\n",
    "resu.show()"
   ],
   "id": "d01f2465edf883c",
   "outputs": [
    {
     "name": "stdout",
     "output_type": "stream",
     "text": [
      "+------+\n",
      "|result|\n",
      "+------+\n",
      "| false|\n",
      "+------+\n",
      "\n"
     ]
    }
   ],
   "execution_count": 34
  },
  {
   "metadata": {
    "ExecuteTime": {
     "end_time": "2024-12-02T13:47:23.618947Z",
     "start_time": "2024-12-02T13:47:23.550268Z"
    }
   },
   "cell_type": "code",
   "source": [
    "query = f\"SELECT ST_Disjoint(ST_GeomFromWKT('{casd}'),ST_GeomFromWKT('{paul_brousse}'))\"\n",
    "resu = evalSpaceJoinQuery(query)\n",
    "resu.show()"
   ],
   "id": "d01fdbc86e472edb",
   "outputs": [
    {
     "name": "stdout",
     "output_type": "stream",
     "text": [
      "+------+\n",
      "|result|\n",
      "+------+\n",
      "|  true|\n",
      "+------+\n",
      "\n"
     ]
    }
   ],
   "execution_count": 37
  },
  {
   "metadata": {},
   "cell_type": "code",
   "outputs": [],
   "execution_count": null,
   "source": "",
   "id": "5f8c0dd3f90f6523"
  },
  {
   "metadata": {},
   "cell_type": "markdown",
   "source": [
    "## 4. ST_DWithin\n",
    "\n",
    "Returns true if 'leftGeometry' and 'rightGeometry' are within a specified 'distance'. \n",
    "\n",
    "If useSpheroid is passed true, ST_DWithin uses Sedona's `ST_DistanceSpheroid` to check the spheroid distance between the centroids of two geometries. \n",
    "\n",
    "If useSpheroid is passed false, ST_DWithin uses Euclidean distance and the unit of the distance is the same as the CRS of the geometries. To obtain the correct result, please consider using `ST_Transform` to put data in an appropriate CRS.\n",
    "\n",
    "The **unit of the distance in this case is meter**. \n",
    "\n"
   ],
   "id": "d35ffcc32201a73a"
  },
  {
   "metadata": {
    "ExecuteTime": {
     "end_time": "2024-12-02T13:56:17.035141Z",
     "start_time": "2024-12-02T13:56:16.979097Z"
    }
   },
   "cell_type": "code",
   "source": [
    "# the unit of distance is meter\n",
    "distance = 4700\n",
    "query = f\"SELECT ST_DWithin(ST_GeomFromWKT('{casd}'),ST_GeomFromWKT('{paul_brousse}'),{distance},true)\"\n",
    "resu = evalSpaceJoinQuery(query)\n",
    "resu.show()"
   ],
   "id": "d781619c81ce54ee",
   "outputs": [
    {
     "name": "stdout",
     "output_type": "stream",
     "text": [
      "+------+\n",
      "|result|\n",
      "+------+\n",
      "|  true|\n",
      "+------+\n",
      "\n"
     ]
    }
   ],
   "execution_count": 44
  },
  {
   "metadata": {},
   "cell_type": "markdown",
   "source": [
    "## ST_Equals and ST_OrderingEquals\n",
    "\n",
    "- **ST_Equals**: Returns true if the geometries are equal\n",
    "- **ST_OrderingEquals**: Returns true if the geometries are equal and the coordinates are in the same order\n",
    "We have two lines, line1 and line2. They represent the same line but with different coordinates.\n",
    "So with function `ST_Equals`, it returns True. with function `ST_OrderingEquals`, it returns false "
   ],
   "id": "152199828c16222d"
  },
  {
   "metadata": {
    "ExecuteTime": {
     "end_time": "2024-12-02T14:02:34.810223Z",
     "start_time": "2024-12-02T14:02:34.702133Z"
    }
   },
   "cell_type": "code",
   "source": [
    "line1 = \"LINESTRING(0 0,10 10)\"\n",
    "line2 = \"LINESTRING(0 0,5 5,10 10)\"\n",
    "query = f\"SELECT ST_Equals(ST_GeomFromWKT('{line1}'),ST_GeomFromWKT('{line2}'))\"\n",
    "resu = evalSpaceJoinQuery(query)\n",
    "resu.show()"
   ],
   "id": "27adb8ca2f8beb3",
   "outputs": [
    {
     "name": "stdout",
     "output_type": "stream",
     "text": [
      "+------+\n",
      "|result|\n",
      "+------+\n",
      "|  true|\n",
      "+------+\n",
      "\n"
     ]
    }
   ],
   "execution_count": 45
  },
  {
   "metadata": {},
   "cell_type": "code",
   "outputs": [],
   "execution_count": null,
   "source": "",
   "id": "3eab9e30e8b286af"
  },
  {
   "metadata": {
    "ExecuteTime": {
     "end_time": "2024-12-02T16:07:07.607182Z",
     "start_time": "2024-12-02T16:07:07.331988Z"
    }
   },
   "cell_type": "code",
   "source": [
    "line1 = \"LINESTRING(0 0,10 10)\"\n",
    "line2 = \"LINESTRING(0 0,5 5,10 10)\"\n",
    "query = f\"SELECT ST_OrderingEquals(ST_GeomFromWKT('{line1}'),ST_GeomFromWKT('{line2}'))\"\n",
    "resu = evalSpaceJoinQuery(query)\n",
    "resu.show()"
   ],
   "id": "3d75d6567dc8bf51",
   "outputs": [
    {
     "name": "stdout",
     "output_type": "stream",
     "text": [
      "+------+\n",
      "|result|\n",
      "+------+\n",
      "| false|\n",
      "+------+\n",
      "\n"
     ]
    }
   ],
   "execution_count": 46
  }
 ],
 "metadata": {
  "kernelspec": {
   "display_name": "Python 3",
   "language": "python",
   "name": "python3"
  },
  "language_info": {
   "codemirror_mode": {
    "name": "ipython",
    "version": 2
   },
   "file_extension": ".py",
   "mimetype": "text/x-python",
   "name": "python",
   "nbconvert_exporter": "python",
   "pygments_lexer": "ipython2",
   "version": "2.7.6"
  }
 },
 "nbformat": 4,
 "nbformat_minor": 5
}
