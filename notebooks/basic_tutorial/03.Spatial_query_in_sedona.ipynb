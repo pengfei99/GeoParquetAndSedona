{
 "cells": [
  {
   "metadata": {},
   "cell_type": "markdown",
   "source": [
    "# Spatial Query in sedona\n",
    "\n",
    "\n",
    "In this tutorial, we will play with spatial join query. To better understand the query, we use this [website](https://www.keene.edu/campus/maps/tool/) to get coordinates.\n",
    "\n",
    "For example, the below polygone represent Île-de-France:\n",
    "```text\n",
    "1.8814087,49.2265665\n",
    "1.8099976,48.5884175\n",
    "2.9347229,48.5820584\n",
    "3.0528259,49.2068317\n",
    "1.8814087,49.2265665\n",
    "```\n",
    "\n",
    "polygone represents casd:\n",
    "```text\n",
    "2.3065817,48.8204849\n",
    "2.3063672,48.8177934\n",
    "2.3113775,48.8177369\n",
    "2.3114955,48.8205838\n",
    "2.3065817,48.8204849\n",
    "\n",
    "```\n",
    "\n",
    "polygone represents insee:\n",
    "```text\n",
    "2.3066783,48.8179488\n",
    "2.3065925,48.8159283\n",
    "2.3108518,48.8159566\n",
    "2.3109269,48.8179559\n",
    "2.3066783,48.8179488\n",
    "\n",
    "```\n",
    "\n",
    "polygone represents hospital Paul-Brousse:\n",
    "```text\n",
    "2.359668,48.7974719\n",
    "2.3590672,48.7944258\n",
    "2.3640883,48.7945106\n",
    "2.3641849,48.7977687\n",
    "2.359668,48.7974719\n",
    "```\n",
    "\n",
    "\n",
    "      \n",
    "The coordinates of eiffel-tour:\n",
    "```text\n",
    "2.2949409,48.8579388 \n",
    "```\n",
    "\n",
    "The coordinates of bordeaux:\n",
    "```text\n",
    "-0.574851 44.8453837\n",
    "```\n",
    "\n",
    "Below is a list of predefine functions that implements geospatial predicates:\n",
    "\n",
    "- **ST_Contains**(polygondf.polygonshape,pointdf.pointshape): Return true if A fully contains B.\n",
    "- **ST_Crosses**(polygondf.polygonshape,polygondf.polygonshape): Return true if A crosses B. (E.g. check if a polygon cross inside a polygone)\n",
    "- **ST_Disjoint**(polygondf.polygonshape,polygondf.polygonshape): Return true if A and B are disjoint. (E.g. check if a polygon disjoint another polygone)\n",
    "- **ST_DWithin**(leftGeometry: Geometry, rightGeometry: Geometry, distance: Double, useSpheroid: Optional(Boolean) = false): \n",
    "- **ST_Equals**(A: Geometry, B: Geometry): Return true if A equals to B. (E.g. checks if two line string LINESTRING(0 0,10 10), LINESTRING(0 0,5 5,10 10) equals.)\n",
    "- **ST_Intersects**(polygondf.polygonshape,pointdf.pointshape): Return true if A intersects B. \n",
    "- **ST_OrderingEquals**(A: geometry, B: geometry): Returns true if the geometries are equal and the coordinates are in the same order\n",
    "- **ST_Overlaps**(A: Geometry, B: Geometry): Return true if A overlaps B\n",
    "- **ST_Relate**(geom1: Geometry, geom2: Geometry, intersectionMatrix: String):\n",
    "- **ST_Touches**(A: Geometry, B: Geometry): Return true if A touches B\n",
    "- **ST_Covers**(A: Geometry, B: Geometry): Return true if A covers B\n",
    "- **ST_CoveredBy**(A: Geometry, B: Geometry): Return true if A is covered by B"
   ],
   "id": "ee2433d4d6aff593"
  },
  {
   "metadata": {
    "ExecuteTime": {
     "end_time": "2024-12-04T13:23:29.473068Z",
     "start_time": "2024-12-04T13:23:28.860421Z"
    }
   },
   "cell_type": "code",
   "source": [
    "from pyspark.sql import DataFrame\n",
    "from sedona.spark import SedonaContext\n",
    "import geopandas as gpd\n",
    "from pyspark.sql.functions import trim, col\n",
    "from pathlib import Path"
   ],
   "id": "a652fc3c77a04cdf",
   "outputs": [],
   "execution_count": 1
  },
  {
   "metadata": {
    "ExecuteTime": {
     "end_time": "2024-12-04T13:23:29.480138Z",
     "start_time": "2024-12-04T13:23:29.473068Z"
    }
   },
   "cell_type": "code",
   "source": [
    "# get the project root dir\n",
    "project_root_dir = Path.cwd().parent.parent"
   ],
   "id": "80fb77945b0098d0",
   "outputs": [],
   "execution_count": 2
  },
  {
   "metadata": {
    "ExecuteTime": {
     "end_time": "2024-12-04T13:23:34.009839Z",
     "start_time": "2024-12-04T13:23:29.980867Z"
    }
   },
   "cell_type": "code",
   "source": [
    "# build a sedona session (sedona = 1.6.1)\n",
    "jar_folder = Path(f\"{project_root_dir}/jars/sedona-35-213-161\")\n",
    "jar_list = [str(jar) for jar in jar_folder.iterdir() if jar.is_file()]\n",
    "jar_path = \",\".join(jar_list)\n",
    "\n",
    "# build a sedona session (sedona = 1.6.1) offline\n",
    "config = SedonaContext.builder() \\\n",
    "    .master(\"local[*]\") \\\n",
    "    .config('spark.jars', jar_path). \\\n",
    "    getOrCreate()"
   ],
   "id": "a1ded89a43dd774d",
   "outputs": [],
   "execution_count": 3
  },
  {
   "metadata": {
    "ExecuteTime": {
     "end_time": "2024-12-04T13:23:39.307551Z",
     "start_time": "2024-12-04T13:23:34.009839Z"
    }
   },
   "cell_type": "code",
   "source": [
    "# create a sedona context\n",
    "sedona = SedonaContext.create(config)\n",
    "sc = sedona.sparkContext"
   ],
   "id": "a900521068276db",
   "outputs": [],
   "execution_count": 4
  },
  {
   "metadata": {
    "ExecuteTime": {
     "end_time": "2024-12-04T13:23:39.327852Z",
     "start_time": "2024-12-04T13:23:39.316967Z"
    }
   },
   "cell_type": "code",
   "source": [
    "# this sets the encoding of shape files\n",
    "sc.setSystemProperty(\"sedona.global.charset\", \"utf8\")"
   ],
   "id": "5970d7d2591a55a9",
   "outputs": [],
   "execution_count": 5
  },
  {
   "metadata": {
    "ExecuteTime": {
     "end_time": "2024-12-04T13:23:39.342703Z",
     "start_time": "2024-12-04T13:23:39.337369Z"
    }
   },
   "cell_type": "code",
   "source": [
    "def evalSpaceJoinQuery(TargetQuery:str)->DataFrame:\n",
    "    inQuery = f\"{TargetQuery} as result\"\n",
    "    return sedona.sql(inQuery)"
   ],
   "id": "74996809a0327fa0",
   "outputs": [],
   "execution_count": 6
  },
  {
   "metadata": {},
   "cell_type": "markdown",
   "source": [
    "## 1. ST_Contains VS ST_Within\n",
    "\n",
    "- **ST_Contains**(A: Geometry, B: Geometry): Return true if A fully contains B.\n",
    "- **ST_Within**(A: Geometry, B: Geometry): Return true if A is fully contained by B\n",
    "\n",
    "In below code example, we check if:\n",
    "- eiffel_tour(point) within Île-de-France(polygon)/ Île-de-France contains eiffel_tour\n",
    "- bordeaux city hall(point) in Île-de-France(polygon) / Île-de-France contains eiffel_tour\n",
    "- casd(polygon) inside Île-de-France(polygon) /"
   ],
   "id": "869d3439eaee0797"
  },
  {
   "metadata": {},
   "cell_type": "code",
   "source": [
    "ile_france = \"POLYGON((1.8814087 49.2265665,1.8099976 48.5884175,2.9347229 48.5820584,3.0528259 49.2068317,1.8814087 49.2265665))\"\n",
    "\n",
    "casd = \"POLYGON((2.3065817  48.8204849,2.3063672  48.8177934,2.3113775  48.8177369,2.3114955  48.8205838,2.3065817  48.8204849))\"\n",
    "\n",
    "insee = \"POLYGON((2.3066783  48.8179488,2.3065925  48.8159283,2.3108518  48.8159566,2.3109269  48.8179559,2.3066783  48.8179488))\"\n",
    "paul_brousse= \"POLYGON((2.359668  48.7974719,2.3590672  48.7944258,2.3640883  48.7945106,2.3641849  48.7977687,2.359668  48.7974719))\"\n",
    "\n",
    "eiffel_tour = \"POINT(2.2949409 48.8579388)\"\n",
    "bordeaux = \"POINT(-0.574851 44.8453837)\""
   ],
   "id": "46cb2eebc6dc4c17",
   "outputs": [],
   "execution_count": 7
  },
  {
   "metadata": {
    "ExecuteTime": {
     "end_time": "2024-12-04T13:23:39.585224Z",
     "start_time": "2024-12-04T13:23:39.425308Z"
    }
   },
   "cell_type": "code",
   "source": [
    "# in query 1 we use ST_Contains\n",
    "query1 = f\"SELECT ST_Contains(ST_GeomFromWKT('{ile_france}'), ST_GeomFromWKT('{eiffel_tour}'))\"\n",
    "\n",
    "resu1 = evalSpaceJoinQuery(query1)\n",
    "\n",
    "# we can do the same by using\n",
    "query1bis = f\"SELECT ST_Within(ST_GeomFromWKT('{eiffel_tour}'), ST_GeomFromWKT('{ile_france}'))\"\n",
    "\n",
    "resu1bis = evalSpaceJoinQuery(query1bis)\n"
   ],
   "id": "9278d517f613fb72",
   "outputs": [],
   "execution_count": 8
  },
  {
   "metadata": {
    "ExecuteTime": {
     "end_time": "2024-12-04T13:23:40.018297Z",
     "start_time": "2024-12-04T13:23:39.630753Z"
    }
   },
   "cell_type": "code",
   "source": [
    "resu1.show()\n",
    "resu1bis.show()"
   ],
   "id": "90aaed97ca8e8247",
   "outputs": [
    {
     "name": "stdout",
     "output_type": "stream",
     "text": [
      "+------+\n",
      "|result|\n",
      "+------+\n",
      "|  true|\n",
      "+------+\n",
      "\n",
      "+------+\n",
      "|result|\n",
      "+------+\n",
      "|  true|\n",
      "+------+\n",
      "\n"
     ]
    }
   ],
   "execution_count": 9
  },
  {
   "metadata": {
    "ExecuteTime": {
     "end_time": "2024-12-04T13:23:40.116466Z",
     "start_time": "2024-12-04T13:23:40.091467Z"
    }
   },
   "cell_type": "code",
   "source": [
    "query2 = f\"SELECT ST_Contains(ST_GeomFromWKT('{ile_france}'), ST_GeomFromWKT('{bordeaux}'))\"\n",
    "\n",
    "resu2 = evalSpaceJoinQuery(query2)"
   ],
   "id": "f33a34ca5e28ed84",
   "outputs": [],
   "execution_count": 10
  },
  {
   "metadata": {
    "ExecuteTime": {
     "end_time": "2024-12-04T13:23:40.370989Z",
     "start_time": "2024-12-04T13:23:40.295544Z"
    }
   },
   "cell_type": "code",
   "source": "resu2.show()",
   "id": "bb1d057fd6251a0",
   "outputs": [
    {
     "name": "stdout",
     "output_type": "stream",
     "text": [
      "+------+\n",
      "|result|\n",
      "+------+\n",
      "| false|\n",
      "+------+\n",
      "\n"
     ]
    }
   ],
   "execution_count": 11
  },
  {
   "metadata": {
    "ExecuteTime": {
     "end_time": "2024-12-04T13:23:40.540379Z",
     "start_time": "2024-12-04T13:23:40.452999Z"
    }
   },
   "cell_type": "code",
   "source": [
    "query3 = f\"SELECT ST_Contains(ST_GeomFromWKT('{ile_france}'), ST_GeomFromWKT('{casd}'))\"\n",
    "resu3 = evalSpaceJoinQuery(query3)\n",
    "resu3.show()"
   ],
   "id": "daed0c98cb7db78a",
   "outputs": [
    {
     "name": "stdout",
     "output_type": "stream",
     "text": [
      "+------+\n",
      "|result|\n",
      "+------+\n",
      "|  true|\n",
      "+------+\n",
      "\n"
     ]
    }
   ],
   "execution_count": 12
  },
  {
   "metadata": {},
   "cell_type": "markdown",
   "source": "## 2. ST_Crosses",
   "id": "e9ac2f9f82816068"
  },
  {
   "metadata": {
    "ExecuteTime": {
     "end_time": "2024-12-04T13:23:40.734246Z",
     "start_time": "2024-12-04T13:23:40.650186Z"
    }
   },
   "cell_type": "code",
   "source": [
    "query4 = f\"SELECT ST_Crosses(ST_GeomFromWKT('{casd}'),ST_GeomFromWKT('{insee}'))\"\n",
    "resu4 = evalSpaceJoinQuery(query4)\n",
    "resu4.show()"
   ],
   "id": "d9bcf592fc0c1355",
   "outputs": [
    {
     "name": "stdout",
     "output_type": "stream",
     "text": [
      "+------+\n",
      "|result|\n",
      "+------+\n",
      "| false|\n",
      "+------+\n",
      "\n"
     ]
    }
   ],
   "execution_count": 13
  },
  {
   "metadata": {},
   "cell_type": "markdown",
   "source": [
    "## 3. ST_Disjoint vs ST_Overlaps\n",
    "\n",
    "- ST_Disjoint: returns true if two polygon has no common area.\n",
    "- ST_Overlaps: returns true if two polygon has common area. This function can be viewed as the opposite of ST_Disjoint\n",
    "\n",
    "In below examples\n"
   ],
   "id": "ebb321d2f50fa3d2"
  },
  {
   "metadata": {
    "ExecuteTime": {
     "end_time": "2024-12-04T13:23:41.023919Z",
     "start_time": "2024-12-04T13:23:40.935187Z"
    }
   },
   "cell_type": "code",
   "source": [
    "query = f\"SELECT ST_Disjoint(ST_GeomFromWKT('{casd}'),ST_GeomFromWKT('{insee}'))\"\n",
    "resu = evalSpaceJoinQuery(query)\n",
    "resu.show()"
   ],
   "id": "d01f2465edf883c",
   "outputs": [
    {
     "name": "stdout",
     "output_type": "stream",
     "text": [
      "+------+\n",
      "|result|\n",
      "+------+\n",
      "| false|\n",
      "+------+\n",
      "\n"
     ]
    }
   ],
   "execution_count": 14
  },
  {
   "metadata": {
    "ExecuteTime": {
     "end_time": "2024-12-04T13:23:41.404953Z",
     "start_time": "2024-12-04T13:23:41.301699Z"
    }
   },
   "cell_type": "code",
   "source": [
    "query = f\"SELECT ST_Overlaps(ST_GeomFromWKT('{casd}'),ST_GeomFromWKT('{insee}'))\"\n",
    "resu = evalSpaceJoinQuery(query)\n",
    "resu.show()"
   ],
   "id": "1c6bd25c3f204ad4",
   "outputs": [
    {
     "name": "stdout",
     "output_type": "stream",
     "text": [
      "+------+\n",
      "|result|\n",
      "+------+\n",
      "|  true|\n",
      "+------+\n",
      "\n"
     ]
    }
   ],
   "execution_count": 15
  },
  {
   "metadata": {
    "ExecuteTime": {
     "end_time": "2024-12-04T13:23:41.766192Z",
     "start_time": "2024-12-04T13:23:41.602397Z"
    }
   },
   "cell_type": "code",
   "source": [
    "query = f\"SELECT ST_Disjoint(ST_GeomFromWKT('{casd}'),ST_GeomFromWKT('{paul_brousse}'))\"\n",
    "resu = evalSpaceJoinQuery(query)\n",
    "resu.show()"
   ],
   "id": "d01fdbc86e472edb",
   "outputs": [
    {
     "name": "stdout",
     "output_type": "stream",
     "text": [
      "+------+\n",
      "|result|\n",
      "+------+\n",
      "|  true|\n",
      "+------+\n",
      "\n"
     ]
    }
   ],
   "execution_count": 16
  },
  {
   "metadata": {
    "ExecuteTime": {
     "end_time": "2024-12-04T13:23:42.019379Z",
     "start_time": "2024-12-04T13:23:41.933722Z"
    }
   },
   "cell_type": "code",
   "source": [
    "query = f\"SELECT ST_Overlaps(ST_GeomFromWKT('{casd}'),ST_GeomFromWKT('{paul_brousse}'))\"\n",
    "resu = evalSpaceJoinQuery(query)\n",
    "resu.show()"
   ],
   "id": "5f8c0dd3f90f6523",
   "outputs": [
    {
     "name": "stdout",
     "output_type": "stream",
     "text": [
      "+------+\n",
      "|result|\n",
      "+------+\n",
      "| false|\n",
      "+------+\n",
      "\n"
     ]
    }
   ],
   "execution_count": 17
  },
  {
   "metadata": {},
   "cell_type": "markdown",
   "source": [
    "## 4. ST_DWithin\n",
    "\n",
    "Returns true if 'leftGeometry' and 'rightGeometry' are within a specified 'distance'. \n",
    "\n",
    "If useSpheroid is passed true, ST_DWithin uses Sedona's `ST_DistanceSpheroid` to check the spheroid distance between the centroids of two geometries. \n",
    "\n",
    "If useSpheroid is passed false, ST_DWithin uses Euclidean distance and the unit of the distance is the same as the CRS of the geometries. To obtain the correct result, please consider using `ST_Transform` to put data in an appropriate CRS.\n",
    "\n",
    "The **unit of the distance in this case is meter**. \n",
    "\n"
   ],
   "id": "d35ffcc32201a73a"
  },
  {
   "metadata": {
    "ExecuteTime": {
     "end_time": "2024-12-04T13:23:45.002563Z",
     "start_time": "2024-12-04T13:23:44.842728Z"
    }
   },
   "cell_type": "code",
   "source": [
    "# the unit of distance is meter\n",
    "distance = 4700\n",
    "query = f\"SELECT ST_DWithin(ST_GeomFromWKT('{casd}'),ST_GeomFromWKT('{paul_brousse}'),{distance},true)\"\n",
    "resu = evalSpaceJoinQuery(query)\n",
    "resu.show()"
   ],
   "id": "d781619c81ce54ee",
   "outputs": [
    {
     "name": "stdout",
     "output_type": "stream",
     "text": [
      "+------+\n",
      "|result|\n",
      "+------+\n",
      "|  true|\n",
      "+------+\n",
      "\n"
     ]
    }
   ],
   "execution_count": 18
  },
  {
   "metadata": {},
   "cell_type": "markdown",
   "source": [
    "## ST_Equals and ST_OrderingEquals\n",
    "\n",
    "- **ST_Equals**: Returns true if the geometries are equal\n",
    "- **ST_OrderingEquals**: Returns true if the geometries are equal and the coordinates are in the same order\n",
    "We have two lines, line1 and line2. They represent the same line but with different coordinates.\n",
    "So with function `ST_Equals`, it returns True. with function `ST_OrderingEquals`, it returns false "
   ],
   "id": "152199828c16222d"
  },
  {
   "metadata": {
    "ExecuteTime": {
     "end_time": "2024-12-04T13:24:07.073267Z",
     "start_time": "2024-12-04T13:24:06.998853Z"
    }
   },
   "cell_type": "code",
   "source": [
    "line1 = \"LINESTRING(0 0,10 10)\"\n",
    "line2 = \"LINESTRING(0 0,5 5,10 10)\"\n",
    "query = f\"SELECT ST_Equals(ST_GeomFromWKT('{line1}'),ST_GeomFromWKT('{line2}'))\"\n",
    "resu = evalSpaceJoinQuery(query)\n",
    "resu.show()"
   ],
   "id": "27adb8ca2f8beb3",
   "outputs": [
    {
     "name": "stdout",
     "output_type": "stream",
     "text": [
      "+------+\n",
      "|result|\n",
      "+------+\n",
      "|  true|\n",
      "+------+\n",
      "\n"
     ]
    }
   ],
   "execution_count": 19
  },
  {
   "metadata": {},
   "cell_type": "markdown",
   "source": [
    "You can notice the above query returns true, even though the line string coordinates are different. But they represent the same line.\n",
    "\n",
    "The below query returns false, because the coordinates and order must be exactly the same to satisfy the function condition."
   ],
   "id": "fddd36f5535ff74f"
  },
  {
   "metadata": {
    "ExecuteTime": {
     "end_time": "2024-12-04T13:24:08.318151Z",
     "start_time": "2024-12-04T13:24:08.252629Z"
    }
   },
   "cell_type": "code",
   "source": [
    "line1 = \"LINESTRING(0 0,10 10)\"\n",
    "line2 = \"LINESTRING(0 0,5 5,10 10)\"\n",
    "query = f\"SELECT ST_OrderingEquals(ST_GeomFromWKT('{line1}'),ST_GeomFromWKT('{line2}'))\"\n",
    "resu = evalSpaceJoinQuery(query)\n",
    "resu.show()"
   ],
   "id": "3d75d6567dc8bf51",
   "outputs": [
    {
     "name": "stdout",
     "output_type": "stream",
     "text": [
      "+------+\n",
      "|result|\n",
      "+------+\n",
      "| false|\n",
      "+------+\n",
      "\n"
     ]
    }
   ],
   "execution_count": 20
  },
  {
   "metadata": {},
   "cell_type": "markdown",
   "source": "## ST_Intersects vs ST_Touches",
   "id": "75eedc738dd0e14c"
  },
  {
   "metadata": {
    "ExecuteTime": {
     "end_time": "2024-12-04T13:24:10.420559Z",
     "start_time": "2024-12-04T13:24:10.331088Z"
    }
   },
   "cell_type": "code",
   "source": [
    "line1 = \"LINESTRING(0 0,10 10)\"\n",
    "point1 = \"POINT(5 5)\"\n",
    "\n",
    "query = f\"SELECT ST_Intersects(ST_GeomFromWKT('{line1}'),ST_GeomFromWKT('{point1}'))\"\n",
    "resu = evalSpaceJoinQuery(query)\n",
    "resu.show()"
   ],
   "id": "c3c055421f68214",
   "outputs": [
    {
     "name": "stdout",
     "output_type": "stream",
     "text": [
      "+------+\n",
      "|result|\n",
      "+------+\n",
      "|  true|\n",
      "+------+\n",
      "\n"
     ]
    }
   ],
   "execution_count": 21
  },
  {
   "metadata": {
    "ExecuteTime": {
     "end_time": "2024-12-04T13:32:53.066562Z",
     "start_time": "2024-12-04T13:32:52.993455Z"
    }
   },
   "cell_type": "code",
   "source": [
    "query = f\"SELECT ST_Touches(ST_GeomFromWKT('{line1}'),ST_GeomFromWKT('{point1}'))\"\n",
    "resu = evalSpaceJoinQuery(query)\n",
    "resu.show()"
   ],
   "id": "ac1545d1fb5e3fa9",
   "outputs": [
    {
     "name": "stdout",
     "output_type": "stream",
     "text": [
      "+------+\n",
      "|result|\n",
      "+------+\n",
      "| false|\n",
      "+------+\n",
      "\n"
     ]
    }
   ],
   "execution_count": 24
  },
  {
   "metadata": {
    "ExecuteTime": {
     "end_time": "2024-12-04T13:24:53.777244Z",
     "start_time": "2024-12-04T13:24:53.681540Z"
    }
   },
   "cell_type": "code",
   "source": [
    "query = f\"SELECT ST_Intersects(ST_GeomFromWKT('{casd}'),ST_GeomFromWKT('{insee}'))\"\n",
    "resu = evalSpaceJoinQuery(query)\n",
    "resu.show()"
   ],
   "id": "480945d8224fd9bd",
   "outputs": [
    {
     "name": "stdout",
     "output_type": "stream",
     "text": [
      "+------+\n",
      "|result|\n",
      "+------+\n",
      "|  true|\n",
      "+------+\n",
      "\n"
     ]
    }
   ],
   "execution_count": 22
  },
  {
   "metadata": {
    "ExecuteTime": {
     "end_time": "2024-12-04T13:26:48.262124Z",
     "start_time": "2024-12-04T13:26:48.199181Z"
    }
   },
   "cell_type": "code",
   "source": [
    "query = f\"SELECT ST_Touches(ST_GeomFromWKT('{casd}'),ST_GeomFromWKT('{insee}'))\"\n",
    "resu = evalSpaceJoinQuery(query)\n",
    "resu.show()"
   ],
   "id": "cd0151f4073af098",
   "outputs": [
    {
     "name": "stdout",
     "output_type": "stream",
     "text": [
      "+------+\n",
      "|result|\n",
      "+------+\n",
      "| false|\n",
      "+------+\n",
      "\n"
     ]
    }
   ],
   "execution_count": 23
  },
  {
   "metadata": {},
   "cell_type": "markdown",
   "source": [
    "## ST_Relate\n",
    "\n",
    "The first variant of the function computes and returns the [Dimensionally Extended 9-Intersection Model (DE-9IM) matrix string](https://en.wikipedia.org/wiki/DE-9IM) representing the spatial relationship between the two input geometry objects.\n",
    "\n",
    "The second variant of the function evaluates whether the two input geometries satisfy a specific spatial relationship defined by the provided intersectionMatrix pattern."
   ],
   "id": "29916c7e07a142d6"
  },
  {
   "metadata": {
    "ExecuteTime": {
     "end_time": "2024-12-04T10:40:09.569727Z",
     "start_time": "2024-12-04T10:40:09.461574Z"
    }
   },
   "cell_type": "code",
   "source": [
    "query = f\"SELECT ST_Relate(ST_GeomFromWKT('{casd}'),ST_GeomFromWKT('{insee}'))\"\n",
    "resu = evalSpaceJoinQuery(query)\n",
    "resu.show()"
   ],
   "id": "e5f1ae889b6d8f2f",
   "outputs": [
    {
     "name": "stdout",
     "output_type": "stream",
     "text": [
      "+---------+\n",
      "|   result|\n",
      "+---------+\n",
      "|212101212|\n",
      "+---------+\n",
      "\n"
     ]
    }
   ],
   "execution_count": 25
  },
  {
   "metadata": {
    "ExecuteTime": {
     "end_time": "2024-12-04T10:41:27.565102Z",
     "start_time": "2024-12-04T10:41:27.501181Z"
    }
   },
   "cell_type": "code",
   "source": [
    "relation = \"212101212\"\n",
    "query = f\"SELECT ST_Relate(ST_GeomFromWKT('{casd}'),ST_GeomFromWKT('{insee}'), {relation})\"\n",
    "resu = evalSpaceJoinQuery(query)\n",
    "resu.show()"
   ],
   "id": "16775b5e58a7268",
   "outputs": [
    {
     "name": "stdout",
     "output_type": "stream",
     "text": [
      "+------+\n",
      "|result|\n",
      "+------+\n",
      "|  true|\n",
      "+------+\n",
      "\n"
     ]
    }
   ],
   "execution_count": 26
  },
  {
   "metadata": {},
   "cell_type": "markdown",
   "source": [
    "## ST_RelateMatch\n",
    "\n",
    "This function tests the relationship between `two Dimensionally Extended 9-Intersection Model (DE-9IM) matrices representing geometry intersections`. It evaluates whether the DE-9IM matrix specified in matrix1 satisfies the intersection pattern defined by matrix2. The matrix2 parameter can be an exact DE-9IM value or a pattern containing wildcard characters."
   ],
   "id": "74dcc0f2bd043ab8"
  },
  {
   "metadata": {
    "ExecuteTime": {
     "end_time": "2024-12-04T13:36:48.953007Z",
     "start_time": "2024-12-04T13:36:48.882317Z"
    }
   },
   "cell_type": "code",
   "source": [
    "de_matrix1 = '101202FFF'\n",
    "de_matrix2 = 'TTTTTTFFF'\n",
    "query = f\"SELECT ST_RelateMatch('{de_matrix1}','{de_matrix2}')\"\n",
    "resu = evalSpaceJoinQuery(query)\n",
    "resu.show()"
   ],
   "id": "ad33be88cd123ae5",
   "outputs": [
    {
     "name": "stdout",
     "output_type": "stream",
     "text": [
      "+------+\n",
      "|result|\n",
      "+------+\n",
      "|  true|\n",
      "+------+\n",
      "\n"
     ]
    }
   ],
   "execution_count": 26
  },
  {
   "metadata": {},
   "cell_type": "code",
   "outputs": [],
   "execution_count": null,
   "source": "",
   "id": "776e9bcad014feaa"
  }
 ],
 "metadata": {
  "kernelspec": {
   "display_name": "Python 3",
   "language": "python",
   "name": "python3"
  },
  "language_info": {
   "codemirror_mode": {
    "name": "ipython",
    "version": 2
   },
   "file_extension": ".py",
   "mimetype": "text/x-python",
   "name": "python",
   "nbconvert_exporter": "python",
   "pygments_lexer": "ipython2",
   "version": "2.7.6"
  }
 },
 "nbformat": 4,
 "nbformat_minor": 5
}
