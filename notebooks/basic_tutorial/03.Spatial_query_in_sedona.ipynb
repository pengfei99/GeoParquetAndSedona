{
 "cells": [
  {
   "metadata": {},
   "cell_type": "markdown",
   "source": [
    "# Spatial Query in sedona\n",
    "\n",
    "\n",
    "In this tutorial, we will play with spatial join query. To better understand the query, we use this [website](https://www.keene.edu/campus/maps/tool/) to get coordinates.\n",
    "\n",
    "For example, the below polygone represent Île-de-France:\n",
    "1.8814087,49.2265665\n",
    "1.8099976,48.5884175\n",
    "2.9347229,48.5820584\n",
    "3.0528259,49.2068317\n",
    "1.8814087,49.2265665\n",
    "\n",
    "polygone represents casd:\n",
    "2.3065817,48.8204849\n",
    "2.3063672,48.8177934\n",
    "2.3113775,48.8177369\n",
    "2.3114955,48.8205838\n",
    "2.3065817,48.8204849\n",
    "\n",
    "polygone represents insee:\n",
    "2.3066783,48.8179488\n",
    "2.3065925,48.8159283\n",
    "2.3108518,48.8159566\n",
    "2.3109269,48.8179559\n",
    "2.3066783,48.8179488\n",
    "\n",
    "\n",
    "      \n",
    "The coordinates of eiffel-tour:\n",
    "2.2949409,48.8579388 \n",
    "\n",
    "- **ST_Contains**(polygondf.polygonshape,pointdf.pointshape): Return true if A fully contains B. (E.g. check if a polygone contains a point)\n",
    "- **ST_Crosses**(polygondf.polygonshape,polygondf.polygonshape): Return true if A crosses B. (E.g. check if a polygon cross inside a polygone)\n",
    "- **ST_Disjoint**(polygondf.polygonshape,polygondf.polygonshape): Return true if A and B are disjoint. (E.g. check if a polygon disjoint another polygone)\n",
    "- **ST_DWithin**(leftGeometry: Geometry, rightGeometry: Geometry, distance: Double, useSpheroid: Optional(Boolean) = false): Returns true if 'leftGeometry' and 'rightGeometry' are within a specified 'distance'. If useSpheroid is passed true, ST_DWithin uses Sedona's ST_DistanceSpheroid to check the spheroid distance between the centroids of two geometries. The **unit of the distance in this case is meter**. If useSpheroid is passed false, ST_DWithin uses Euclidean distance and the unit of the distance is the same as the CRS of the geometries. To obtain the correct result, please consider using ST_Transform to put data in an appropriate CRS.\n",
    "- **ST_Equals**(A: Geometry, B: Geometry): Return true if A equals to B. (E.g. checks if two line string LINESTRING(0 0,10 10), LINESTRING(0 0,5 5,10 10) equals.)\n",
    "- ST_Intersects(polygondf.polygonshape,pointdf.pointshape): Return true if A intersects B. "
   ],
   "id": "ee2433d4d6aff593"
  },
  {
   "metadata": {
    "ExecuteTime": {
     "end_time": "2024-12-02T12:12:01.056170Z",
     "start_time": "2024-12-02T12:12:01.041393Z"
    }
   },
   "cell_type": "code",
   "source": [
    "from pyspark.sql import DataFrame\n",
    "from sedona.spark import SedonaContext\n",
    "import geopandas as gpd\n",
    "from pyspark.sql.functions import trim, col\n",
    "from pathlib import Path"
   ],
   "id": "a652fc3c77a04cdf",
   "outputs": [],
   "execution_count": 12
  },
  {
   "metadata": {
    "ExecuteTime": {
     "end_time": "2024-12-02T12:06:01.471745Z",
     "start_time": "2024-12-02T12:06:01.458386Z"
    }
   },
   "cell_type": "code",
   "source": [
    "# get the project root dir\n",
    "project_root_dir = Path.cwd().parent.parent"
   ],
   "id": "80fb77945b0098d0",
   "outputs": [],
   "execution_count": 2
  },
  {
   "metadata": {
    "ExecuteTime": {
     "end_time": "2024-12-02T12:06:27.717083Z",
     "start_time": "2024-12-02T12:06:01.484707Z"
    }
   },
   "cell_type": "code",
   "source": [
    "# build a sedona session (sedona = 1.6.1)\n",
    "jar_folder = Path(f\"{project_root_dir}/jars/sedona-35-213-161\")\n",
    "jar_list = [str(jar) for jar in jar_folder.iterdir() if jar.is_file()]\n",
    "jar_path = \",\".join(jar_list)\n",
    "\n",
    "# build a sedona session (sedona = 1.6.1) offline\n",
    "config = SedonaContext.builder() \\\n",
    "    .master(\"local[*]\") \\\n",
    "    .config('spark.jars', jar_path). \\\n",
    "    getOrCreate()"
   ],
   "id": "a1ded89a43dd774d",
   "outputs": [],
   "execution_count": 3
  },
  {
   "metadata": {
    "ExecuteTime": {
     "end_time": "2024-12-02T12:06:34.352749Z",
     "start_time": "2024-12-02T12:06:28.126705Z"
    }
   },
   "cell_type": "code",
   "source": [
    "# create a sedona context\n",
    "sedona = SedonaContext.create(config)\n",
    "sc = sedona.sparkContext"
   ],
   "id": "a900521068276db",
   "outputs": [],
   "execution_count": 4
  },
  {
   "metadata": {
    "ExecuteTime": {
     "end_time": "2024-12-02T12:06:34.373592Z",
     "start_time": "2024-12-02T12:06:34.364304Z"
    }
   },
   "cell_type": "code",
   "source": [
    "# this sets the encoding of shape files\n",
    "sc.setSystemProperty(\"sedona.global.charset\", \"utf8\")"
   ],
   "id": "5970d7d2591a55a9",
   "outputs": [],
   "execution_count": 5
  },
  {
   "metadata": {
    "ExecuteTime": {
     "end_time": "2024-12-02T12:12:05.611762Z",
     "start_time": "2024-12-02T12:12:05.597817Z"
    }
   },
   "cell_type": "code",
   "source": [
    "def evalSpaceJoinQuery(TargetQuery:str)->DataFrame:\n",
    "    inQuery = f\"{TargetQuery} as result\"\n",
    "    return sedona.sql(inQuery)"
   ],
   "id": "74996809a0327fa0",
   "outputs": [],
   "execution_count": 13
  },
  {
   "metadata": {},
   "cell_type": "markdown",
   "source": [
    "## 1. ST_Contains\n",
    "\n",
    "We check if a polygon contains a point or not:\n",
    "- eiffel_tour in Île-de-France or not\n",
    "- bordeaux city hall in Île-de-France or not\n",
    "\n",
    "\n",
    "A point:\n",
    "1.5655, 47.9733"
   ],
   "id": "869d3439eaee0797"
  },
  {
   "metadata": {
    "ExecuteTime": {
     "end_time": "2024-12-02T13:04:50.409037Z",
     "start_time": "2024-12-02T13:04:50.393744Z"
    }
   },
   "cell_type": "code",
   "source": [
    "ile_france = \"POLYGON((1.8814087 49.2265665,1.8099976 48.5884175,2.9347229 48.5820584,3.0528259 49.2068317,1.8814087 49.2265665))\"\n",
    "\n",
    "casd = \"POLYGON((2.3065817  48.8204849,2.3063672  48.8177934,2.3113775  48.8177369,2.3114955  48.8205838,2.3065817  48.8204849))\"\n",
    "\n",
    "insee = \"POLYGON((2.3066783  48.8179488,2.3065925  48.8159283,2.3108518  48.8159566,2.3109269  48.8179559,2.3066783  48.8179488))\"\n",
    "eiffel_tour = \"POINT(2.2949409 48.8579388)\"\n",
    "bordeaux = \"POINT(-0.574851 44.8453837)\""
   ],
   "id": "46cb2eebc6dc4c17",
   "outputs": [],
   "execution_count": 31
  },
  {
   "metadata": {
    "ExecuteTime": {
     "end_time": "2024-12-02T12:37:40.372100Z",
     "start_time": "2024-12-02T12:37:40.316523Z"
    }
   },
   "cell_type": "code",
   "source": [
    "query1 = f\"SELECT ST_Contains(ST_GeomFromWKT('{ile_france}'), ST_GeomFromWKT('{eiffel_tour}'))\"\n",
    "\n",
    "resu1 = evalSpaceJoinQuery(query1)\n"
   ],
   "id": "9278d517f613fb72",
   "outputs": [],
   "execution_count": 23
  },
  {
   "metadata": {
    "ExecuteTime": {
     "end_time": "2024-12-02T12:37:42.395703Z",
     "start_time": "2024-12-02T12:37:42.344315Z"
    }
   },
   "cell_type": "code",
   "source": "resu1.show()",
   "id": "90aaed97ca8e8247",
   "outputs": [
    {
     "name": "stdout",
     "output_type": "stream",
     "text": [
      "+------+\n",
      "|result|\n",
      "+------+\n",
      "|  true|\n",
      "+------+\n",
      "\n"
     ]
    }
   ],
   "execution_count": 24
  },
  {
   "metadata": {
    "ExecuteTime": {
     "end_time": "2024-12-02T12:40:21.514601Z",
     "start_time": "2024-12-02T12:40:21.485630Z"
    }
   },
   "cell_type": "code",
   "source": [
    "query2 = f\"SELECT ST_Contains(ST_GeomFromWKT('{ile_france}'), ST_GeomFromWKT('{bordeaux}'))\"\n",
    "\n",
    "resu2 = evalSpaceJoinQuery(query2)"
   ],
   "id": "f33a34ca5e28ed84",
   "outputs": [],
   "execution_count": 26
  },
  {
   "metadata": {
    "ExecuteTime": {
     "end_time": "2024-12-02T12:40:23.245490Z",
     "start_time": "2024-12-02T12:40:23.152711Z"
    }
   },
   "cell_type": "code",
   "source": "resu2.show()",
   "id": "bb1d057fd6251a0",
   "outputs": [
    {
     "name": "stdout",
     "output_type": "stream",
     "text": [
      "+------+\n",
      "|result|\n",
      "+------+\n",
      "| false|\n",
      "+------+\n",
      "\n"
     ]
    }
   ],
   "execution_count": 27
  },
  {
   "metadata": {
    "ExecuteTime": {
     "end_time": "2024-12-02T13:04:52.978438Z",
     "start_time": "2024-12-02T13:04:52.917865Z"
    }
   },
   "cell_type": "code",
   "source": [
    "query3 = f\"SELECT ST_Contains(ST_GeomFromWKT('{ile_france}'), ST_GeomFromWKT('{casd}'))\"\n",
    "resu3 = evalSpaceJoinQuery(query3)\n",
    "resu3.show()"
   ],
   "id": "daed0c98cb7db78a",
   "outputs": [
    {
     "name": "stdout",
     "output_type": "stream",
     "text": [
      "+------+\n",
      "|result|\n",
      "+------+\n",
      "|  true|\n",
      "+------+\n",
      "\n"
     ]
    }
   ],
   "execution_count": 32
  }
 ],
 "metadata": {
  "kernelspec": {
   "display_name": "Python 3",
   "language": "python",
   "name": "python3"
  },
  "language_info": {
   "codemirror_mode": {
    "name": "ipython",
    "version": 2
   },
   "file_extension": ".py",
   "mimetype": "text/x-python",
   "name": "python",
   "nbconvert_exporter": "python",
   "pygments_lexer": "ipython2",
   "version": "2.7.6"
  }
 },
 "nbformat": 4,
 "nbformat_minor": 5
}
