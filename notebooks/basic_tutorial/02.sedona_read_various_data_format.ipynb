{
 "cells": [
  {
   "cell_type": "markdown",
   "source": [
    "# Use sedona to read various geospatial data format\n",
    "\n",
    "To work with geospatial data, it's essential to read and write data in geospatial data format. The **full list of the constructor for the geo data types** can be found [here](https://sedona.apache.org/1.6.1/api/sql/Constructor/)\n",
    "For sedona version `1.6.1`, it supports at least 10 formats:\n",
    "\n",
    "In this tutorial, we will show example of sedona to read various geospatial data format such as:\n",
    "- plain text string without format\n",
    "- csv/tsv\n",
    "- wkt/wkb\n",
    "- Ewkt/Ekb\n",
    "- GML\n",
    "- KML\n",
    "- geojson\n",
    "- shape file\n",
    "- GeoHash\n",
    "- geoparquet\n",
    "- pbf\n",
    "- ETC\n",
    "\n",
    "This website: https://data.enseignementsup-recherche.gouv.fr/explore/dataset/fr-esr-referentiel-geographique/export/ shows how french ministry share their geospatial data.\n",
    "\n",
    "## Geospatial data \n",
    "\n",
    "To be able to use sedona to do geospatial operations (e.g calculate distance, area hierarchy, etc.), we need to construct geo dataframe first. A geo dataframe contains one or more columns of below type:\n",
    "- Point : a point on the map with a (x,y) coordinates\n",
    "- Line: two point which can form a line\n",
    "- Polygon: a list of point which can form a polygon\n",
    "\n",
    "The `geometry column` must be able to express these data types.\n",
    "\n",
    "\n",
    "\n",
    "We will also evaluate the performance(e.g. storage space, processing speed) of each format"
   ],
   "metadata": {
    "collapsed": false
   },
   "id": "2e0837b4717cb931"
  },
  {
   "cell_type": "code",
   "source": [
    "from sedona.spark import *\n",
    "import geopandas as gpd\n",
    "from pyspark.sql.functions import trim, col\n",
    "from pathlib import Path\n",
    "import json\n",
    "\n",
    "from ipyleaflet import Map, basemaps, basemap_to_tiles, MarkerCluster, Marker, AwesomeIcon\n",
    "from ipywidgets import Layout\n",
    "import numpy as np"
   ],
   "metadata": {
    "collapsed": false,
    "ExecuteTime": {
     "end_time": "2024-11-27T08:10:54.501495Z",
     "start_time": "2024-11-27T08:10:50.838574Z"
    }
   },
   "id": "ce7c87816a39c1a6",
   "outputs": [],
   "execution_count": 1
  },
  {
   "metadata": {
    "ExecuteTime": {
     "end_time": "2024-11-27T08:10:56.411162Z",
     "start_time": "2024-11-27T08:10:56.395522Z"
    }
   },
   "cell_type": "code",
   "source": [
    "# get the project root dir\n",
    "project_root_dir = Path.cwd().parent.parent\n",
    "data_dir = f\"{project_root_dir}/data\""
   ],
   "id": "336ea98726722af5",
   "outputs": [],
   "execution_count": 2
  },
  {
   "cell_type": "code",
   "source": [
    "# build a sedona session (sedona = 1.6.1)\n",
    "jar_folder = Path(f\"{project_root_dir}/jars/sedona-35-213-161\")\n",
    "jar_list = [str(jar) for jar in jar_folder.iterdir() if jar.is_file()]\n",
    "jar_path = \",\".join(jar_list)\n",
    "\n",
    "# build a sedona session (sedona = 1.6.1) offline\n",
    "config = SedonaContext.builder() \\\n",
    "    .master(\"local[*]\") \\\n",
    "    .config('spark.jars', jar_path). \\\n",
    "    getOrCreate()\n",
    "\n"
   ],
   "metadata": {
    "collapsed": false,
    "ExecuteTime": {
     "end_time": "2024-11-27T08:11:27.292082Z",
     "start_time": "2024-11-27T08:10:59.827479Z"
    }
   },
   "id": "7b1a2689b9abef60",
   "outputs": [],
   "execution_count": 3
  },
  {
   "cell_type": "code",
   "source": [
    "# create a sedona context\n",
    "sedona = SedonaContext.create(config)\n",
    "sc = sedona.sparkContext\n"
   ],
   "metadata": {
    "collapsed": false,
    "ExecuteTime": {
     "end_time": "2024-11-27T08:16:49.280334Z",
     "start_time": "2024-11-27T08:16:43.649617Z"
    }
   },
   "id": "ec2dc3be27ed3c86",
   "outputs": [],
   "execution_count": 4
  },
  {
   "metadata": {
    "ExecuteTime": {
     "end_time": "2024-11-27T08:16:50.940076Z",
     "start_time": "2024-11-27T08:16:50.920995Z"
    }
   },
   "cell_type": "code",
   "source": "spark = sedona.getActiveSession()",
   "id": "ab5399a11fd94a6b",
   "outputs": [],
   "execution_count": 5
  },
  {
   "cell_type": "code",
   "source": [
    "# this sets the encoding of shape files\n",
    "sc.setSystemProperty(\"sedona.global.charset\", \"utf8\")"
   ],
   "metadata": {
    "collapsed": false,
    "ExecuteTime": {
     "end_time": "2024-11-27T08:16:52.485218Z",
     "start_time": "2024-11-27T08:16:52.473319Z"
    }
   },
   "id": "cb60751167bf9567",
   "outputs": [],
   "execution_count": 6
  },
  {
   "cell_type": "markdown",
   "source": [
    "## 1. Read geospatial data\n",
    "\n",
    "Sedona can read various geospatial data format\n",
    "- CSV/TSV\n",
    "- wkt/wkb (Ewkt/Ekb)\n",
    "- geojson\n",
    "\n",
    "In below example, we will read a normal csv file which contains two column x, y. You can notice the content of the csv is `plain text` string.\n",
    "\n",
    "### 1.1 Point example\n",
    "\n",
    "In below example, we will construct a geo dataframe which contains a **Point** column"
   ],
   "metadata": {
    "collapsed": false
   },
   "id": "da4e63a4a87b99cb"
  },
  {
   "cell_type": "code",
   "source": [
    "point_file_path = f\"{data_dir}/csv/test_points.csv\"\n",
    "\n",
    "# read a normal csv\n",
    "raw_point_df = sedona.read.format(\"csv\").\\\n",
    "          option(\"delimiter\",\",\").\\\n",
    "          option(\"header\",\"false\").\\\n",
    "          load(point_file_path)\n",
    "\n",
    "raw_point_df.printSchema()"
   ],
   "metadata": {
    "collapsed": false,
    "ExecuteTime": {
     "end_time": "2024-11-27T08:16:55.814836Z",
     "start_time": "2024-11-27T08:16:54.659530Z"
    }
   },
   "id": "e4172408db2d7a3b",
   "outputs": [
    {
     "name": "stdout",
     "output_type": "stream",
     "text": [
      "root\n",
      " |-- _c0: string (nullable = true)\n",
      " |-- _c1: string (nullable = true)\n",
      "\n"
     ]
    }
   ],
   "execution_count": 7
  },
  {
   "metadata": {
    "ExecuteTime": {
     "end_time": "2024-11-27T08:16:59.096780Z",
     "start_time": "2024-11-27T08:16:58.880044Z"
    }
   },
   "cell_type": "code",
   "source": "raw_point_df.show(5)",
   "id": "fa4a13e912e462e6",
   "outputs": [
    {
     "name": "stdout",
     "output_type": "stream",
     "text": [
      "+---+-----+\n",
      "|_c0|  _c1|\n",
      "+---+-----+\n",
      "|1.1|101.1|\n",
      "|2.1|102.1|\n",
      "|3.1|103.1|\n",
      "|4.1|104.1|\n",
      "|5.1|105.1|\n",
      "+---+-----+\n",
      "only showing top 5 rows\n",
      "\n"
     ]
    }
   ],
   "execution_count": 8
  },
  {
   "metadata": {
    "ExecuteTime": {
     "end_time": "2024-11-27T08:17:06.988147Z",
     "start_time": "2024-11-27T08:17:06.936977Z"
    }
   },
   "cell_type": "code",
   "source": [
    "# create a temp view\n",
    "raw_point_df.createOrReplaceTempView(\"p_raw_table\")"
   ],
   "id": "f9a5233b8b8a2479",
   "outputs": [],
   "execution_count": 9
  },
  {
   "metadata": {
    "ExecuteTime": {
     "end_time": "2024-11-27T08:17:09.021767Z",
     "start_time": "2024-11-27T08:17:08.825179Z"
    }
   },
   "cell_type": "code",
   "source": [
    "# we cast the string type to decimal first, then we use `ST_Point` function to build a geometry column by using the two column in the csv file \n",
    "geo_point_df = sedona.sql(\"select ST_Point(cast(p_raw_table._c0 as Decimal(24,20)), cast(p_raw_table._c1 as Decimal(24,20))) as point from p_raw_table\")\n",
    "geo_point_df.printSchema()"
   ],
   "id": "cabdfd0c30df8030",
   "outputs": [
    {
     "name": "stdout",
     "output_type": "stream",
     "text": [
      "root\n",
      " |-- point: geometry (nullable = true)\n",
      "\n"
     ]
    }
   ],
   "execution_count": 10
  },
  {
   "metadata": {
    "ExecuteTime": {
     "end_time": "2024-11-27T08:17:11.800050Z",
     "start_time": "2024-11-27T08:17:11.537024Z"
    }
   },
   "cell_type": "code",
   "source": "geo_point_df.show(5,truncate=False)",
   "id": "3cac69b21d65b710",
   "outputs": [
    {
     "name": "stdout",
     "output_type": "stream",
     "text": [
      "+-----------------+\n",
      "|point            |\n",
      "+-----------------+\n",
      "|POINT (1.1 101.1)|\n",
      "|POINT (2.1 102.1)|\n",
      "|POINT (3.1 103.1)|\n",
      "|POINT (4.1 104.1)|\n",
      "|POINT (5.1 105.1)|\n",
      "+-----------------+\n",
      "only showing top 5 rows\n",
      "\n"
     ]
    }
   ],
   "execution_count": 11
  },
  {
   "metadata": {},
   "cell_type": "markdown",
   "source": [
    "### 1.2 Line example\n",
    "\n",
    "To create a line type, we can use the constructor **ST_LineStringFromText (Text:string, Delimiter:char)**. In below example, we can notice it takes a list of gps coordinates, then it returns a geometry column."
   ],
   "id": "7c1fa9fa2dd30d8e"
  },
  {
   "metadata": {
    "ExecuteTime": {
     "end_time": "2024-11-27T08:17:15.275515Z",
     "start_time": "2024-11-27T08:17:15.244272Z"
    }
   },
   "cell_type": "code",
   "source": [
    "geo_line_df = sedona.sql(\"SELECT ST_LineStringFromText('-74.0428197,40.6867969,-74.0421975,40.6921336,-74.0508020,40.6912794', ',') AS line\")\n",
    "geo_line_df.printSchema()"
   ],
   "id": "bcd341497adad0f0",
   "outputs": [
    {
     "name": "stdout",
     "output_type": "stream",
     "text": [
      "root\n",
      " |-- line: geometry (nullable = true)\n",
      "\n"
     ]
    }
   ],
   "execution_count": 12
  },
  {
   "metadata": {
    "ExecuteTime": {
     "end_time": "2024-11-27T08:17:20.831370Z",
     "start_time": "2024-11-27T08:17:20.744924Z"
    }
   },
   "cell_type": "code",
   "source": "geo_line_df.show(5,truncate=False)",
   "id": "98e60682eceae1dd",
   "outputs": [
    {
     "name": "stdout",
     "output_type": "stream",
     "text": [
      "+----------------------------------------------------------------------------------+\n",
      "|line                                                                              |\n",
      "+----------------------------------------------------------------------------------+\n",
      "|LINESTRING (-74.0428197 40.6867969, -74.0421975 40.6921336, -74.050802 40.6912794)|\n",
      "+----------------------------------------------------------------------------------+\n",
      "\n"
     ]
    }
   ],
   "execution_count": 13
  },
  {
   "metadata": {},
   "cell_type": "markdown",
   "source": [
    "### 1.3 Polygon example\n",
    "\n",
    "We have seen the below example for the section 1. We will use the constructor **ST_GeomFromText()**"
   ],
   "id": "a6d450d5a1a36e35"
  },
  {
   "metadata": {
    "ExecuteTime": {
     "end_time": "2024-11-25T15:05:00.812060Z",
     "start_time": "2024-11-25T15:05:00.792168Z"
    }
   },
   "cell_type": "code",
   "source": "us_county_file_path = f\"{data_dir}/csv/county_small.tsv\"",
   "id": "183d62c1544c3d35",
   "outputs": [],
   "execution_count": 23
  },
  {
   "metadata": {
    "ExecuteTime": {
     "end_time": "2024-11-25T15:10:56.900427Z",
     "start_time": "2024-11-25T15:10:56.328861Z"
    }
   },
   "cell_type": "code",
   "source": [
    "raw_df = sedona.read.format(\"csv\").option(\"delimiter\", \"\\t\").option(\"header\", \"false\").load(us_county_file_path)\n",
    "raw_df.show()"
   ],
   "id": "5e69b0ae1776622f",
   "outputs": [
    {
     "name": "stdout",
     "output_type": "stream",
     "text": [
      "+--------------------+---+---+--------+-----+-----------+--------------------+---+---+-----+----+-----+----+----+----------+--------+-----------+------------+\n",
      "|                 _c0|_c1|_c2|     _c3|  _c4|        _c5|                 _c6|_c7|_c8|  _c9|_c10| _c11|_c12|_c13|      _c14|    _c15|       _c16|        _c17|\n",
      "+--------------------+---+---+--------+-----+-----------+--------------------+---+---+-----+----+-----+----+----+----------+--------+-----------+------------+\n",
      "|POLYGON ((-97.019...| 31|039|00835841|31039|     Cuming|       Cuming County| 06| H1|G4020|NULL| NULL|NULL|   A|1477895811|10447360|+41.9158651|-096.7885168|\n",
      "|POLYGON ((-123.43...| 53|069|01513275|53069|  Wahkiakum|    Wahkiakum County| 06| H1|G4020|NULL| NULL|NULL|   A| 682138871|61658258|+46.2946377|-123.4244583|\n",
      "|POLYGON ((-104.56...| 35|011|00933054|35011|    De Baca|      De Baca County| 06| H1|G4020|NULL| NULL|NULL|   A|6015539696|29159492|+34.3592729|-104.3686961|\n",
      "|POLYGON ((-96.910...| 31|109|00835876|31109|  Lancaster|    Lancaster County| 06| H1|G4020| 339|30700|NULL|   A|2169240202|22877180|+40.7835474|-096.6886584|\n",
      "|POLYGON ((-98.273...| 31|129|00835886|31129|   Nuckolls|     Nuckolls County| 06| H1|G4020|NULL| NULL|NULL|   A|1489645187| 1718484|+40.1764918|-098.0468422|\n",
      "|POLYGON ((-65.910...| 72|085|01804523|72085|Las Piedras|Las Piedras Munic...| 13| H1|G4020| 490|41980|NULL|   A|  87748363|   32509|+18.1871483|-065.8711890|\n",
      "|POLYGON ((-97.129...| 46|099|01265772|46099|  Minnehaha|    Minnehaha County| 06| H1|G4020|NULL|43620|NULL|   A|2090540341|17349847|+43.6674723|-096.7957261|\n",
      "|POLYGON ((-99.821...| 48|327|01383949|48327|     Menard|       Menard County| 06| H1|G4020|NULL| NULL|NULL|   A|2336245914|  613559|+30.8843655|-099.8539896|\n",
      "|POLYGON ((-120.65...| 06|091|00277310|06091|     Sierra|       Sierra County| 06| H1|G4020|NULL| NULL|NULL|   A|2468686374|23299110|+39.5769252|-120.5219926|\n",
      "|POLYGON ((-85.239...| 21|053|00516873|21053|    Clinton|      Clinton County| 06| H1|G4020|NULL| NULL|NULL|   A| 510864252|21164150|+36.7288647|-085.1534262|\n",
      "|POLYGON ((-83.880...| 39|063|01074044|39063|    Hancock|      Hancock County| 06| H1|G4020| 248|22300|NULL|   A|1376210232| 5959837|+41.0004711|-083.6660335|\n",
      "|POLYGON ((-102.08...| 48|189|01383880|48189|       Hale|         Hale County| 06| H1|G4020|NULL|38380|NULL|   A|2602115649|  246678|+34.0684364|-101.8228879|\n",
      "|POLYGON ((-85.978...| 01|027|00161539|01027|       Clay|         Clay County| 06| H1|G4020|NULL| NULL|NULL|   A|1564252367| 5284573|+33.2703999|-085.8635254|\n",
      "|POLYGON ((-101.62...| 48|011|01383791|48011|  Armstrong|    Armstrong County| 06| H1|G4020| 108|11100|NULL|   A|2354581764|12219587|+34.9641790|-101.3566363|\n",
      "|POLYGON ((-84.397...| 39|003|01074015|39003|      Allen|        Allen County| 06| H1|G4020| 338|30620|NULL|   A|1042470093|11266164|+40.7716274|-084.1061032|\n",
      "|POLYGON ((-82.449...| 13|189|00348794|13189|   McDuffie|     McDuffie County| 06| H1|G4020|NULL|12260|NULL|   A| 666816637|23116292|+33.4824637|-082.4731880|\n",
      "|POLYGON ((-90.191...| 55|111|01581115|55111|       Sauk|         Sauk County| 06| H1|G4020| 357|12660|NULL|   A|2152007753|45296336|+43.4279976|-089.9433290|\n",
      "|POLYGON ((-92.415...| 05|137|00069902|05137|      Stone|        Stone County| 06| H1|G4020|NULL| NULL|NULL|   A|1570579427| 7841929|+35.8570312|-092.1405728|\n",
      "|POLYGON ((-117.74...| 41|063|01155135|41063|    Wallowa|      Wallowa County| 06| H1|G4020|NULL| NULL|NULL|   A|8148602810|14199330|+45.5937530|-117.1855796|\n",
      "|POLYGON ((-80.518...| 42|007|01214112|42007|     Beaver|       Beaver County| 06| H1|G4020| 430|38300|NULL|   A|1125901160|24165972|+40.6841401|-080.3507209|\n",
      "+--------------------+---+---+--------+-----+-----------+--------------------+---+---+-----+----+-----+----+----+----------+--------+-----------+------------+\n",
      "only showing top 20 rows\n",
      "\n"
     ]
    }
   ],
   "execution_count": 26
  },
  {
   "metadata": {
    "ExecuteTime": {
     "end_time": "2024-11-25T15:12:37.411879Z",
     "start_time": "2024-11-25T15:12:37.286113Z"
    }
   },
   "cell_type": "code",
   "source": [
    "raw_poly_df = raw_df.select(\"_c0\",\"_c6\").withColumnRenamed(\"_c0\",\"county_polygon\").withColumnRenamed(\"_c6\",\"county_name\")\n",
    "raw_poly_df.createOrReplaceTempView(\"gon_raw_table\")\n",
    "raw_poly_df.show(5)"
   ],
   "id": "a6b6b8c09e4ffd19",
   "outputs": [
    {
     "name": "stdout",
     "output_type": "stream",
     "text": [
      "+--------------------+----------------+\n",
      "|      county_polygon|     county_name|\n",
      "+--------------------+----------------+\n",
      "|POLYGON ((-97.019...|   Cuming County|\n",
      "|POLYGON ((-123.43...|Wahkiakum County|\n",
      "|POLYGON ((-104.56...|  De Baca County|\n",
      "|POLYGON ((-96.910...|Lancaster County|\n",
      "|POLYGON ((-98.273...| Nuckolls County|\n",
      "+--------------------+----------------+\n",
      "only showing top 5 rows\n",
      "\n"
     ]
    }
   ],
   "execution_count": 30
  },
  {
   "metadata": {
    "ExecuteTime": {
     "end_time": "2024-11-25T15:11:38.598963Z",
     "start_time": "2024-11-25T15:11:38.591782Z"
    }
   },
   "cell_type": "code",
   "source": "raw_poly_df.printSchema()",
   "id": "da9bfcf4c4c13319",
   "outputs": [
    {
     "name": "stdout",
     "output_type": "stream",
     "text": [
      "root\n",
      " |-- county_polygon: string (nullable = true)\n",
      " |-- county_name: string (nullable = true)\n",
      "\n"
     ]
    }
   ],
   "execution_count": 29
  },
  {
   "metadata": {
    "ExecuteTime": {
     "end_time": "2024-11-25T15:13:48.666454Z",
     "start_time": "2024-11-25T15:13:48.370511Z"
    }
   },
   "cell_type": "code",
   "source": [
    "geo_polygon_df=sedona.sql(\"select ST_GeomFromText(gon_raw_table.county_polygon) as county_shape, gon_raw_table.county_name from gon_raw_table\")\n",
    "geo_polygon_df.show(5)"
   ],
   "id": "fe729421fdbf6673",
   "outputs": [
    {
     "name": "stdout",
     "output_type": "stream",
     "text": [
      "+--------------------+----------------+\n",
      "|        county_shape|     county_name|\n",
      "+--------------------+----------------+\n",
      "|POLYGON ((-97.019...|   Cuming County|\n",
      "|POLYGON ((-123.43...|Wahkiakum County|\n",
      "|POLYGON ((-104.56...|  De Baca County|\n",
      "|POLYGON ((-96.910...|Lancaster County|\n",
      "|POLYGON ((-98.273...| Nuckolls County|\n",
      "+--------------------+----------------+\n",
      "only showing top 5 rows\n",
      "\n"
     ]
    }
   ],
   "execution_count": 32
  },
  {
   "metadata": {
    "ExecuteTime": {
     "end_time": "2024-11-25T15:14:11.804696Z",
     "start_time": "2024-11-25T15:14:11.794454Z"
    }
   },
   "cell_type": "code",
   "source": "geo_polygon_df.printSchema()",
   "id": "8f344d1715bcf7ca",
   "outputs": [
    {
     "name": "stdout",
     "output_type": "stream",
     "text": [
      "root\n",
      " |-- county_shape: geometry (nullable = true)\n",
      " |-- county_name: string (nullable = true)\n",
      "\n"
     ]
    }
   ],
   "execution_count": 33
  },
  {
   "metadata": {},
   "cell_type": "markdown",
   "source": [
    "## 1.4 Read wkt and wkb file\n",
    "\n",
    "**Well-known text (WKT)** is a `text markup language` for representing vector geometry objects on a map and spatial reference systems of spatial objects. A binary equivalent, known as **well-known binary (WKB)** is used to transfer and store the same information for geometry objects.\n",
    "\n",
    "Geometries in a `WKT and WKB` file always occupy a single column no matter how many coordinates they have. Sedona provides `WktReader and WkbReader` to create generic SpatialRDD. Then we need to convert the spatial rdd to dataframe.\n",
    "\n",
    "> You must use the wkt reader to read wkt file, and wkb reader to read wkb file.\n",
    "\n",
    "For `EWKT/EWKB`, we just have a extra column `SRID(Spatial Reference Identifier)  code` compare to WKT\n",
    "\n",
    "```sql\n",
    "SELECT ST_AsText(ST_GeomFromEWKT('SRID=4269;POINT(40.7128 -74.0060)'))\n",
    "\n",
    "# output example\n",
    "# POINT(40.7128 -74.006)\n",
    "```"
   ],
   "id": "74b3a3f54853084d"
  },
  {
   "metadata": {
    "ExecuteTime": {
     "end_time": "2024-11-25T15:18:44.640722Z",
     "start_time": "2024-11-25T15:18:44.630550Z"
    }
   },
   "cell_type": "code",
   "source": "us_county_wkb_file_path = f\"{data_dir}/csv/county_small_wkb.tsv\"",
   "id": "53e07a59a59a3561",
   "outputs": [],
   "execution_count": 34
  },
  {
   "metadata": {
    "ExecuteTime": {
     "end_time": "2024-11-25T15:18:51.832206Z",
     "start_time": "2024-11-25T15:18:51.823144Z"
    }
   },
   "cell_type": "code",
   "source": [
    "from sedona.core.formatMapper import WkbReader\n",
    "from sedona.utils.adapter import Adapter"
   ],
   "id": "9fbe8e171caaa444",
   "outputs": [],
   "execution_count": 35
  },
  {
   "metadata": {
    "ExecuteTime": {
     "end_time": "2024-11-25T15:20:49.383280Z",
     "start_time": "2024-11-25T15:20:49.288704Z"
    }
   },
   "cell_type": "code",
   "source": [
    "# The WKT string starts from Column 0\n",
    "wkbColumn = 0 \n",
    "allowTopologyInvalidGeometries = True\n",
    "skipSyntaxInvalidGeometries = False\n",
    "\n",
    "spatialRdd = WkbReader.readToGeometryRDD(sedona.sparkContext, us_county_wkb_file_path, wkbColumn, allowTopologyInvalidGeometries, skipSyntaxInvalidGeometries)"
   ],
   "id": "96433ef189ab7880",
   "outputs": [],
   "execution_count": 36
  },
  {
   "metadata": {
    "ExecuteTime": {
     "end_time": "2024-11-25T15:21:57.970716Z",
     "start_time": "2024-11-25T15:21:57.870097Z"
    }
   },
   "cell_type": "code",
   "source": [
    "geo_county_wkb_df = Adapter.toDf(spatialRdd,sedona).withColumnRenamed(\"geometry\", \"county_shape\")\n",
    "geo_county_wkb_df.show(5)"
   ],
   "id": "1c6c6780175b336b",
   "outputs": [
    {
     "name": "stdout",
     "output_type": "stream",
     "text": [
      "+--------------------+\n",
      "|        county_shape|\n",
      "+--------------------+\n",
      "|POLYGON ((-97.019...|\n",
      "|POLYGON ((-123.43...|\n",
      "|POLYGON ((-104.56...|\n",
      "|POLYGON ((-96.910...|\n",
      "|POLYGON ((-98.273...|\n",
      "+--------------------+\n",
      "only showing top 5 rows\n",
      "\n"
     ]
    }
   ],
   "execution_count": 40
  },
  {
   "metadata": {
    "ExecuteTime": {
     "end_time": "2024-11-25T15:22:01.497812Z",
     "start_time": "2024-11-25T15:22:01.482883Z"
    }
   },
   "cell_type": "code",
   "source": "geo_county_wkb_df.printSchema()",
   "id": "651a69c24a719aa0",
   "outputs": [
    {
     "name": "stdout",
     "output_type": "stream",
     "text": [
      "root\n",
      " |-- county_shape: geometry (nullable = true)\n",
      "\n"
     ]
    }
   ],
   "execution_count": 41
  },
  {
   "metadata": {},
   "cell_type": "markdown",
   "source": [
    "### 1.5 Read geojson ((Geographic JavaScript Object Notation))\n",
    "\n",
    "https://sedona.apache.org/1.6.1/tutorial/sql\n",
    "Geojson has two different organization:\n",
    "- single-line GeoJSON\n",
    "- multi-line \n",
    "\n",
    "#### 1.5.1 Read single-line GeoJSON\n",
    "\n",
    "In the single-line geoJSON organization, each line is a separate, self-contained GeoJSON object. Below is an example\n",
    "\n",
    "```json\n",
    "{\"type\":\"Feature\",\"geometry\":{\"type\":\"Point\",\"coordinates\":[102.0,0.5]},\"properties\":{\"prop0\":\"value0\"}}\n",
    "{\"type\":\"Feature\",\"geometry\":{\"type\":\"LineString\",\"coordinates\":[[102.0,0.0],[103.0,1.0],[104.0,0.0],[105.0,1.0]]},\"properties\":{\"prop0\":\"value1\"}}\n",
    "{\"type\":\"Feature\",\"geometry\":{\"type\":\"Polygon\",\"coordinates\":[[[100.0,0.0],[101.0,0.0],[101.0,1.0],[100.0,1.0],[100.0,0.0]]]},\"properties\":{\"prop0\":\"value2\"}}\n",
    "```\n",
    "You can notice that each line starts with `{` ends with `}`, which means it's a self-contained json object.\n",
    "\n",
    "> This format is efficient for processing large datasets, because each line is an independent GeoJSON Feature which can be processed in parallel.  "
   ],
   "id": "a80ffc027087658"
  },
  {
   "metadata": {
    "ExecuteTime": {
     "end_time": "2024-11-27T08:17:54.729850Z",
     "start_time": "2024-11-27T08:17:54.719375Z"
    }
   },
   "cell_type": "code",
   "source": "us_county_json_file_path = f\"{data_dir}/geojson/us_county.json\"",
   "id": "382d006942380f41",
   "outputs": [],
   "execution_count": 14
  },
  {
   "metadata": {
    "ExecuteTime": {
     "end_time": "2024-11-27T08:17:57.628008Z",
     "start_time": "2024-11-27T08:17:56.838571Z"
    }
   },
   "cell_type": "code",
   "source": [
    "raw_json_df = sedona.read.format(\"geojson\").load(us_county_json_file_path)\n",
    "raw_json_df.show(5)"
   ],
   "id": "4f009857a4c8d3c7",
   "outputs": [
    {
     "name": "stdout",
     "output_type": "stream",
     "text": [
      "+--------------------+--------------------+-------+\n",
      "|            geometry|          properties|   type|\n",
      "+--------------------+--------------------+-------+\n",
      "|POLYGON ((-87.621...|{1500000US0107701...|Feature|\n",
      "|POLYGON ((-85.719...|{1500000US0104502...|Feature|\n",
      "|POLYGON ((-86.000...|{1500000US0105500...|Feature|\n",
      "|POLYGON ((-86.574...|{1500000US0108900...|Feature|\n",
      "|POLYGON ((-85.382...|{1500000US0106904...|Feature|\n",
      "+--------------------+--------------------+-------+\n",
      "only showing top 5 rows\n",
      "\n"
     ]
    }
   ],
   "execution_count": 15
  },
  {
   "metadata": {
    "ExecuteTime": {
     "end_time": "2024-11-27T08:17:59.957974Z",
     "start_time": "2024-11-27T08:17:59.943239Z"
    }
   },
   "cell_type": "code",
   "source": "raw_json_df.printSchema()",
   "id": "78bf74e51113c324",
   "outputs": [
    {
     "name": "stdout",
     "output_type": "stream",
     "text": [
      "root\n",
      " |-- geometry: geometry (nullable = true)\n",
      " |-- properties: struct (nullable = true)\n",
      " |    |-- AFFGEOID: string (nullable = true)\n",
      " |    |-- ALAND: long (nullable = true)\n",
      " |    |-- AWATER: long (nullable = true)\n",
      " |    |-- BLKGRPCE: string (nullable = true)\n",
      " |    |-- COUNTYFP: string (nullable = true)\n",
      " |    |-- GEOID: string (nullable = true)\n",
      " |    |-- LSAD: string (nullable = true)\n",
      " |    |-- NAME: string (nullable = true)\n",
      " |    |-- STATEFP: string (nullable = true)\n",
      " |    |-- TRACTCE: string (nullable = true)\n",
      " |-- type: string (nullable = true)\n",
      "\n"
     ]
    }
   ],
   "execution_count": 16
  },
  {
   "metadata": {},
   "cell_type": "markdown",
   "source": [
    "### 1.5.2 Read multi-line GeoJSON\n",
    "\n",
    "The multi-line GeoJSON use a global `{ \"type\": \"FeatureCollection\", }` to encapsulate all geo features in one JSON object. Below is an example\n",
    "\n",
    "```json\n",
    "{ \"type\": \"FeatureCollection\",\n",
    "    \"features\": [\n",
    "      { \"type\": \"Feature\",\n",
    "        \"geometry\": {\"type\": \"Point\", \"coordinates\": [102.0, 0.5]},\n",
    "        \"properties\": {\"prop0\": \"value0\"}\n",
    "        },\n",
    "      { \"type\": \"Feature\",\n",
    "        \"geometry\": {\n",
    "          \"type\": \"LineString\",\n",
    "          \"coordinates\": [\n",
    "            [102.0, 0.0], [103.0, 1.0], [104.0, 0.0], [105.0, 1.0]\n",
    "            ]\n",
    "          },\n",
    "        \"properties\": {\n",
    "          \"prop0\": \"value1\",\n",
    "          \"prop1\": 0.0\n",
    "          }\n",
    "        },\n",
    "      { \"type\": \"Feature\",\n",
    "         \"geometry\": {\n",
    "           \"type\": \"Polygon\",\n",
    "           \"coordinates\": [\n",
    "             [ [100.0, 0.0], [101.0, 0.0], [101.0, 1.0],\n",
    "               [100.0, 1.0], [100.0, 0.0] ]\n",
    "             ]\n",
    "         },\n",
    "         \"properties\": {\n",
    "           \"prop0\": \"value2\",\n",
    "           \"prop1\": {\"this\": \"that\"}\n",
    "           }\n",
    "         }\n",
    "       ]\n",
    "}\n",
    "```\n",
    "\n",
    "Multiline format is preferable for scenarios where files need to be human-readable or manually edited.\n",
    "\n",
    "As the entire file is considered as a single json object, it's hard to process in parallel"
   ],
   "id": "791d73200fd0eecc"
  },
  {
   "metadata": {
    "ExecuteTime": {
     "end_time": "2024-11-27T08:42:34.806071Z",
     "start_time": "2024-11-27T08:42:34.642251Z"
    }
   },
   "cell_type": "code",
   "source": [
    "from pyspark.sql.functions import expr\n",
    "\n",
    "multi_line_json_file_path = f\"{data_dir}/geojson/multi_lines.json\"\n",
    "\n",
    "df_raw = sedona.read.format(\"geojson\").option(\"multiLine\", \"true\").load(multi_line_json_file_path)\n",
    "          \n",
    "df_raw.show(5,truncate=False)\n",
    "df_raw.printSchema()"
   ],
   "id": "883de592ef21f585",
   "outputs": [
    {
     "name": "stdout",
     "output_type": "stream",
     "text": [
      "+----------------------------------------------------------------------------------------------------------------------------------------------------------------------------------------------------+-----------------+\n",
      "|features                                                                                                                                                                                            |type             |\n",
      "+----------------------------------------------------------------------------------------------------------------------------------------------------------------------------------------------------+-----------------+\n",
      "|[{POINT (102 0.5), {value0, NULL}, Feature}, {LINESTRING (102 0, 103 1, 104 0, 105 1), {value1, 0.0}, Feature}, {POLYGON ((100 0, 101 0, 101 1, 100 1, 100 0)), {value2, {\"this\":\"that\"}}, Feature}]|FeatureCollection|\n",
      "+----------------------------------------------------------------------------------------------------------------------------------------------------------------------------------------------------+-----------------+\n",
      "\n",
      "root\n",
      " |-- features: array (nullable = true)\n",
      " |    |-- element: struct (containsNull = true)\n",
      " |    |    |-- geometry: geometry (nullable = true)\n",
      " |    |    |-- properties: struct (nullable = true)\n",
      " |    |    |    |-- prop0: string (nullable = true)\n",
      " |    |    |    |-- prop1: string (nullable = true)\n",
      " |    |    |-- type: string (nullable = true)\n",
      " |-- type: string (nullable = true)\n",
      "\n"
     ]
    }
   ],
   "execution_count": 24
  },
  {
   "metadata": {},
   "cell_type": "markdown",
   "source": "As the entire file is a single json object(FeatureCollection), all features are consider as items in one big array, To get one feature per row, we need to explode the array envelope.",
   "id": "3d5499209a2899c3"
  },
  {
   "metadata": {
    "ExecuteTime": {
     "end_time": "2024-11-27T08:38:33.052386Z",
     "start_time": "2024-11-27T08:38:32.934913Z"
    }
   },
   "cell_type": "code",
   "source": [
    "df = df_raw.selectExpr(\"explode(features) as features\").select(\"features.*\")\n",
    " \n",
    "\n",
    "df.show()\n",
    "df.printSchema()"
   ],
   "id": "9dbb04ab4d951435",
   "outputs": [
    {
     "name": "stdout",
     "output_type": "stream",
     "text": [
      "+--------------------+--------------------+-------+\n",
      "|            geometry|          properties|   type|\n",
      "+--------------------+--------------------+-------+\n",
      "|     POINT (102 0.5)|      {value0, NULL}|Feature|\n",
      "|LINESTRING (102 0...|       {value1, 0.0}|Feature|\n",
      "|POLYGON ((100 0, ...|{value2, {\"this\":...|Feature|\n",
      "+--------------------+--------------------+-------+\n",
      "\n",
      "root\n",
      " |-- geometry: geometry (nullable = true)\n",
      " |-- properties: struct (nullable = true)\n",
      " |    |-- prop0: string (nullable = true)\n",
      " |    |-- prop1: string (nullable = true)\n",
      " |-- type: string (nullable = true)\n",
      "\n"
     ]
    }
   ],
   "execution_count": 23
  },
  {
   "metadata": {},
   "cell_type": "markdown",
   "source": [
    "## 1.6 Read GML\n",
    "\n",
    "**GML(Geography Markup Language)** is an `XML based encoding standard` for geographic information developed by the `OpenGIS Consortium (OGC)`. You can find the official doc [here](https://www.ogc.org/publications/standard/gml/)\n",
    "It has three major version:\n",
    "- GML 1\n",
    "- GML 2\n",
    "- GML 3\n",
    "\n",
    "Sedona(<v1.6.1) only supports `GML1 and GML2` for now.  "
   ],
   "id": "85b28992d1387238"
  },
  {
   "metadata": {
    "ExecuteTime": {
     "end_time": "2024-11-27T09:37:19.269859Z",
     "start_time": "2024-11-27T09:37:19.248576Z"
    }
   },
   "cell_type": "code",
   "source": [
    "gml_sample = \"\"\"\n",
    "<gml:LineString srsName=\"EPSG:4269\">\n",
    "        <gml:coordinates>\n",
    "            -71.16028,42.258729\n",
    "            -71.160837,42.259112\n",
    "            -71.161143,42.25932\n",
    "        </gml:coordinates>\n",
    "</gml:LineString>\n",
    "\"\"\"\n",
    "\n",
    "gml_df = sedona.sql(f\"SELECT ST_GeomFromGML('{gml_sample}') as line\")"
   ],
   "id": "2cfb962363025ccd",
   "outputs": [],
   "execution_count": 33
  },
  {
   "metadata": {
    "ExecuteTime": {
     "end_time": "2024-11-27T09:37:32.841357Z",
     "start_time": "2024-11-27T09:37:32.757931Z"
    }
   },
   "cell_type": "code",
   "source": [
    "gml_df.show(5, truncate=False)\n",
    "gml_df.printSchema()"
   ],
   "id": "f288f5801e68ef26",
   "outputs": [
    {
     "name": "stdout",
     "output_type": "stream",
     "text": [
      "+---------------------------------------------------------------------------+\n",
      "|line                                                                       |\n",
      "+---------------------------------------------------------------------------+\n",
      "|LINESTRING (-71.16028 42.258729, -71.160837 42.259112, -71.161143 42.25932)|\n",
      "+---------------------------------------------------------------------------+\n",
      "\n",
      "root\n",
      " |-- line: geometry (nullable = true)\n",
      "\n"
     ]
    }
   ],
   "execution_count": 35
  },
  {
   "metadata": {},
   "cell_type": "markdown",
   "source": [
    "## 1.7 Read KML\n",
    "\n",
    "**Keyhole Markup Language (KML)** is an `XML notation` for expressing geographic annotation and visualization within two-dimensional maps and three-dimensional Earth browsers. `KML was developed for use with Google Earth`, which was originally named `Keyhole Earth Viewer`.\n",
    "\n",
    "A complete kml file example.\n",
    "\n",
    "```xml\n",
    "<?xml version=\"1.0\" encoding=\"UTF-8\"?>\n",
    "<kml xmlns=\"http://www.opengis.net/kml/2.2\">\n",
    "<Document>\n",
    "<Placemark>\n",
    "  <name>New York City</name>\n",
    "  <description>New York City</description>\n",
    "  <Point>\n",
    "    <coordinates>-74.006393,40.714172,0</coordinates>\n",
    "  </Point>\n",
    "</Placemark>\n",
    "</Document>\n",
    "</kml>\n",
    "``` \n",
    "\n",
    "You can notice the coordinates has three attributes (longitude,latitude,altitude), with the altitude coordinates, we can build a 3D map.\n",
    "\n",
    "\n"
   ],
   "id": "2aba54555eae2c36"
  },
  {
   "metadata": {
    "ExecuteTime": {
     "end_time": "2024-11-27T10:05:03.699961Z",
     "start_time": "2024-11-27T10:05:03.671854Z"
    }
   },
   "cell_type": "code",
   "source": [
    "kml_sample = \"\"\"\n",
    "<Point>\n",
    "    <coordinates>-74.006393,40.714172,0</coordinates>\n",
    "</Point>\n",
    "\"\"\"\n",
    "\n",
    "kml_df = sedona.sql(f\"SELECT ST_GeomFromKML('{kml_sample}') as point\")"
   ],
   "id": "bc9ca2a51f3c2acf",
   "outputs": [],
   "execution_count": 40
  },
  {
   "metadata": {
    "ExecuteTime": {
     "end_time": "2024-11-27T10:05:05.554681Z",
     "start_time": "2024-11-27T10:05:05.493668Z"
    }
   },
   "cell_type": "code",
   "source": [
    "kml_df.show(5, truncate=False)\n",
    "kml_df.printSchema()"
   ],
   "id": "d030ee59c92b1928",
   "outputs": [
    {
     "name": "stdout",
     "output_type": "stream",
     "text": [
      "+----------------------------+\n",
      "|point                       |\n",
      "+----------------------------+\n",
      "|POINT (-74.006393 40.714172)|\n",
      "+----------------------------+\n",
      "\n",
      "root\n",
      " |-- point: geometry (nullable = true)\n",
      "\n"
     ]
    }
   ],
   "execution_count": 41
  },
  {
   "metadata": {},
   "cell_type": "markdown",
   "source": [
    "## 1.8 Read Geohash\n",
    "\n",
    "A **Geohash is a unique identifier** of a specific region on the Earth. The basic idea is that the Earth is divided into regions of user-defined size and each region is assigned a unique id, which is called its Geohash. \n",
    "\n",
    "You can try to get the geohash of any region with this web site: https://www.movable-type.co.uk/scripts/geohash.html"
   ],
   "id": "5f25f1a13b33f821"
  },
  {
   "metadata": {
    "ExecuteTime": {
     "end_time": "2024-11-27T10:09:19.900576Z",
     "start_time": "2024-11-27T10:09:19.880378Z"
    }
   },
   "cell_type": "code",
   "source": [
    "geohash_sample = \"s00twy01mt\"\n",
    "\n",
    "\n",
    "geohash_df = sedona.sql(f\"SELECT ST_GeomFromGeoHash('{geohash_sample}') as polygon\")"
   ],
   "id": "54626162d60ec55",
   "outputs": [],
   "execution_count": 42
  },
  {
   "metadata": {
    "ExecuteTime": {
     "end_time": "2024-11-27T10:09:29.629647Z",
     "start_time": "2024-11-27T10:09:29.571399Z"
    }
   },
   "cell_type": "code",
   "source": [
    "geohash_df.show(5, truncate=False)\n",
    "geohash_df.printSchema()"
   ],
   "id": "28e824f160368b06",
   "outputs": [
    {
     "name": "stdout",
     "output_type": "stream",
     "text": [
      "+-------------------------------------------------------------------------------------------------------------------------------------------------------------------------------------------------------------+\n",
      "|polygon                                                                                                                                                                                                      |\n",
      "+-------------------------------------------------------------------------------------------------------------------------------------------------------------------------------------------------------------+\n",
      "|POLYGON ((0.9999918937683105 0.9999972581863403, 0.9999918937683105 1.0000026226043701, 1.0000026226043701 1.0000026226043701, 1.0000026226043701 0.9999972581863403, 0.9999918937683105 0.9999972581863403))|\n",
      "+-------------------------------------------------------------------------------------------------------------------------------------------------------------------------------------------------------------+\n",
      "\n",
      "root\n",
      " |-- polygon: geometry (nullable = true)\n",
      "\n"
     ]
    }
   ],
   "execution_count": 43
  },
  {
   "metadata": {},
   "cell_type": "markdown",
   "source": [
    "## 1.9 Read shape file\n",
    "\n",
    "A shapefile is a `vector data file format` commonly used for geospatial analysis. Shapefiles store the location, geometry, and attribution of `point, line, and polygon` features.\n",
    "\n",
    "You can visit the wiki page via this [link](https://en.wikipedia.org/wiki/Shapefile).\n"
   ],
   "id": "e17e6f60361aec61"
  },
  {
   "cell_type": "code",
   "source": [
    "airports_shape_file_path = f\"{data_dir}/shapefile/airports_shape\"\n",
    "\n",
    "# read communes shape file\n",
    "airports_rdd = ShapefileReader.readToGeometryRDD(sc, airports_shape_file_path)\n",
    "airports_df = Adapter.toDf(airports_rdd, sedona)\n"
   ],
   "metadata": {
    "collapsed": false,
    "ExecuteTime": {
     "end_time": "2024-11-27T10:29:51.020499Z",
     "start_time": "2024-11-27T10:29:50.914939Z"
    }
   },
   "id": "2a527d00100f901d",
   "outputs": [],
   "execution_count": 50
  },
  {
   "metadata": {
    "ExecuteTime": {
     "end_time": "2024-11-27T10:29:52.801862Z",
     "start_time": "2024-11-27T10:29:52.637932Z"
    }
   },
   "cell_type": "code",
   "source": [
    "airports_df.printSchema()\n",
    "airports_df.show(1, truncate=False)"
   ],
   "id": "79e47084a73a1120",
   "outputs": [
    {
     "name": "stdout",
     "output_type": "stream",
     "text": [
      "root\n",
      " |-- geometry: geometry (nullable = true)\n",
      " |-- scalerank: string (nullable = true)\n",
      " |-- featurecla: string (nullable = true)\n",
      " |-- type: string (nullable = true)\n",
      " |-- name: string (nullable = true)\n",
      " |-- abbrev: string (nullable = true)\n",
      " |-- location: string (nullable = true)\n",
      " |-- gps_code: string (nullable = true)\n",
      " |-- iata_code: string (nullable = true)\n",
      " |-- wikipedia: string (nullable = true)\n",
      " |-- natlscale: string (nullable = true)\n",
      "\n",
      "+---------------------------------------------+---------+--------------------------------------------------------------------------------+--------------------------------------------------+--------------------------------------------------------------------------------------------------------------------------------------------------------------------------------------------------------+------+--------------------------------------------------+--------------------------------------------------------------------------------------------------------------------------------------------------------------------------------------------------------------------------------------------------------------+--------------------------------------------------------------------------------------------------------------------------------------------------------------------------------------------------------------------------------------------------------------+--------------------------------------------------------------------------------------------------------------------------------------------------------------------------------------------------------------------------------------------------------------+---------+\n",
      "|geometry                                     |scalerank|featurecla                                                                      |type                                              |name                                                                                                                                                                                                    |abbrev|location                                          |gps_code                                                                                                                                                                                                                                                      |iata_code                                                                                                                                                                                                                                                     |wikipedia                                                                                                                                                                                                                                                     |natlscale|\n",
      "+---------------------------------------------+---------+--------------------------------------------------------------------------------+--------------------------------------------------+--------------------------------------------------------------------------------------------------------------------------------------------------------------------------------------------------------+------+--------------------------------------------------+--------------------------------------------------------------------------------------------------------------------------------------------------------------------------------------------------------------------------------------------------------------+--------------------------------------------------------------------------------------------------------------------------------------------------------------------------------------------------------------------------------------------------------------+--------------------------------------------------------------------------------------------------------------------------------------------------------------------------------------------------------------------------------------------------------------+---------+\n",
      "|POINT (113.93501638737635 22.315332828086753)|   2     |Airport                                                                         |major                                             |Hong Kong Int'l                                                                                                                                                                                         |HKG   |terminal                                          |VHHH                                                                                                                                                                                                                                                          |HKG                                                                                                                                                                                                                                                           |http://en.wikipedia.org/wiki/Hong_Kong_International_Airport                                                                                                                                                                                                  | 150.000 |\n",
      "+---------------------------------------------+---------+--------------------------------------------------------------------------------+--------------------------------------------------+--------------------------------------------------------------------------------------------------------------------------------------------------------------------------------------------------------+------+--------------------------------------------------+--------------------------------------------------------------------------------------------------------------------------------------------------------------------------------------------------------------------------------------------------------------+--------------------------------------------------------------------------------------------------------------------------------------------------------------------------------------------------------------------------------------------------------------+--------------------------------------------------------------------------------------------------------------------------------------------------------------------------------------------------------------------------------------------------------------+---------+\n",
      "only showing top 1 row\n",
      "\n"
     ]
    }
   ],
   "execution_count": 51
  },
  {
   "metadata": {
    "ExecuteTime": {
     "end_time": "2024-11-27T10:50:35.763533Z",
     "start_time": "2024-11-27T10:50:35.661053Z"
    }
   },
   "cell_type": "code",
   "source": "airports_df.select(\"geometry\",\"type\",\"name\",\"location\",\"iata_code\",\"gps_code\").show(5, truncate=False)",
   "id": "f778a711bd135c18",
   "outputs": [
    {
     "name": "stdout",
     "output_type": "stream",
     "text": [
      "+---------------------------------------------+--------------------------------------------------+--------------------------------------------------------------------------------------------------------------------------------------------------------------------------------------------------------+--------------------------------------------------+--------------------------------------------------------------------------------------------------------------------------------------------------------------------------------------------------------------------------------------------------------------+--------------------------------------------------------------------------------------------------------------------------------------------------------------------------------------------------------------------------------------------------------------+\n",
      "|geometry                                     |type                                              |name                                                                                                                                                                                                    |location                                          |iata_code                                                                                                                                                                                                                                                     |gps_code                                                                                                                                                                                                                                                      |\n",
      "+---------------------------------------------+--------------------------------------------------+--------------------------------------------------------------------------------------------------------------------------------------------------------------------------------------------------------+--------------------------------------------------+--------------------------------------------------------------------------------------------------------------------------------------------------------------------------------------------------------------------------------------------------------------+--------------------------------------------------------------------------------------------------------------------------------------------------------------------------------------------------------------------------------------------------------------+\n",
      "|POINT (113.93501638737635 22.315332828086753)|major                                             |Hong Kong Int'l                                                                                                                                                                                         |terminal                                          |HKG                                                                                                                                                                                                                                                           |VHHH                                                                                                                                                                                                                                                          |\n",
      "|POINT (121.23137045332327 25.076741104334637)|major                                             |Taoyuan                                                                                                                                                                                                 |terminal                                          |TPE                                                                                                                                                                                                                                                           |RCTP                                                                                                                                                                                                                                                          |\n",
      "|POINT (4.764376932328117 52.30893238898217)  |major                                             |Schiphol                                                                                                                                                                                                |terminal                                          |AMS                                                                                                                                                                                                                                                           |EHAM                                                                                                                                                                                                                                                          |\n",
      "|POINT (103.98641388099333 1.3561608352812635)|major                                             |Singapore Changi                                                                                                                                                                                        |terminal                                          |SIN                                                                                                                                                                                                                                                           |WSSS                                                                                                                                                                                                                                                          |\n",
      "|POINT (-0.4531566520633094 51.47099587999384)|major                                             |London Heathrow                                                                                                                                                                                         |parking                                           |LHR                                                                                                                                                                                                                                                           |EGLL                                                                                                                                                                                                                                                          |\n",
      "+---------------------------------------------+--------------------------------------------------+--------------------------------------------------------------------------------------------------------------------------------------------------------------------------------------------------------+--------------------------------------------------+--------------------------------------------------------------------------------------------------------------------------------------------------------------------------------------------------------------------------------------------------------------+--------------------------------------------------------------------------------------------------------------------------------------------------------------------------------------------------------------------------------------------------------------+\n",
      "only showing top 5 rows\n",
      "\n"
     ]
    }
   ],
   "execution_count": 53
  },
  {
   "metadata": {
    "ExecuteTime": {
     "end_time": "2024-11-27T11:03:09.135891Z",
     "start_time": "2024-11-27T11:03:07.690115Z"
    }
   },
   "cell_type": "code",
   "source": "",
   "id": "9b26545c52bfcfc1",
   "outputs": [],
   "execution_count": 54
  },
  {
   "cell_type": "markdown",
   "source": [
    "## 1.10 Read GeoParquet\n",
    "\n",
    "GeoParquet is an **Open Geospatial Consortium (OGC) standard** that adds interoperable geospatial types `(Point, Line, Polygon)` to Parquet. Currently(27/11/2024), the stable version is 1.1.0.\n",
    "\n",
    "You can find the official site of geo-parquet [here](https://geoparquet.org/).\n",
    "\n",
    "You can find the current version data format specification [here](https://geoparquet.org/releases/v1.1.0/). The supported geo type are:\n",
    "- point\n",
    "- line\n",
    "- polygon\n",
    "- multipoint\n",
    "- multiline\n",
    "- multipolygon"
   ],
   "metadata": {
    "collapsed": false
   },
   "id": "284575701e4b1f43"
  },
  {
   "cell_type": "code",
   "source": [
    "airports_parquet_path = f\"{data_dir}/parquet/airports\"\n",
    "\n",
    "airports_parquet_df= sedona.read.format(\"geoparquet\").load(airports_parquet_path)"
   ],
   "metadata": {
    "collapsed": false,
    "ExecuteTime": {
     "end_time": "2024-11-27T11:05:16.658186Z",
     "start_time": "2024-11-27T11:05:16.485184Z"
    }
   },
   "id": "5062dc628135f3e0",
   "outputs": [],
   "execution_count": 55
  },
  {
   "cell_type": "code",
   "source": [
    "airports_parquet_df.printSchema()\n",
    "airports_parquet_df.show(5)"
   ],
   "metadata": {
    "collapsed": false,
    "ExecuteTime": {
     "end_time": "2024-11-27T11:06:06.664717Z",
     "start_time": "2024-11-27T11:06:06.580410Z"
    }
   },
   "id": "eba878d7a6f2d1c0",
   "outputs": [
    {
     "name": "stdout",
     "output_type": "stream",
     "text": [
      "root\n",
      " |-- geometry: geometry (nullable = true)\n",
      " |-- scalerank: string (nullable = true)\n",
      " |-- featurecla: string (nullable = true)\n",
      " |-- type: string (nullable = true)\n",
      " |-- name: string (nullable = true)\n",
      " |-- abbrev: string (nullable = true)\n",
      " |-- location: string (nullable = true)\n",
      " |-- gps_code: string (nullable = true)\n",
      " |-- iata_code: string (nullable = true)\n",
      " |-- wikipedia: string (nullable = true)\n",
      " |-- natlscale: string (nullable = true)\n",
      "\n",
      "+--------------------+---------+--------------------+--------------------+--------------------+------+--------------------+--------------------+--------------------+--------------------+---------+\n",
      "|            geometry|scalerank|          featurecla|                type|                name|abbrev|            location|            gps_code|           iata_code|           wikipedia|natlscale|\n",
      "+--------------------+---------+--------------------+--------------------+--------------------+------+--------------------+--------------------+--------------------+--------------------+---------+\n",
      "|POINT (113.935016...|        2|Airport          ...|major            ...|Hong Kong Int'l  ...|  HKG |terminal         ...|VHHH             ...|HKG              ...|http://en.wikiped...|  150.000|\n",
      "|POINT (121.231370...|        2|Airport          ...|major            ...|Taoyuan          ...|  TPE |terminal         ...|RCTP             ...|TPE              ...|http://en.wikiped...|  150.000|\n",
      "|POINT (4.76437693...|        2|Airport          ...|major            ...|Schiphol         ...|  AMS |terminal         ...|EHAM             ...|AMS              ...|http://en.wikiped...|  150.000|\n",
      "|POINT (103.986413...|        2|Airport          ...|major            ...|Singapore Changi ...|  SIN |terminal         ...|WSSS             ...|SIN              ...|http://en.wikiped...|  150.000|\n",
      "|POINT (-0.4531566...|        2|Airport          ...|major            ...|London Heathrow  ...|  LHR |parking          ...|EGLL             ...|LHR              ...|http://en.wikiped...|  150.000|\n",
      "+--------------------+---------+--------------------+--------------------+--------------------+------+--------------------+--------------------+--------------------+--------------------+---------+\n",
      "only showing top 5 rows\n",
      "\n"
     ]
    }
   ],
   "execution_count": 57
  },
  {
   "metadata": {},
   "cell_type": "markdown",
   "source": [
    "### 1.10.1 Read metadata of geo parquet\n",
    "\n"
   ],
   "id": "cbbe2366278847a8"
  },
  {
   "metadata": {
    "ExecuteTime": {
     "end_time": "2024-11-27T12:14:42.492353Z",
     "start_time": "2024-11-27T12:14:42.430896Z"
    }
   },
   "cell_type": "code",
   "source": [
    "metadata_df = sedona.read.format(\"geoparquet.metadata\").load(airports_parquet_path)\n",
    "metadata_df.printSchema()"
   ],
   "id": "c2c91d3726d93bde",
   "outputs": [
    {
     "name": "stdout",
     "output_type": "stream",
     "text": [
      "root\n",
      " |-- path: string (nullable = true)\n",
      " |-- version: string (nullable = true)\n",
      " |-- primary_column: string (nullable = true)\n",
      " |-- columns: map (nullable = true)\n",
      " |    |-- key: string\n",
      " |    |-- value: struct (valueContainsNull = true)\n",
      " |    |    |-- encoding: string (nullable = true)\n",
      " |    |    |-- geometry_types: array (nullable = true)\n",
      " |    |    |    |-- element: string (containsNull = true)\n",
      " |    |    |-- bbox: array (nullable = true)\n",
      " |    |    |    |-- element: double (containsNull = true)\n",
      " |    |    |-- crs: string (nullable = true)\n",
      " |    |    |-- covering: string (nullable = true)\n",
      "\n"
     ]
    }
   ],
   "execution_count": 59
  },
  {
   "metadata": {
    "ExecuteTime": {
     "end_time": "2024-11-27T12:16:06.514273Z",
     "start_time": "2024-11-27T12:16:06.363188Z"
    }
   },
   "cell_type": "code",
   "source": "metadata_df.show(truncate=False, vertical=True)",
   "id": "138cffda02353d25",
   "outputs": [
    {
     "name": "stdout",
     "output_type": "stream",
     "text": [
      "-RECORD 0---------------------------------------------------------------------------------------------------------------------------------------------------------\n",
      " path           | file:/C:/Users/PLIU/Documents/git/GeoParquetAndSedona/data/parquet/airports/part-00000-b950f0ae-c815-4a20-b44d-5556dcd46339-c000.snappy.parquet \n",
      " version        | 1.1.0                                                                                                                                           \n",
      " primary_column | geometry                                                                                                                                        \n",
      " columns        | {geometry -> {WKB, [Point], [-175.135635, -53.005069825517666, 178.5600483699593, 71.289299], null, NULL}}                                      \n",
      "\n"
     ]
    }
   ],
   "execution_count": 61
  },
  {
   "metadata": {},
   "cell_type": "markdown",
   "source": [
    "## 1.11 Read data from JDBC datasource\n",
    "\n",
    "As spark offers jdbc reader, so sedona can also access various database source via JDBC. There is no major difference between read a file and read a database table."
   ],
   "id": "eea2390c65d64050"
  },
  {
   "metadata": {},
   "cell_type": "markdown",
   "source": [
    "## 1.12 Read data from geopackage\n",
    "\n",
    "A **GeoPackage** is an SQLite Database file a **specific database schema**, the filename extension is `.gpkg`. If you are unsure whether a file is an SQLite database, you can use a binary or text editor to view the starting bytes of the file and see if they state `SQLite format 3`.\n",
    "\n",
    "In the next major release of sedona(1.7), the `GeoPackage` format will be supported.\n"
   ],
   "id": "75d4fce65fab9fb6"
  },
  {
   "metadata": {},
   "cell_type": "markdown",
   "source": [
    "## 2. Write geospatial data via sedona\n",
    "\n",
    "Natively, sedona allows user to write geospatial data in GeoJson, wkt/wkb in csv, geoparquet\n",
    "\n",
    " "
   ],
   "id": "c1f1cd2fb994f32"
  },
  {
   "cell_type": "code",
   "source": [
    "airports_parquet_path = f\"{data_dir}/parquet/airports\"\n",
    "\n",
    "airports_parquet_df= sedona.read.format(\"geoparquet\").load(airports_parquet_path)"
   ],
   "metadata": {
    "collapsed": false,
    "ExecuteTime": {
     "end_time": "2024-11-27T12:39:56.965449Z",
     "start_time": "2024-11-27T12:39:56.867753Z"
    }
   },
   "id": "642ed0cfc2e10ad1",
   "outputs": [],
   "execution_count": 62
  },
  {
   "cell_type": "code",
   "source": "airports_parquet_df.printSchema()",
   "metadata": {
    "collapsed": false,
    "ExecuteTime": {
     "end_time": "2024-11-27T12:40:27.481335Z",
     "start_time": "2024-11-27T12:40:27.465757Z"
    }
   },
   "id": "3d937cc14fff10b4",
   "outputs": [
    {
     "name": "stdout",
     "output_type": "stream",
     "text": [
      "root\n",
      " |-- geometry: geometry (nullable = true)\n",
      " |-- scalerank: string (nullable = true)\n",
      " |-- featurecla: string (nullable = true)\n",
      " |-- type: string (nullable = true)\n",
      " |-- name: string (nullable = true)\n",
      " |-- abbrev: string (nullable = true)\n",
      " |-- location: string (nullable = true)\n",
      " |-- gps_code: string (nullable = true)\n",
      " |-- iata_code: string (nullable = true)\n",
      " |-- wikipedia: string (nullable = true)\n",
      " |-- natlscale: string (nullable = true)\n",
      "\n"
     ]
    }
   ],
   "execution_count": 63
  },
  {
   "cell_type": "code",
   "source": "output_df = airports_parquet_df.select(\"geometry\",\"type\",\"name\",\"location\",\"iata_code\",\"gps_code\")\n",
   "metadata": {
    "collapsed": false,
    "ExecuteTime": {
     "end_time": "2024-11-27T12:41:10.461391Z",
     "start_time": "2024-11-27T12:41:10.434709Z"
    }
   },
   "id": "15b7d4ec1ea6b867",
   "outputs": [],
   "execution_count": 64
  },
  {
   "cell_type": "code",
   "source": [
    "output_df.show()\n",
    "output_df.printSchema()"
   ],
   "metadata": {
    "collapsed": false,
    "ExecuteTime": {
     "end_time": "2024-11-27T12:41:28.405952Z",
     "start_time": "2024-11-27T12:41:28.265110Z"
    }
   },
   "id": "d49a4ba1ca75ee15",
   "outputs": [
    {
     "name": "stdout",
     "output_type": "stream",
     "text": [
      "+--------------------+--------------------+--------------------+--------------------+--------------------+--------------------+\n",
      "|            geometry|                type|                name|            location|           iata_code|            gps_code|\n",
      "+--------------------+--------------------+--------------------+--------------------+--------------------+--------------------+\n",
      "|POINT (113.935016...|major            ...|Hong Kong Int'l  ...|terminal         ...|HKG              ...|VHHH             ...|\n",
      "|POINT (121.231370...|major            ...|Taoyuan          ...|terminal         ...|TPE              ...|RCTP             ...|\n",
      "|POINT (4.76437693...|major            ...|Schiphol         ...|terminal         ...|AMS              ...|EHAM             ...|\n",
      "|POINT (103.986413...|major            ...|Singapore Changi ...|terminal         ...|SIN              ...|WSSS             ...|\n",
      "|POINT (-0.4531566...|major            ...|London Heathrow  ...|parking          ...|LHR              ...|EGLL             ...|\n",
      "|POINT (174.791719...|major            ...|Auckland Int'l   ...|terminal         ...|AKL              ...|NZAA             ...|\n",
      "|POINT (-149.98172...|major            ...|Anchorage Int'l  ...|terminal         ...|ANC              ...|PALH             ...|\n",
      "|POINT (-84.425397...|major            ...|Hartsfield-Jackso...|terminal         ...|ATL              ...|KATL             ...|\n",
      "|POINT (116.588174...|major            ...|Beijing Capital  ...|terminal         ...|PEK              ...|ZBAA             ...|\n",
      "|POINT (-74.143371...|major            ...|Eldorado Int'l   ...|terminal         ...|BOG              ...|SKBO             ...|\n",
      "|POINT (72.8745639...|major            ...|Chhatrapati Shiva...|terminal         ...|BOM              ...|VABB             ...|\n",
      "|POINT (-71.016406...|major            ...|Gen E L Logan Int...|terminal         ...|BOS              ...|KBOS             ...|\n",
      "|POINT (-76.668642...|major            ...|Baltimore-Washing...|terminal         ...|BWI              ...|KBWI             ...|\n",
      "|POINT (31.3997430...|major            ...|Cairo Int'l      ...|terminal         ...|CAI              ...|HECA             ...|\n",
      "|POINT (-7.6632188...|mid              ...|Casablanca-Anfa  ...|terminal         ...|CAS              ...|GMMC             ...|\n",
      "|POINT (-67.005748...|mid              ...|Simon Bolivar Int...|terminal         ...|CCS              ...|SVMI             ...|\n",
      "|POINT (18.5976565...|major            ...|Cape Town Int'l  ...|terminal         ...|CPT              ...|FACT             ...|\n",
      "|POINT (103.956136...|major            ...|Chengdushuang Liu...|terminal         ...|CTU              ...|ZUUU             ...|\n",
      "|POINT (77.0878362...|major            ...|Indira Gandhi Int...|terminal         ...|DEL              ...|VIDP             ...|\n",
      "|POINT (-104.67379...|major            ...|Denver Int'l     ...|terminal         ...|DEN              ...|KDEN             ...|\n",
      "+--------------------+--------------------+--------------------+--------------------+--------------------+--------------------+\n",
      "only showing top 20 rows\n",
      "\n",
      "root\n",
      " |-- geometry: geometry (nullable = true)\n",
      " |-- type: string (nullable = true)\n",
      " |-- name: string (nullable = true)\n",
      " |-- location: string (nullable = true)\n",
      " |-- iata_code: string (nullable = true)\n",
      " |-- gps_code: string (nullable = true)\n",
      "\n"
     ]
    }
   ],
   "execution_count": 65
  },
  {
   "cell_type": "code",
   "source": "print(f\"Total row number: {output_df.count()}\")",
   "metadata": {
    "collapsed": false,
    "ExecuteTime": {
     "end_time": "2024-11-27T12:41:59.342815Z",
     "start_time": "2024-11-27T12:41:59.192133Z"
    }
   },
   "id": "2967242bc44c12a0",
   "outputs": [
    {
     "name": "stdout",
     "output_type": "stream",
     "text": [
      "Total row number: 281\n"
     ]
    }
   ],
   "execution_count": 66
  },
  {
   "metadata": {},
   "cell_type": "markdown",
   "source": [
    "### 2.1 Write as GeoJSON\n",
    "\n",
    "Since `v1.6.1`, the GeoJSON data source in Sedona can be used to save a Spatial DataFrame to a `single-line JSON` file, with geometries written in GeoJSON format."
   ],
   "id": "f084282a96b4bf29"
  },
  {
   "metadata": {
    "ExecuteTime": {
     "end_time": "2024-11-27T13:19:22.160080Z",
     "start_time": "2024-11-27T13:19:22.002838Z"
    }
   },
   "cell_type": "code",
   "source": [
    "geo_json_out_path= f\"{data_dir}/tmp/geojson_sample\"\n",
    "output_df.write.format(\"geojson\").save(geo_json_out_path)"
   ],
   "id": "510d695c0a615eeb",
   "outputs": [],
   "execution_count": 74
  },
  {
   "metadata": {},
   "cell_type": "markdown",
   "source": "### 2.2 Write as wkt ",
   "id": "337e9dfaeb06e8db"
  },
  {
   "metadata": {
    "ExecuteTime": {
     "end_time": "2024-11-27T13:40:26.831979Z",
     "start_time": "2024-11-27T13:40:26.714949Z"
    }
   },
   "cell_type": "code",
   "source": [
    "wkt_out_df = output_df.selectExpr(\"ST_AsText(geometry) as geo_string\",\"type\", \"name\", \"location\", \"iata_code\", \"gps_code\")\n",
    "wkt_out_df.printSchema()\n",
    "wkt_out_df.show(5)"
   ],
   "id": "955b9b2b5fcfec4",
   "outputs": [
    {
     "name": "stdout",
     "output_type": "stream",
     "text": [
      "root\n",
      " |-- geo_string: string (nullable = true)\n",
      " |-- type: string (nullable = true)\n",
      " |-- name: string (nullable = true)\n",
      " |-- location: string (nullable = true)\n",
      " |-- iata_code: string (nullable = true)\n",
      " |-- gps_code: string (nullable = true)\n",
      "\n",
      "+--------------------+--------------------+--------------------+--------------------+--------------------+--------------------+\n",
      "|          geo_string|                type|                name|            location|           iata_code|            gps_code|\n",
      "+--------------------+--------------------+--------------------+--------------------+--------------------+--------------------+\n",
      "|POINT (113.935016...|major            ...|Hong Kong Int'l  ...|terminal         ...|HKG              ...|VHHH             ...|\n",
      "|POINT (121.231370...|major            ...|Taoyuan          ...|terminal         ...|TPE              ...|RCTP             ...|\n",
      "|POINT (4.76437693...|major            ...|Schiphol         ...|terminal         ...|AMS              ...|EHAM             ...|\n",
      "|POINT (103.986413...|major            ...|Singapore Changi ...|terminal         ...|SIN              ...|WSSS             ...|\n",
      "|POINT (-0.4531566...|major            ...|London Heathrow  ...|parking          ...|LHR              ...|EGLL             ...|\n",
      "+--------------------+--------------------+--------------------+--------------------+--------------------+--------------------+\n",
      "only showing top 5 rows\n",
      "\n"
     ]
    }
   ],
   "execution_count": 82
  },
  {
   "metadata": {
    "ExecuteTime": {
     "end_time": "2024-11-27T13:40:30.558736Z",
     "start_time": "2024-11-27T13:40:30.355541Z"
    }
   },
   "cell_type": "code",
   "source": [
    "wkt_sample_path = f\"{data_dir}/tmp/wkt_sample\"\n",
    "wkt_out_df.write.csv(wkt_sample_path)"
   ],
   "id": "7f91ca0264dfe65b",
   "outputs": [],
   "execution_count": 83
  },
  {
   "metadata": {},
   "cell_type": "markdown",
   "source": [
    "## 2.3 Write as wkb\n",
    "\n",
    "As wkb is binary, we can't write in csv. But we can write in parquet native (which is not geoparquet) "
   ],
   "id": "7f02e577a1f408a8"
  },
  {
   "metadata": {
    "ExecuteTime": {
     "end_time": "2024-11-27T13:22:44.630554Z",
     "start_time": "2024-11-27T13:22:44.544681Z"
    }
   },
   "cell_type": "code",
   "source": [
    "wkb_out_df = output_df.selectExpr(\"ST_AsBinary(geometry) as geo_bin\",\"type\", \"name\", \"location\", \"iata_code\", \"gps_code\")\n",
    "wkb_out_df.printSchema()\n",
    "wkb_out_df.show(5)"
   ],
   "id": "55ec114f77f266d4",
   "outputs": [
    {
     "name": "stdout",
     "output_type": "stream",
     "text": [
      "root\n",
      " |-- geo_bin: binary (nullable = true)\n",
      " |-- type: string (nullable = true)\n",
      " |-- name: string (nullable = true)\n",
      " |-- location: string (nullable = true)\n",
      " |-- iata_code: string (nullable = true)\n",
      " |-- gps_code: string (nullable = true)\n",
      "\n",
      "+--------------------+--------------------+--------------------+--------------------+--------------------+--------------------+\n",
      "|             geo_bin|                type|                name|            location|           iata_code|            gps_code|\n",
      "+--------------------+--------------------+--------------------+--------------------+--------------------+--------------------+\n",
      "|[01 01 00 00 00 5...|major            ...|Hong Kong Int'l  ...|terminal         ...|HKG              ...|VHHH             ...|\n",
      "|[01 01 00 00 00 2...|major            ...|Taoyuan          ...|terminal         ...|TPE              ...|RCTP             ...|\n",
      "|[01 01 00 00 00 0...|major            ...|Schiphol         ...|terminal         ...|AMS              ...|EHAM             ...|\n",
      "|[01 01 00 00 00 F...|major            ...|Singapore Changi ...|terminal         ...|SIN              ...|WSSS             ...|\n",
      "|[01 01 00 00 00 B...|major            ...|London Heathrow  ...|parking          ...|LHR              ...|EGLL             ...|\n",
      "+--------------------+--------------------+--------------------+--------------------+--------------------+--------------------+\n",
      "only showing top 5 rows\n",
      "\n"
     ]
    }
   ],
   "execution_count": 78
  },
  {
   "metadata": {
    "ExecuteTime": {
     "end_time": "2024-11-27T13:33:35.935366Z",
     "start_time": "2024-11-27T13:33:35.786669Z"
    }
   },
   "cell_type": "code",
   "source": [
    "wkb_sample_path = f\"{data_dir}/tmp/wkb_sample\"\n",
    "wkb_out_df.write.parquet(wkb_sample_path)\n"
   ],
   "id": "6b5d0e2bca18d418",
   "outputs": [],
   "execution_count": 80
  },
  {
   "metadata": {},
   "cell_type": "markdown",
   "source": "### 2.4 Write as geoparquet\n",
   "id": "d7798d09bed15cb7"
  },
  {
   "metadata": {
    "ExecuteTime": {
     "end_time": "2024-11-27T13:37:41.016058Z",
     "start_time": "2024-11-27T13:37:40.861712Z"
    }
   },
   "cell_type": "code",
   "source": [
    "geoparquet_sample_path = f\"{data_dir}/tmp/geoparquet_sample\"\n",
    "output_df.write.format(\"geoparquet\").option(\"geoparquet.version\",\"1.1.0\").save(geoparquet_sample_path)"
   ],
   "id": "338e6379ff9ade90",
   "outputs": [],
   "execution_count": 81
  },
  {
   "metadata": {},
   "cell_type": "markdown",
   "source": [
    "#### 2.4.1 Custom metadata in geo parquet\n",
    "\n",
    "As parquet allows us to insert custom metadata, so geo parquet has this ability too.\n",
    "\n",
    "The most used metadata in geo parquet is:\n",
    "  - crs coordinates for geometry column\n",
    "  - covering metadata: For each geometry column, a top-level struct column containing xmin, ymin, xmax,ymax. The `covering` field specifies a bounding box column to help accelerate spatial data retrieval \n",
    "\n",
    "\n",
    "##### Integrated CRS coordinates for geometry columns\n",
    "\n",
    "The maps of the surface of the earth is in two dimensions. But, as you know, the world is actually a three-dimensional globe. So we have to use a method called a `map projection` to render it as a flat surface. We use a coordinate reference system (CRS) to show how the projected points correspond to real locations on Earth.\n",
    "\n",
    "For example, the coordinate (Latitude: 48.8566, Longitude: 2.3522) is in Paris in the `WGS84(ESPG:4326)` CRS. The same point in `EPSG:3857` (e.g. OSM) would be (X: 261845.83,Y: 6250561.88)"
   ],
   "id": "f45caa57963a3c5a"
  },
  {
   "metadata": {
    "ExecuteTime": {
     "end_time": "2024-11-27T14:10:29.528181Z",
     "start_time": "2024-11-27T14:10:29.517696Z"
    }
   },
   "cell_type": "code",
   "source": "output_df.printSchema()",
   "id": "3f38502980dc120d",
   "outputs": [
    {
     "name": "stdout",
     "output_type": "stream",
     "text": [
      "root\n",
      " |-- geometry: geometry (nullable = true)\n",
      " |-- type: string (nullable = true)\n",
      " |-- name: string (nullable = true)\n",
      " |-- location: string (nullable = true)\n",
      " |-- iata_code: string (nullable = true)\n",
      " |-- gps_code: string (nullable = true)\n",
      "\n"
     ]
    }
   ],
   "execution_count": 84
  },
  {
   "metadata": {
    "ExecuteTime": {
     "end_time": "2024-11-27T14:48:55.374646Z",
     "start_time": "2024-11-27T14:48:55.362461Z"
    }
   },
   "cell_type": "code",
   "source": [
    "crs_code_for_geometry =\"\"\"\n",
    "{\n",
    "    \"$schema\": \"https://proj.org/schemas/v0.7/projjson.schema.json\",\n",
    "    \"type\": \"GeographicCRS\",\n",
    "    \"name\": \"WGS 84\",\n",
    "    \"datum_ensemble\": {\n",
    "        \"name\": \"World Geodetic System 1984 ensemble\",\n",
    "        \"members\": [\n",
    "            {\n",
    "                \"name\": \"World Geodetic System 1984 (Transit)\",\n",
    "                \"id\": {\n",
    "                    \"authority\": \"EPSG\",\n",
    "                    \"code\": 1166\n",
    "                }\n",
    "            },\n",
    "            {\n",
    "                \"name\": \"World Geodetic System 1984 (G730)\",\n",
    "                \"id\": {\n",
    "                    \"authority\": \"EPSG\",\n",
    "                    \"code\": 1152\n",
    "                }\n",
    "            },\n",
    "            {\n",
    "                \"name\": \"World Geodetic System 1984 (G873)\",\n",
    "                \"id\": {\n",
    "                    \"authority\": \"EPSG\",\n",
    "                    \"code\": 1153\n",
    "                }\n",
    "            },\n",
    "            {\n",
    "                \"name\": \"World Geodetic System 1984 (G1150)\",\n",
    "                \"id\": {\n",
    "                    \"authority\": \"EPSG\",\n",
    "                    \"code\": 1154\n",
    "                }\n",
    "            },\n",
    "            {\n",
    "                \"name\": \"World Geodetic System 1984 (G1674)\",\n",
    "                \"id\": {\n",
    "                    \"authority\": \"EPSG\",\n",
    "                    \"code\": 1155\n",
    "                }\n",
    "            },\n",
    "            {\n",
    "                \"name\": \"World Geodetic System 1984 (G1762)\",\n",
    "                \"id\": {\n",
    "                    \"authority\": \"EPSG\",\n",
    "                    \"code\": 1156\n",
    "                }\n",
    "            },\n",
    "            {\n",
    "                \"name\": \"World Geodetic System 1984 (G2139)\",\n",
    "                \"id\": {\n",
    "                    \"authority\": \"EPSG\",\n",
    "                    \"code\": 1309\n",
    "                }\n",
    "            }\n",
    "        ],\n",
    "        \"ellipsoid\": {\n",
    "            \"name\": \"WGS 84\",\n",
    "            \"semi_major_axis\": 6378137,\n",
    "            \"inverse_flattening\": 298.257223563\n",
    "        },\n",
    "        \"accuracy\": \"2.0\",\n",
    "        \"id\": {\n",
    "            \"authority\": \"EPSG\",\n",
    "            \"code\": 6326\n",
    "        }\n",
    "    },\n",
    "    \"coordinate_system\": {\n",
    "        \"subtype\": \"ellipsoidal\",\n",
    "        \"axis\": [\n",
    "            {\n",
    "                \"name\": \"Geodetic latitude\",\n",
    "                \"abbreviation\": \"Lat\",\n",
    "                \"direction\": \"north\",\n",
    "                \"unit\": \"degree\"\n",
    "            },\n",
    "            {\n",
    "                \"name\": \"Geodetic longitude\",\n",
    "                \"abbreviation\": \"Lon\",\n",
    "                \"direction\": \"east\",\n",
    "                \"unit\": \"degree\"\n",
    "            }\n",
    "        ]\n",
    "    },\n",
    "    \"scope\": \"Horizontal component of 3D system.\",\n",
    "    \"area\": \"World.\",\n",
    "    \"bbox\": {\n",
    "        \"south_latitude\": -90,\n",
    "        \"west_longitude\": -180,\n",
    "        \"north_latitude\": 90,\n",
    "        \"east_longitude\": 180\n",
    "    },\n",
    "    \"id\": {\n",
    "        \"authority\": \"EPSG\",\n",
    "        \"code\": 4326\n",
    "    }\n",
    "}\"\"\""
   ],
   "id": "1c13b8fb6fa52d7a",
   "outputs": [],
   "execution_count": 87
  },
  {
   "metadata": {
    "ExecuteTime": {
     "end_time": "2024-11-27T14:58:58.207591Z",
     "start_time": "2024-11-27T14:58:58.067036Z"
    }
   },
   "cell_type": "code",
   "source": [
    "geoparquet_crs_sample_path = f\"{data_dir}/tmp/geoparquet_crs_sample\"\n",
    "output_df.write.mode(\"overwrite\").format(\"geoparquet\").option(\"geoparquet.crs.geometry\",crs_code_for_geometry).option(\"geoparquet.version\",\"1.1.0\").save(geoparquet_crs_sample_path)"
   ],
   "id": "90627e40cf462c42",
   "outputs": [],
   "execution_count": 95
  },
  {
   "metadata": {
    "ExecuteTime": {
     "end_time": "2024-11-27T14:59:09.799749Z",
     "start_time": "2024-11-27T14:59:09.694298Z"
    }
   },
   "cell_type": "code",
   "source": [
    "geo_crs_meta = sedona.read.format(\"geoparquet.metadata\").load(geoparquet_crs_sample_path)\n",
    "\n",
    "geo_crs_meta.show(truncate=False, vertical=True)"
   ],
   "id": "6bb139b1cb09f44f",
   "outputs": [
    {
     "name": "stdout",
     "output_type": "stream",
     "text": [
      "-RECORD 0-------------------------------------------------------------------------------------------------------------------------------------------------------------------------------------------------------------------------------------------------------------------------------------------------------------------------------------------------------------------------------------------------------------------------------------------------------------------------------------------------------------------------------------------------------------------------------------------------------------------------------------------------------------------------------------------------------------------------------------------------------------------------------------------------------------------------------------------------------------------------------------------------------------------------------------------------------------------------------------------------------------------------------------------------------------------------------------------------------------------------------------------------------------------------------------------------------------------------------------------------------------------------------------------------------------------------------------------------------------------------------------------------------------------------------------------------------------------------------------------\n",
      " path           | file:/C:/Users/PLIU/Documents/git/GeoParquetAndSedona/data/tmp/geoparquet_crs_sample/part-00000-70027973-926b-455b-bbe5-80de2a916b86-c000.snappy.parquet                                                                                                                                                                                                                                                                                                                                                                                                                                                                                                                                                                                                                                                                                                                                                                                                                                                                                                                                                                                                                                                                                                                                                                                                                                                                                                                          \n",
      " version        | 1.1.0                                                                                                                                                                                                                                                                                                                                                                                                                                                                                                                                                                                                                                                                                                                                                                                                                                                                                                                                                                                                                                                                                                                                                                                                                                                                                                                                                                                                                                                                             \n",
      " primary_column | geometry                                                                                                                                                                                                                                                                                                                                                                                                                                                                                                                                                                                                                                                                                                                                                                                                                                                                                                                                                                                                                                                                                                                                                                                                                                                                                                                                                                                                                                                                          \n",
      " columns        | {geometry -> {WKB, [Point], [-175.135635, -53.005069825517666, 178.5600483699593, 71.289299], {\"$schema\":\"https://proj.org/schemas/v0.7/projjson.schema.json\",\"type\":\"GeographicCRS\",\"name\":\"WGS 84\",\"datumEnsemble\":{\"name\":\"World Geodetic System 1984 ensemble\",\"members\":[{\"name\":\"World Geodetic System 1984 (Transit)\",\"id\":{\"authority\":\"EPSG\",\"code\":1166}},{\"name\":\"World Geodetic System 1984 (G730)\",\"id\":{\"authority\":\"EPSG\",\"code\":1152}},{\"name\":\"World Geodetic System 1984 (G873)\",\"id\":{\"authority\":\"EPSG\",\"code\":1153}},{\"name\":\"World Geodetic System 1984 (G1150)\",\"id\":{\"authority\":\"EPSG\",\"code\":1154}},{\"name\":\"World Geodetic System 1984 (G1674)\",\"id\":{\"authority\":\"EPSG\",\"code\":1155}},{\"name\":\"World Geodetic System 1984 (G1762)\",\"id\":{\"authority\":\"EPSG\",\"code\":1156}},{\"name\":\"World Geodetic System 1984 (G2139)\",\"id\":{\"authority\":\"EPSG\",\"code\":1309}}],\"ellipsoid\":{\"name\":\"WGS 84\",\"semiMajorAxis\":6378137,\"inverseFlattening\":298.257223563},\"accuracy\":\"2.0\",\"id\":{\"authority\":\"EPSG\",\"code\":6326}},\"coordinateSystem\":{\"subtype\":\"ellipsoidal\",\"axis\":[{\"name\":\"Geodetic latitude\",\"abbreviation\":\"Lat\",\"direction\":\"north\",\"unit\":\"degree\"},{\"name\":\"Geodetic longitude\",\"abbreviation\":\"Lon\",\"direction\":\"east\",\"unit\":\"degree\"}]},\"scope\":\"Horizontal component of 3D system.\",\"area\":\"World.\",\"bbox\":{\"southLatitude\":-90,\"westLongitude\":-180,\"northLatitude\":90,\"eastLongitude\":180},\"id\":{\"authority\":\"EPSG\",\"code\":4326}}, NULL}} \n",
      "\n"
     ]
    }
   ],
   "execution_count": 97
  },
  {
   "metadata": {},
   "cell_type": "markdown",
   "source": [
    "#### Covering metadata\n",
    "\n",
    "Since `v1.6.1`, Sedona supports writing the **covering field** to geometry column metadata. The covering field specifies a bounding box column to help accelerate spatial data retrieval. The bounding box column should be a top-level struct column containing `xmin, ymin, xmax, ymax` columns. If the DataFrame you are writing contains such columns, you can specify \n",
    "`.option(\"geoparquet.covering.<geometryColumnName>\", \"<coveringColumnName>\")` option to write covering metadata to GeoParquet files:"
   ],
   "id": "3ff36f79a2e4b1d5"
  },
  {
   "metadata": {
    "ExecuteTime": {
     "end_time": "2024-11-27T14:56:59.215065Z",
     "start_time": "2024-11-27T14:56:59.079199Z"
    }
   },
   "cell_type": "code",
   "source": [
    "df_with_bbox = output_df.withColumn(\"bbox\",  expr(\"struct(ST_XMin(geometry) AS xmin, ST_YMin(geometry) AS ymin, ST_XMax(geometry) AS xmax, ST_YMax(geometry) AS ymax)\"))\n",
    "df_with_bbox.show(5, truncate=False)"
   ],
   "id": "56d4646653b5586f",
   "outputs": [
    {
     "name": "stdout",
     "output_type": "stream",
     "text": [
      "+---------------------------------------------+--------------------------------------------------+--------------------------------------------------------------------------------------------------------------------------------------------------------------------------------------------------------+--------------------------------------------------+--------------------------------------------------------------------------------------------------------------------------------------------------------------------------------------------------------------------------------------------------------------+--------------------------------------------------------------------------------------------------------------------------------------------------------------------------------------------------------------------------------------------------------------+--------------------------------------------------------------------------------+\n",
      "|geometry                                     |type                                              |name                                                                                                                                                                                                    |location                                          |iata_code                                                                                                                                                                                                                                                     |gps_code                                                                                                                                                                                                                                                      |bbox                                                                            |\n",
      "+---------------------------------------------+--------------------------------------------------+--------------------------------------------------------------------------------------------------------------------------------------------------------------------------------------------------------+--------------------------------------------------+--------------------------------------------------------------------------------------------------------------------------------------------------------------------------------------------------------------------------------------------------------------+--------------------------------------------------------------------------------------------------------------------------------------------------------------------------------------------------------------------------------------------------------------+--------------------------------------------------------------------------------+\n",
      "|POINT (113.93501638737635 22.315332828086753)|major                                             |Hong Kong Int'l                                                                                                                                                                                         |terminal                                          |HKG                                                                                                                                                                                                                                                           |VHHH                                                                                                                                                                                                                                                          |{113.93501638737635, 22.315332828086753, 113.93501638737635, 22.315332828086753}|\n",
      "|POINT (121.23137045332327 25.076741104334637)|major                                             |Taoyuan                                                                                                                                                                                                 |terminal                                          |TPE                                                                                                                                                                                                                                                           |RCTP                                                                                                                                                                                                                                                          |{121.23137045332327, 25.076741104334637, 121.23137045332327, 25.076741104334637}|\n",
      "|POINT (4.764376932328117 52.30893238898217)  |major                                             |Schiphol                                                                                                                                                                                                |terminal                                          |AMS                                                                                                                                                                                                                                                           |EHAM                                                                                                                                                                                                                                                          |{4.764376932328117, 52.30893238898217, 4.764376932328117, 52.30893238898217}    |\n",
      "|POINT (103.98641388099333 1.3561608352812635)|major                                             |Singapore Changi                                                                                                                                                                                        |terminal                                          |SIN                                                                                                                                                                                                                                                           |WSSS                                                                                                                                                                                                                                                          |{103.98641388099333, 1.3561608352812635, 103.98641388099333, 1.3561608352812635}|\n",
      "|POINT (-0.4531566520633094 51.47099587999384)|major                                             |London Heathrow                                                                                                                                                                                         |parking                                           |LHR                                                                                                                                                                                                                                                           |EGLL                                                                                                                                                                                                                                                          |{-0.4531566520633094, 51.47099587999384, -0.4531566520633094, 51.47099587999384}|\n",
      "+---------------------------------------------+--------------------------------------------------+--------------------------------------------------------------------------------------------------------------------------------------------------------------------------------------------------------+--------------------------------------------------+--------------------------------------------------------------------------------------------------------------------------------------------------------------------------------------------------------------------------------------------------------------+--------------------------------------------------------------------------------------------------------------------------------------------------------------------------------------------------------------------------------------------------------------+--------------------------------------------------------------------------------+\n",
      "only showing top 5 rows\n",
      "\n"
     ]
    }
   ],
   "execution_count": 91
  },
  {
   "metadata": {
    "ExecuteTime": {
     "end_time": "2024-11-27T14:57:39.835946Z",
     "start_time": "2024-11-27T14:57:39.636415Z"
    }
   },
   "cell_type": "code",
   "source": [
    "geoparquet_bbox_sample_path = f\"{data_dir}/tmp/geoparquet_bbox_sample\"\n",
    "\n",
    "df_with_bbox.write.format(\"geoparquet\").option(\"geoparquet.covering.geometry\", \"bbox\").save(geoparquet_bbox_sample_path)"
   ],
   "id": "b1da567be12f01ac",
   "outputs": [],
   "execution_count": 93
  },
  {
   "metadata": {
    "ExecuteTime": {
     "end_time": "2024-11-27T14:58:18.869985Z",
     "start_time": "2024-11-27T14:58:18.731052Z"
    }
   },
   "cell_type": "code",
   "source": [
    "geo_crs_meta = sedona.read.format(\"geoparquet.metadata\").load(geoparquet_bbox_sample_path)\n",
    "\n",
    "geo_crs_meta.show(truncate=False, vertical=True)"
   ],
   "id": "338299ced894a912",
   "outputs": [
    {
     "name": "stdout",
     "output_type": "stream",
     "text": [
      "-RECORD 0----------------------------------------------------------------------------------------------------------------------------------------------------------------------------------------------------------------------\n",
      " path           | file:/C:/Users/PLIU/Documents/git/GeoParquetAndSedona/data/tmp/geoparquet_bbox_sample/part-00000-ff075f90-66d4-40ee-bb5c-5906ee6c9042-c000.snappy.parquet                                                    \n",
      " version        | 1.1.0                                                                                                                                                                                                        \n",
      " primary_column | geometry                                                                                                                                                                                                     \n",
      " columns        | {geometry -> {WKB, [Point], [-175.135635, -53.005069825517666, 178.5600483699593, 71.289299], null, {\"bbox\":{\"xmin\":[\"bbox\",\"xmin\"],\"ymin\":[\"bbox\",\"ymin\"],\"xmax\":[\"bbox\",\"xmax\"],\"ymax\":[\"bbox\",\"ymax\"]}}}} \n",
      "\n"
     ]
    }
   ],
   "execution_count": 94
  },
  {
   "metadata": {},
   "cell_type": "markdown",
   "source": [
    "### 2.5 Write to \n",
    "\n",
    "Unfortunately, the Spark SQL JDBC data source doesn't support creating geometry types in PostGIS using the 'createTableColumnTypes' option. Only the Spark built-in types are recognized. This means that you'll need to manage your PostGIS schema separately from Spark. One way to do this is to create the table with the correct geometry column before writing data to it with Spark. Alternatively, you can write your data to the table using Spark and then manually alter the column to be a geometry type afterward.\n",
    "\n",
    "Postgis uses EWKB to serialize geometries. If you convert your geometries to EWKB format in Sedona you don't have to do any additional conversion in Postgis.\n",
    "\n",
    "```python\n",
    "# create a table in my_postgis_db first. create table my_table (id int8, geom geometry);\n",
    "\n",
    "# Use jdbc to insert data, but don't let Spark recreate the table.\n",
    "# you can use the option(\"truncate\",\"true\")\n",
    "df.withColumn(\"geom\", expr(\"ST_AsEWKB(geom)\")\n",
    "    .write.format(\"jdbc\")\n",
    "    .option(\"truncate\",\"true\")\n",
    "    .save()\n",
    "\n",
    "# If you didn't create the table before writing you can change the type afterward in your my_postgis_db\n",
    "# alter table my_table alter column geom type geometry;\n",
    "\n",
    "```"
   ],
   "id": "e65e2abaea8c2115"
  },
  {
   "metadata": {},
   "cell_type": "markdown",
   "source": [
    "### 2.6 Write to other formats\n",
    "\n",
    "Sedona does not support to write in other formats natively. But there exist many tools which can convert geojson or wkt to other formats such as shapefile, GML, etc."
   ],
   "id": "3a7f4c02fb0d8660"
  },
  {
   "cell_type": "markdown",
   "source": "",
   "metadata": {
    "collapsed": false
   },
   "id": "34ff512153c4ee98"
  },
  {
   "metadata": {},
   "cell_type": "markdown",
   "source": "## 3. Compare different data format disk usage ",
   "id": "dd6b45ac72b405f7"
  },
  {
   "cell_type": "markdown",
   "source": [
    "Compare the result of shape file and geo parquet, we don't gain too many things\n",
    "\n",
    "| file format    | disk space | duration (in sec) |\n",
    "|----------------|------------|-------------------|\n",
    "| wkt_in_csv     | 23.7Kb     | 1,45              |\n",
    "| wkb_in_parquet | 24.1Kb     | 1,32              |\n",
    "| geojson        | 272Kb      | 1,60              |\n",
    "| geoparquet     | 24.5Kb     | 1.21              |      "
   ],
   "metadata": {
    "collapsed": false
   },
   "id": "4902b5fef6331016"
  },
  {
   "metadata": {},
   "cell_type": "markdown",
   "source": [
    "# Appendix\n",
    "\n",
    "## Coordinate Reference System (CRS)\n",
    "\n",
    "The maps of the surface of the earth is in two dimensions. But, as you know, the world is actually a three-dimensional globe. So we have to use a method called a `map projection` to render it as a flat surface. We use a coordinate reference system (CRS) to show how the projected points correspond to real locations on Earth.\n",
    "\n",
    "A Coordinate Reference System (CRS) is fundamental in geospatial data and GIS (Geographic Information Systems) because it defines how spatial data is represented on the Earth's surface. Without a proper CRS, geographic data from different sources would not align correctly, leading to errors and confusion in analysis, visualization, and decision-making.\n",
    "\n",
    "## **WGC**(World Geodetic reference System)\n",
    "\n",
    "It's used globally for mapping and navigation. The most widely known version is **WGS84**, which is the standard used by GPS. It defines the shape of the Earth (ellipsoid), the datum, and the coordinate system.\n",
    "\n",
    "Key Features:\n",
    "\n",
    "  - Datum: WGS84 Datum, a global standard for latitude, longitude, and ellipsoidal height.\n",
    "  - Coordinate System: A geographic coordinate system (latitude/longitude) on the WGS84 ellipsoid.\n",
    "   - Usage: Primarily used for GPS and satellite navigation systems.\n",
    "      - \n",
    " > WGS84 is often represented as EPSG:4326 in the EPSG registry, a geographic CRS with latitude and longitude coordinates.\n",
    " \n",
    "\n",
    "## OGC(Open Geospatial Consortium)\n",
    "\n",
    "**OGC** is an international organization that sets standards for geospatial and location-based services. It doesn’t define specific CRS codes but provides frameworks and specifications for managing and using CRS in geospatial systems.\n",
    "\n",
    "The OGC CRS URNs are part of its standard for referencing coordinate systems.\n",
    "\n",
    "```text\n",
    "urn:ogc:def:crs:EPSG::4326\n",
    "```\n",
    "\n",
    "## EPSG(European Petroleum Survey Group)\n",
    "\n",
    "**EPSG** is a registry maintained by the `International Association of Oil & Gas Producers (IOGP)`. It provides a database of `standardized codes for various CRS definitions`, including geographic, projected, and vertical coordinate systems.\n",
    "\n",
    "EPSG codes are numeric identifiers for specific CRS or transformation. For example:\n",
    " - **EPSG:4326**: `WGS84` in geographic coordinates (latitude/longitude).\n",
    " - **EPSG:3857**: `WGS84` Web Mercator projection (used by most web mapping services).\n",
    "\n",
    "> Widely used in GIS software (e.g., QGIS, ArcGIS) and geospatial APIs.\n",
    "\n",
    "\n"
   ],
   "id": "90b6aedc61f792af"
  }
 ],
 "metadata": {
  "kernelspec": {
   "display_name": "Python 3",
   "language": "python",
   "name": "python3"
  },
  "language_info": {
   "codemirror_mode": {
    "name": "ipython",
    "version": 2
   },
   "file_extension": ".py",
   "mimetype": "text/x-python",
   "name": "python",
   "nbconvert_exporter": "python",
   "pygments_lexer": "ipython2",
   "version": "2.7.6"
  }
 },
 "nbformat": 4,
 "nbformat_minor": 5
}
