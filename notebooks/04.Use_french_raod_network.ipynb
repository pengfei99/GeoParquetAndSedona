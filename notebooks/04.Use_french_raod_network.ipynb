{
 "cells": [
  {
   "cell_type": "markdown",
   "source": [
    "# Explore french road network data\n",
    "\n",
    "The source dataset is here\n",
    "\n",
    "https://www.data.gouv.fr/en/datasets/route-500/\n",
    "\n",
    "\n",
    "There is another website https://www.openstreetmap.fr/donnees/ which provides various french osm data."
   ],
   "metadata": {
    "collapsed": false
   },
   "id": "8b5f56980de10a1b"
  }
 ],
 "metadata": {
  "kernelspec": {
   "display_name": "Python 3",
   "language": "python",
   "name": "python3"
  },
  "language_info": {
   "codemirror_mode": {
    "name": "ipython",
    "version": 2
   },
   "file_extension": ".py",
   "mimetype": "text/x-python",
   "name": "python",
   "nbconvert_exporter": "python",
   "pygments_lexer": "ipython2",
   "version": "2.7.6"
  }
 },
 "nbformat": 4,
 "nbformat_minor": 5
}
