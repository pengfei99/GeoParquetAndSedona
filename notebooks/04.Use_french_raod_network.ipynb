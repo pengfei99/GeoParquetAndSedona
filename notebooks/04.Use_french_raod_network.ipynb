{
 "cells": [
  {
   "cell_type": "markdown",
   "source": [
    "# Explore french road network data\n",
    "\n",
    "The source dataset is here\n",
    "\n",
    "https://www.data.gouv.fr/en/datasets/route-500/\n",
    "\n",
    "\n",
    "There is another website https://www.openstreetmap.fr/donnees/ which provides various french osm data.\n",
    "\n",
    "https://graphhopper.com/maps/?point=48.812589%2C2.357003_Le+Kremlin-Bic%C3%AAtre%2C+94270%2C+Ile-de-France%2C+France&point=48.81223%2C2.387253_Ivry-sur-Seine%2C+94200%2C+Ile-de-France%2C+France&profile=foot&layer=Omniscale\n",
    "\n",
    "\n",
    "https://github.com/graphhopper/graphhopper/blob/8.x/config-example.yml\n",
    "\n",
    "https://stackoverflow.com/questions/77131685/the-fastest-way-of-pyspark-and-geodataframe-to-check-if-a-point-is-contained-in\n",
    "\n",
    "\n",
    "https://medium.com/getindata-blog/introduction-to-apache-sedona-incubating-d819cbc0886\n",
    "\n",
    "https://medium.com/@msarwat/h3-spatial-grid-support-in-apache-sedona-4fcb924127e5\n",
    "\n",
    "https://github.com/gboeing/osmnx\n",
    "\n",
    "https://wherobots.com/exploring-global-fishing-watch-public-data-sedonadb-geoparquet/\n",
    "\n",
    "https://medium.com/@dr.jiayu/harnessing-overture-maps-data-apache-sedonas-journey-from-parquet-to-geoparquet-d99f7767a499\n",
    "\n",
    "\n",
    "https://github.com/open-metadata/OpenMetadata/discussions/categories/q-a"
   ],
   "metadata": {
    "collapsed": false
   },
   "id": "8b5f56980de10a1b"
  }
 ],
 "metadata": {
  "kernelspec": {
   "display_name": "Python 3",
   "language": "python",
   "name": "python3"
  },
  "language_info": {
   "codemirror_mode": {
    "name": "ipython",
    "version": 2
   },
   "file_extension": ".py",
   "mimetype": "text/x-python",
   "name": "python",
   "nbconvert_exporter": "python",
   "pygments_lexer": "ipython2",
   "version": "2.7.6"
  }
 },
 "nbformat": 4,
 "nbformat_minor": 5
}
