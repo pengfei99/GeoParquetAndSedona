{
 "cells": [
  {
   "cell_type": "code",
   "execution_count": null,
   "id": "initial_id",
   "metadata": {
    "collapsed": true,
    "is_executing": true,
    "ExecuteTime": {
     "start_time": "2024-04-10T14:45:03.277984228Z"
    }
   },
   "outputs": [
    {
     "name": "stderr",
     "output_type": "stream",
     "text": [
      "/tmp/ipykernel_95855/1337020905.py:8: FutureWarning: The `north`, `south`, `east`, and `west` parameters are deprecated and will be removed in the v2.0.0 release. Use the `bbox` parameter instead. See the OSMnx v2 migration guide: https://github.com/gboeing/osmnx/issues/1123\n",
      "  graph = ox.graph_from_bbox(north, south, east, west, network_type='all')\n",
      "/home/pengfei/.cache/pypoetry/virtualenvs/geoparquetandsedona-uqJLJxB7-py3.10/lib/python3.10/site-packages/osmnx/_overpass.py:245: UserWarning: This area is 496 times your configured Overpass max query area size. It will automatically be divided up into multiple sub-queries accordingly. This may take a long time.\n",
      "  multi_poly_proj = utils_geo._consolidate_subdivide_geometry(poly_proj)\n"
     ]
    }
   ],
   "source": [
    "import osmnx as ox\n",
    "import networkx as nx\n",
    "\n",
    "# Define the bounding box for France\n",
    "north, south, east, west = 51.124199, 41.309762, 9.662965, -5.142222\n",
    "\n",
    "# Download and preprocess the road network data for France\n",
    "graph = ox.graph_from_bbox(north, south, east, west, network_type='all')\n",
    "\n",
    "# Convert the road network graph to a NetworkX graph\n",
    "nx_graph = nx.Graph(graph)\n",
    "\n",
    "# Example: Find the shortest path between two points\n",
    "source = (48.8566, 2.3522)  # Paris\n",
    "target = (43.6047, 1.4442)  # Toulouse\n",
    "shortest_path = nx.shortest_path(nx_graph, source=source, target=target, weight='length')\n",
    "print(shortest_path)"
   ]
  },
  {
   "cell_type": "code",
   "execution_count": null,
   "outputs": [],
   "source": [],
   "metadata": {
    "collapsed": false
   },
   "id": "b4bdca48c6021ec2"
  }
 ],
 "metadata": {
  "kernelspec": {
   "display_name": "Python 3",
   "language": "python",
   "name": "python3"
  },
  "language_info": {
   "codemirror_mode": {
    "name": "ipython",
    "version": 2
   },
   "file_extension": ".py",
   "mimetype": "text/x-python",
   "name": "python",
   "nbconvert_exporter": "python",
   "pygments_lexer": "ipython2",
   "version": "2.7.6"
  }
 },
 "nbformat": 4,
 "nbformat_minor": 5
}
